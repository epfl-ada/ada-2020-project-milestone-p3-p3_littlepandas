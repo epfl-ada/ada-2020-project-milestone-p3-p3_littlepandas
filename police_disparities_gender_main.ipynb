{
 "cells": [
  {
   "cell_type": "markdown",
   "metadata": {},
   "source": [
    "# Data analysis :  Gender disparities in police stops accross the United States\n"
   ]
  },
  {
   "cell_type": "code",
   "execution_count": 5,
   "metadata": {},
   "outputs": [],
   "source": [
    "# Libraries needed \n",
    "import pandas as pd\n",
    "import numpy as np\n",
    "import matplotlib.pyplot as plt\n",
    "%matplotlib inline\n",
    "import seaborn as sns\n",
    "import math\n",
    "from pathlib import Path\n",
    "import scipy.stats as stats\n",
    "\n",
    "import collections \n",
    "from collections import Counter\n",
    "\n",
    "#Plot with plotly for website\n",
    "import plotly.graph_objects as go\n",
    "import plotly.io as pio"
   ]
  },
  {
   "cell_type": "markdown",
   "metadata": {},
   "source": [
    "## Data wrangling\n",
    "- Datasets choice and loading\n",
    "- Filtering of incomplete rows and unnecessary features\n",
    "- Formatting\n",
    "\n",
    "The datasets handled are : \n",
    "- Set 1 : NC (Charlotte, Greensboro, Raleigh), Austin (TX), CA (San Diego), Maryland state (MD)\n",
    "- Set 2 : NC (Charlotte, Greensboro, Raleigh), CA (San Diego and San Francisco), Nashville (TN), New Orleans (Louisiana), Maryland state (MD)\n",
    "- Case study : Florida state (FL)\n",
    "\n",
    "Also available : Washington state (WA) with officers' gender, Louisville (Kentucky), and Pittsburgh (Philadelphia) for female police officer fraction computation. \n",
    "\n",
    "For the different analysis of our study, there are mandatory features that must appear in each dataset in order to be able to fulfill our analysis. These are listed before each section in this notebook. Remaining interesting features are let in the filtered datasets, for potential data description. \n",
    "Some extra effort was moreover given to find various state and cities accross the USA that differ geographically, and on their potential sexist bias. Indeed, sexism could differ from state to state (which is one of the research question of this work), hence the datasets are commented by an indication on whether the state is a priori sexist or not, following https://www.chicagotribune.com/nation-world/ct-america-most-sexist-places-20180821-story.html. "
   ]
  },
  {
   "cell_type": "markdown",
   "metadata": {},
   "source": [
    "### For set 1 : \n",
    "    - age, gender, race\n",
    "    - reason for search + search_person and search_vehicle\n",
    "    - contraband_found\n",
    "    \n",
    "    \n",
    "North Carolina : Charlotte, Greensboro and Raleigh - very sexist"
   ]
  },
  {
   "cell_type": "code",
   "execution_count": 2,
   "metadata": {},
   "outputs": [
    {
     "name": "stdout",
     "output_type": "stream",
     "text": [
      "\n",
      " For : Charlotte\n",
      "{'search_vehicle', 'officer_id_hash', 'county_name', 'outcome', 'date', 'raw_row_number', 'contraband_found', 'reason_for_search', 'contraband_weapons', 'subject_age', 'reason_for_stop', 'raw_action_description', 'location', 'search_basis', 'arrest_made', 'raw_Ethnicity', 'reason_for_frisk', 'search_person', 'contraband_drugs', 'subject_race', 'raw_Race', 'search_conducted', 'warning_issued', 'frisk_performed', 'type', 'subject_sex', 'department_name', 'time', 'citation_issued'}\n",
      "Dimensions of dataframe before filtering :(1598453, 29)\n",
      "Dimensions of dataframe after :(92878, 13)\n",
      "    subject_age subject_race subject_sex  arrest_made  citation_issued  \\\n",
      "81         21.0        black        male         True            False   \n",
      "82         21.0        black        male         True            False   \n",
      "90         25.0        black        male         True            False   \n",
      "91         25.0        black        male         True            False   \n",
      "92         25.0        black        male         True            False   \n",
      "\n",
      "    warning_issued contraband_found  frisk_performed  search_person  \\\n",
      "81           False             True            False           True   \n",
      "82           False            False            False           True   \n",
      "90           False            False            False           True   \n",
      "91           False            False            False           True   \n",
      "92           False            False            False           True   \n",
      "\n",
      "    search_vehicle reason_for_frisk                    reason_for_search  \\\n",
      "81            True              NaN           Other Official Information   \n",
      "82            True              NaN           Other Official Information   \n",
      "90            True              NaN  Observation of Suspected Contraband   \n",
      "91            True              NaN  Observation of Suspected Contraband   \n",
      "92            True              NaN  Observation of Suspected Contraband   \n",
      "\n",
      "                reason_for_stop  \n",
      "81  Vehicle Equipment Violation  \n",
      "82                Investigation  \n",
      "90                Investigation  \n",
      "91                Investigation  \n",
      "92                Investigation  \n",
      "\n",
      " For : Raleigh\n",
      "{'search_vehicle', 'officer_id_hash', 'county_name', 'outcome', 'date', 'raw_row_number', 'contraband_found', 'reason_for_search', 'contraband_weapons', 'subject_age', 'reason_for_stop', 'raw_action_description', 'location', 'search_basis', 'arrest_made', 'raw_Ethnicity', 'reason_for_frisk', 'search_person', 'contraband_drugs', 'subject_race', 'raw_Race', 'search_conducted', 'warning_issued', 'frisk_performed', 'type', 'subject_sex', 'department_name', 'time', 'citation_issued'}\n",
      "Dimensions of dataframe before filtering :(856400, 29)\n",
      "Dimensions of dataframe after :(33290, 13)\n",
      "    subject_age subject_race subject_sex  arrest_made  citation_issued  \\\n",
      "17           21     hispanic        male         True            False   \n",
      "40           34     hispanic        male         True            False   \n",
      "56           22        white        male         True            False   \n",
      "64           49        other        male        False             True   \n",
      "75           39        black        male        False            False   \n",
      "\n",
      "    warning_issued contraband_found  frisk_performed  search_person  \\\n",
      "17           False            False            False           True   \n",
      "40           False            False            False           True   \n",
      "56           False             True            False           True   \n",
      "64           False            False            False           True   \n",
      "75            True            False             True           True   \n",
      "\n",
      "    search_vehicle             reason_for_frisk  \\\n",
      "17            True                          NaN   \n",
      "40            True                          NaN   \n",
      "56            True                          NaN   \n",
      "64            True                          NaN   \n",
      "75            True  Erratic/Suspicious Behavior   \n",
      "\n",
      "                      reason_for_search            reason_for_stop  \n",
      "17          Erratic/Suspicious Behavior     Driving While Impaired  \n",
      "40  Observation of Suspected Contraband     Driving While Impaired  \n",
      "56          Erratic/Suspicious Behavior  Stop Light/Sign Violation  \n",
      "64          Erratic/Suspicious Behavior    Safe Movement Violation  \n",
      "75          Erratic/Suspicious Behavior              Investigation  \n",
      "\n",
      " For : Greensboro\n",
      "{'search_vehicle', 'officer_id_hash', 'county_name', 'outcome', 'date', 'raw_row_number', 'contraband_found', 'reason_for_search', 'contraband_weapons', 'subject_age', 'reason_for_stop', 'raw_action_description', 'location', 'search_basis', 'arrest_made', 'raw_Ethnicity', 'reason_for_frisk', 'search_person', 'contraband_drugs', 'subject_race', 'raw_Race', 'search_conducted', 'warning_issued', 'frisk_performed', 'type', 'subject_sex', 'department_name', 'time', 'citation_issued'}\n",
      "Dimensions of dataframe before filtering :(600031, 29)\n",
      "Dimensions of dataframe after :(31935, 13)\n",
      "    subject_age subject_race subject_sex  arrest_made  citation_issued  \\\n",
      "21         23.0        white      female        False            False   \n",
      "26         22.0        white      female         True            False   \n",
      "49         19.0        white        male        False            False   \n",
      "51         37.0        white        male         True            False   \n",
      "58         24.0        white        male         True            False   \n",
      "\n",
      "    warning_issued contraband_found  frisk_performed  search_person  \\\n",
      "21           False            False            False           True   \n",
      "26           False            False            False           True   \n",
      "49            True            False            False           True   \n",
      "51           False            False            False           True   \n",
      "58           False            False            False           True   \n",
      "\n",
      "    search_vehicle reason_for_frisk                    reason_for_search  \\\n",
      "21            True              NaN  Observation of Suspected Contraband   \n",
      "26            True              NaN          Erratic/Suspicious Behavior   \n",
      "49            True              NaN  Observation of Suspected Contraband   \n",
      "51            True              NaN          Erratic/Suspicious Behavior   \n",
      "58            True              NaN          Erratic/Suspicious Behavior   \n",
      "\n",
      "           reason_for_stop  \n",
      "21   Speed Limit Violation  \n",
      "26   Speed Limit Violation  \n",
      "49   Speed Limit Violation  \n",
      "51   Speed Limit Violation  \n",
      "58  Driving While Impaired  \n"
     ]
    }
   ],
   "source": [
    "# North Carolina \n",
    "df_charlotte = pd.read_csv('data_P4/yg821jf8611_nc_charlotte_2020_04_01.csv.zip', compression='zip')\n",
    "df_raleigh = pd.read_csv('data_P4/yg821jf8611_nc_raleigh_2020_04_01.csv.zip', compression='zip')\n",
    "df_greensboro = pd.read_csv('data_P4/yg821jf8611_nc_greensboro_2020_04_01.csv.zip', compression='zip')\n",
    "name = ['Charlotte','Raleigh','Greensboro']\n",
    "\n",
    "for idx,df in enumerate([df_charlotte, df_raleigh, df_greensboro]):\n",
    "    print('\\n For : '+str(name[idx]))\n",
    "    print(set(df.columns))\n",
    "    print('Dimensions of dataframe before filtering :'+str(df.shape))\n",
    "    \n",
    "    # filtering \n",
    "    df.dropna(subset=['subject_age', 'subject_race', 'subject_sex', 'contraband_found', 'search_person', 'search_vehicle', 'reason_for_search'], inplace=True)\n",
    "    df.drop(df.columns.difference(['subject_age', 'subject_race', 'subject_sex', 'contraband_found', 'search_person', 'search_vehicle', 'reason_for_search', 'citation_issued','warning_issued','arrest_made', 'frisk_performed', 'reason_for_frisk', 'reason_for_stop']), 1, inplace=True)\n",
    "    \n",
    "    print('Dimensions of dataframe after :'+str(df.shape))\n",
    "    print(df.head())"
   ]
  },
  {
   "cell_type": "markdown",
   "metadata": {},
   "source": [
    "San Diego (California) - not so sexist\n",
    "- without frisk information"
   ]
  },
  {
   "cell_type": "code",
   "execution_count": 3,
   "metadata": {},
   "outputs": [
    {
     "name": "stdout",
     "output_type": "stream",
     "text": [
      "\n",
      " For : San Diego\n",
      "{'search_vehicle', 'outcome', 'date', 'raw_row_number', 'contraband_found', 'reason_for_search', 'subject_age', 'raw_action_taken', 'reason_for_stop', 'search_basis', 'arrest_made', 'search_person', 'subject_race', 'search_conducted', 'warning_issued', 'raw_subject_race_description', 'type', 'subject_sex', 'time', 'citation_issued', 'service_area'}\n",
      "Dimensions of dataframe before filtering :(383027, 21)\n",
      "Dimensions of dataframe after :(13446, 11)\n",
      "     subject_age subject_race subject_sex arrest_made citation_issued  \\\n",
      "80          25.0     hispanic        male       False           False   \n",
      "127         28.0     hispanic        male       False            True   \n",
      "171         27.0     hispanic      female       False            True   \n",
      "193         55.0        black        male       False           False   \n",
      "221         36.0        white        male       False            True   \n",
      "\n",
      "    warning_issued contraband_found search_person search_vehicle  \\\n",
      "80            True             True         False           True   \n",
      "127          False            False         False           True   \n",
      "171          False            False          True          False   \n",
      "193          False            False         False           True   \n",
      "221          False             True         False           True   \n",
      "\n",
      "                       reason_for_search      reason_for_stop  \n",
      "80                    Odor of Contraband     Moving Violation  \n",
      "127                     Inventory Search     Moving Violation  \n",
      "171  Inventory Search [Prior to Impound]  Equipment Violation  \n",
      "193                    -th Waiver Search     Moving Violation  \n",
      "221                       Consent Search  Equipment Violation  \n"
     ]
    }
   ],
   "source": [
    "df_sandiego = pd.read_csv('data_P4/without_frisk_performed/yg821jf8611_ca_san_diego_2020_04_01.csv.zip', compression='zip')\n",
    "\n",
    "print('\\n For : San Diego')\n",
    "print(set(df_sandiego.columns))\n",
    "print('Dimensions of dataframe before filtering :'+str(df_sandiego.shape))\n",
    "#filtering\n",
    "df_sandiego.dropna(subset=['subject_age', 'subject_race', 'subject_sex', 'contraband_found', 'search_person', 'search_vehicle', 'reason_for_search'], inplace=True)\n",
    "df_sandiego.drop(df_sandiego.columns.difference(['subject_age', 'subject_race', 'subject_sex', 'contraband_found', 'search_person', 'search_vehicle', 'reason_for_search', 'citation_issued','warning_issued','arrest_made', 'frisk_performed', 'reason_for_frisk', 'reason_for_stop']), 1, inplace=True)\n",
    "print('Dimensions of dataframe after :'+str(df_sandiego.shape))\n",
    "print(df_sandiego.head())"
   ]
  },
  {
   "cell_type": "markdown",
   "metadata": {},
   "source": [
    "Austin (TX) - very sexist"
   ]
  },
  {
   "cell_type": "code",
   "execution_count": 4,
   "metadata": {},
   "outputs": [
    {
     "name": "stdout",
     "output_type": "stream",
     "text": [
      "\n",
      " For : San Diego\n",
      "{'search_vehicle', 'officer_id_hash', 'date', 'raw_row_number', 'contraband_found', 'contraband_weapons', 'subject_age', 'raw_ethnicity', 'raw_person_search_search_discovered', 'reason_for_stop', 'raw_person_searched', 'raw_street_check_description', 'search_basis', 'vehicle_registration_state', 'raw_vehicle_search_search_based_on', 'vehicle_make', 'raw_vehicle_search_search_discovered', 'search_person', 'contraband_drugs', 'raw_race_description', 'subject_race', 'vehicle_model', 'raw_person_search_search_based_on', 'search_conducted', 'raw_vehicle_searched', 'frisk_performed', 'type', 'vehicle_year', 'subject_sex'}\n",
      "Dimensions of dataframe before filtering :(483255, 29)\n",
      "Dimensions of dataframe after :(15039, 9)\n",
      "     subject_age subject_race subject_sex contraband_found  frisk_performed  \\\n",
      "406         19.0        black        male             True            False   \n",
      "416         27.0        black        male            False             True   \n",
      "420         56.0     hispanic        male            False             True   \n",
      "449         39.0        white        male            False             True   \n",
      "686         21.0        black        male            False             True   \n",
      "\n",
      "     search_person  search_vehicle                           reason_for_stop  \\\n",
      "406           True            True               SUSPICIOUS PERSON / VEHICLE   \n",
      "416           True            True  VIOLATION OF TRANSPORTATION/VEHICLE LAWS   \n",
      "420           True            True               SUSPICIOUS PERSON / VEHICLE   \n",
      "449           True           False  VIOLATION OF TRANSPORTATION/VEHICLE LAWS   \n",
      "686           True            True  VIOLATION OF TRANSPORTATION/VEHICLE LAWS   \n",
      "\n",
      "    reason_for_search  \n",
      "406    PROBABLE CAUSE  \n",
      "416  FRISK FOR SAFETY  \n",
      "420  FRISK FOR SAFETY  \n",
      "449  FRISK FOR SAFETY  \n",
      "686  FRISK FOR SAFETY  \n"
     ]
    }
   ],
   "source": [
    "df_austin = pd.read_csv('data_P4/yg821jf8611_tx_austin_2020_04_01.csv.zip', compression='zip')\n",
    "\n",
    "print('\\n For : San Diego')\n",
    "print(set(df_austin.columns))\n",
    "print('Dimensions of dataframe before filtering :'+str(df_austin.shape))\n",
    "#filtering\n",
    "df_austin.dropna(subset=['subject_age', 'subject_race', 'subject_sex', 'contraband_found', 'search_person', 'search_vehicle', 'raw_person_search_search_based_on'], inplace=True)\n",
    "df_austin.drop(df_austin.columns.difference(['subject_age', 'subject_race', 'subject_sex', 'contraband_found', 'search_person', 'search_vehicle', 'raw_person_search_search_based_on', 'citation_issued','warning_issued','arrest_made', 'frisk_performed', 'reason_for_frisk', 'reason_for_stop']), 1, inplace=True)\n",
    "print('Dimensions of dataframe after :'+str(df_austin.shape))\n",
    "#formatting\n",
    "df_austin = df_austin.rename(columns={'raw_person_search_search_based_on': 'reason_for_search'})\n",
    "print(df_austin.head())"
   ]
  },
  {
   "cell_type": "markdown",
   "metadata": {},
   "source": [
    "Maryland - least sexist state"
   ]
  },
  {
   "cell_type": "code",
   "execution_count": 5,
   "metadata": {},
   "outputs": [
    {
     "name": "stderr",
     "output_type": "stream",
     "text": [
      "C:\\Users\\julie\\anaconda3\\envs\\ada\\lib\\site-packages\\IPython\\core\\interactiveshell.py:3145: DtypeWarning: Columns (1,2,3,9,10,11,12,13,14,15,16,17,19,20,21,22,23,26,27) have mixed types.Specify dtype option on import or set low_memory=False.\n",
      "  has_raised = await self.run_ast_nodes(code_ast.body, cell_name,\n"
     ]
    },
    {
     "name": "stdout",
     "output_type": "stream",
     "text": [
      "\n",
      " For : Maryland\n",
      "{'search_vehicle', 'outcome', 'date', 'raw_row_number', 'contraband_found', 'reason_for_search', 'contraband_weapons', 'subject_age', 'reason_for_stop', 'location', 'search_basis', 'raw_Outcome', 'disposition', 'arrest_made', 'raw_Arrest_Made', 'violation', 'search_person', 'contraband_drugs', 'subject_race', 'raw_Race', 'search_conducted', 'warning_issued', 'reason_for_arrest', 'type', 'subject_sex', 'department_name', 'time', 'citation_issued'}\n",
      "Dimensions of dataframe before filtering :(3669665, 28)\n",
      "Dimensions of dataframe after :(28363, 11)\n",
      "         subject_age subject_race subject_sex arrest_made citation_issued  \\\n",
      "2312659         59.0        black        male        True           False   \n",
      "2312729         43.0        white      female        True           False   \n",
      "2312735         47.0        white        male       False           False   \n",
      "2312736         33.0        white        male        True           False   \n",
      "2312782         24.0        white      female       False           False   \n",
      "\n",
      "        warning_issued contraband_found search_person search_vehicle  \\\n",
      "2312659          False            False          True           True   \n",
      "2312729          False            False          True           True   \n",
      "2312735           True            False          True           True   \n",
      "2312736          False            False          True           True   \n",
      "2312782           True            False         False           True   \n",
      "\n",
      "        reason_for_search reason_for_stop  \n",
      "2312659         incarrest      -------(j)  \n",
      "2312729         incarrest      ------(a-)  \n",
      "2312735              cons      ------(a-)  \n",
      "2312736             other        ------.-  \n",
      "2312782              cons             --*  \n"
     ]
    }
   ],
   "source": [
    "df_MD = pd.read_csv('data_P4/without_frisk_performed/yg821jf8611_md_statewide_2020_04_01.csv.zip', compression='zip')\n",
    "\n",
    "print('\\n For : Maryland')\n",
    "print(set(df_MD.columns))\n",
    "print('Dimensions of dataframe before filtering :'+str(df_MD.shape))\n",
    "#filtering\n",
    "df_MD.dropna(subset=['subject_age', 'subject_race', 'subject_sex', 'contraband_found', 'search_person', 'search_vehicle', 'reason_for_search'], inplace=True)\n",
    "df_MD.drop(df_MD.columns.difference(['subject_age', 'subject_race', 'subject_sex', 'contraband_found', 'search_person', 'search_vehicle', 'reason_for_search', 'citation_issued','warning_issued','arrest_made', 'frisk_performed', 'reason_for_frisk', 'reason_for_stop']), 1, inplace=True)\n",
    "print('Dimensions of dataframe after :'+str(df_MD.shape))\n",
    "print(df_MD.head())"
   ]
  },
  {
   "cell_type": "markdown",
   "metadata": {},
   "source": [
    "### For set 2 :\n",
    "    - age, gender, race\n",
    "    - reason for stop + contraband found\n",
    "    - citation OR warning OR arrest"
   ]
  },
  {
   "cell_type": "markdown",
   "metadata": {},
   "source": [
    "San Francisco (California) - not so sexist\n",
    "\n",
    "- without frisk information"
   ]
  },
  {
   "cell_type": "code",
   "execution_count": 6,
   "metadata": {},
   "outputs": [
    {
     "name": "stderr",
     "output_type": "stream",
     "text": [
      "C:\\Users\\julie\\anaconda3\\envs\\ada\\lib\\site-packages\\IPython\\core\\interactiveshell.py:3145: DtypeWarning: Columns (6) have mixed types.Specify dtype option on import or set low_memory=False.\n",
      "  has_raised = await self.run_ast_nodes(code_ast.body, cell_name,\n"
     ]
    },
    {
     "name": "stdout",
     "output_type": "stream",
     "text": [
      "\n",
      " For San Francisco\n",
      "{'search_vehicle', 'outcome', 'date', 'raw_row_number', 'contraband_found', 'district', 'subject_age', 'reason_for_stop', 'location', 'lat', 'lng', 'search_basis', 'arrest_made', 'raw_result_of_contact_description', 'subject_race', 'search_conducted', 'warning_issued', 'type', 'subject_sex', 'raw_search_vehicle_description', 'time', 'citation_issued'}\n",
      "Dimensions of dataframe before filtering :(905070, 22)\n",
      "Dimensions of dataframe after :(49599, 9)\n",
      "       subject_age subject_race subject_sex  arrest_made  citation_issued  \\\n",
      "33182         39.0     hispanic        male         True            False   \n",
      "33185         24.0     hispanic      female         True            False   \n",
      "33192         24.0        white        male        False            False   \n",
      "33210         27.0        white        male        False            False   \n",
      "33211         48.0        black        male        False             True   \n",
      "\n",
      "       warning_issued contraband_found  search_vehicle  \\\n",
      "33182           False            False            True   \n",
      "33185           False             True            True   \n",
      "33192            True            False            True   \n",
      "33210            True            False            True   \n",
      "33211           False            False            True   \n",
      "\n",
      "                                 reason_for_stop  \n",
      "33182                           Moving Violation  \n",
      "33185  Mechanical or Non-Moving Violation (V.C.)  \n",
      "33192  Mechanical or Non-Moving Violation (V.C.)  \n",
      "33210  Mechanical or Non-Moving Violation (V.C.)  \n",
      "33211  Mechanical or Non-Moving Violation (V.C.)  \n"
     ]
    }
   ],
   "source": [
    "df_sanfrancisco = pd.read_csv('data_P4/without_frisk_performed/yg821jf8611_ca_san_francisco_2020_04_01.csv.zip', compression='zip')\n",
    "\n",
    "print('\\n For San Francisco')\n",
    "print(set(df_sanfrancisco.columns))\n",
    "print('Dimensions of dataframe before filtering :'+str(df_sanfrancisco.shape))\n",
    "#filtering \n",
    "df_sanfrancisco.dropna(subset=['subject_age', 'subject_race', 'subject_sex', 'contraband_found', 'reason_for_stop'], inplace=True)\n",
    "df_sanfrancisco.drop(df_sanfrancisco.columns.difference(['subject_age', 'subject_race', 'subject_sex', 'contraband_found', 'search_person', 'search_vehicle', 'reason_for_search', 'citation_issued','warning_issued','arrest_made', 'frisk_performed', 'reason_for_frisk', 'reason_for_stop']), 1, inplace=True)\n",
    "print('Dimensions of dataframe after :'+str(df_sanfrancisco.shape))\n",
    "print(df_sanfrancisco.head())    "
   ]
  },
  {
   "cell_type": "markdown",
   "metadata": {},
   "source": [
    "Nashville (Tennessee) - very sexist"
   ]
  },
  {
   "cell_type": "code",
   "execution_count": 7,
   "metadata": {},
   "outputs": [
    {
     "name": "stderr",
     "output_type": "stream",
     "text": [
      "C:\\Users\\julie\\anaconda3\\envs\\ada\\lib\\site-packages\\IPython\\core\\interactiveshell.py:3145: DtypeWarning: Columns (6,8,15,16,17,22,23,24,25,29,30,31,32,33,35,36,37,38,40,41) have mixed types.Specify dtype option on import or set low_memory=False.\n",
      "  has_raised = await self.run_ast_nodes(code_ast.body, cell_name,\n"
     ]
    },
    {
     "name": "stdout",
     "output_type": "stream",
     "text": [
      "\n",
      " For Nashville (TN)\n",
      "{'zone', 'search_vehicle', 'officer_id_hash', 'outcome', 'raw_verbal_warning_issued', 'raw_search_warrant', 'date', 'raw_row_number', 'contraband_found', 'contraband_weapons', 'subject_age', 'raw_search_consent', 'reason_for_stop', 'location', 'lat', 'lng', 'notes', 'search_basis', 'vehicle_registration_state', 'arrest_made', 'reporting_area', 'raw_search_arrest', 'raw_traffic_citation_issued', 'raw_search_inventory', 'raw_misd_state_citation_issued', 'raw_driver_searched', 'violation', 'precinct', 'search_person', 'contraband_drugs', 'raw_written_warning_issued', 'subject_race', 'search_conducted', 'warning_issued', 'frisk_performed', 'type', 'subject_sex', 'raw_passenger_searched', 'raw_search_plain_view', 'time', 'citation_issued', 'raw_suspect_ethnicity'}\n",
      "Dimensions of dataframe before filtering :(3092351, 42)\n",
      "Dimensions of dataframe after :(126411, 11)\n",
      "    subject_age subject_race subject_sex arrest_made citation_issued  \\\n",
      "4          21.0        black        male       False           False   \n",
      "26         49.0        black        male        True            True   \n",
      "38         30.0        white      female       False           False   \n",
      "85         19.0        black      female        True           False   \n",
      "86         36.0        white        male        True           False   \n",
      "\n",
      "   warning_issued contraband_found frisk_performed search_person  \\\n",
      "4            True            False           False          True   \n",
      "26          False             True            True          True   \n",
      "38           True            False           False         False   \n",
      "85          False            False            True          True   \n",
      "86           True            False           False          True   \n",
      "\n",
      "   search_vehicle              reason_for_stop  \n",
      "4            True  vehicle equipment violation  \n",
      "26           True  vehicle equipment violation  \n",
      "38           True  vehicle equipment violation  \n",
      "85          False           investigative stop  \n",
      "86          False     moving traffic violation  \n"
     ]
    }
   ],
   "source": [
    "df_nashville = pd.read_csv('data_P4/yg821jf8611_tn_nashville_2020_04_01.csv.zip', compression='zip')\n",
    "\n",
    "print('\\n For Nashville (TN)')\n",
    "print(set(df_nashville.columns))\n",
    "print('Dimensions of dataframe before filtering :'+str(df_nashville.shape))\n",
    "#filtering \n",
    "df_nashville.dropna(subset=['subject_age', 'subject_race', 'subject_sex', 'contraband_found', 'reason_for_stop'], inplace=True)\n",
    "df_nashville.drop(df_nashville.columns.difference(['subject_age', 'subject_race', 'subject_sex', 'contraband_found', 'search_person', 'search_vehicle', 'reason_for_search', 'citation_issued','warning_issued','arrest_made', 'frisk_performed', 'reason_for_frisk', 'reason_for_stop']), 1, inplace=True)\n",
    "print('Dimensions of dataframe after :'+str(df_nashville.shape))\n",
    "print(df_nashville.head())"
   ]
  },
  {
   "cell_type": "markdown",
   "metadata": {},
   "source": [
    "New Orleans (Lousiana) - sexist"
   ]
  },
  {
   "cell_type": "code",
   "execution_count": 8,
   "metadata": {},
   "outputs": [
    {
     "name": "stderr",
     "output_type": "stream",
     "text": [
      "C:\\Users\\julie\\anaconda3\\envs\\ada\\lib\\site-packages\\IPython\\core\\interactiveshell.py:3145: DtypeWarning: Columns (6) have mixed types.Specify dtype option on import or set low_memory=False.\n",
      "  has_raised = await self.run_ast_nodes(code_ast.body, cell_name,\n"
     ]
    },
    {
     "name": "stdout",
     "output_type": "stream",
     "text": [
      "\n",
      " For New Orleans (Louisiana)\n",
      "{'zone', 'search_vehicle', 'raw_subject_race', 'outcome', 'date', 'raw_row_number', 'contraband_found', 'district', 'contraband_weapons', 'subject_age', 'reason_for_stop', 'location', 'lat', 'lng', 'search_basis', 'officer_assignment', 'arrest_made', 'raw_actions_taken', 'vehicle_make', 'search_person', 'contraband_drugs', 'subject_race', 'vehicle_model', 'search_conducted', 'warning_issued', 'vehicle_color', 'frisk_performed', 'type', 'vehicle_year', 'subject_sex', 'time', 'citation_issued'}\n",
      "Dimensions of dataframe before filtering :(512092, 32)\n",
      "Dimensions of dataframe after :(75126, 11)\n",
      "     subject_age subject_race subject_sex  arrest_made  citation_issued  \\\n",
      "380         27.0        black        male        False            False   \n",
      "414         18.0        black        male         True            False   \n",
      "417         24.0        black      female        False             True   \n",
      "433         52.0        black        male         True             True   \n",
      "434         55.0        black        male         True             True   \n",
      "\n",
      "     warning_issued contraband_found  frisk_performed  search_person  \\\n",
      "380            True            False             True           True   \n",
      "414           False             True            False          False   \n",
      "417           False            False            False           True   \n",
      "433           False             True             True           True   \n",
      "434           False             True             True           True   \n",
      "\n",
      "     search_vehicle     reason_for_stop  \n",
      "380            True   TRAFFIC VIOLATION  \n",
      "414           False  CRIMINAL VIOLATION  \n",
      "417           False    CALL FOR SERVICE  \n",
      "433            True   TRAFFIC VIOLATION  \n",
      "434            True   TRAFFIC VIOLATION  \n"
     ]
    }
   ],
   "source": [
    "df_neworleans = pd.read_csv('data_P4/yg821jf8611_la_new_orleans_2020_04_01.csv.zip', compression='zip')\n",
    "\n",
    "print('\\n For New Orleans (Louisiana)')\n",
    "print(set(df_neworleans.columns))\n",
    "print('Dimensions of dataframe before filtering :'+str(df_neworleans.shape))\n",
    "#filtering \n",
    "df_neworleans.dropna(subset=['subject_age', 'subject_race', 'subject_sex', 'contraband_found', 'reason_for_stop'], inplace=True)\n",
    "df_neworleans.drop(df_neworleans.columns.difference(['subject_age', 'subject_race', 'subject_sex', 'contraband_found', 'search_person', 'search_vehicle', 'reason_for_search', 'citation_issued','warning_issued','arrest_made', 'frisk_performed', 'reason_for_frisk', 'reason_for_stop']), 1, inplace=True)\n",
    "print('Dimensions of dataframe after :'+str(df_neworleans.shape))\n",
    "print(df_neworleans.head())"
   ]
  },
  {
   "cell_type": "markdown",
   "metadata": {},
   "source": [
    "### For the case study : \n",
    "\n",
    "Florida state - sexist\n",
    "- no information on contraband\n",
    "- officer's gender"
   ]
  },
  {
   "cell_type": "code",
   "execution_count": 3,
   "metadata": {},
   "outputs": [
    {
     "name": "stderr",
     "output_type": "stream",
     "text": [
      "C:\\Users\\julie\\anaconda3\\envs\\ada\\lib\\site-packages\\IPython\\core\\interactiveshell.py:3145: DtypeWarning: Columns (3,7,10,11,13,14,17,18,19,21,22,23,24,26,27,28,30,31) have mixed types.Specify dtype option on import or set low_memory=False.\n",
      "  has_raised = await self.run_ast_nodes(code_ast.body, cell_name,\n"
     ]
    },
    {
     "name": "stdout",
     "output_type": "stream",
     "text": [
      "{'type', 'vehicle_registration_state', 'reason_for_stop', 'officer_race', 'search_basis', 'officer_sex', 'time', 'raw_row_number', 'subject_race', 'violation', 'raw_row_number_new', 'raw_EnforcementAction', 'frisk_performed', 'raw_SearchType', 'county_name', 'officer_id_hash', 'raw_row_number_old', 'citation_issued', 'notes', 'date', 'outcome', 'reason_for_search', 'officer_age', 'department_name', 'raw_Ethnicity', 'unit', 'officer_years_of_service', 'raw_Race', 'search_conducted', 'subject_sex', 'warning_issued', 'location', 'subject_age', 'arrest_made'}\n",
      "Dimensions of dataframe :(7297538, 34)\n",
      "Male officers :4352689\n",
      "Female officers :326525\n",
      "Fraction of women officers stop record before filtering : 0.07501684590835687\n"
     ]
    }
   ],
   "source": [
    "df_FL = pd.read_csv('data_P4/yg821jf8611_fl_statewide_2020_04_01.csv.zip', compression='zip')\n",
    "\n",
    "print(set(df_FL.columns))\n",
    "print('Dimensions of dataframe :'+str(df_FL.shape))\n",
    "                            \n",
    "print('Male officers :'+format(len(df_FL[df_FL['officer_sex']=='male'])))\n",
    "print('Female officers :'+format(len(df_FL[df_FL['officer_sex']=='female'])))\n",
    "print('Fraction of women officers stop record before filtering : '+str(326525/4352689))\n",
    "\n",
    "# filtering\n",
    "df_FL.dropna(subset=['subject_age', 'subject_race', 'subject_sex', 'officer_sex', 'violation', 'reason_for_stop'], inplace=True)\n",
    "df_FL.drop(df_FL.columns.difference(['subject_age', 'subject_race', 'subject_sex', 'contraband_found', 'violation', 'officer_sex', 'search_person', 'search_vehicle', 'reason_for_search', 'citation_issued','warning_issued','arrest_made', 'frisk_performed', 'reason_for_frisk', 'reason_for_stop']), 1, inplace=True)"
   ]
  },
  {
   "cell_type": "code",
   "execution_count": null,
   "metadata": {},
   "outputs": [],
   "source": []
  },
  {
   "cell_type": "markdown",
   "metadata": {},
   "source": [
    "### Other available datasets : \n",
    "\n",
    "Washington state - middle sexist\n",
    " - contains officer's gender \n",
    " - does not contain reason for search nor stop"
   ]
  },
  {
   "cell_type": "code",
   "execution_count": 10,
   "metadata": {},
   "outputs": [
    {
     "name": "stderr",
     "output_type": "stream",
     "text": [
      "C:\\Users\\julie\\anaconda3\\envs\\ada\\lib\\site-packages\\IPython\\core\\interactiveshell.py:3145: DtypeWarning: Columns (10,23) have mixed types.Specify dtype option on import or set low_memory=False.\n",
      "  has_raised = await self.run_ast_nodes(code_ast.body, cell_name,\n"
     ]
    },
    {
     "name": "stdout",
     "output_type": "stream",
     "text": [
      "{'outcome', 'county_name', 'raw_officer_gender', 'date', 'raw_row_number', 'contraband_found', 'subject_age', 'raw_search_type', 'location', 'lat', 'lng', 'search_basis', 'raw_driver_gender', 'arrest_made', 'raw_officer_race', 'officer_race', 'raw_contact_type', 'officer_sex', 'violation', 'subject_race', 'raw_enforcements', 'search_conducted', 'warning_issued', 'frisk_performed', 'type', 'raw_driver_race', 'subject_sex', 'department_name', 'time', 'citation_issued'}\n",
      "Male officers :10612167\n",
      "Female officers :721258\n",
      "Dimensions of dataframe :(11333425, 30)\n",
      "Male officers :225840\n",
      "Female officers :13757\n",
      "Dimensions of dataframe :(239597, 9)\n",
      "Fraction of women officers stop record before filtering : 0.06796519504451824 fraction after : 0.060914806942968476\n"
     ]
    },
    {
     "data": {
      "text/html": [
       "<div>\n",
       "<style scoped>\n",
       "    .dataframe tbody tr th:only-of-type {\n",
       "        vertical-align: middle;\n",
       "    }\n",
       "\n",
       "    .dataframe tbody tr th {\n",
       "        vertical-align: top;\n",
       "    }\n",
       "\n",
       "    .dataframe thead th {\n",
       "        text-align: right;\n",
       "    }\n",
       "</style>\n",
       "<table border=\"1\" class=\"dataframe\">\n",
       "  <thead>\n",
       "    <tr style=\"text-align: right;\">\n",
       "      <th></th>\n",
       "      <th>subject_age</th>\n",
       "      <th>subject_race</th>\n",
       "      <th>subject_sex</th>\n",
       "      <th>officer_sex</th>\n",
       "      <th>arrest_made</th>\n",
       "      <th>citation_issued</th>\n",
       "      <th>warning_issued</th>\n",
       "      <th>contraband_found</th>\n",
       "      <th>frisk_performed</th>\n",
       "    </tr>\n",
       "  </thead>\n",
       "  <tbody>\n",
       "    <tr>\n",
       "      <th>7</th>\n",
       "      <td>18.0</td>\n",
       "      <td>white</td>\n",
       "      <td>male</td>\n",
       "      <td>male</td>\n",
       "      <td>NaN</td>\n",
       "      <td>True</td>\n",
       "      <td>True</td>\n",
       "      <td>False</td>\n",
       "      <td>False</td>\n",
       "    </tr>\n",
       "    <tr>\n",
       "      <th>61</th>\n",
       "      <td>47.0</td>\n",
       "      <td>white</td>\n",
       "      <td>male</td>\n",
       "      <td>male</td>\n",
       "      <td>NaN</td>\n",
       "      <td>True</td>\n",
       "      <td>True</td>\n",
       "      <td>False</td>\n",
       "      <td>False</td>\n",
       "    </tr>\n",
       "    <tr>\n",
       "      <th>62</th>\n",
       "      <td>23.0</td>\n",
       "      <td>white</td>\n",
       "      <td>male</td>\n",
       "      <td>male</td>\n",
       "      <td>NaN</td>\n",
       "      <td>True</td>\n",
       "      <td>True</td>\n",
       "      <td>False</td>\n",
       "      <td>False</td>\n",
       "    </tr>\n",
       "    <tr>\n",
       "      <th>82</th>\n",
       "      <td>44.0</td>\n",
       "      <td>white</td>\n",
       "      <td>male</td>\n",
       "      <td>male</td>\n",
       "      <td>NaN</td>\n",
       "      <td>True</td>\n",
       "      <td>True</td>\n",
       "      <td>True</td>\n",
       "      <td>False</td>\n",
       "    </tr>\n",
       "    <tr>\n",
       "      <th>87</th>\n",
       "      <td>35.0</td>\n",
       "      <td>other</td>\n",
       "      <td>female</td>\n",
       "      <td>male</td>\n",
       "      <td>NaN</td>\n",
       "      <td>True</td>\n",
       "      <td>True</td>\n",
       "      <td>False</td>\n",
       "      <td>False</td>\n",
       "    </tr>\n",
       "  </tbody>\n",
       "</table>\n",
       "</div>"
      ],
      "text/plain": [
       "    subject_age subject_race subject_sex officer_sex arrest_made  \\\n",
       "7          18.0        white        male        male         NaN   \n",
       "61         47.0        white        male        male         NaN   \n",
       "62         23.0        white        male        male         NaN   \n",
       "82         44.0        white        male        male         NaN   \n",
       "87         35.0        other      female        male         NaN   \n",
       "\n",
       "    citation_issued  warning_issued contraband_found  frisk_performed  \n",
       "7              True            True            False            False  \n",
       "61             True            True            False            False  \n",
       "62             True            True            False            False  \n",
       "82             True            True             True            False  \n",
       "87             True            True            False            False  "
      ]
     },
     "execution_count": 10,
     "metadata": {},
     "output_type": "execute_result"
    }
   ],
   "source": [
    "# Washington state - middle\n",
    "df_WA = pd.read_csv('data_P4/yg821jf8611_wa_statewide_2020_04_01.csv.zip', compression='zip')\n",
    "# contains officers' gender\n",
    "\n",
    "print(set(df_WA.columns))\n",
    "print('Male officers :'+format(len(df_WA[df_WA['officer_sex']=='male'])))\n",
    "print('Female officers :'+format(len(df_WA[df_WA['officer_sex']=='female'])))\n",
    "print('Dimensions of dataframe :'+str(df_WA.shape))\n",
    "df_WA.dropna(subset=['subject_age', 'subject_race', 'subject_sex', 'contraband_found', 'search_conducted'], inplace=True)\n",
    "df_WA.drop(df_WA.columns.difference(['subject_age', 'subject_race', 'subject_sex', 'contraband_found', 'search_person', 'search_vehicle', 'reason_for_search', 'citation_issued','warning_issued','arrest_made', 'frisk_performed', 'reason_for_frisk', 'reason_for_stop', 'officer_sex' ]), 1, inplace = True)\n",
    "                                     \n",
    "print('Male officers :'+format(len(df_WA[df_WA['officer_sex']=='male'])))\n",
    "print('Female officers :'+format(len(df_WA[df_WA['officer_sex']=='female'])))\n",
    "print('Dimensions of dataframe :'+str(df_WA.shape))\n",
    "print('Fraction of women officers stop record before filtering : '+str(721258/10612167)+' fraction after : '+str(13757/225840))\n",
    "df_WA.head()"
   ]
  },
  {
   "cell_type": "markdown",
   "metadata": {},
   "source": [
    "The following are loaded just to show how few female police officer there are : between 4 and 9% of the stop were done by women, based on calculations for Louisville (KY), Pittsburgh (Philadelphia), Washington (state)."
   ]
  },
  {
   "cell_type": "code",
   "execution_count": 11,
   "metadata": {},
   "outputs": [
    {
     "name": "stdout",
     "output_type": "stream",
     "text": [
      "{'raw_driver_age_range', 'outcome', 'date', 'raw_row_number', 'reason_for_search', 'raw_beat', 'subject_age', 'location', 'lat', 'lng', 'search_basis', 'division', 'officer_race', 'raw_activity_division', 'raw_citation_location', 'officer_sex', 'raw_division', 'violation', 'raw_persons_race', 'beat', 'subject_race', 'search_conducted', 'warning_issued', 'raw_was_vehcile_searched', 'frisk_performed', 'raw_persons_ethnicity', 'type', 'raw_activity_beat', 'raw_driver_race', 'subject_sex', 'time', 'citation_issued'}\n",
      "Dimensions of dataframe :(110960, 32)\n",
      "Male officers :105934\n",
      "Female officers :4870\n",
      "Fraction of women officers stop record before filtering : 0.04597202031453546\n"
     ]
    }
   ],
   "source": [
    "# Louisville, KY : sexist \n",
    "df_louisville = pd.read_csv('data_P4/yg821jf8611_ky_louisville_2020_04_01.csv.zip', compression='zip')\n",
    "print(set(df_louisville.columns))\n",
    "print('Dimensions of dataframe :'+str(df_louisville.shape))\n",
    "\n",
    "print('Male officers :'+format(len(df_louisville[df_louisville['officer_sex']=='male'])))\n",
    "print('Female officers :'+format(len(df_louisville[df_louisville['officer_sex']=='female'])))\n",
    "\n",
    "print('Fraction of women officers stop record before filtering : '+str(4870/105934))"
   ]
  },
  {
   "cell_type": "code",
   "execution_count": 12,
   "metadata": {},
   "outputs": [
    {
     "name": "stderr",
     "output_type": "stream",
     "text": [
      "C:\\Users\\julie\\anaconda3\\envs\\ada\\lib\\site-packages\\IPython\\core\\interactiveshell.py:3145: DtypeWarning: Columns (0,6,12,13,15,16,17,18,20,21,23,24,25,27,28,29,30,31,32,33,34) have mixed types.Specify dtype option on import or set low_memory=False.\n",
      "  has_raised = await self.run_ast_nodes(code_ast.body, cell_name,\n"
     ]
    },
    {
     "name": "stdout",
     "output_type": "stream",
     "text": [
      "{'officer_id_hash', 'outcome', 'date', 'raw_row_number', 'contraband_found', 'subject_age', 'raw_ethnicity', 'raw_nothing_found', 'reason_for_stop', 'raw_evidence_found', 'location', 'lat', 'lng', 'officer_age', 'neighborhood', 'raw_object_searched', 'arrest_made', 'raw_officer_race', 'officer_race', 'raw_zone_division', 'raw_race', 'officer_sex', 'violation', 'raw_weapons_found', 'raw_zone', 'subject_race', 'search_conducted', 'warning_issued', 'frisk_performed', 'raw_officer_zone', 'type', 'raw_police_zone', 'subject_sex', 'time', 'citation_issued'}\n",
      "Dimensions of dataframe :(274558, 35)\n",
      "Male officers :197809\n",
      "Female officers :16503\n",
      "Fraction of women officers stop record before filtering : 0.08342896430394978\n"
     ]
    }
   ],
   "source": [
    "# Pittsburgh, Philadelphia : middle \n",
    "df_PA_P = pd.read_csv('data_P4/yg821jf8611_pa_pittsburgh_2020_04_01.csv.zip', compression='zip')\n",
    "print(set(df_PA_P.columns))\n",
    "print('Dimensions of dataframe :'+str(df_PA_P.shape))\n",
    "                            \n",
    "print('Male officers :'+format(len(df_PA_P[df_PA_P['officer_sex']=='male'])))\n",
    "print('Female officers :'+format(len(df_PA_P[df_PA_P['officer_sex']=='female'])))\n",
    "\n",
    "print('Fraction of women officers stop record before filtering : '+str(16503/197809))"
   ]
  },
  {
   "cell_type": "markdown",
   "metadata": {},
   "source": [
    "To save the filtered datasets : "
   ]
  },
  {
   "cell_type": "code",
   "execution_count": 13,
   "metadata": {},
   "outputs": [],
   "source": [
    "DF = [df_charlotte, df_raleigh, df_greensboro, df_austin, df_neworleans, df_sandiego, df_sanfrancisco, df_nashville, df_WA, df_MD, df_FL]\n",
    "name = ['df_charlotte', 'df_raleigh', 'df_greensboro', 'df_austin', 'df_neworleans', 'df_sandiego', 'df_sanfrancisco', 'df_nashville', 'df_WA', 'df_MD', 'df_FL']\n",
    "\n",
    "for idx,df in enumerate(DF):\n",
    "    df.to_csv('data_P4/'+name[idx]+'.csv', sep=',', encoding='utf-8')"
   ]
  },
  {
   "cell_type": "markdown",
   "metadata": {},
   "source": [
    "## Set 1 : Gender disparities in search decisions\n",
    "\n",
    "The aim of this first part is to compare for W-M pairs the difference in search decision. The following method is applied :\n",
    "-  compare only individuals presenting similar subjective signals (except gender) to the police officer. For this, the following features are taken into account : \n",
    "     - match only person of same race\n",
    "     - match only person of different gender\n",
    "     - match only person with the same age range : this one is subjectively determined by assuming that only female under 45 could be attractive enough to generate a significant difference in decision outcome  \n",
    "     - match only person with the same behaviour during the traffic stop (feature : 'reason_for_search') \n",
    "- Compute difference in search decision + confidence intervals\n",
    "- Fisher exact test to assess if the hit rates are significantly different between W and M. If the difference is not significant, it is no warranted to search a gender more than the other, so the difference in search decision is not justified and we conclude that there is gender discrimination.\n",
    "\n",
    "Citation and arrest are considered as severe outcome deicisons (1), whereas warning is considered as less severe (0). There is a difference between a person's search and a frisk : the former is more intrusive than the latter (see https://www.carrolltrobermanlaw.com/blog/2018/september/whats-the-difference-between-a-search-and-a-fris/). \n",
    "\n",
    "\n",
    "If available, the following information are provided in each dataframe :\n",
    "\n",
    "    'subject_age'\n",
    "    'subject_race'\n",
    "    'subject_sex'\n",
    "    'contraband_found'\n",
    "    'search_person'\n",
    "    'search_vehicle'\n",
    "    'reason_for_search'\n",
    "    'citation_issued'\n",
    "    'warning_issued'\n",
    "    'arrest_made'\n",
    "    'frisk_performed'\n",
    "    'reason_for_frisk'\n",
    "    'reason_for_stop'\n",
    "    'officer_sex' (only for WA, FL and Louisville)\n",
    "\n",
    "The following datasets are used : NC (Charlotte, Greensboro, Raleigh), Austin (TX), CA (San Diego), Maryland state (MD)\n"
   ]
  },
  {
   "cell_type": "markdown",
   "metadata": {},
   "source": [
    "Generic functions : "
   ]
  },
  {
   "cell_type": "code",
   "execution_count": 80,
   "metadata": {},
   "outputs": [],
   "source": [
    "def DF_handling(df):\n",
    "    # create a index column\n",
    "    df['id']= df.index\n",
    "    \n",
    "    # Age category (proxy for attractiveness)\n",
    "    df['attractiveness'] = df.apply(lambda x: True if (x.subject_age<46) else False, axis=1)\n",
    "    \n",
    "    return df\n",
    "\n",
    "def match_pair_search(df, reason_searches):\n",
    "    # match pairs on race, age range, contraband found (1:yes or 0:no), and search reason\n",
    "    matching=pd.DataFrame({'men':[],'women':[]})\n",
    "    AOD = 0\n",
    "    # Match 1 woman and 1 man with same attributes\n",
    "    for reason in reason_searches:\n",
    "        for race in ('white','black','hispanic'):\n",
    "            for attractiveness in ('True', 'False'):\n",
    "                for contraband in ('True', 'False'):\n",
    "                    for s_vehicle in ('True', 'False'):\n",
    "                        query = \"reason_for_search=='\"+reason+\"' & search_vehicle==\"+s_vehicle+\" & subject_race=='\"+race+\"' & attractiveness==\"+attractiveness+\" & contraband_found==\"+contraband\n",
    "                        data = df.query(query).copy()\n",
    "                        id_M = np.array(data[data['subject_sex']=='male'].id)\n",
    "                        id_W = np.array(data[data['subject_sex']=='female'].id)\n",
    "                        if ((len(id_M)>0) & (len(id_W)>0)):\n",
    "                            if (len(id_M)>len(id_W)):\n",
    "                                for i in np.arange(0,len(id_W)):\n",
    "                                    matching = matching.append({'men':id_M[i],'women':id_W[i]},ignore_index=True)\n",
    "                              \n",
    "                            if (len(id_M)<len(id_W)):\n",
    "                                for i in np.arange(0,len(id_M)):\n",
    "                                    matching = matching.append({'men':id_M[i],'women':id_W[i]},ignore_index=True)\n",
    "    return matching\n",
    "\n",
    "def fisher_exact_test(df):\n",
    "    \n",
    "    #matching only on the race to avoir racial bias\n",
    "    df_white = df[df['subject_race']=='white'].copy()\n",
    "    df_black = df[df['subject_race']=='black'].copy()\n",
    "    df_hispanic = df[df['subject_race']=='hispanic'].copy()\n",
    "    \n",
    "    size_min = min(len(df_white), len(df_black), len(df_hispanic))\n",
    "    df_white_reduced = df_white.loc[0:size_min,:].copy()\n",
    "    df_black_reduced = df_black.loc[0:size_min,:].copy()\n",
    "    df_hispanic_reduced = df_hispanic.loc[0:size_min,:].copy()\n",
    "    df_balanced = pd.concat([df_white_reduced,df_white_reduced,df_white_reduced])\n",
    "    \n",
    "    df_balanced = df_balanced.dropna(subset=['reason_for_search'])\n",
    "    N_W_hit = len(df_balanced.query(\"contraband_found==True and subject_sex=='female'\"))\n",
    "    N_W_not_hit = len(df_balanced.query(\"contraband_found==False and subject_sex=='female'\"))\n",
    "    N_M_hit = len(df_balanced.query(\"contraband_found==True and subject_sex=='male'\"))\n",
    "    N_M_not_hit = len(df_balanced.query(\"contraband_found==False and subject_sex=='male'\"))\n",
    "    \n",
    "    contingency_table = [[N_M_hit, N_W_hit], [N_M_not_hit, N_W_not_hit]]\n",
    "    \n",
    "    hit_rate_male = N_M_hit/(N_M_hit+N_M_not_hit)\n",
    "    hit_rate_female = N_W_hit/(N_W_hit+N_W_not_hit)\n",
    "    \n",
    "    oddsratio, pvalue = stats.fisher_exact(contingency_table)\n",
    "    \n",
    "    return pvalue, hit_rate_male, hit_rate_female\n",
    "\n",
    "def AOD_search(df, matching):\n",
    "    # Averaged outcome difference (AOD) in search decision s : \n",
    "    # if it is positive, men are more strictly reprehended for a given act than woman.\n",
    "    N_matches = len(matching)\n",
    "    diff = np.zeros(N_matches)\n",
    "\n",
    "    for i in np.arange(0,N_matches):\n",
    "        s_man = int(np.array(df[df['id']==matching.loc[i,'men']].search_person))\n",
    "        s_woman = int(np.array(df[df['id']==matching.loc[i,'women']].search_person))\n",
    "        diff[i] = s_man-s_woman                    \n",
    "    AOD = diff.sum()/N_matches    \n",
    "    \n",
    "    return AOD, diff\n",
    "\n",
    "def bootstrap_CI(data, nbr_draws):\n",
    "    # Confidence interval\n",
    "    # Bootstrap CI function from exercise session 2\n",
    "    means = np.zeros(nbr_draws)\n",
    "    data = np.array(data)\n",
    "\n",
    "    for n in range(nbr_draws):\n",
    "        indices = np.random.randint(0, len(data), len(data))\n",
    "        data_tmp = data[indices] \n",
    "        means[n] = np.nanmean(data_tmp)\n",
    "\n",
    "    return [np.nanpercentile(means, 5),np.nanpercentile(means, 95)]"
   ]
  },
  {
   "cell_type": "code",
   "execution_count": 85,
   "metadata": {},
   "outputs": [],
   "source": [
    "def state(df, n):\n",
    "    # - compute the reason distribution in order to determine n, the number of reasons that are kept for the analysis.\n",
    "    # - match the pairs, compute AOD and interval of confidence\n",
    "    \n",
    "    df = DF_handling(df)\n",
    "\n",
    "    # Feature analysis : reason for search\n",
    "    Counter(df['reason_for_search'])\n",
    "\n",
    "    # Plot of the possible combination of the reason for search\n",
    "    plt.figure(figsize=[18,8])\n",
    "    plt.bar(Counter(df.dropna(subset=['reason_for_search']).reason_for_search).keys(), Counter(df.dropna(subset=['reason_for_search']).reason_for_search).values())\n",
    "    plt.show()\n",
    "    \n",
    "    print('There are %d combinations of reasons for the policeman to decide to operate a search, among which, the most represented combinations are (in descending order of importance) :' %len(Counter(df['reason_for_search']).items()))\n",
    "    print(list(sorted(Counter(df.dropna(subset=['reason_for_search']).reason_for_search).items(), key=lambda x:x[1],  reverse=True))[:13])\n",
    "\n",
    "    # Possible reasons for search : n combinations chosen\n",
    "    reason_searches = sorted(Counter(df['reason_for_search']), key=Counter(df['reason_for_search']).get, reverse = True)[:n]\n",
    "    \n",
    "    matching = match_pair_search(df, reason_searches)\n",
    "\n",
    "    [AOD, diff] = AOD_search(df, matching)\n",
    "\n",
    "    CI = bootstrap_CI(diff, 1000)\n",
    "\n",
    "    print('Averaged outcome difference %.4f with [%.4f, %.4f] 95%% confidence intervals' %(AOD, CI[0], CI[1]))\n",
    "    \n",
    "    # Fisher test\n",
    "    pvalue, hit_rate_male, hit_rate_female = fisher_exact_test(df)\n",
    "    print('Hit rate male: %.4f \\nHit rate female: %.4f \\npvalue: %.4f (significance of difference in hit rate)' %(hit_rate_male, hit_rate_female, pvalue))"
   ]
  },
  {
   "cell_type": "code",
   "execution_count": 6,
   "metadata": {},
   "outputs": [],
   "source": [
    "def search_rate(df,search_done):\n",
    "    \n",
    "    #matching only on the race to avoir racial bias\n",
    "    df_white = df[df['subject_race']=='white'].copy()\n",
    "    df_black = df[df['subject_race']=='black'].copy()\n",
    "    df_hispanic = df[df['subject_race']=='hispanic'].copy()\n",
    "    \n",
    "    size_min = min(len(df_white), len(df_black), len(df_hispanic))\n",
    "    df_white_reduced = df_white.iloc[0:size_min,:].copy()\n",
    "    df_black_reduced = df_black.iloc[0:size_min,:].copy()\n",
    "    df_hispanic_reduced = df_hispanic.iloc[0:size_min,:].copy()\n",
    "    df_balanced = pd.concat([df_white_reduced,df_white_reduced,df_white_reduced])\n",
    "    \n",
    "    #df_balanced = df_balanced.dropna(subset=['reason_for_search'])\n",
    "    \"\"\"print(\"-----\")\n",
    "    print(size_min)\n",
    "    print(df_white[[\"search_vehicle\",\"subject_sex\"]])\n",
    "    print(df_black[[\"search_vehicle\",\"subject_sex\"]])\n",
    "    print(df_hispanic[[\"search_vehicle\",\"subject_sex\"]])\n",
    "    print(\"-----\")\n",
    "    print(size_min)\n",
    "    print(df_white_reduced[[\"search_vehicle\",\"subject_sex\"]])\n",
    "    print(df_black_reduced[[\"search_vehicle\",\"subject_sex\"]])\n",
    "    print(df_hispanic_reduced[[\"search_vehicle\",\"subject_sex\"]])\"\"\"\n",
    "    \n",
    "    \n",
    "    W_search = len(df_balanced.query(search_done+\"==True and subject_sex=='female'\"))\n",
    "    \n",
    "    \n",
    "    W_notsearch = len(df_balanced.query(search_done+\"==False and subject_sex=='female'\"))\n",
    "    \n",
    "    \n",
    "    M_search = len(df_balanced.query(search_done+\"==True and subject_sex=='male'\"))\n",
    "    \n",
    "    \n",
    "    M_notsearch = len(df_balanced.query(search_done+\"==False and subject_sex=='male'\"))\n",
    "    \n",
    "    \n",
    "    contingency_table = [[M_search, W_search], [M_notsearch, W_notsearch]]    \n",
    "    search_rate_male = M_search/(M_search+M_notsearch)\n",
    "    search_rate_female = W_search/(W_search+W_notsearch)\n",
    "    \n",
    "    oddsratio, pvalue = stats.fisher_exact(contingency_table)\n",
    "    \n",
    "    return pvalue, search_rate_male, search_rate_female"
   ]
  },
  {
   "cell_type": "markdown",
   "metadata": {},
   "source": [
    "We look at the search rate with two differents search, vehicle searched and person searched"
   ]
  },
  {
   "cell_type": "code",
   "execution_count": 10,
   "metadata": {},
   "outputs": [
    {
     "data": {
      "application/vnd.plotly.v1+json": {
       "config": {
        "plotlyServerURL": "https://plot.ly"
       },
       "data": [
        {
         "marker": {
          "color": "#478AEC",
          "opacity": 0.8,
          "size": 30
         },
         "mode": "markers",
         "name": "vehicle searched",
         "text": [
          "Charlotte, NC",
          "Raleigh, NC",
          "Greensboro, NC",
          "Austin, TX",
          "New Orleans, LA",
          "San diego, CA",
          "Nashville, TN",
          "Maryland"
         ],
         "type": "scatter",
         "x": [
          91.70305676855895,
          95.46087440824283,
          94.80431848852902,
          97.91611007213466,
          75.28344671201815,
          57.23972875947347,
          76.28453038674033,
          87.89166224110461
         ],
         "y": [
          85.20573277854831,
          94.77993858751279,
          90.46242774566474,
          92.20489977728286,
          78.77906976744185,
          45.203679369250985,
          62.38078417520311,
          77.74524158125915
         ]
        },
        {
         "marker": {
          "color": "#EF383B",
          "opacity": 0.8,
          "size": 30
         },
         "mode": "markers",
         "name": "person searched",
         "text": [
          "Charlotte, NC",
          "Raleigh, NC",
          "Greensboro, NC",
          "Austin, TX",
          "New Orleans, LA",
          "San diego, CA",
          "Nashville, TN",
          "Maryland"
         ],
         "type": "scatter",
         "x": [
          93.46262522476239,
          95.15455304928989,
          92.51012145748987,
          39.83435746727224,
          47.16553287981859,
          68.96689270043878,
          81.8646408839779,
          87.89166224110461
         ],
         "y": [
          94.86823855755895,
          94.77993858751279,
          93.35260115606935,
          58.57461024498887,
          55.52325581395349,
          75.16425755584757,
          85.23489932885906,
          89.89751098096632
         ]
        },
        {
         "line": {
          "color": "#143D49",
          "dash": "dot",
          "width": 4
         },
         "name": "",
         "type": "scatter",
         "x": [
          39,
          100
         ],
         "y": [
          39,
          100
         ]
        }
       ],
       "layout": {
        "autosize": true,
        "dragmode": false,
        "font": {
         "color": "#143D49",
         "family": "Courier",
         "size": 18
        },
        "paper_bgcolor": "rgba(0, 0, 0, 0)",
        "plot_bgcolor": "rgba(0, 0, 0, 0)",
        "template": {
         "data": {
          "bar": [
           {
            "error_x": {
             "color": "#2a3f5f"
            },
            "error_y": {
             "color": "#2a3f5f"
            },
            "marker": {
             "line": {
              "color": "#E5ECF6",
              "width": 0.5
             }
            },
            "type": "bar"
           }
          ],
          "barpolar": [
           {
            "marker": {
             "line": {
              "color": "#E5ECF6",
              "width": 0.5
             }
            },
            "type": "barpolar"
           }
          ],
          "carpet": [
           {
            "aaxis": {
             "endlinecolor": "#2a3f5f",
             "gridcolor": "white",
             "linecolor": "white",
             "minorgridcolor": "white",
             "startlinecolor": "#2a3f5f"
            },
            "baxis": {
             "endlinecolor": "#2a3f5f",
             "gridcolor": "white",
             "linecolor": "white",
             "minorgridcolor": "white",
             "startlinecolor": "#2a3f5f"
            },
            "type": "carpet"
           }
          ],
          "choropleth": [
           {
            "colorbar": {
             "outlinewidth": 0,
             "ticks": ""
            },
            "type": "choropleth"
           }
          ],
          "contour": [
           {
            "colorbar": {
             "outlinewidth": 0,
             "ticks": ""
            },
            "colorscale": [
             [
              0,
              "#0d0887"
             ],
             [
              0.1111111111111111,
              "#46039f"
             ],
             [
              0.2222222222222222,
              "#7201a8"
             ],
             [
              0.3333333333333333,
              "#9c179e"
             ],
             [
              0.4444444444444444,
              "#bd3786"
             ],
             [
              0.5555555555555556,
              "#d8576b"
             ],
             [
              0.6666666666666666,
              "#ed7953"
             ],
             [
              0.7777777777777778,
              "#fb9f3a"
             ],
             [
              0.8888888888888888,
              "#fdca26"
             ],
             [
              1,
              "#f0f921"
             ]
            ],
            "type": "contour"
           }
          ],
          "contourcarpet": [
           {
            "colorbar": {
             "outlinewidth": 0,
             "ticks": ""
            },
            "type": "contourcarpet"
           }
          ],
          "heatmap": [
           {
            "colorbar": {
             "outlinewidth": 0,
             "ticks": ""
            },
            "colorscale": [
             [
              0,
              "#0d0887"
             ],
             [
              0.1111111111111111,
              "#46039f"
             ],
             [
              0.2222222222222222,
              "#7201a8"
             ],
             [
              0.3333333333333333,
              "#9c179e"
             ],
             [
              0.4444444444444444,
              "#bd3786"
             ],
             [
              0.5555555555555556,
              "#d8576b"
             ],
             [
              0.6666666666666666,
              "#ed7953"
             ],
             [
              0.7777777777777778,
              "#fb9f3a"
             ],
             [
              0.8888888888888888,
              "#fdca26"
             ],
             [
              1,
              "#f0f921"
             ]
            ],
            "type": "heatmap"
           }
          ],
          "heatmapgl": [
           {
            "colorbar": {
             "outlinewidth": 0,
             "ticks": ""
            },
            "colorscale": [
             [
              0,
              "#0d0887"
             ],
             [
              0.1111111111111111,
              "#46039f"
             ],
             [
              0.2222222222222222,
              "#7201a8"
             ],
             [
              0.3333333333333333,
              "#9c179e"
             ],
             [
              0.4444444444444444,
              "#bd3786"
             ],
             [
              0.5555555555555556,
              "#d8576b"
             ],
             [
              0.6666666666666666,
              "#ed7953"
             ],
             [
              0.7777777777777778,
              "#fb9f3a"
             ],
             [
              0.8888888888888888,
              "#fdca26"
             ],
             [
              1,
              "#f0f921"
             ]
            ],
            "type": "heatmapgl"
           }
          ],
          "histogram": [
           {
            "marker": {
             "colorbar": {
              "outlinewidth": 0,
              "ticks": ""
             }
            },
            "type": "histogram"
           }
          ],
          "histogram2d": [
           {
            "colorbar": {
             "outlinewidth": 0,
             "ticks": ""
            },
            "colorscale": [
             [
              0,
              "#0d0887"
             ],
             [
              0.1111111111111111,
              "#46039f"
             ],
             [
              0.2222222222222222,
              "#7201a8"
             ],
             [
              0.3333333333333333,
              "#9c179e"
             ],
             [
              0.4444444444444444,
              "#bd3786"
             ],
             [
              0.5555555555555556,
              "#d8576b"
             ],
             [
              0.6666666666666666,
              "#ed7953"
             ],
             [
              0.7777777777777778,
              "#fb9f3a"
             ],
             [
              0.8888888888888888,
              "#fdca26"
             ],
             [
              1,
              "#f0f921"
             ]
            ],
            "type": "histogram2d"
           }
          ],
          "histogram2dcontour": [
           {
            "colorbar": {
             "outlinewidth": 0,
             "ticks": ""
            },
            "colorscale": [
             [
              0,
              "#0d0887"
             ],
             [
              0.1111111111111111,
              "#46039f"
             ],
             [
              0.2222222222222222,
              "#7201a8"
             ],
             [
              0.3333333333333333,
              "#9c179e"
             ],
             [
              0.4444444444444444,
              "#bd3786"
             ],
             [
              0.5555555555555556,
              "#d8576b"
             ],
             [
              0.6666666666666666,
              "#ed7953"
             ],
             [
              0.7777777777777778,
              "#fb9f3a"
             ],
             [
              0.8888888888888888,
              "#fdca26"
             ],
             [
              1,
              "#f0f921"
             ]
            ],
            "type": "histogram2dcontour"
           }
          ],
          "mesh3d": [
           {
            "colorbar": {
             "outlinewidth": 0,
             "ticks": ""
            },
            "type": "mesh3d"
           }
          ],
          "parcoords": [
           {
            "line": {
             "colorbar": {
              "outlinewidth": 0,
              "ticks": ""
             }
            },
            "type": "parcoords"
           }
          ],
          "pie": [
           {
            "automargin": true,
            "type": "pie"
           }
          ],
          "scatter": [
           {
            "marker": {
             "colorbar": {
              "outlinewidth": 0,
              "ticks": ""
             }
            },
            "type": "scatter"
           }
          ],
          "scatter3d": [
           {
            "line": {
             "colorbar": {
              "outlinewidth": 0,
              "ticks": ""
             }
            },
            "marker": {
             "colorbar": {
              "outlinewidth": 0,
              "ticks": ""
             }
            },
            "type": "scatter3d"
           }
          ],
          "scattercarpet": [
           {
            "marker": {
             "colorbar": {
              "outlinewidth": 0,
              "ticks": ""
             }
            },
            "type": "scattercarpet"
           }
          ],
          "scattergeo": [
           {
            "marker": {
             "colorbar": {
              "outlinewidth": 0,
              "ticks": ""
             }
            },
            "type": "scattergeo"
           }
          ],
          "scattergl": [
           {
            "marker": {
             "colorbar": {
              "outlinewidth": 0,
              "ticks": ""
             }
            },
            "type": "scattergl"
           }
          ],
          "scattermapbox": [
           {
            "marker": {
             "colorbar": {
              "outlinewidth": 0,
              "ticks": ""
             }
            },
            "type": "scattermapbox"
           }
          ],
          "scatterpolar": [
           {
            "marker": {
             "colorbar": {
              "outlinewidth": 0,
              "ticks": ""
             }
            },
            "type": "scatterpolar"
           }
          ],
          "scatterpolargl": [
           {
            "marker": {
             "colorbar": {
              "outlinewidth": 0,
              "ticks": ""
             }
            },
            "type": "scatterpolargl"
           }
          ],
          "scatterternary": [
           {
            "marker": {
             "colorbar": {
              "outlinewidth": 0,
              "ticks": ""
             }
            },
            "type": "scatterternary"
           }
          ],
          "surface": [
           {
            "colorbar": {
             "outlinewidth": 0,
             "ticks": ""
            },
            "colorscale": [
             [
              0,
              "#0d0887"
             ],
             [
              0.1111111111111111,
              "#46039f"
             ],
             [
              0.2222222222222222,
              "#7201a8"
             ],
             [
              0.3333333333333333,
              "#9c179e"
             ],
             [
              0.4444444444444444,
              "#bd3786"
             ],
             [
              0.5555555555555556,
              "#d8576b"
             ],
             [
              0.6666666666666666,
              "#ed7953"
             ],
             [
              0.7777777777777778,
              "#fb9f3a"
             ],
             [
              0.8888888888888888,
              "#fdca26"
             ],
             [
              1,
              "#f0f921"
             ]
            ],
            "type": "surface"
           }
          ],
          "table": [
           {
            "cells": {
             "fill": {
              "color": "#EBF0F8"
             },
             "line": {
              "color": "white"
             }
            },
            "header": {
             "fill": {
              "color": "#C8D4E3"
             },
             "line": {
              "color": "white"
             }
            },
            "type": "table"
           }
          ]
         },
         "layout": {
          "annotationdefaults": {
           "arrowcolor": "#2a3f5f",
           "arrowhead": 0,
           "arrowwidth": 1
          },
          "coloraxis": {
           "colorbar": {
            "outlinewidth": 0,
            "ticks": ""
           }
          },
          "colorscale": {
           "diverging": [
            [
             0,
             "#8e0152"
            ],
            [
             0.1,
             "#c51b7d"
            ],
            [
             0.2,
             "#de77ae"
            ],
            [
             0.3,
             "#f1b6da"
            ],
            [
             0.4,
             "#fde0ef"
            ],
            [
             0.5,
             "#f7f7f7"
            ],
            [
             0.6,
             "#e6f5d0"
            ],
            [
             0.7,
             "#b8e186"
            ],
            [
             0.8,
             "#7fbc41"
            ],
            [
             0.9,
             "#4d9221"
            ],
            [
             1,
             "#276419"
            ]
           ],
           "sequential": [
            [
             0,
             "#0d0887"
            ],
            [
             0.1111111111111111,
             "#46039f"
            ],
            [
             0.2222222222222222,
             "#7201a8"
            ],
            [
             0.3333333333333333,
             "#9c179e"
            ],
            [
             0.4444444444444444,
             "#bd3786"
            ],
            [
             0.5555555555555556,
             "#d8576b"
            ],
            [
             0.6666666666666666,
             "#ed7953"
            ],
            [
             0.7777777777777778,
             "#fb9f3a"
            ],
            [
             0.8888888888888888,
             "#fdca26"
            ],
            [
             1,
             "#f0f921"
            ]
           ],
           "sequentialminus": [
            [
             0,
             "#0d0887"
            ],
            [
             0.1111111111111111,
             "#46039f"
            ],
            [
             0.2222222222222222,
             "#7201a8"
            ],
            [
             0.3333333333333333,
             "#9c179e"
            ],
            [
             0.4444444444444444,
             "#bd3786"
            ],
            [
             0.5555555555555556,
             "#d8576b"
            ],
            [
             0.6666666666666666,
             "#ed7953"
            ],
            [
             0.7777777777777778,
             "#fb9f3a"
            ],
            [
             0.8888888888888888,
             "#fdca26"
            ],
            [
             1,
             "#f0f921"
            ]
           ]
          },
          "colorway": [
           "#636efa",
           "#EF553B",
           "#00cc96",
           "#ab63fa",
           "#FFA15A",
           "#19d3f3",
           "#FF6692",
           "#B6E880",
           "#FF97FF",
           "#FECB52"
          ],
          "font": {
           "color": "#2a3f5f"
          },
          "geo": {
           "bgcolor": "white",
           "lakecolor": "white",
           "landcolor": "#E5ECF6",
           "showlakes": true,
           "showland": true,
           "subunitcolor": "white"
          },
          "hoverlabel": {
           "align": "left"
          },
          "hovermode": "closest",
          "mapbox": {
           "style": "light"
          },
          "paper_bgcolor": "white",
          "plot_bgcolor": "#E5ECF6",
          "polar": {
           "angularaxis": {
            "gridcolor": "white",
            "linecolor": "white",
            "ticks": ""
           },
           "bgcolor": "#E5ECF6",
           "radialaxis": {
            "gridcolor": "white",
            "linecolor": "white",
            "ticks": ""
           }
          },
          "scene": {
           "xaxis": {
            "backgroundcolor": "#E5ECF6",
            "gridcolor": "white",
            "gridwidth": 2,
            "linecolor": "white",
            "showbackground": true,
            "ticks": "",
            "zerolinecolor": "white"
           },
           "yaxis": {
            "backgroundcolor": "#E5ECF6",
            "gridcolor": "white",
            "gridwidth": 2,
            "linecolor": "white",
            "showbackground": true,
            "ticks": "",
            "zerolinecolor": "white"
           },
           "zaxis": {
            "backgroundcolor": "#E5ECF6",
            "gridcolor": "white",
            "gridwidth": 2,
            "linecolor": "white",
            "showbackground": true,
            "ticks": "",
            "zerolinecolor": "white"
           }
          },
          "shapedefaults": {
           "line": {
            "color": "#2a3f5f"
           }
          },
          "ternary": {
           "aaxis": {
            "gridcolor": "white",
            "linecolor": "white",
            "ticks": ""
           },
           "baxis": {
            "gridcolor": "white",
            "linecolor": "white",
            "ticks": ""
           },
           "bgcolor": "#E5ECF6",
           "caxis": {
            "gridcolor": "white",
            "linecolor": "white",
            "ticks": ""
           }
          },
          "title": {
           "x": 0.05
          },
          "xaxis": {
           "automargin": true,
           "gridcolor": "white",
           "linecolor": "white",
           "ticks": "",
           "title": {
            "standoff": 15
           },
           "zerolinecolor": "white",
           "zerolinewidth": 2
          },
          "yaxis": {
           "automargin": true,
           "gridcolor": "white",
           "linecolor": "white",
           "ticks": "",
           "title": {
            "standoff": 15
           },
           "zerolinecolor": "white",
           "zerolinewidth": 2
          }
         }
        },
        "title": {
         "font": {
          "color": "#323943",
          "size": 25
         },
         "text": "Search rates",
         "x": 0.5,
         "xanchor": "center",
         "y": 0.9,
         "yanchor": "top"
        },
        "xaxis": {
         "autorange": true,
         "gridcolor": "rgba(25, 229, 229,0)",
         "range": [
          32.6337461016448,
          105.1167214377621
         ],
         "title": {
          "font": {
           "color": "#478AEC",
           "family": "Courier",
           "size": 18
          },
          "text": "Men search per 100 people"
         },
         "type": "linear",
         "zeroline": false
        },
        "yaxis": {
         "autorange": true,
         "gridcolor": "rgba(255, 229, 229,0)",
         "range": [
          34.531847133757964,
          104.46815286624204
         ],
         "title": {
          "font": {
           "color": "#478AEC",
           "family": "Courier",
           "size": 18
          },
          "text": "Women search per 100 people"
         },
         "type": "linear",
         "zeroline": false
        }
       }
      },
      "text/html": [
       "<div>\n",
       "        \n",
       "        \n",
       "            <div id=\"6d8974ae-a8c5-43ac-afa7-c98f83b9e156\" class=\"plotly-graph-div\" style=\"height:525px; width:100%;\"></div>\n",
       "            <script type=\"text/javascript\">\n",
       "                require([\"plotly\"], function(Plotly) {\n",
       "                    window.PLOTLYENV=window.PLOTLYENV || {};\n",
       "                    \n",
       "                if (document.getElementById(\"6d8974ae-a8c5-43ac-afa7-c98f83b9e156\")) {\n",
       "                    Plotly.newPlot(\n",
       "                        '6d8974ae-a8c5-43ac-afa7-c98f83b9e156',\n",
       "                        [{\"marker\": {\"color\": \"#478AEC\", \"opacity\": 0.8, \"size\": 30}, \"mode\": \"markers\", \"name\": \"vehicle searched\", \"text\": [\"Charlotte, NC\", \"Raleigh, NC\", \"Greensboro, NC\", \"Austin, TX\", \"New Orleans, LA\", \"San diego, CA\", \"Nashville, TN\", \"Maryland\"], \"type\": \"scatter\", \"x\": [91.70305676855895, 95.46087440824283, 94.80431848852902, 97.91611007213466, 75.28344671201815, 57.23972875947347, 76.28453038674033, 87.89166224110461], \"y\": [85.20573277854831, 94.77993858751279, 90.46242774566474, 92.20489977728286, 78.77906976744185, 45.203679369250985, 62.38078417520311, 77.74524158125915]}, {\"marker\": {\"color\": \"#EF383B\", \"opacity\": 0.8, \"size\": 30}, \"mode\": \"markers\", \"name\": \"person searched\", \"text\": [\"Charlotte, NC\", \"Raleigh, NC\", \"Greensboro, NC\", \"Austin, TX\", \"New Orleans, LA\", \"San diego, CA\", \"Nashville, TN\", \"Maryland\"], \"type\": \"scatter\", \"x\": [93.46262522476239, 95.15455304928989, 92.51012145748987, 39.83435746727224, 47.16553287981859, 68.96689270043878, 81.8646408839779, 87.89166224110461], \"y\": [94.86823855755895, 94.77993858751279, 93.35260115606935, 58.57461024498887, 55.52325581395349, 75.16425755584757, 85.23489932885906, 89.89751098096632]}, {\"line\": {\"color\": \"#143D49\", \"dash\": \"dot\", \"width\": 4}, \"name\": \"\", \"type\": \"scatter\", \"x\": [39, 100], \"y\": [39, 100]}],\n",
       "                        {\"autosize\": true, \"dragmode\": false, \"font\": {\"color\": \"#143D49\", \"family\": \"Courier\", \"size\": 18}, \"paper_bgcolor\": \"rgba(0,0,0,0)\", \"plot_bgcolor\": \"rgba(0,0,0,0)\", \"template\": {\"data\": {\"bar\": [{\"error_x\": {\"color\": \"#2a3f5f\"}, \"error_y\": {\"color\": \"#2a3f5f\"}, \"marker\": {\"line\": {\"color\": \"#E5ECF6\", \"width\": 0.5}}, \"type\": \"bar\"}], \"barpolar\": [{\"marker\": {\"line\": {\"color\": \"#E5ECF6\", \"width\": 0.5}}, \"type\": \"barpolar\"}], \"carpet\": [{\"aaxis\": {\"endlinecolor\": \"#2a3f5f\", \"gridcolor\": \"white\", \"linecolor\": \"white\", \"minorgridcolor\": \"white\", \"startlinecolor\": \"#2a3f5f\"}, \"baxis\": {\"endlinecolor\": \"#2a3f5f\", \"gridcolor\": \"white\", \"linecolor\": \"white\", \"minorgridcolor\": \"white\", \"startlinecolor\": \"#2a3f5f\"}, \"type\": \"carpet\"}], \"choropleth\": [{\"colorbar\": {\"outlinewidth\": 0, \"ticks\": \"\"}, \"type\": \"choropleth\"}], \"contour\": [{\"colorbar\": {\"outlinewidth\": 0, \"ticks\": \"\"}, \"colorscale\": [[0.0, \"#0d0887\"], [0.1111111111111111, \"#46039f\"], [0.2222222222222222, \"#7201a8\"], [0.3333333333333333, \"#9c179e\"], [0.4444444444444444, \"#bd3786\"], [0.5555555555555556, \"#d8576b\"], [0.6666666666666666, \"#ed7953\"], [0.7777777777777778, \"#fb9f3a\"], [0.8888888888888888, \"#fdca26\"], [1.0, \"#f0f921\"]], \"type\": \"contour\"}], \"contourcarpet\": [{\"colorbar\": {\"outlinewidth\": 0, \"ticks\": \"\"}, \"type\": \"contourcarpet\"}], \"heatmap\": [{\"colorbar\": {\"outlinewidth\": 0, \"ticks\": \"\"}, \"colorscale\": [[0.0, \"#0d0887\"], [0.1111111111111111, \"#46039f\"], [0.2222222222222222, \"#7201a8\"], [0.3333333333333333, \"#9c179e\"], [0.4444444444444444, \"#bd3786\"], [0.5555555555555556, \"#d8576b\"], [0.6666666666666666, \"#ed7953\"], [0.7777777777777778, \"#fb9f3a\"], [0.8888888888888888, \"#fdca26\"], [1.0, \"#f0f921\"]], \"type\": \"heatmap\"}], \"heatmapgl\": [{\"colorbar\": {\"outlinewidth\": 0, \"ticks\": \"\"}, \"colorscale\": [[0.0, \"#0d0887\"], [0.1111111111111111, \"#46039f\"], [0.2222222222222222, \"#7201a8\"], [0.3333333333333333, \"#9c179e\"], [0.4444444444444444, \"#bd3786\"], [0.5555555555555556, \"#d8576b\"], [0.6666666666666666, \"#ed7953\"], [0.7777777777777778, \"#fb9f3a\"], [0.8888888888888888, \"#fdca26\"], [1.0, \"#f0f921\"]], \"type\": \"heatmapgl\"}], \"histogram\": [{\"marker\": {\"colorbar\": {\"outlinewidth\": 0, \"ticks\": \"\"}}, \"type\": \"histogram\"}], \"histogram2d\": [{\"colorbar\": {\"outlinewidth\": 0, \"ticks\": \"\"}, \"colorscale\": [[0.0, \"#0d0887\"], [0.1111111111111111, \"#46039f\"], [0.2222222222222222, \"#7201a8\"], [0.3333333333333333, \"#9c179e\"], [0.4444444444444444, \"#bd3786\"], [0.5555555555555556, \"#d8576b\"], [0.6666666666666666, \"#ed7953\"], [0.7777777777777778, \"#fb9f3a\"], [0.8888888888888888, \"#fdca26\"], [1.0, \"#f0f921\"]], \"type\": \"histogram2d\"}], \"histogram2dcontour\": [{\"colorbar\": {\"outlinewidth\": 0, \"ticks\": \"\"}, \"colorscale\": [[0.0, \"#0d0887\"], [0.1111111111111111, \"#46039f\"], [0.2222222222222222, \"#7201a8\"], [0.3333333333333333, \"#9c179e\"], [0.4444444444444444, \"#bd3786\"], [0.5555555555555556, \"#d8576b\"], [0.6666666666666666, \"#ed7953\"], [0.7777777777777778, \"#fb9f3a\"], [0.8888888888888888, \"#fdca26\"], [1.0, \"#f0f921\"]], \"type\": \"histogram2dcontour\"}], \"mesh3d\": [{\"colorbar\": {\"outlinewidth\": 0, \"ticks\": \"\"}, \"type\": \"mesh3d\"}], \"parcoords\": [{\"line\": {\"colorbar\": {\"outlinewidth\": 0, \"ticks\": \"\"}}, \"type\": \"parcoords\"}], \"pie\": [{\"automargin\": true, \"type\": \"pie\"}], \"scatter\": [{\"marker\": {\"colorbar\": {\"outlinewidth\": 0, \"ticks\": \"\"}}, \"type\": \"scatter\"}], \"scatter3d\": [{\"line\": {\"colorbar\": {\"outlinewidth\": 0, \"ticks\": \"\"}}, \"marker\": {\"colorbar\": {\"outlinewidth\": 0, \"ticks\": \"\"}}, \"type\": \"scatter3d\"}], \"scattercarpet\": [{\"marker\": {\"colorbar\": {\"outlinewidth\": 0, \"ticks\": \"\"}}, \"type\": \"scattercarpet\"}], \"scattergeo\": [{\"marker\": {\"colorbar\": {\"outlinewidth\": 0, \"ticks\": \"\"}}, \"type\": \"scattergeo\"}], \"scattergl\": [{\"marker\": {\"colorbar\": {\"outlinewidth\": 0, \"ticks\": \"\"}}, \"type\": \"scattergl\"}], \"scattermapbox\": [{\"marker\": {\"colorbar\": {\"outlinewidth\": 0, \"ticks\": \"\"}}, \"type\": \"scattermapbox\"}], \"scatterpolar\": [{\"marker\": {\"colorbar\": {\"outlinewidth\": 0, \"ticks\": \"\"}}, \"type\": \"scatterpolar\"}], \"scatterpolargl\": [{\"marker\": {\"colorbar\": {\"outlinewidth\": 0, \"ticks\": \"\"}}, \"type\": \"scatterpolargl\"}], \"scatterternary\": [{\"marker\": {\"colorbar\": {\"outlinewidth\": 0, \"ticks\": \"\"}}, \"type\": \"scatterternary\"}], \"surface\": [{\"colorbar\": {\"outlinewidth\": 0, \"ticks\": \"\"}, \"colorscale\": [[0.0, \"#0d0887\"], [0.1111111111111111, \"#46039f\"], [0.2222222222222222, \"#7201a8\"], [0.3333333333333333, \"#9c179e\"], [0.4444444444444444, \"#bd3786\"], [0.5555555555555556, \"#d8576b\"], [0.6666666666666666, \"#ed7953\"], [0.7777777777777778, \"#fb9f3a\"], [0.8888888888888888, \"#fdca26\"], [1.0, \"#f0f921\"]], \"type\": \"surface\"}], \"table\": [{\"cells\": {\"fill\": {\"color\": \"#EBF0F8\"}, \"line\": {\"color\": \"white\"}}, \"header\": {\"fill\": {\"color\": \"#C8D4E3\"}, \"line\": {\"color\": \"white\"}}, \"type\": \"table\"}]}, \"layout\": {\"annotationdefaults\": {\"arrowcolor\": \"#2a3f5f\", \"arrowhead\": 0, \"arrowwidth\": 1}, \"coloraxis\": {\"colorbar\": {\"outlinewidth\": 0, \"ticks\": \"\"}}, \"colorscale\": {\"diverging\": [[0, \"#8e0152\"], [0.1, \"#c51b7d\"], [0.2, \"#de77ae\"], [0.3, \"#f1b6da\"], [0.4, \"#fde0ef\"], [0.5, \"#f7f7f7\"], [0.6, \"#e6f5d0\"], [0.7, \"#b8e186\"], [0.8, \"#7fbc41\"], [0.9, \"#4d9221\"], [1, \"#276419\"]], \"sequential\": [[0.0, \"#0d0887\"], [0.1111111111111111, \"#46039f\"], [0.2222222222222222, \"#7201a8\"], [0.3333333333333333, \"#9c179e\"], [0.4444444444444444, \"#bd3786\"], [0.5555555555555556, \"#d8576b\"], [0.6666666666666666, \"#ed7953\"], [0.7777777777777778, \"#fb9f3a\"], [0.8888888888888888, \"#fdca26\"], [1.0, \"#f0f921\"]], \"sequentialminus\": [[0.0, \"#0d0887\"], [0.1111111111111111, \"#46039f\"], [0.2222222222222222, \"#7201a8\"], [0.3333333333333333, \"#9c179e\"], [0.4444444444444444, \"#bd3786\"], [0.5555555555555556, \"#d8576b\"], [0.6666666666666666, \"#ed7953\"], [0.7777777777777778, \"#fb9f3a\"], [0.8888888888888888, \"#fdca26\"], [1.0, \"#f0f921\"]]}, \"colorway\": [\"#636efa\", \"#EF553B\", \"#00cc96\", \"#ab63fa\", \"#FFA15A\", \"#19d3f3\", \"#FF6692\", \"#B6E880\", \"#FF97FF\", \"#FECB52\"], \"font\": {\"color\": \"#2a3f5f\"}, \"geo\": {\"bgcolor\": \"white\", \"lakecolor\": \"white\", \"landcolor\": \"#E5ECF6\", \"showlakes\": true, \"showland\": true, \"subunitcolor\": \"white\"}, \"hoverlabel\": {\"align\": \"left\"}, \"hovermode\": \"closest\", \"mapbox\": {\"style\": \"light\"}, \"paper_bgcolor\": \"white\", \"plot_bgcolor\": \"#E5ECF6\", \"polar\": {\"angularaxis\": {\"gridcolor\": \"white\", \"linecolor\": \"white\", \"ticks\": \"\"}, \"bgcolor\": \"#E5ECF6\", \"radialaxis\": {\"gridcolor\": \"white\", \"linecolor\": \"white\", \"ticks\": \"\"}}, \"scene\": {\"xaxis\": {\"backgroundcolor\": \"#E5ECF6\", \"gridcolor\": \"white\", \"gridwidth\": 2, \"linecolor\": \"white\", \"showbackground\": true, \"ticks\": \"\", \"zerolinecolor\": \"white\"}, \"yaxis\": {\"backgroundcolor\": \"#E5ECF6\", \"gridcolor\": \"white\", \"gridwidth\": 2, \"linecolor\": \"white\", \"showbackground\": true, \"ticks\": \"\", \"zerolinecolor\": \"white\"}, \"zaxis\": {\"backgroundcolor\": \"#E5ECF6\", \"gridcolor\": \"white\", \"gridwidth\": 2, \"linecolor\": \"white\", \"showbackground\": true, \"ticks\": \"\", \"zerolinecolor\": \"white\"}}, \"shapedefaults\": {\"line\": {\"color\": \"#2a3f5f\"}}, \"ternary\": {\"aaxis\": {\"gridcolor\": \"white\", \"linecolor\": \"white\", \"ticks\": \"\"}, \"baxis\": {\"gridcolor\": \"white\", \"linecolor\": \"white\", \"ticks\": \"\"}, \"bgcolor\": \"#E5ECF6\", \"caxis\": {\"gridcolor\": \"white\", \"linecolor\": \"white\", \"ticks\": \"\"}}, \"title\": {\"x\": 0.05}, \"xaxis\": {\"automargin\": true, \"gridcolor\": \"white\", \"linecolor\": \"white\", \"ticks\": \"\", \"title\": {\"standoff\": 15}, \"zerolinecolor\": \"white\", \"zerolinewidth\": 2}, \"yaxis\": {\"automargin\": true, \"gridcolor\": \"white\", \"linecolor\": \"white\", \"ticks\": \"\", \"title\": {\"standoff\": 15}, \"zerolinecolor\": \"white\", \"zerolinewidth\": 2}}}, \"title\": {\"font\": {\"color\": \"#323943\", \"size\": 25}, \"text\": \"Search rates\", \"x\": 0.5, \"xanchor\": \"center\", \"y\": 0.9, \"yanchor\": \"top\"}, \"xaxis\": {\"gridcolor\": \"rgba(25, 229, 229,0)\", \"title\": {\"font\": {\"color\": \"#478AEC\", \"family\": \"Courier\", \"size\": 18}, \"text\": \"Men search per 100 people\"}, \"zeroline\": false}, \"yaxis\": {\"gridcolor\": \"rgba(255, 229, 229,0)\", \"title\": {\"font\": {\"color\": \"#478AEC\", \"family\": \"Courier\", \"size\": 18}, \"text\": \"Women search per 100 people\"}, \"zeroline\": false}},\n",
       "                        {\"responsive\": true}\n",
       "                    ).then(function(){\n",
       "                            \n",
       "var gd = document.getElementById('6d8974ae-a8c5-43ac-afa7-c98f83b9e156');\n",
       "var x = new MutationObserver(function (mutations, observer) {{\n",
       "        var display = window.getComputedStyle(gd).display;\n",
       "        if (!display || display === 'none') {{\n",
       "            console.log([gd, 'removed!']);\n",
       "            Plotly.purge(gd);\n",
       "            observer.disconnect();\n",
       "        }}\n",
       "}});\n",
       "\n",
       "// Listen for the removal of the full notebook cells\n",
       "var notebookContainer = gd.closest('#notebook-container');\n",
       "if (notebookContainer) {{\n",
       "    x.observe(notebookContainer, {childList: true});\n",
       "}}\n",
       "\n",
       "// Listen for the clearing of the current output cell\n",
       "var outputEl = gd.closest('.output');\n",
       "if (outputEl) {{\n",
       "    x.observe(outputEl, {childList: true});\n",
       "}}\n",
       "\n",
       "                        })\n",
       "                };\n",
       "                });\n",
       "            </script>\n",
       "        </div>"
      ]
     },
     "metadata": {},
     "output_type": "display_data"
    }
   ],
   "source": [
    "#search rate\n",
    "\n",
    "DF_search = [df_charlotte, df_raleigh, df_greensboro, df_austin, df_neworleans, df_sandiego, df_nashville, df_MD]\n",
    "list_name_print = [\"Charlotte, NC\",\"Raleigh, NC\",\"Greensboro, NC\",\"Austin, TX\",\"New Orleans, LA\",\"San diego, CA\",\"Nashville, TN\",\"Maryland\"]\n",
    "\n",
    "fig = go.Figure()\n",
    "\n",
    "marker_var =dict(\n",
    "        color=\"#478AEC\",\n",
    "        opacity=0.8,\n",
    "    )\n",
    "marker_var2 =dict(\n",
    "        color='#EF383B',\n",
    "        opacity=0.8,\n",
    "    )\n",
    "\n",
    "i=0\n",
    "name_list = [\"vehicle searched\",\"person searched\"]\n",
    "mark_list = [marker_var,marker_var2]\n",
    "\n",
    "for search_wanted in [\"search_person\",\"search_vehicle\"]:\n",
    "    search_rate_male_list = []\n",
    "    search_rate_female_list = []\n",
    "    for df_choose in DF_search:\n",
    "        pvalue, search_rate_male, search_rate_female = search_rate(df_choose,search_wanted)\n",
    "        search_rate_male_list.append(search_rate_male*100)\n",
    "        search_rate_female_list.append(search_rate_female*100)\n",
    "        \n",
    "    fig.add_trace(go.Scatter(x=search_rate_male_list, y=search_rate_female_list,mode='markers', marker=mark_list[i] ,name=name_list[i], marker_size=30,text=list_name_print))\n",
    "    i = i+1\n",
    "    \n",
    "    \n",
    "color = \"#478AEC\"\n",
    "\n",
    "fig.add_trace(go.Scatter(x=[39,100], y=[39,100], name='',line=dict(color='#143D49', width=4,dash='dot')))\n",
    "fig.update_layout(\n",
    "        font = dict(size=18, family='Courier', color=\"#143D49\"),\n",
    "        #paper_bgcolor='#F2F2F2',\n",
    "        paper_bgcolor='rgba(0,0,0,0)',\n",
    "        plot_bgcolor='rgba(0,0,0,0)',\n",
    "        autosize=True,\n",
    "        dragmode = False,\n",
    "        title={\n",
    "        'text': \"Search rates\",\n",
    "        'y':0.9,\n",
    "        'x':0.5,\n",
    "        'xanchor': 'center',\n",
    "        'yanchor': 'top',\n",
    "        \"font\" : dict(size=25, color=\"#323943\")}\n",
    "    )\n",
    "\n",
    "fig.update_xaxes(gridcolor = 'rgba(25, 229, 229,0)',title_font = dict(size=18, family='Courier', color=color),zeroline=False)\n",
    "fig.update_yaxes(gridcolor = 'rgba(255, 229, 229,0)',title_font = dict(size=18, family='Courier', color=color),zeroline=False)\n",
    "fig.update_xaxes(title_text='Men search per 100 people')\n",
    "fig.update_yaxes(title_text='Women search per 100 people')\n",
    "fig.show()\n",
    "#pio.write_html(fig, file='searchRate.html', auto_open=True)"
   ]
  },
  {
   "cell_type": "code",
   "execution_count": 87,
   "metadata": {},
   "outputs": [
    {
     "data": {
      "image/png": "[encoded data removed]",
      "text/plain": [
       "<Figure size 1296x576 with 1 Axes>"
      ]
     },
     "metadata": {
      "needs_background": "light"
     },
     "output_type": "display_data"
    },
    {
     "name": "stdout",
     "output_type": "stream",
     "text": [
      "There are 63 combinations of reasons for the policeman to decide to operate a search, among which, the most represented combinations are (in descending order of importance) :\n",
      "[('Other Official Information', 31331), ('Erratic/Suspicious Behavior', 12003), ('Observation of Suspected Contraband', 9024), ('Erratic/Suspicious Behavior|Suspicious Movement', 8201), ('Erratic/Suspicious Behavior|Other Official Information', 4989), ('Erratic/Suspicious Behavior|Observation of Suspected Contraband', 4738), ('Erratic/Suspicious Behavior|Observation of Suspected Contraband|Suspicious Movement', 4583), ('Erratic/Suspicious Behavior|Suspicious Movement|Other Official Information', 2862), ('Observation of Suspected Contraband|Other Official Information', 2754), ('Suspicious Movement', 1709), ('Erratic/Suspicious Behavior|Observation of Suspected Contraband|Suspicious Movement|Other Official Information', 1468), ('Erratic/Suspicious Behavior|Observation of Suspected Contraband|Other Official Information', 1279), ('Witness Observation', 737)]\n",
      "Averaged outcome difference 0.0562 with [0.0482, 0.0639] 95% confidence intervals\n",
      "Hit rate male: 0.2641 \n",
      "Hit rate female: 0.2466 \n",
      "pvalue: 0.1410 (significance of difference in hit rate)\n",
      "\n",
      " ---------------------------------------------------------------------------\n",
      "\n"
     ]
    },
    {
     "data": {
      "image/png": "[encoded data removed]",
      "text/plain": [
       "<Figure size 1296x576 with 1 Axes>"
      ]
     },
     "metadata": {
      "needs_background": "light"
     },
     "output_type": "display_data"
    },
    {
     "name": "stdout",
     "output_type": "stream",
     "text": [
      "There are 59 combinations of reasons for the policeman to decide to operate a search, among which, the most represented combinations are (in descending order of importance) :\n",
      "[('Erratic/Suspicious Behavior', 10173), ('Observation of Suspected Contraband', 6268), ('Suspicious Movement', 4574), ('Other Official Information', 3727), ('Erratic/Suspicious Behavior|Informant Tip', 2108), ('Erratic/Suspicious Behavior|Observation of Suspected Contraband', 1002), ('Informant Tip', 903), ('Erratic/Suspicious Behavior|Observation of Suspected Contraband|Informant Tip', 823), ('Erratic/Suspicious Behavior|Suspicious Movement', 607), ('Erratic/Suspicious Behavior|Suspicious Movement|Informant Tip', 312), ('Observation of Suspected Contraband|Suspicious Movement', 262), ('Observation of Suspected Contraband|Informant Tip', 181), ('Witness Observation', 164)]\n",
      "Averaged outcome difference 0.0765 with [0.0665, 0.0869] 95% confidence intervals\n",
      "Hit rate male: 0.2569 \n",
      "Hit rate female: 0.3458 \n",
      "pvalue: 0.0015 (significance of difference in hit rate)\n",
      "\n",
      " ---------------------------------------------------------------------------\n",
      "\n"
     ]
    },
    {
     "data": {
      "image/png": "[encoded data removed]",
      "text/plain": [
       "<Figure size 1296x576 with 1 Axes>"
      ]
     },
     "metadata": {
      "needs_background": "light"
     },
     "output_type": "display_data"
    },
    {
     "name": "stdout",
     "output_type": "stream",
     "text": [
      "There are 90 combinations of reasons for the policeman to decide to operate a search, among which, the most represented combinations are (in descending order of importance) :\n",
      "[('Other Official Information', 15967), ('Erratic/Suspicious Behavior', 7207), ('Observation of Suspected Contraband', 6669), ('Suspicious Movement', 1442), ('Witness Observation', 377), ('Erratic/Suspicious Behavior|Observation of Suspected Contraband', 213), ('Erratic/Suspicious Behavior|Other Official Information', 201), ('Erratic/Suspicious Behavior|Suspicious Movement', 192), ('Observation of Suspected Contraband|Other Official Information', 170), ('Informant Tip', 97), ('Observation of Suspected Contraband|Erratic/Suspicious Behavior', 95), ('Other Official Information|Erratic/Suspicious Behavior', 72), ('Erratic/Suspicious Behavior|Observation of Suspected Contraband|Suspicious Movement', 56)]\n",
      "Averaged outcome difference 0.0270 with [0.0194, 0.0344] 95% confidence intervals\n",
      "Hit rate male: 0.1863 \n",
      "Hit rate female: 0.1327 \n",
      "pvalue: 0.0011 (significance of difference in hit rate)\n",
      "\n",
      " ---------------------------------------------------------------------------\n",
      "\n"
     ]
    },
    {
     "data": {
      "image/png": "[encoded data removed]",
      "text/plain": [
       "<Figure size 1296x576 with 1 Axes>"
      ]
     },
     "metadata": {
      "needs_background": "light"
     },
     "output_type": "display_data"
    },
    {
     "name": "stdout",
     "output_type": "stream",
     "text": [
      "There are 15 combinations of reasons for the policeman to decide to operate a search, among which, the most represented combinations are (in descending order of importance) :\n",
      "[('incarrest', 7938), ('prob', 6377), ('cons', 4687), ('k-', 2066), ('Probable Cause', 2040), ('Incident to Arrest', 1749), ('other', 1439), ('Consensual', 851), ('K--', 389), ('Other', 325), ('K-- Scan', 282), ('exigent', 183), ('Exigent Circumstances', 35)]\n",
      "Averaged outcome difference 0.1087 with [0.0966, 0.1219] 95% confidence intervals\n",
      "Hit rate male: 0.0704 \n",
      "Hit rate female: 0.0534 \n",
      "pvalue: 0.0532 (significance of difference in hit rate)\n",
      "\n",
      " ---------------------------------------------------------------------------\n",
      "\n"
     ]
    },
    {
     "data": {
      "image/png": "[encoded data removed]",
      "text/plain": [
       "<Figure size 1296x576 with 1 Axes>"
      ]
     },
     "metadata": {
      "needs_background": "light"
     },
     "output_type": "display_data"
    },
    {
     "name": "stdout",
     "output_type": "stream",
     "text": [
      "There are 585 combinations of reasons for the policeman to decide to operate a search, among which, the most represented combinations are (in descending order of importance) :\n",
      "[('Inventory Search [Prior to Impound]', 3832), ('-th Waiver Search', 3260), ('Consent Search', 2273), ('Search incident to Arrest', 1739), ('Inventory Search', 615), ('Odor of Contraband', 252), ('Contraband Visible', 220), ('-h Waiver Search', 133), ('Other', 92), ('Search Incident To Arrest', 79), ('Observed Evidence related to criminal', 34), ('Search Incident To Arrest|Inventory Search', 22), ('Consent Search|-h Waiver Search', 19)]\n",
      "Averaged outcome difference 0.0624 with [0.0463, 0.0785] 95% confidence intervals\n",
      "Hit rate male: 0.1574 \n",
      "Hit rate female: 0.1458 \n",
      "pvalue: 0.5550 (significance of difference in hit rate)\n",
      "\n",
      " ---------------------------------------------------------------------------\n",
      "\n"
     ]
    },
    {
     "data": {
      "image/png": "[encoded data removed]",
      "text/plain": [
       "<Figure size 1296x576 with 1 Axes>"
      ]
     },
     "metadata": {
      "needs_background": "light"
     },
     "output_type": "display_data"
    },
    {
     "name": "stdout",
     "output_type": "stream",
     "text": [
      "There are 30 combinations of reasons for the policeman to decide to operate a search, among which, the most represented combinations are (in descending order of importance) :\n",
      "[('FRISK FOR SAFETY', 9289), ('PROBABLE CAUSE', 4040), ('CONSENT', 1299), ('INCIDENTAL TO ARREST', 180), ('CONTRABAND/EVIDENCE IN PLAIN VIEW', 59), ('NA|FRISK FOR SAFETY', 55), ('INVENTORY OF TOWED VEHICLE', 32), ('NA|PROBABLE CAUSE', 22), ('FRISK FOR SAFETY|NA', 21), ('PROBABLE CAUSE|NA', 7), ('NA|CONSENT', 6), ('FRISK FOR SAFETY|CONSENT', 3), ('PROBABLE CAUSE|FRISK FOR SAFETY', 3)]\n",
      "Averaged outcome difference 0.0497 with [0.0379, 0.0615] 95% confidence intervals\n",
      "Hit rate male: 0.2471 \n",
      "Hit rate female: 0.2201 \n",
      "pvalue: 0.1998 (significance of difference in hit rate)\n"
     ]
    }
   ],
   "source": [
    "# Compute the AOD and interval of confidence for each desired state or city\n",
    "state(df_charlotte, n=3)\n",
    "print('\\n ---------------------------------------------------------------------------\\n')\n",
    "state(df_greensboro, n=4)\n",
    "print('\\n ---------------------------------------------------------------------------\\n')\n",
    "state(df_raleigh, n=3)\n",
    "print('\\n ---------------------------------------------------------------------------\\n')\n",
    "state(df_MD, n=3)\n",
    "print('\\n ---------------------------------------------------------------------------\\n')\n",
    "state(df_sandiego, n=4)\n",
    "print('\\n ---------------------------------------------------------------------------\\n')\n",
    "state(df_austin, n=2)"
   ]
  },
  {
   "cell_type": "markdown",
   "metadata": {},
   "source": [
    "These results provide an interesting starting point to our analysis : as all AOD are significantly higher than 0, varying between few % uo to more than 10%, the data for these cities and state patrols seem to provide some evidence that bias is present in search decisions. In order to assess this point more rigourously, this study continues by grouping pairs that had their vehicle searched, and those that did not. This will eliminate the data bias possible if we compare people that are so suspicious that their car was also searched to people that did not do much and just get searched physically. \n",
    "\n",
    "Note that the choice of n is subjective : its choice can accordingly increase or decrease computational time, without necessarily changing the conclusion. A sensibility analysis was performed on this parameter, on the Charlotte dataset, and results stay constant for values of n = 3 to n = 63 (maximum), hence the realistic value of n = 4 is kept for this dataset. A similar methodology is applied for all other datasets."
   ]
  },
  {
   "cell_type": "code",
   "execution_count": 88,
   "metadata": {},
   "outputs": [],
   "source": [
    "def s_vehi_or_not(df, n):\n",
    "    # executes the matching for the diven dataframe df, with n most representative search reasons\n",
    "    # splits the matched pairs into 2 sets : drivers that had their vehicle searched, and those who did not.\n",
    "    # computes the average outcome difference\n",
    "    \n",
    "    df = DF_handling(df)\n",
    "\n",
    "    reason_searches = sorted(Counter(df['reason_for_search']), key=Counter(df['reason_for_search']).get, reverse = True)[:n]\n",
    "\n",
    "    matching = match_pair_search(df, reason_searches)\n",
    "\n",
    "    df.index = df['id']\n",
    "    matching['men']= matching['men'].apply(lambda x: int(x))\n",
    "    matching['women']= matching['women'].apply(lambda x: int(x))\n",
    "    matching.index = matching['women']\n",
    "\n",
    "    search_vehicle_w = dict(tuple(df.loc[matching['women']].groupby('search_vehicle')))\n",
    "    search_vehicle_m = dict(tuple(df.loc[matching['men']].groupby('search_vehicle')))\n",
    "\n",
    "    [AOD_vehicule_searched, diff_veh] = AOD_search(df, matching.loc[search_vehicle_w[True].id].reset_index(drop=True))\n",
    "\n",
    "    [AOD_vehicule_not_searched, diff_no_veh] = AOD_search(df, matching.loc[search_vehicle_w[False].id].reset_index(drop=True))\n",
    "    \n",
    "    return [matching, AOD_vehicule_searched, diff_veh, AOD_vehicule_not_searched, diff_no_veh, search_vehicle_w, search_vehicle_m]\n"
   ]
  },
  {
   "cell_type": "code",
   "execution_count": 89,
   "metadata": {},
   "outputs": [],
   "source": [
    "def reason_type_search(df, matching, df_w):\n",
    "    # splits the matched pairs into n sets (n = # of search reason considered)\n",
    "    # computes the average outcome difference for each group\n",
    "    \n",
    "    AOD_searched_ = dict()\n",
    "    diff_ = dict()\n",
    "    \n",
    "    search_reason_w = dict(tuple(df_w.groupby('reason_for_search')))\n",
    "    \n",
    "    for idx, reason in enumerate(search_reason_w.keys()):\n",
    "        [AOD_searched_[idx], diff_[idx]] = AOD_search(df, matching.loc[search_reason_w[reason].id].reset_index(drop=True))\n",
    "    return AOD_searched_, diff_, search_reason_w.keys()"
   ]
  },
  {
   "cell_type": "markdown",
   "metadata": {},
   "source": [
    "Example : Charlotte"
   ]
  },
  {
   "cell_type": "code",
   "execution_count": 90,
   "metadata": {},
   "outputs": [
    {
     "name": "stdout",
     "output_type": "stream",
     "text": [
      " Searched vehicle : \n",
      " AOD for drivers whose car was searched : 0.06213481544819723 with CI :\n",
      "[0.05358415277183981, 0.0705429670799487]\n",
      "{0: 0.0710295291300878, 1: 0.048368953880764905, 2: 0.06173780487804878, 3: 0.06258770698849285}\n",
      "          0         1\n",
      "0  0.047087  0.095770\n",
      "1  0.021372  0.074241\n",
      "2  0.036585  0.084642\n",
      "3  0.050800  0.074656\n",
      "For the following reason for search :                                                  0\n",
      "0                      Erratic/Suspicious Behavior\n",
      "1  Erratic/Suspicious Behavior|Suspicious Movement\n",
      "2              Observation of Suspected Contraband\n",
      "3                       Other Official Information\n",
      "\n",
      " Non-searched vehicle : \n",
      " AOD for drivers whose car was not searched : 0.023270846800258566 with CI :\n",
      "[0.01616031027795734, 0.030381383322559793]\n",
      "{0: 0.038314176245210725, 1: 0.0, 2: 0.02564102564102564, 3: 0.02066115702479339}\n",
      "          0         1\n",
      "0  0.015326  0.061494\n",
      "1  0.000000  0.000000\n",
      "2 -0.051282  0.102564\n",
      "3  0.013223  0.028099\n",
      "For the following reason for search :                                                  0\n",
      "0                      Erratic/Suspicious Behavior\n",
      "1  Erratic/Suspicious Behavior|Suspicious Movement\n",
      "2              Observation of Suspected Contraband\n",
      "3                       Other Official Information\n"
     ]
    }
   ],
   "source": [
    "# As precendently evaluated, n = 4 reasons for search are sufficient to cover well the data of Charlotte (NC).\n",
    "n = 4\n",
    "\n",
    "[matching, AOD_vehi_searched, diff_veh, AOD_vehi_not_searched, diff_no_veh, search_vehicle_w, search_vehi_m] = s_vehi_or_not(df_charlotte, n)\n",
    "\n",
    "CI_veh = bootstrap_CI(diff_veh, 1000)\n",
    "CI_no_veh = bootstrap_CI(diff_no_veh, 1000)\n",
    "\n",
    "print(' Searched vehicle : \\n AOD for drivers whose car was searched : '+str(AOD_vehi_searched)+' with CI :')\n",
    "print(str(CI_veh))\n",
    "\n",
    "[AOD_searched_T, diff_T, ordered_search_reason_T] = reason_type_search(df_charlotte, matching, search_vehicle_w[True])\n",
    "\n",
    "CI_T = dict()\n",
    "for idx,d in enumerate(diff_T.values()): \n",
    "    CI_T[idx] = bootstrap_CI(d, 1000)\n",
    "\n",
    "print(str(AOD_searched_T))\n",
    "print(str(pd.DataFrame(CI_T.values())))\n",
    "print('For the following reason for search : '+str(pd.DataFrame(ordered_search_reason_T)))\n",
    "\n",
    "\n",
    "print('\\n Non-searched vehicle : \\n AOD for drivers whose car was not searched : '+str(AOD_vehi_not_searched)+' with CI :')\n",
    "print(str(CI_no_veh))\n",
    "\n",
    "[AOD_searched_F, diff_F, ordered_search_reason_F] = reason_type_search(df_charlotte, matching, search_vehicle_w[False])\n",
    "    \n",
    "CI_F = dict()\n",
    "for idx,d in enumerate(diff_F.values()): \n",
    "    CI_F[idx] = bootstrap_CI(d, 1000)\n",
    "\n",
    "print(str(AOD_searched_F))\n",
    "print(str(pd.DataFrame(CI_F.values())))\n",
    "print('For the following reason for search : '+str(pd.DataFrame(ordered_search_reason_F)))"
   ]
  },
  {
   "cell_type": "markdown",
   "metadata": {},
   "source": [
    "These results are not those expected, though they are explainable : if their vehicle is searched, men get more searched for given features than women. However, this difference lowers by about 50% if the car is not searched. This could indicate for example that officers seem to have more confidence in women if they search their car, searching them physically less. \n",
    "\n",
    "The displayed CIs and AOD above permit to conclude that if the car is not searched, officers tend to treat drivers more equally than if the car is searched."
   ]
  },
  {
   "cell_type": "markdown",
   "metadata": {},
   "source": [
    "## Set 2 : Gender disparities in stop outcome decisions\n"
   ]
  },
  {
   "cell_type": "markdown",
   "metadata": {},
   "source": [
    "A quite similar methodology is applied in this second section, this time to determine if stop outcome are depending on the driver's gender. Indeed, an officer could act biased when taking the decision to warn, issue a citation or even arrest. \n",
    "\n",
    "If available, the following information are provided in each dataframe :\n",
    "\n",
    "    'subject_age'\n",
    "    'subject_race'\n",
    "    'subject_sex'\n",
    "    'contraband_found'\n",
    "    'search_person'\n",
    "    'search_vehicle'\n",
    "    'reason_for_search'\n",
    "    'citation_issued'\n",
    "    'warning_issued'\n",
    "    'arrest_made'\n",
    "    'frisk_performed'\n",
    "    'reason_for_frisk'\n",
    "    'reason_for_stop'\n",
    "    'officer_sex' (only for WA, FL and Louisville)\n",
    "\n",
    "The following datasets are used : NC (Charlotte, Greensboro, Raleigh), CA (San Diego and San Francisco), Nashville (TN), New Orleans."
   ]
  },
  {
   "cell_type": "markdown",
   "metadata": {},
   "source": [
    "### Generic functions : "
   ]
  },
  {
   "cell_type": "code",
   "execution_count": 91,
   "metadata": {},
   "outputs": [],
   "source": [
    "def match_pair_stop(df, reason_stops):\n",
    "    matching=pd.DataFrame({'men':[],'women':[]})\n",
    "    AOD = 0\n",
    "    # Match 1 woman and 1 man with same attributes\n",
    "    for reason in reason_stops:\n",
    "        for race in ('white','black','hispanic'):\n",
    "            for attractiveness in ('True', 'False'):\n",
    "                for contraband in ('True', 'False'):\n",
    "                    query = \"reason_for_stop=='\"+reason+\"' & subject_race=='\"+race+\"' & attractiveness==\"+attractiveness+\" & contraband_found==\"+contraband\n",
    "                    data = df.query(query).copy()\n",
    "                    id_M = np.array(data[data['subject_sex']=='male'].id)\n",
    "                    id_W = np.array(data[data['subject_sex']=='female'].id)\n",
    "                    if ((len(id_M)>0) & (len(id_W)>0)):\n",
    "                        if (len(id_M)>len(id_W)):\n",
    "                            for i in np.arange(0,len(id_W)):\n",
    "                                matching = matching.append({'men':id_M[i],'women':id_W[i]},ignore_index=True)\n",
    "                          \n",
    "                        if (len(id_M)<len(id_W)):\n",
    "                            for i in np.arange(0,len(id_M)):\n",
    "                                matching = matching.append({'men':id_M[i],'women':id_W[i]},ignore_index=True)\n",
    "    return matching \n",
    "\n",
    "def AOD_stop(df, matching):\n",
    "    # Averaged outcome difference\n",
    "    N_matches = len(matching)\n",
    "    diff = np.zeros(N_matches)\n",
    "    for i in np.arange(0,N_matches):\n",
    "        outcome_man = np.array(df[df['id']==matching.loc[i,'men']].outcome)\n",
    "        outcome_woman = np.array(df[df['id']==matching.loc[i,'women']].outcome)\n",
    "        diff[i] = outcome_man-outcome_woman                    \n",
    "    AOD = diff.sum()/N_matches \n",
    "    return AOD, diff"
   ]
  },
  {
   "cell_type": "code",
   "execution_count": 22,
   "metadata": {},
   "outputs": [],
   "source": [
    "def reason_type_stop(df, matching):\n",
    "    # splits the matched pairs into n sets (n = # of stop reason considered)\n",
    "    # computes the average outcome difference    \n",
    "    \n",
    "    AOD_stopped_ = dict()\n",
    "    diff_ = dict()\n",
    "    matching.index = matching['women']\n",
    "    \n",
    "    stop_reason_w = dict(tuple(df.loc[matching['women']].groupby('reason_for_stop')))\n",
    "    stop_reason_m = dict(tuple(df.loc[matching['men']].groupby('reason_for_stop')))\n",
    "    \n",
    "    for idx, reason in enumerate(stop_reason_w.keys()):\n",
    "        [AOD_stopped_[idx], diff_[idx]] = AOD_stop(df, matching.loc[stop_reason_w[reason].id].reset_index(drop=True))\n",
    "    return AOD_stopped_, diff_, stop_reason_w.keys()"
   ]
  },
  {
   "cell_type": "markdown",
   "metadata": {},
   "source": [
    "Computation"
   ]
  },
  {
   "cell_type": "code",
   "execution_count": 93,
   "metadata": {},
   "outputs": [],
   "source": [
    "# Datasets for this section\n",
    "DF = [df_charlotte, df_raleigh, df_greensboro, df_neworleans, df_sandiego, df_sanfrancisco, df_nashville]\n",
    "name = ['df_charlotte', 'df_raleigh', 'df_greensboro', 'df_neworleans', 'df_sandiego', 'df_sanfrancisco', 'df_nashville']"
   ]
  },
  {
   "cell_type": "code",
   "execution_count": 94,
   "metadata": {},
   "outputs": [
    {
     "name": "stdout",
     "output_type": "stream",
     "text": [
      "DATASET : df_charlotte\n",
      "Counter({'Vehicle Regulatory Violation': 27893, 'Vehicle Equipment Violation': 14280, 'Investigation': 12125, 'Speed Limit Violation': 10800, 'Other Motor Vehicle Violation': 7564, 'Safe Movement Violation': 6156, 'Seat Belt Violation': 5028, 'Stop Light/Sign Violation': 4806, 'Driving While Impaired': 3912, 'Checkpoint': 314})\n",
      "Averaged outcome difference 0.0245 with [0.0162, 0.0328] 95% confidence intervals\n",
      "\n",
      " ---------------------------------------------------------------------------\n",
      "\n",
      "DATASET : df_raleigh\n",
      "Counter({'Vehicle Regulatory Violation': 7700, 'Driving While Impaired': 6686, 'Other Motor Vehicle Violation': 4184, 'Investigation': 3868, 'Vehicle Equipment Violation': 3579, 'Speed Limit Violation': 3183, 'Safe Movement Violation': 1797, 'Stop Light/Sign Violation': 1483, 'Seat Belt Violation': 766, 'Checkpoint': 44})\n",
      "Averaged outcome difference 0.0775 with [0.0676, 0.0865] 95% confidence intervals\n",
      "\n",
      " ---------------------------------------------------------------------------\n",
      "\n",
      "DATASET : df_greensboro\n",
      "Counter({'Vehicle Regulatory Violation': 6929, 'Investigation': 4805, 'Speed Limit Violation': 4661, 'Vehicle Equipment Violation': 4633, 'Safe Movement Violation': 3753, 'Seat Belt Violation': 2354, 'Other Motor Vehicle Violation': 1769, 'Stop Light/Sign Violation': 1741, 'Driving While Impaired': 1197, 'Checkpoint': 93})\n",
      "Averaged outcome difference 0.0433 with [0.0311, 0.0552] 95% confidence intervals\n",
      "\n",
      " ---------------------------------------------------------------------------\n",
      "\n",
      "DATASET : df_neworleans\n",
      "Counter({'TRAFFIC VIOLATION': 25977, 'CALL FOR SERVICE': 18271, 'SUSPECT PERSON': 12146, 'CRIMINAL VIOLATION': 10549, 'OTHER': 3706, 'CITIZEN CONTACT': 1698, 'FLAGGED DOWN': 1102, 'SUSPECT VEHICLE': 1001, 'JUVENILE VIOLATION': 436, 'PRESENT AT CRIME SCENE': 240})\n",
      "Averaged outcome difference -0.0715 with [-0.0780, -0.0651] 95% confidence intervals\n",
      "\n",
      " ---------------------------------------------------------------------------\n",
      "\n",
      "DATASET : df_sandiego\n",
      "Counter({'Equipment Violation': 6736, 'Moving Violation': 5910, 'Radio Call/Citizen Contact': 310, 'Personal Knowledge/Informant': 197, 'Suspect Info (I.S., Bulletin, Log)': 130, 'Muni, County, H&S Code': 120, 'Suspect Info': 7, 'Personal Observ/Knowledge': 7, '&Moving Violation': 5, 'Equipment Violation|Moving Violation': 5, nan: 4, 'UNI, &County, H&&S Code': 3, 'Moving Violation|Equipment Violation': 2, 'Other': 2, 'No Cause Specified on a Card': 2, 'Radio Call/Citizen Contact|Moving Violation': 1, 'Equipment Violation|Equipment Violation|Moving Violation': 1, '&Equipment Violation': 1, 'Moving Violation|Suspect Info (I.S., Bulletin, Log)': 1, 'MUNI, County, H&S Code': 1, 'Muni, County, H&S Code|Moving Violation': 1})\n",
      "Averaged outcome difference -0.1536 with [-0.1730, -0.1343] 95% confidence intervals\n",
      "\n",
      " ---------------------------------------------------------------------------\n",
      "\n",
      "DATASET : df_sanfrancisco\n",
      "Counter({'Moving Violation': 24584, 'Mechanical or Non-Moving Violation (V.C.)': 23510, 'BOLO/APB/Warrant': 579, 'MPC Violation': 358, 'Traffic Collision': 248, 'DUI Check': 183, 'Assistance to Motorist': 124, 'Moving Violation|Mechanical or Non-Moving Violation (V.C.)': 10, 'Moving Violation|DUI Check': 2, 'Mechanical or Non-Moving Violation (V.C.)|BOLO/APB/Warrant': 1})\n",
      "Averaged outcome difference -0.0007 with [-0.0140, 0.0128] 95% confidence intervals\n",
      "\n",
      " ---------------------------------------------------------------------------\n",
      "\n",
      "DATASET : df_nashville\n",
      "Counter({'moving traffic violation': 54808, 'vehicle equipment violation': 42376, 'investigative stop': 8602, 'registration': 7945, 'safety violation': 7098, 'seatbelt violation': 5232, 'parking violation': 301, 'child restraint': 49})\n",
      "Averaged outcome difference 0.0227 with [0.0172, 0.0285] 95% confidence intervals\n",
      "\n",
      " ---------------------------------------------------------------------------\n",
      "\n"
     ]
    }
   ],
   "source": [
    "for idx,df in enumerate(DF):\n",
    "    print('DATASET : '+str(name[idx]))\n",
    "    df = DF_handling(df)\n",
    "    \n",
    "    # Outcome value: arrest, citation = 1 and warning = 0\n",
    "    df['outcome'] = df.apply(lambda x: 1 if (x.arrest_made or x.citation_issued) else 0, axis=1)\n",
    "\n",
    "    # Possible reasons for stop\n",
    "    reason_stops = list(Counter(df['reason_for_stop']).keys())\n",
    "    print(Counter(df['reason_for_stop']))\n",
    "    \n",
    "    #debugging\n",
    "    if name[idx] == 'df_sandiego':\n",
    "        del reason_stops[13]\n",
    "        \n",
    "    matching = match_pair_stop(df, reason_stops)\n",
    "    \n",
    "    [AOD, diff] = AOD_stop(df, matching)\n",
    "    \n",
    "    CI = bootstrap_CI(diff, 1000)\n",
    "\n",
    "    print('Averaged outcome difference %.4f with [%.4f, %.4f] 95%% confidence intervals' %(AOD, CI[0], CI[1]))\n",
    "    \n",
    "    # Saving the results for New Orleans\n",
    "    if name[idx] == 'df_neworleans':\n",
    "        matching_newO = matching\n",
    "        AOD_newO = AOD\n",
    "        diff_newO = diff\n",
    "        CI_newO = CI\n",
    "        \n",
    "    print('\\n ---------------------------------------------------------------------------\\n')\n"
   ]
  },
  {
   "cell_type": "markdown",
   "metadata": {},
   "source": [
    "Example : New Orleans"
   ]
  },
  {
   "cell_type": "code",
   "execution_count": 96,
   "metadata": {},
   "outputs": [
    {
     "name": "stdout",
     "output_type": "stream",
     "text": [
      "AOD : -0.07148318042813456  with CI at 95% [-0.0779816513761468, -0.06513379204892966]\n"
     ]
    }
   ],
   "source": [
    "#From the stored data above\n",
    "print('AOD :',AOD_newO, ' with CI at 95%', CI_newO)\n",
    "\n",
    "[AOD_stopped__, diff__, ordered_reasons__] = reason_type_stop(df_neworleans, matching_newO)\n",
    "\n",
    "CI_newO = dict()\n",
    "for idx,d in enumerate(diff__.values()): \n",
    "    CI_newO[idx] = bootstrap_CI(d, 1000)"
   ]
  },
  {
   "cell_type": "code",
   "execution_count": 97,
   "metadata": {},
   "outputs": [
    {
     "name": "stdout",
     "output_type": "stream",
     "text": [
      "AOD for all 10 reasons for stop :\n",
      "          0\n",
      "0 -0.094762\n",
      "1 -0.218905\n",
      "2 -0.017391\n",
      "3 -0.028902\n",
      "4 -0.037736\n",
      "5 -0.081232\n",
      "6 -0.130435\n",
      "7 -0.138060\n",
      "8 -0.006369\n",
      "9 -0.049328\n",
      " with CI of \n",
      "          0         1\n",
      "0 -0.105817 -0.082653\n",
      "1 -0.288557 -0.149254\n",
      "2 -0.027329 -0.007422\n",
      "3 -0.092486  0.028902\n",
      "4 -0.075472  0.000000\n",
      "5 -0.109244 -0.053221\n",
      "6 -0.260870  0.021739\n",
      "7 -0.163433 -0.111940\n",
      "8 -0.082803  0.076433\n",
      "9 -0.059154 -0.040295\n",
      "The order of the reasons are :                         0\n",
      "0        CALL FOR SERVICE\n",
      "1         CITIZEN CONTACT\n",
      "2      CRIMINAL VIOLATION\n",
      "3            FLAGGED DOWN\n",
      "4      JUVENILE VIOLATION\n",
      "5                   OTHER\n",
      "6  PRESENT AT CRIME SCENE\n",
      "7          SUSPECT PERSON\n",
      "8         SUSPECT VEHICLE\n",
      "9       TRAFFIC VIOLATION\n"
     ]
    }
   ],
   "source": [
    "print('AOD for all %d reasons for stop :' %len(ordered_reasons__))\n",
    "print(str(pd.DataFrame(AOD_stopped__.values()))+'\\n with CI of \\n'+str(pd.DataFrame(CI_newO.values())))\n",
    "print('The order of the reasons are : '+str(pd.DataFrame(ordered_reasons__)))"
   ]
  },
  {
   "cell_type": "markdown",
   "metadata": {},
   "source": [
    "These results indicate some clear tendency for the officers to be biased in New Orleans, but this time the bias is inversed : women tend to be more severely punished. \n",
    "\n",
    "- 'CALL FOR SERVICE', 'CITIZEN CONTACT', 'CRIMINAL and TRAFFIC VIOLATION' and 'SUSPECT PERSON' are the reason for stop and consecutive potential violations that experience biased decisions towards the drivers."
   ]
  },
  {
   "cell_type": "markdown",
   "metadata": {},
   "source": [
    "## Case study : Gender disparities in Florida state policing "
   ]
  },
  {
   "cell_type": "markdown",
   "metadata": {},
   "source": [
    "This case study aims to dig into even more details concerning stop decisions. Indeed, up to now, it was not possible to assess the gender of the officers, as this feature is very rare in the available dataset : only 8 states or cities have this information, and most of the time it is not coupled with the other features required for our analysis, such as for example reason for stop. \n",
    "\n",
    "This third section hence assesses a potential bias in stop outcome decisions, influenced by the officer's gender. This further analysis is motivated by the fact that men and women officers could be influenced by the driver's gender in their decision to punish him/her. \n",
    "\n",
    "For this case study, Florida state is one of the very few showcasing all required features. The methodology resembles the one applied for previous section 2."
   ]
  },
  {
   "cell_type": "code",
   "execution_count": 15,
   "metadata": {},
   "outputs": [
    {
     "name": "stdout",
     "output_type": "stream",
     "text": [
      "Remember that :\n",
      "Male officers :3201883\n",
      "Female officers :252026\n",
      "Fraction of women officers stop record before filtering : 0.07871180802046795\n"
     ]
    }
   ],
   "source": [
    "# Formatting\n",
    "df_FL['id']=df_FL.index\n",
    "df_FL.drop(df_FL.columns.difference(['subject_age', 'subject_race', 'subject_sex', 'contraband_found', 'search_person', 'search_vehicle', 'reason_for_search', 'citation_issued','warning_issued','arrest_made', 'frisk_performed', 'reason_for_frisk', 'reason_for_stop', 'officer_sex', 'violation','attractiveness', 'id', 'result']), 1, inplace = True)\n",
    "\n",
    "\n",
    "print('Remember that :')                    \n",
    "print('Male officers :'+format(len(df_FL[df_FL['officer_sex']=='male'])))\n",
    "print('Female officers :'+format(len(df_FL[df_FL['officer_sex']=='female'])))\n",
    "print('Fraction of women officers stop record before filtering : '+str(len(df_FL[df_FL['officer_sex']=='female'])/len(df_FL[df_FL['officer_sex']=='male'])))"
   ]
  },
  {
   "cell_type": "markdown",
   "metadata": {},
   "source": [
    "This very low relative number of records for women officers compared to men is remarkable, yet not a problem for this study, as the datasets are still big. "
   ]
  },
  {
   "cell_type": "code",
   "execution_count": 5,
   "metadata": {},
   "outputs": [
    {
     "data": {
      "text/plain": [
       "[('SPEED', 1324271),\n",
       " ('SEATBELT (DRIVER)', 147232),\n",
       " ('SPEED|PROOF OF INSURANCE', 117248),\n",
       " ('VIOLATIONS OF TRAFFIC CONTROL DEVICE', 99263),\n",
       " ('FAULTY EQUIPMENT', 96718),\n",
       " ('CMV INSPECTION', 95419),\n",
       " ('OTHER MOVING VIOLATIONS', 70159),\n",
       " ('SPEED|FAULTY EQUIPMENT', 58354),\n",
       " ('SPEED|OTHER TAG / REGISTRATION VIOLATIONS', 52049),\n",
       " ('EXPIRED TAG (6 MONTHS OR LESS)', 45838)]"
      ]
     },
     "execution_count": 5,
     "metadata": {},
     "output_type": "execute_result"
    }
   ],
   "source": [
    "# Show the most represented reasons for stop\n",
    "sorted(Counter(df_FL.violation).items(), key=lambda x:x[1], reverse=True)[:10]"
   ]
  },
  {
   "cell_type": "code",
   "execution_count": 6,
   "metadata": {},
   "outputs": [],
   "source": [
    "# filtering out the incomplete rows\n",
    "df_FL.dropna(subset=['subject_age', 'subject_race', 'citation_issued', 'arrest_made', 'subject_sex', 'officer_sex', 'violation', 'reason_for_stop'], inplace=True)\n",
    "\n",
    "# Age categorie (proxy for attractiveness)\n",
    "df_FL['attractiveness'] = df_FL.apply(lambda x: True if (x.subject_age<46) else False, axis=1)\n",
    "\n",
    "# Outcome value: arrest, citation = 1 and warning = 0\n",
    "df_FL['result'] = df_FL.apply(lambda x: 1 if (x.arrest_made or x.citation_issued) else 0, axis=1)"
   ]
  },
  {
   "cell_type": "code",
   "execution_count": 8,
   "metadata": {},
   "outputs": [
    {
     "name": "stdout",
     "output_type": "stream",
     "text": [
      "# of possible reasons : 1775\n",
      "[('SPEED', 2044626), ('SEATBELT (DRIVER)', 280676), ('FAULTY EQUIPMENT', 171141), ('VIOLATIONS OF TRAFFIC CONTROL DEVICE', 148494), ('CMV INSPECTION', 134115), ('OTHER MOVING VIOLATIONS', 115056), ('EXPIRED TAG (- MONTHS OR LESS)', 90447), ('MOVE OVER LAW', 59723), ('WINDOW TINT', 55889), ('OTHER TAG / REGISTRATION VIOLATIONS', 53062), ('OTHER NON MOVING VIOLATIONS', 52691)]\n"
     ]
    },
    {
     "data": {
      "text/plain": [
       "0.9282004824099304"
      ]
     },
     "execution_count": 8,
     "metadata": {},
     "output_type": "execute_result"
    }
   ],
   "source": [
    "print('# of possible reasons : '+str(len(sorted(Counter(df_FL['reason_for_stop']).items(), key=lambda x:x[1], reverse=True))))\n",
    "print(sorted(Counter(df_FL['reason_for_stop']).items(), key=lambda x:x[1], reverse=True)[:11])\n",
    "\n",
    "# Chosen reason for stop\n",
    "reason_stops = dict(sorted(Counter(df_FL['reason_for_stop']).items(), key=lambda x:x[1], reverse=True)[:11]).keys()\n",
    "sum(sorted(Counter(df_FL['reason_for_stop']).values(), reverse=True)[:11])/df_FL.shape[0]"
   ]
  },
  {
   "cell_type": "markdown",
   "metadata": {},
   "source": [
    "We keep only those 11 first categories as they are the most representative reason for stop and cover 92% of all stops recorded in the filtered dataset df_FL. \n",
    "\n",
    "Now, the stops will be devided in 2 dataframes, for women and men officers respectively, in order to later analyse differences in outcome. "
   ]
  },
  {
   "cell_type": "code",
   "execution_count": 16,
   "metadata": {},
   "outputs": [],
   "source": [
    "grouped = dict(tuple(df_FL.groupby('officer_sex')))\n",
    "\n",
    "# Reducing these big datasets to speed up the process\n",
    "new_group_Woff = grouped['female'].sample(n=30000)\n",
    "new_group_Moff = grouped['male'].sample(n=30000)"
   ]
  },
  {
   "cell_type": "markdown",
   "metadata": {},
   "source": [
    "**Generic functions :**"
   ]
  },
  {
   "cell_type": "code",
   "execution_count": 17,
   "metadata": {},
   "outputs": [],
   "source": [
    "def matching_stop(df, reason_stops):\n",
    "    matching=pd.DataFrame({'men':[],'women':[]})\n",
    "    AOD = 0\n",
    "    # Match 1 woman and 1 man with same attributes\n",
    "    for reason in reason_stops:\n",
    "        for race in ('white','black','hispanic'):\n",
    "            for attractiveness in ('True', 'False'):\n",
    "                query = \"reason_for_stop=='\"+reason+\"' & subject_race=='\"+race+\"' & attractiveness==\"+attractiveness\n",
    "                data = df.query(query).copy()\n",
    "                id_M = np.array(data[data['subject_sex']=='male'].id)\n",
    "                id_W = np.array(data[data['subject_sex']=='female'].id)\n",
    "                if ((len(id_M)>0) & (len(id_W)>0)):\n",
    "                    if (len(id_M)>len(id_W)):\n",
    "                        for i in np.arange(0,len(id_W)):\n",
    "                            matching = matching.append({'men':id_M[i],'women':id_W[i]},ignore_index=True)\n",
    "                          \n",
    "                    if (len(id_M)<len(id_W)):\n",
    "                        for i in np.arange(0,len(id_M)):\n",
    "                            matching = matching.append({'men':id_M[i],'women':id_W[i]},ignore_index=True)\n",
    "                       \n",
    "    return matching   \n",
    "\n",
    "def AOD_stop(df, matching):\n",
    "    # Averaged outcome difference (AOD) in search decision s \n",
    "    N_matches = len(matching)\n",
    "    diff = np.zeros(N_matches)\n",
    "\n",
    "    for i in np.arange(0,N_matches):\n",
    "        s_man = int(np.array(df[df['id']==matching.loc[i,'men']].result))\n",
    "        s_woman = int(np.array(df[df['id']==matching.loc[i,'women']].result))\n",
    "        diff[i] = s_man-s_woman                    \n",
    "    AOD = diff.sum()/N_matches    \n",
    "    \n",
    "    return AOD, diff\n",
    "\n",
    "def bootstrap_CI(data, nbr_draws):\n",
    "    # Confidence interval\n",
    "    # Bootstrap CI function from exercise session 2\n",
    "    means = np.zeros(nbr_draws)\n",
    "    data = np.array(data)\n",
    "\n",
    "    for n in range(nbr_draws):\n",
    "        indices = np.random.randint(0, len(data), len(data))\n",
    "        data_tmp = data[indices] \n",
    "        means[n] = np.nanmean(data_tmp)\n",
    "\n",
    "    return [np.nanpercentile(means, 5),np.nanpercentile(means, 95)]"
   ]
  },
  {
   "cell_type": "markdown",
   "metadata": {},
   "source": [
    "Computation of average outcome difference for the female officers group, and the male officers group. "
   ]
  },
  {
   "cell_type": "code",
   "execution_count": 18,
   "metadata": {},
   "outputs": [],
   "source": [
    "matching_W = matching_stop(new_group_Woff, reason_stops)\n",
    "matching_M = matching_stop(new_group_Moff, reason_stops)"
   ]
  },
  {
   "cell_type": "code",
   "execution_count": 19,
   "metadata": {},
   "outputs": [
    {
     "name": "stdout",
     "output_type": "stream",
     "text": [
      "Averaged outcome difference -0.0043 with [-0.0137, 0.0046] 95% confidence intervals\n"
     ]
    }
   ],
   "source": [
    "#For women officer, matching1\n",
    "[AOD_w, diff_w] = AOD_stop(df_FL, matching_W)\n",
    "\n",
    "CI_w = bootstrap_CI(diff_w, 1000)\n",
    "\n",
    "print('Averaged outcome difference %.4f with [%.4f, %.4f] 95%% confidence intervals' %(AOD_w, CI_w[0], CI_w[1]))"
   ]
  },
  {
   "cell_type": "code",
   "execution_count": 20,
   "metadata": {},
   "outputs": [
    {
     "name": "stdout",
     "output_type": "stream",
     "text": [
      "Averaged outcome difference 0.0249 with [0.0149, 0.0342] 95% confidence intervals\n"
     ]
    }
   ],
   "source": [
    "#For men officer, matching2\n",
    "[AOD_m, diff_m] = AOD_stop(df_FL, matching_M)\n",
    "\n",
    "CI_m = bootstrap_CI(diff_m, 1000)\n",
    "\n",
    "print('Averaged outcome difference %.4f with [%.4f, %.4f] 95%% confidence intervals' %(AOD_m, CI_m[0], CI_m[1]))"
   ]
  },
  {
   "cell_type": "markdown",
   "metadata": {},
   "source": [
    "These results already provide some useful information. The AOD for the woman officers is near 0, and the confidence interval ranges from negative to positive values : at this point, it is not possible to determine whether woman officers take biased decisions. However, it seems different for men : their average outcome when deciding on the outcome of a stop seems to indicate that they tend to search men more than woman drivers, even if the age range, race, subjective indicator (reason for stop) are identical for them. \n",
    "\n",
    "Let's dig further, to determine if this seamingly biased behavior is linked to the type of reason for stop. This feature is chosen as it is the most likely to induce a bias, if any. It is important to look for the impact of grouping the matched pairs, as indeed, the AOD is matched over all matched pairs, hence some pairs could cancel eachother."
   ]
  },
  {
   "cell_type": "code",
   "execution_count": 23,
   "metadata": {},
   "outputs": [],
   "source": [
    "[AOD_stopped_W, diff_W, ordered_reasons_W] = reason_type_stop(df_FL, matching_W)\n",
    "[AOD_stopped_M, diff_M, ordered_reasons_M] = reason_type_stop(df_FL, matching_M)\n",
    "\n",
    "CI_W = dict()\n",
    "CI_M = dict()\n",
    "\n",
    "for idx,d in enumerate(diff_W.values()): \n",
    "    CI_W[idx] = bootstrap_CI(d, 1000)\n",
    "    \n",
    "\n",
    "for idx,d in enumerate(diff_M.values()): \n",
    "    CI_M[idx] = bootstrap_CI(d, 1000)"
   ]
  },
  {
   "cell_type": "code",
   "execution_count": 24,
   "metadata": {},
   "outputs": [
    {
     "name": "stdout",
     "output_type": "stream",
     "text": [
      "AOD for all 11 reasons for stop :\n",
      "           0\n",
      "0  -0.058824\n",
      "1  -0.007143\n",
      "2   0.071429\n",
      "3  -0.035354\n",
      "4   0.044226\n",
      "5   0.035211\n",
      "6   0.010989\n",
      "7   0.010702\n",
      "8  -0.016465\n",
      "9   0.006969\n",
      "10  0.000000\n",
      " with CI of \n",
      "           0         1\n",
      "0  -0.176471  0.000000\n",
      "1  -0.054762  0.035833\n",
      "2   0.016667  0.123810\n",
      "3  -0.095960  0.035354\n",
      "4  -0.004914  0.098280\n",
      "5  -0.049296  0.119718\n",
      "6  -0.120879  0.131868\n",
      "7  -0.008323  0.030916\n",
      "8  -0.027860 -0.003854\n",
      "9  -0.033101  0.045296\n",
      "10 -0.145455  0.145455\n",
      "The order of the reasons are :                                        0\n",
      "0                         CMV INSPECTION\n",
      "1         EXPIRED TAG (- MONTHS OR LESS)\n",
      "2                       FAULTY EQUIPMENT\n",
      "3                          MOVE OVER LAW\n",
      "4                OTHER MOVING VIOLATIONS\n",
      "5            OTHER NON MOVING VIOLATIONS\n",
      "6    OTHER TAG / REGISTRATION VIOLATIONS\n",
      "7                      SEATBELT (DRIVER)\n",
      "8                                  SPEED\n",
      "9   VIOLATIONS OF TRAFFIC CONTROL DEVICE\n",
      "10                           WINDOW TINT\n"
     ]
    }
   ],
   "source": [
    "print('AOD for all %d reasons for stop :' %len(ordered_reasons_W))\n",
    "print(str(pd.DataFrame(AOD_stopped_W.values()))+'\\n with CI of \\n'+str(pd.DataFrame(CI_W.values())))\n",
    "print('The order of the reasons are : '+str(pd.DataFrame(ordered_reasons_W)))"
   ]
  },
  {
   "cell_type": "code",
   "execution_count": 25,
   "metadata": {},
   "outputs": [
    {
     "name": "stdout",
     "output_type": "stream",
     "text": [
      "AOD for all 11 reasons for stop :\n",
      "           0\n",
      "0   0.000000\n",
      "1   0.076923\n",
      "2   0.084168\n",
      "3   0.021390\n",
      "4   0.049669\n",
      "5   0.040816\n",
      "6   0.149533\n",
      "7   0.039933\n",
      "8   0.010834\n",
      "9   0.074561\n",
      "10 -0.030488\n",
      " with CI of \n",
      "           0         1\n",
      "0   0.000000  0.000000\n",
      "1   0.018462  0.129231\n",
      "2   0.038076  0.134269\n",
      "3  -0.058824  0.101604\n",
      "4  -0.016556  0.115894\n",
      "5  -0.040816  0.132653\n",
      "6   0.037383  0.252336\n",
      "7   0.008319  0.069884\n",
      "8  -0.001703  0.023216\n",
      "9   0.026316  0.120724\n",
      "10 -0.128049  0.060976\n",
      "The order of the reasons are :                                        0\n",
      "0                         CMV INSPECTION\n",
      "1         EXPIRED TAG (- MONTHS OR LESS)\n",
      "2                       FAULTY EQUIPMENT\n",
      "3                          MOVE OVER LAW\n",
      "4                OTHER MOVING VIOLATIONS\n",
      "5            OTHER NON MOVING VIOLATIONS\n",
      "6    OTHER TAG / REGISTRATION VIOLATIONS\n",
      "7                      SEATBELT (DRIVER)\n",
      "8                                  SPEED\n",
      "9   VIOLATIONS OF TRAFFIC CONTROL DEVICE\n",
      "10                           WINDOW TINT\n"
     ]
    }
   ],
   "source": [
    "print('AOD for all %d reasons for stop :' %len(ordered_reasons_M))\n",
    "print(str(pd.DataFrame(AOD_stopped_M.values()))+'\\n with CI of \\n'+str(pd.DataFrame(CI_M.values())))\n",
    "print('The order of the reasons are : '+str(pd.DataFrame(ordered_reasons_M)))"
   ]
  },
  {
   "cell_type": "markdown",
   "metadata": {},
   "source": [
    "Several conclusions can be deduced from these confidence intervals, knowing to which reason for stop they correspond. \n",
    "\n",
    "- The reason to stop 'SPEED' has different results for men officers' group than for women officers' group : women are more coarse with female drivers, reprehending them more than male drivers, whereas men officers do not make a significant difference between them. The exact inverse conclusion can be drawn for the 'DRIVER'S SEATBELT' violation : men officers are more gentle with female drivers, whereas female officers do not make any difference. \n",
    "- Both men and women officers seem more gentle with female drivers that have faulty equipment.\n",
    "- Men officers seem particularly biased regarding 'OTHER TAG / REGISTRATION VIOLATIONS', 'EXPIRED TAG (- MONTHS OR LESS)' and 'VIOLATIONS OF TRAFFIC CONTROL DEVICE'  : the AOD is relatively high, hence men officers decide themselves for harder outcomes when facing a male driver. This is however not the case for female officers, acting equally on male and female drivers for these violation types. \n",
    "- Female officers seem biased for 'CMV' with female : they tend to let them get away less easily than men drivers."
   ]
  },
  {
   "cell_type": "markdown",
   "metadata": {},
   "source": [
    "To illustrate these statements, first, let's show the bar plot the general AOD of female and male officers."
   ]
  },
  {
   "cell_type": "code",
   "execution_count": 34,
   "metadata": {},
   "outputs": [
    {
     "data": {
      "application/vnd.plotly.v1+json": {
       "config": {
        "plotlyServerURL": "https://plot.ly"
       },
       "data": [
        {
         "base": 0,
         "error_x": {
          "array": [
           0.009345134665508247
          ],
          "arrayminus": [
           0.009996741963509989
          ],
          "color": "crimson",
          "symmetric": false,
          "type": "data"
         },
         "name": "Men officers",
         "orientation": "h",
         "type": "bar",
         "x": [
          0.02486967854039965
         ],
         "y": [
          ""
         ]
        },
        {
         "base": 0,
         "error_x": {
          "array": [
           0.008902411539328374
          ],
          "arrayminus": [
           0.009465855307640297
          ],
          "color": "crimson",
          "symmetric": false,
          "type": "data"
         },
         "name": "Women officers",
         "orientation": "h",
         "type": "bar",
         "x": [
          -0.00428217263917061
         ],
         "y": [
          ""
         ]
        }
       ],
       "layout": {
        "autosize": true,
        "template": {
         "data": {
          "bar": [
           {
            "error_x": {
             "color": "#2a3f5f"
            },
            "error_y": {
             "color": "#2a3f5f"
            },
            "marker": {
             "line": {
              "color": "#E5ECF6",
              "width": 0.5
             }
            },
            "type": "bar"
           }
          ],
          "barpolar": [
           {
            "marker": {
             "line": {
              "color": "#E5ECF6",
              "width": 0.5
             }
            },
            "type": "barpolar"
           }
          ],
          "carpet": [
           {
            "aaxis": {
             "endlinecolor": "#2a3f5f",
             "gridcolor": "white",
             "linecolor": "white",
             "minorgridcolor": "white",
             "startlinecolor": "#2a3f5f"
            },
            "baxis": {
             "endlinecolor": "#2a3f5f",
             "gridcolor": "white",
             "linecolor": "white",
             "minorgridcolor": "white",
             "startlinecolor": "#2a3f5f"
            },
            "type": "carpet"
           }
          ],
          "choropleth": [
           {
            "colorbar": {
             "outlinewidth": 0,
             "ticks": ""
            },
            "type": "choropleth"
           }
          ],
          "contour": [
           {
            "colorbar": {
             "outlinewidth": 0,
             "ticks": ""
            },
            "colorscale": [
             [
              0,
              "#0d0887"
             ],
             [
              0.1111111111111111,
              "#46039f"
             ],
             [
              0.2222222222222222,
              "#7201a8"
             ],
             [
              0.3333333333333333,
              "#9c179e"
             ],
             [
              0.4444444444444444,
              "#bd3786"
             ],
             [
              0.5555555555555556,
              "#d8576b"
             ],
             [
              0.6666666666666666,
              "#ed7953"
             ],
             [
              0.7777777777777778,
              "#fb9f3a"
             ],
             [
              0.8888888888888888,
              "#fdca26"
             ],
             [
              1,
              "#f0f921"
             ]
            ],
            "type": "contour"
           }
          ],
          "contourcarpet": [
           {
            "colorbar": {
             "outlinewidth": 0,
             "ticks": ""
            },
            "type": "contourcarpet"
           }
          ],
          "heatmap": [
           {
            "colorbar": {
             "outlinewidth": 0,
             "ticks": ""
            },
            "colorscale": [
             [
              0,
              "#0d0887"
             ],
             [
              0.1111111111111111,
              "#46039f"
             ],
             [
              0.2222222222222222,
              "#7201a8"
             ],
             [
              0.3333333333333333,
              "#9c179e"
             ],
             [
              0.4444444444444444,
              "#bd3786"
             ],
             [
              0.5555555555555556,
              "#d8576b"
             ],
             [
              0.6666666666666666,
              "#ed7953"
             ],
             [
              0.7777777777777778,
              "#fb9f3a"
             ],
             [
              0.8888888888888888,
              "#fdca26"
             ],
             [
              1,
              "#f0f921"
             ]
            ],
            "type": "heatmap"
           }
          ],
          "heatmapgl": [
           {
            "colorbar": {
             "outlinewidth": 0,
             "ticks": ""
            },
            "colorscale": [
             [
              0,
              "#0d0887"
             ],
             [
              0.1111111111111111,
              "#46039f"
             ],
             [
              0.2222222222222222,
              "#7201a8"
             ],
             [
              0.3333333333333333,
              "#9c179e"
             ],
             [
              0.4444444444444444,
              "#bd3786"
             ],
             [
              0.5555555555555556,
              "#d8576b"
             ],
             [
              0.6666666666666666,
              "#ed7953"
             ],
             [
              0.7777777777777778,
              "#fb9f3a"
             ],
             [
              0.8888888888888888,
              "#fdca26"
             ],
             [
              1,
              "#f0f921"
             ]
            ],
            "type": "heatmapgl"
           }
          ],
          "histogram": [
           {
            "marker": {
             "colorbar": {
              "outlinewidth": 0,
              "ticks": ""
             }
            },
            "type": "histogram"
           }
          ],
          "histogram2d": [
           {
            "colorbar": {
             "outlinewidth": 0,
             "ticks": ""
            },
            "colorscale": [
             [
              0,
              "#0d0887"
             ],
             [
              0.1111111111111111,
              "#46039f"
             ],
             [
              0.2222222222222222,
              "#7201a8"
             ],
             [
              0.3333333333333333,
              "#9c179e"
             ],
             [
              0.4444444444444444,
              "#bd3786"
             ],
             [
              0.5555555555555556,
              "#d8576b"
             ],
             [
              0.6666666666666666,
              "#ed7953"
             ],
             [
              0.7777777777777778,
              "#fb9f3a"
             ],
             [
              0.8888888888888888,
              "#fdca26"
             ],
             [
              1,
              "#f0f921"
             ]
            ],
            "type": "histogram2d"
           }
          ],
          "histogram2dcontour": [
           {
            "colorbar": {
             "outlinewidth": 0,
             "ticks": ""
            },
            "colorscale": [
             [
              0,
              "#0d0887"
             ],
             [
              0.1111111111111111,
              "#46039f"
             ],
             [
              0.2222222222222222,
              "#7201a8"
             ],
             [
              0.3333333333333333,
              "#9c179e"
             ],
             [
              0.4444444444444444,
              "#bd3786"
             ],
             [
              0.5555555555555556,
              "#d8576b"
             ],
             [
              0.6666666666666666,
              "#ed7953"
             ],
             [
              0.7777777777777778,
              "#fb9f3a"
             ],
             [
              0.8888888888888888,
              "#fdca26"
             ],
             [
              1,
              "#f0f921"
             ]
            ],
            "type": "histogram2dcontour"
           }
          ],
          "mesh3d": [
           {
            "colorbar": {
             "outlinewidth": 0,
             "ticks": ""
            },
            "type": "mesh3d"
           }
          ],
          "parcoords": [
           {
            "line": {
             "colorbar": {
              "outlinewidth": 0,
              "ticks": ""
             }
            },
            "type": "parcoords"
           }
          ],
          "pie": [
           {
            "automargin": true,
            "type": "pie"
           }
          ],
          "scatter": [
           {
            "marker": {
             "colorbar": {
              "outlinewidth": 0,
              "ticks": ""
             }
            },
            "type": "scatter"
           }
          ],
          "scatter3d": [
           {
            "line": {
             "colorbar": {
              "outlinewidth": 0,
              "ticks": ""
             }
            },
            "marker": {
             "colorbar": {
              "outlinewidth": 0,
              "ticks": ""
             }
            },
            "type": "scatter3d"
           }
          ],
          "scattercarpet": [
           {
            "marker": {
             "colorbar": {
              "outlinewidth": 0,
              "ticks": ""
             }
            },
            "type": "scattercarpet"
           }
          ],
          "scattergeo": [
           {
            "marker": {
             "colorbar": {
              "outlinewidth": 0,
              "ticks": ""
             }
            },
            "type": "scattergeo"
           }
          ],
          "scattergl": [
           {
            "marker": {
             "colorbar": {
              "outlinewidth": 0,
              "ticks": ""
             }
            },
            "type": "scattergl"
           }
          ],
          "scattermapbox": [
           {
            "marker": {
             "colorbar": {
              "outlinewidth": 0,
              "ticks": ""
             }
            },
            "type": "scattermapbox"
           }
          ],
          "scatterpolar": [
           {
            "marker": {
             "colorbar": {
              "outlinewidth": 0,
              "ticks": ""
             }
            },
            "type": "scatterpolar"
           }
          ],
          "scatterpolargl": [
           {
            "marker": {
             "colorbar": {
              "outlinewidth": 0,
              "ticks": ""
             }
            },
            "type": "scatterpolargl"
           }
          ],
          "scatterternary": [
           {
            "marker": {
             "colorbar": {
              "outlinewidth": 0,
              "ticks": ""
             }
            },
            "type": "scatterternary"
           }
          ],
          "surface": [
           {
            "colorbar": {
             "outlinewidth": 0,
             "ticks": ""
            },
            "colorscale": [
             [
              0,
              "#0d0887"
             ],
             [
              0.1111111111111111,
              "#46039f"
             ],
             [
              0.2222222222222222,
              "#7201a8"
             ],
             [
              0.3333333333333333,
              "#9c179e"
             ],
             [
              0.4444444444444444,
              "#bd3786"
             ],
             [
              0.5555555555555556,
              "#d8576b"
             ],
             [
              0.6666666666666666,
              "#ed7953"
             ],
             [
              0.7777777777777778,
              "#fb9f3a"
             ],
             [
              0.8888888888888888,
              "#fdca26"
             ],
             [
              1,
              "#f0f921"
             ]
            ],
            "type": "surface"
           }
          ],
          "table": [
           {
            "cells": {
             "fill": {
              "color": "#EBF0F8"
             },
             "line": {
              "color": "white"
             }
            },
            "header": {
             "fill": {
              "color": "#C8D4E3"
             },
             "line": {
              "color": "white"
             }
            },
            "type": "table"
           }
          ]
         },
         "layout": {
          "annotationdefaults": {
           "arrowcolor": "#2a3f5f",
           "arrowhead": 0,
           "arrowwidth": 1
          },
          "autotypenumbers": "strict",
          "coloraxis": {
           "colorbar": {
            "outlinewidth": 0,
            "ticks": ""
           }
          },
          "colorscale": {
           "diverging": [
            [
             0,
             "#8e0152"
            ],
            [
             0.1,
             "#c51b7d"
            ],
            [
             0.2,
             "#de77ae"
            ],
            [
             0.3,
             "#f1b6da"
            ],
            [
             0.4,
             "#fde0ef"
            ],
            [
             0.5,
             "#f7f7f7"
            ],
            [
             0.6,
             "#e6f5d0"
            ],
            [
             0.7,
             "#b8e186"
            ],
            [
             0.8,
             "#7fbc41"
            ],
            [
             0.9,
             "#4d9221"
            ],
            [
             1,
             "#276419"
            ]
           ],
           "sequential": [
            [
             0,
             "#0d0887"
            ],
            [
             0.1111111111111111,
             "#46039f"
            ],
            [
             0.2222222222222222,
             "#7201a8"
            ],
            [
             0.3333333333333333,
             "#9c179e"
            ],
            [
             0.4444444444444444,
             "#bd3786"
            ],
            [
             0.5555555555555556,
             "#d8576b"
            ],
            [
             0.6666666666666666,
             "#ed7953"
            ],
            [
             0.7777777777777778,
             "#fb9f3a"
            ],
            [
             0.8888888888888888,
             "#fdca26"
            ],
            [
             1,
             "#f0f921"
            ]
           ],
           "sequentialminus": [
            [
             0,
             "#0d0887"
            ],
            [
             0.1111111111111111,
             "#46039f"
            ],
            [
             0.2222222222222222,
             "#7201a8"
            ],
            [
             0.3333333333333333,
             "#9c179e"
            ],
            [
             0.4444444444444444,
             "#bd3786"
            ],
            [
             0.5555555555555556,
             "#d8576b"
            ],
            [
             0.6666666666666666,
             "#ed7953"
            ],
            [
             0.7777777777777778,
             "#fb9f3a"
            ],
            [
             0.8888888888888888,
             "#fdca26"
            ],
            [
             1,
             "#f0f921"
            ]
           ]
          },
          "colorway": [
           "#636efa",
           "#EF553B",
           "#00cc96",
           "#ab63fa",
           "#FFA15A",
           "#19d3f3",
           "#FF6692",
           "#B6E880",
           "#FF97FF",
           "#FECB52"
          ],
          "font": {
           "color": "#2a3f5f"
          },
          "geo": {
           "bgcolor": "white",
           "lakecolor": "white",
           "landcolor": "#E5ECF6",
           "showlakes": true,
           "showland": true,
           "subunitcolor": "white"
          },
          "hoverlabel": {
           "align": "left"
          },
          "hovermode": "closest",
          "mapbox": {
           "style": "light"
          },
          "paper_bgcolor": "white",
          "plot_bgcolor": "#E5ECF6",
          "polar": {
           "angularaxis": {
            "gridcolor": "white",
            "linecolor": "white",
            "ticks": ""
           },
           "bgcolor": "#E5ECF6",
           "radialaxis": {
            "gridcolor": "white",
            "linecolor": "white",
            "ticks": ""
           }
          },
          "scene": {
           "xaxis": {
            "backgroundcolor": "#E5ECF6",
            "gridcolor": "white",
            "gridwidth": 2,
            "linecolor": "white",
            "showbackground": true,
            "ticks": "",
            "zerolinecolor": "white"
           },
           "yaxis": {
            "backgroundcolor": "#E5ECF6",
            "gridcolor": "white",
            "gridwidth": 2,
            "linecolor": "white",
            "showbackground": true,
            "ticks": "",
            "zerolinecolor": "white"
           },
           "zaxis": {
            "backgroundcolor": "#E5ECF6",
            "gridcolor": "white",
            "gridwidth": 2,
            "linecolor": "white",
            "showbackground": true,
            "ticks": "",
            "zerolinecolor": "white"
           }
          },
          "shapedefaults": {
           "line": {
            "color": "#2a3f5f"
           }
          },
          "ternary": {
           "aaxis": {
            "gridcolor": "white",
            "linecolor": "white",
            "ticks": ""
           },
           "baxis": {
            "gridcolor": "white",
            "linecolor": "white",
            "ticks": ""
           },
           "bgcolor": "#E5ECF6",
           "caxis": {
            "gridcolor": "white",
            "linecolor": "white",
            "ticks": ""
           }
          },
          "title": {
           "x": 0.05
          },
          "xaxis": {
           "automargin": true,
           "gridcolor": "white",
           "linecolor": "white",
           "ticks": "",
           "title": {
            "standoff": 15
           },
           "zerolinecolor": "white",
           "zerolinewidth": 2
          },
          "yaxis": {
           "automargin": true,
           "gridcolor": "white",
           "linecolor": "white",
           "ticks": "",
           "title": {
            "standoff": 15
           },
           "zerolinecolor": "white",
           "zerolinewidth": 2
          }
         }
        },
        "xaxis": {
         "autorange": true,
         "range": [
          -0.016412630233073062,
          0.03687941549217005
         ],
         "title": {
          "text": "AOD"
         },
         "type": "linear"
        },
        "yaxis": {
         "autorange": true,
         "range": [
          -0.5,
          0.5
         ],
         "title": {
          "text": "Grouped following officers gender"
         },
         "type": "category"
        }
       }
      },
      "image/png": "[encoded data removed]",
      "text/html": [
       "<div>                            <div id=\"77f3c187-8dd2-487a-9666-5fa64f2f7559\" class=\"plotly-graph-div\" style=\"height:525px; width:100%;\"></div>            <script type=\"text/javascript\">                require([\"plotly\"], function(Plotly) {                    window.PLOTLYENV=window.PLOTLYENV || {};                                    if (document.getElementById(\"77f3c187-8dd2-487a-9666-5fa64f2f7559\")) {                    Plotly.newPlot(                        \"77f3c187-8dd2-487a-9666-5fa64f2f7559\",                        [{\"base\": 0, \"error_x\": {\"array\": [0.009345134665508247], \"arrayminus\": [0.009996741963509989], \"color\": \"crimson\", \"symmetric\": false, \"type\": \"data\"}, \"name\": \"Men officers\", \"orientation\": \"h\", \"type\": \"bar\", \"x\": [0.02486967854039965], \"y\": [\"\"]}, {\"base\": 0, \"error_x\": {\"array\": [0.008902411539328374], \"arrayminus\": [0.009465855307640297], \"color\": \"crimson\", \"symmetric\": false, \"type\": \"data\"}, \"name\": \"Women officers\", \"orientation\": \"h\", \"type\": \"bar\", \"x\": [-0.00428217263917061], \"y\": [\"\"]}],                        {\"template\": {\"data\": {\"bar\": [{\"error_x\": {\"color\": \"#2a3f5f\"}, \"error_y\": {\"color\": \"#2a3f5f\"}, \"marker\": {\"line\": {\"color\": \"#E5ECF6\", \"width\": 0.5}}, \"type\": \"bar\"}], \"barpolar\": [{\"marker\": {\"line\": {\"color\": \"#E5ECF6\", \"width\": 0.5}}, \"type\": \"barpolar\"}], \"carpet\": [{\"aaxis\": {\"endlinecolor\": \"#2a3f5f\", \"gridcolor\": \"white\", \"linecolor\": \"white\", \"minorgridcolor\": \"white\", \"startlinecolor\": \"#2a3f5f\"}, \"baxis\": {\"endlinecolor\": \"#2a3f5f\", \"gridcolor\": \"white\", \"linecolor\": \"white\", \"minorgridcolor\": \"white\", \"startlinecolor\": \"#2a3f5f\"}, \"type\": \"carpet\"}], \"choropleth\": [{\"colorbar\": {\"outlinewidth\": 0, \"ticks\": \"\"}, \"type\": \"choropleth\"}], \"contour\": [{\"colorbar\": {\"outlinewidth\": 0, \"ticks\": \"\"}, \"colorscale\": [[0.0, \"#0d0887\"], [0.1111111111111111, \"#46039f\"], [0.2222222222222222, \"#7201a8\"], [0.3333333333333333, \"#9c179e\"], [0.4444444444444444, \"#bd3786\"], [0.5555555555555556, \"#d8576b\"], [0.6666666666666666, \"#ed7953\"], [0.7777777777777778, \"#fb9f3a\"], [0.8888888888888888, \"#fdca26\"], [1.0, \"#f0f921\"]], \"type\": \"contour\"}], \"contourcarpet\": [{\"colorbar\": {\"outlinewidth\": 0, \"ticks\": \"\"}, \"type\": \"contourcarpet\"}], \"heatmap\": [{\"colorbar\": {\"outlinewidth\": 0, \"ticks\": \"\"}, \"colorscale\": [[0.0, \"#0d0887\"], [0.1111111111111111, \"#46039f\"], [0.2222222222222222, \"#7201a8\"], [0.3333333333333333, \"#9c179e\"], [0.4444444444444444, \"#bd3786\"], [0.5555555555555556, \"#d8576b\"], [0.6666666666666666, \"#ed7953\"], [0.7777777777777778, \"#fb9f3a\"], [0.8888888888888888, \"#fdca26\"], [1.0, \"#f0f921\"]], \"type\": \"heatmap\"}], \"heatmapgl\": [{\"colorbar\": {\"outlinewidth\": 0, \"ticks\": \"\"}, \"colorscale\": [[0.0, \"#0d0887\"], [0.1111111111111111, \"#46039f\"], [0.2222222222222222, \"#7201a8\"], [0.3333333333333333, \"#9c179e\"], [0.4444444444444444, \"#bd3786\"], [0.5555555555555556, \"#d8576b\"], [0.6666666666666666, \"#ed7953\"], [0.7777777777777778, \"#fb9f3a\"], [0.8888888888888888, \"#fdca26\"], [1.0, \"#f0f921\"]], \"type\": \"heatmapgl\"}], \"histogram\": [{\"marker\": {\"colorbar\": {\"outlinewidth\": 0, \"ticks\": \"\"}}, \"type\": \"histogram\"}], \"histogram2d\": [{\"colorbar\": {\"outlinewidth\": 0, \"ticks\": \"\"}, \"colorscale\": [[0.0, \"#0d0887\"], [0.1111111111111111, \"#46039f\"], [0.2222222222222222, \"#7201a8\"], [0.3333333333333333, \"#9c179e\"], [0.4444444444444444, \"#bd3786\"], [0.5555555555555556, \"#d8576b\"], [0.6666666666666666, \"#ed7953\"], [0.7777777777777778, \"#fb9f3a\"], [0.8888888888888888, \"#fdca26\"], [1.0, \"#f0f921\"]], \"type\": \"histogram2d\"}], \"histogram2dcontour\": [{\"colorbar\": {\"outlinewidth\": 0, \"ticks\": \"\"}, \"colorscale\": [[0.0, \"#0d0887\"], [0.1111111111111111, \"#46039f\"], [0.2222222222222222, \"#7201a8\"], [0.3333333333333333, \"#9c179e\"], [0.4444444444444444, \"#bd3786\"], [0.5555555555555556, \"#d8576b\"], [0.6666666666666666, \"#ed7953\"], [0.7777777777777778, \"#fb9f3a\"], [0.8888888888888888, \"#fdca26\"], [1.0, \"#f0f921\"]], \"type\": \"histogram2dcontour\"}], \"mesh3d\": [{\"colorbar\": {\"outlinewidth\": 0, \"ticks\": \"\"}, \"type\": \"mesh3d\"}], \"parcoords\": [{\"line\": {\"colorbar\": {\"outlinewidth\": 0, \"ticks\": \"\"}}, \"type\": \"parcoords\"}], \"pie\": [{\"automargin\": true, \"type\": \"pie\"}], \"scatter\": [{\"marker\": {\"colorbar\": {\"outlinewidth\": 0, \"ticks\": \"\"}}, \"type\": \"scatter\"}], \"scatter3d\": [{\"line\": {\"colorbar\": {\"outlinewidth\": 0, \"ticks\": \"\"}}, \"marker\": {\"colorbar\": {\"outlinewidth\": 0, \"ticks\": \"\"}}, \"type\": \"scatter3d\"}], \"scattercarpet\": [{\"marker\": {\"colorbar\": {\"outlinewidth\": 0, \"ticks\": \"\"}}, \"type\": \"scattercarpet\"}], \"scattergeo\": [{\"marker\": {\"colorbar\": {\"outlinewidth\": 0, \"ticks\": \"\"}}, \"type\": \"scattergeo\"}], \"scattergl\": [{\"marker\": {\"colorbar\": {\"outlinewidth\": 0, \"ticks\": \"\"}}, \"type\": \"scattergl\"}], \"scattermapbox\": [{\"marker\": {\"colorbar\": {\"outlinewidth\": 0, \"ticks\": \"\"}}, \"type\": \"scattermapbox\"}], \"scatterpolar\": [{\"marker\": {\"colorbar\": {\"outlinewidth\": 0, \"ticks\": \"\"}}, \"type\": \"scatterpolar\"}], \"scatterpolargl\": [{\"marker\": {\"colorbar\": {\"outlinewidth\": 0, \"ticks\": \"\"}}, \"type\": \"scatterpolargl\"}], \"scatterternary\": [{\"marker\": {\"colorbar\": {\"outlinewidth\": 0, \"ticks\": \"\"}}, \"type\": \"scatterternary\"}], \"surface\": [{\"colorbar\": {\"outlinewidth\": 0, \"ticks\": \"\"}, \"colorscale\": [[0.0, \"#0d0887\"], [0.1111111111111111, \"#46039f\"], [0.2222222222222222, \"#7201a8\"], [0.3333333333333333, \"#9c179e\"], [0.4444444444444444, \"#bd3786\"], [0.5555555555555556, \"#d8576b\"], [0.6666666666666666, \"#ed7953\"], [0.7777777777777778, \"#fb9f3a\"], [0.8888888888888888, \"#fdca26\"], [1.0, \"#f0f921\"]], \"type\": \"surface\"}], \"table\": [{\"cells\": {\"fill\": {\"color\": \"#EBF0F8\"}, \"line\": {\"color\": \"white\"}}, \"header\": {\"fill\": {\"color\": \"#C8D4E3\"}, \"line\": {\"color\": \"white\"}}, \"type\": \"table\"}]}, \"layout\": {\"annotationdefaults\": {\"arrowcolor\": \"#2a3f5f\", \"arrowhead\": 0, \"arrowwidth\": 1}, \"autotypenumbers\": \"strict\", \"coloraxis\": {\"colorbar\": {\"outlinewidth\": 0, \"ticks\": \"\"}}, \"colorscale\": {\"diverging\": [[0, \"#8e0152\"], [0.1, \"#c51b7d\"], [0.2, \"#de77ae\"], [0.3, \"#f1b6da\"], [0.4, \"#fde0ef\"], [0.5, \"#f7f7f7\"], [0.6, \"#e6f5d0\"], [0.7, \"#b8e186\"], [0.8, \"#7fbc41\"], [0.9, \"#4d9221\"], [1, \"#276419\"]], \"sequential\": [[0.0, \"#0d0887\"], [0.1111111111111111, \"#46039f\"], [0.2222222222222222, \"#7201a8\"], [0.3333333333333333, \"#9c179e\"], [0.4444444444444444, \"#bd3786\"], [0.5555555555555556, \"#d8576b\"], [0.6666666666666666, \"#ed7953\"], [0.7777777777777778, \"#fb9f3a\"], [0.8888888888888888, \"#fdca26\"], [1.0, \"#f0f921\"]], \"sequentialminus\": [[0.0, \"#0d0887\"], [0.1111111111111111, \"#46039f\"], [0.2222222222222222, \"#7201a8\"], [0.3333333333333333, \"#9c179e\"], [0.4444444444444444, \"#bd3786\"], [0.5555555555555556, \"#d8576b\"], [0.6666666666666666, \"#ed7953\"], [0.7777777777777778, \"#fb9f3a\"], [0.8888888888888888, \"#fdca26\"], [1.0, \"#f0f921\"]]}, \"colorway\": [\"#636efa\", \"#EF553B\", \"#00cc96\", \"#ab63fa\", \"#FFA15A\", \"#19d3f3\", \"#FF6692\", \"#B6E880\", \"#FF97FF\", \"#FECB52\"], \"font\": {\"color\": \"#2a3f5f\"}, \"geo\": {\"bgcolor\": \"white\", \"lakecolor\": \"white\", \"landcolor\": \"#E5ECF6\", \"showlakes\": true, \"showland\": true, \"subunitcolor\": \"white\"}, \"hoverlabel\": {\"align\": \"left\"}, \"hovermode\": \"closest\", \"mapbox\": {\"style\": \"light\"}, \"paper_bgcolor\": \"white\", \"plot_bgcolor\": \"#E5ECF6\", \"polar\": {\"angularaxis\": {\"gridcolor\": \"white\", \"linecolor\": \"white\", \"ticks\": \"\"}, \"bgcolor\": \"#E5ECF6\", \"radialaxis\": {\"gridcolor\": \"white\", \"linecolor\": \"white\", \"ticks\": \"\"}}, \"scene\": {\"xaxis\": {\"backgroundcolor\": \"#E5ECF6\", \"gridcolor\": \"white\", \"gridwidth\": 2, \"linecolor\": \"white\", \"showbackground\": true, \"ticks\": \"\", \"zerolinecolor\": \"white\"}, \"yaxis\": {\"backgroundcolor\": \"#E5ECF6\", \"gridcolor\": \"white\", \"gridwidth\": 2, \"linecolor\": \"white\", \"showbackground\": true, \"ticks\": \"\", \"zerolinecolor\": \"white\"}, \"zaxis\": {\"backgroundcolor\": \"#E5ECF6\", \"gridcolor\": \"white\", \"gridwidth\": 2, \"linecolor\": \"white\", \"showbackground\": true, \"ticks\": \"\", \"zerolinecolor\": \"white\"}}, \"shapedefaults\": {\"line\": {\"color\": \"#2a3f5f\"}}, \"ternary\": {\"aaxis\": {\"gridcolor\": \"white\", \"linecolor\": \"white\", \"ticks\": \"\"}, \"baxis\": {\"gridcolor\": \"white\", \"linecolor\": \"white\", \"ticks\": \"\"}, \"bgcolor\": \"#E5ECF6\", \"caxis\": {\"gridcolor\": \"white\", \"linecolor\": \"white\", \"ticks\": \"\"}}, \"title\": {\"x\": 0.05}, \"xaxis\": {\"automargin\": true, \"gridcolor\": \"white\", \"linecolor\": \"white\", \"ticks\": \"\", \"title\": {\"standoff\": 15}, \"zerolinecolor\": \"white\", \"zerolinewidth\": 2}, \"yaxis\": {\"automargin\": true, \"gridcolor\": \"white\", \"linecolor\": \"white\", \"ticks\": \"\", \"title\": {\"standoff\": 15}, \"zerolinecolor\": \"white\", \"zerolinewidth\": 2}}}, \"xaxis\": {\"title\": {\"text\": \"AOD\"}}, \"yaxis\": {\"title\": {\"text\": \"Grouped following officers gender\"}}},                        {\"responsive\": true}                    ).then(function(){\n",
       "                            \n",
       "var gd = document.getElementById('77f3c187-8dd2-487a-9666-5fa64f2f7559');\n",
       "var x = new MutationObserver(function (mutations, observer) {{\n",
       "        var display = window.getComputedStyle(gd).display;\n",
       "        if (!display || display === 'none') {{\n",
       "            console.log([gd, 'removed!']);\n",
       "            Plotly.purge(gd);\n",
       "            observer.disconnect();\n",
       "        }}\n",
       "}});\n",
       "\n",
       "// Listen for the removal of the full notebook cells\n",
       "var notebookContainer = gd.closest('#notebook-container');\n",
       "if (notebookContainer) {{\n",
       "    x.observe(notebookContainer, {childList: true});\n",
       "}}\n",
       "\n",
       "// Listen for the clearing of the current output cell\n",
       "var outputEl = gd.closest('.output');\n",
       "if (outputEl) {{\n",
       "    x.observe(outputEl, {childList: true});\n",
       "}}\n",
       "\n",
       "                        })                };                });            </script>        </div>"
      ]
     },
     "metadata": {},
     "output_type": "display_data"
    }
   ],
   "source": [
    "fig = go.Figure()\n",
    "fig.add_trace(dict(type='bar', y=[''], x=[AOD_m],\n",
    "                base=0, error_x= dict(type='data',symmetric=False, array=[abs(AOD_m-CI_m[1])],arrayminus=[AOD_m-CI_m[0]],color=\"crimson\"),\n",
    "                #marker_color='crimson',\n",
    "                orientation='h',name='Men officers'))\n",
    "fig.add_trace(dict(type='bar',y=[''], x=[AOD_w],\n",
    "                base=0, error_x= dict(type='data',symmetric=False, array=[abs(AOD_w-CI_w[1])],arrayminus=[AOD_w-CI_w[0]],color=\"crimson\"),\n",
    "                #marker_color='crimson',\n",
    "                orientation='h',name='Women officers'))\n",
    "\n",
    "\n",
    "fig.update_xaxes(title_text='AOD')\n",
    "fig.update_yaxes(title_text='Grouped following officers gender')\n",
    "\n",
    "\n",
    "#fig.update_layout(\n",
    "#        font = dict(size=18, family='Courier', color=\"#F5F5F5\"),\n",
    "#        paper_bgcolor='rgba(0,0,0,0)',\n",
    "#        plot_bgcolor='rgba(0,0,0,0)',\n",
    "#        autosize=True,\n",
    "#        title={\n",
    "#        'text': \"Overall AOD for male and female officers\",\n",
    "#        'y':0.9,\n",
    "#        'x':0.5,\n",
    "#        'xanchor': 'center',\n",
    "#        'yanchor': 'top',\n",
    "#        \"font\" : dict(size=25, color=\"#F5F5F5\")},\n",
    "#        dragmode = False,\n",
    "#    )\n",
    "\n",
    "\n",
    "fig.show()\n",
    "#pio.write_html(fig, file='MW_gen_AOD_off.html', auto_open=False)"
   ]
  },
  {
   "cell_type": "markdown",
   "metadata": {},
   "source": [
    "Then, visualize more in depth for each type of reason."
   ]
  },
  {
   "cell_type": "code",
   "execution_count": 27,
   "metadata": {},
   "outputs": [],
   "source": [
    "# Compute the difference between the AOD and the upper and lower bound \n",
    "up_M = abs(list(AOD_stopped_M.values())-pd.DataFrame(CI_M.values())[1])\n",
    "down_M = list(AOD_stopped_M.values())-pd.DataFrame(CI_M.values())[0]\n",
    "\n",
    "up_W = abs(list(AOD_stopped_W.values())-pd.DataFrame(CI_W.values())[1])\n",
    "down_W = list(AOD_stopped_W.values())-pd.DataFrame(CI_W.values())[0]"
   ]
  },
  {
   "cell_type": "code",
   "execution_count": 33,
   "metadata": {},
   "outputs": [
    {
     "data": {
      "application/vnd.plotly.v1+json": {
       "config": {
        "plotlyServerURL": "https://plot.ly"
       },
       "data": [
        {
         "base": 0,
         "error_y": {
          "array": [
           0,
           0.052307692307692305,
           0.0501002004008016,
           0.08021390374331551,
           0.06622516556291391,
           0.09183673469387757,
           0.10280373831775699,
           0.029950083194675535,
           0.012381984212970128,
           0.046162280701754294,
           0.09146341463414634
          ],
          "arrayminus": [
           0,
           0.05846153846153847,
           0.04609218436873747,
           0.08021390374331551,
           0.06622516556291391,
           0.08163265306122448,
           0.11214953271028036,
           0.03161397670549085,
           0.012536759015632256,
           0.04824561403508772,
           0.0975609756097561
          ],
          "color": "crimson",
          "symmetric": false,
          "type": "data"
         },
         "name": "Men officers",
         "type": "bar",
         "x": [
          "CMV INSPECTION",
          "EXPIRED TAG (- MONTHS OR LESS)",
          "FAULTY EQUIPMENT",
          "MOVE OVER LAW",
          "OTHER MOVING VIOLATIONS",
          "OTHER NON MOVING VIOLATIONS",
          "OTHER TAG / REGISTRATION VIOLATIONS",
          "SEATBELT (DRIVER)",
          "SPEED",
          "VIOLATIONS OF TRAFFIC CONTROL DEVICE",
          "WINDOW TINT"
         ],
         "y": [
          0,
          0.07692307692307693,
          0.0841683366733467,
          0.0213903743315508,
          0.04966887417218543,
          0.04081632653061224,
          0.14953271028037382,
          0.03993344425956739,
          0.010834236186348862,
          0.07456140350877193,
          -0.03048780487804878
         ]
        },
        {
         "base": 0,
         "error_y": {
          "array": [
           0.058823529411764705,
           0.04297619047619037,
           0.05238095238095239,
           0.0707070707070707,
           0.05405405405405405,
           0.08450704225352113,
           0.12087912087912088,
           0.020214030915576692,
           0.012611665790856541,
           0.038327526132404185,
           0.14545454545454545
          ],
          "arrayminus": [
           0.11764705882352942,
           0.047619047619047616,
           0.05476190476190476,
           0.0606060606060606,
           0.04914004914004914,
           0.08450704225352113,
           0.13186813186813187,
           0.019024970273483946,
           0.011394289717989139,
           0.04006968641114982,
           0.14545454545454545
          ],
          "color": "crimson",
          "symmetric": false,
          "type": "data"
         },
         "name": "Women officers",
         "type": "bar",
         "x": [
          "CMV INSPECTION",
          "EXPIRED TAG (- MONTHS OR LESS)",
          "FAULTY EQUIPMENT",
          "MOVE OVER LAW",
          "OTHER MOVING VIOLATIONS",
          "OTHER NON MOVING VIOLATIONS",
          "OTHER TAG / REGISTRATION VIOLATIONS",
          "SEATBELT (DRIVER)",
          "SPEED",
          "VIOLATIONS OF TRAFFIC CONTROL DEVICE",
          "WINDOW TINT"
         ],
         "y": [
          -0.058823529411764705,
          -0.007142857142857143,
          0.07142857142857142,
          -0.03535353535353535,
          0.044226044226044224,
          0.035211267605633804,
          0.01098901098901099,
          0.01070154577883472,
          -0.016465230338062707,
          0.006968641114982578,
          0
         ]
        }
       ],
       "layout": {
        "autosize": true,
        "template": {
         "data": {
          "bar": [
           {
            "error_x": {
             "color": "#2a3f5f"
            },
            "error_y": {
             "color": "#2a3f5f"
            },
            "marker": {
             "line": {
              "color": "#E5ECF6",
              "width": 0.5
             }
            },
            "type": "bar"
           }
          ],
          "barpolar": [
           {
            "marker": {
             "line": {
              "color": "#E5ECF6",
              "width": 0.5
             }
            },
            "type": "barpolar"
           }
          ],
          "carpet": [
           {
            "aaxis": {
             "endlinecolor": "#2a3f5f",
             "gridcolor": "white",
             "linecolor": "white",
             "minorgridcolor": "white",
             "startlinecolor": "#2a3f5f"
            },
            "baxis": {
             "endlinecolor": "#2a3f5f",
             "gridcolor": "white",
             "linecolor": "white",
             "minorgridcolor": "white",
             "startlinecolor": "#2a3f5f"
            },
            "type": "carpet"
           }
          ],
          "choropleth": [
           {
            "colorbar": {
             "outlinewidth": 0,
             "ticks": ""
            },
            "type": "choropleth"
           }
          ],
          "contour": [
           {
            "colorbar": {
             "outlinewidth": 0,
             "ticks": ""
            },
            "colorscale": [
             [
              0,
              "#0d0887"
             ],
             [
              0.1111111111111111,
              "#46039f"
             ],
             [
              0.2222222222222222,
              "#7201a8"
             ],
             [
              0.3333333333333333,
              "#9c179e"
             ],
             [
              0.4444444444444444,
              "#bd3786"
             ],
             [
              0.5555555555555556,
              "#d8576b"
             ],
             [
              0.6666666666666666,
              "#ed7953"
             ],
             [
              0.7777777777777778,
              "#fb9f3a"
             ],
             [
              0.8888888888888888,
              "#fdca26"
             ],
             [
              1,
              "#f0f921"
             ]
            ],
            "type": "contour"
           }
          ],
          "contourcarpet": [
           {
            "colorbar": {
             "outlinewidth": 0,
             "ticks": ""
            },
            "type": "contourcarpet"
           }
          ],
          "heatmap": [
           {
            "colorbar": {
             "outlinewidth": 0,
             "ticks": ""
            },
            "colorscale": [
             [
              0,
              "#0d0887"
             ],
             [
              0.1111111111111111,
              "#46039f"
             ],
             [
              0.2222222222222222,
              "#7201a8"
             ],
             [
              0.3333333333333333,
              "#9c179e"
             ],
             [
              0.4444444444444444,
              "#bd3786"
             ],
             [
              0.5555555555555556,
              "#d8576b"
             ],
             [
              0.6666666666666666,
              "#ed7953"
             ],
             [
              0.7777777777777778,
              "#fb9f3a"
             ],
             [
              0.8888888888888888,
              "#fdca26"
             ],
             [
              1,
              "#f0f921"
             ]
            ],
            "type": "heatmap"
           }
          ],
          "heatmapgl": [
           {
            "colorbar": {
             "outlinewidth": 0,
             "ticks": ""
            },
            "colorscale": [
             [
              0,
              "#0d0887"
             ],
             [
              0.1111111111111111,
              "#46039f"
             ],
             [
              0.2222222222222222,
              "#7201a8"
             ],
             [
              0.3333333333333333,
              "#9c179e"
             ],
             [
              0.4444444444444444,
              "#bd3786"
             ],
             [
              0.5555555555555556,
              "#d8576b"
             ],
             [
              0.6666666666666666,
              "#ed7953"
             ],
             [
              0.7777777777777778,
              "#fb9f3a"
             ],
             [
              0.8888888888888888,
              "#fdca26"
             ],
             [
              1,
              "#f0f921"
             ]
            ],
            "type": "heatmapgl"
           }
          ],
          "histogram": [
           {
            "marker": {
             "colorbar": {
              "outlinewidth": 0,
              "ticks": ""
             }
            },
            "type": "histogram"
           }
          ],
          "histogram2d": [
           {
            "colorbar": {
             "outlinewidth": 0,
             "ticks": ""
            },
            "colorscale": [
             [
              0,
              "#0d0887"
             ],
             [
              0.1111111111111111,
              "#46039f"
             ],
             [
              0.2222222222222222,
              "#7201a8"
             ],
             [
              0.3333333333333333,
              "#9c179e"
             ],
             [
              0.4444444444444444,
              "#bd3786"
             ],
             [
              0.5555555555555556,
              "#d8576b"
             ],
             [
              0.6666666666666666,
              "#ed7953"
             ],
             [
              0.7777777777777778,
              "#fb9f3a"
             ],
             [
              0.8888888888888888,
              "#fdca26"
             ],
             [
              1,
              "#f0f921"
             ]
            ],
            "type": "histogram2d"
           }
          ],
          "histogram2dcontour": [
           {
            "colorbar": {
             "outlinewidth": 0,
             "ticks": ""
            },
            "colorscale": [
             [
              0,
              "#0d0887"
             ],
             [
              0.1111111111111111,
              "#46039f"
             ],
             [
              0.2222222222222222,
              "#7201a8"
             ],
             [
              0.3333333333333333,
              "#9c179e"
             ],
             [
              0.4444444444444444,
              "#bd3786"
             ],
             [
              0.5555555555555556,
              "#d8576b"
             ],
             [
              0.6666666666666666,
              "#ed7953"
             ],
             [
              0.7777777777777778,
              "#fb9f3a"
             ],
             [
              0.8888888888888888,
              "#fdca26"
             ],
             [
              1,
              "#f0f921"
             ]
            ],
            "type": "histogram2dcontour"
           }
          ],
          "mesh3d": [
           {
            "colorbar": {
             "outlinewidth": 0,
             "ticks": ""
            },
            "type": "mesh3d"
           }
          ],
          "parcoords": [
           {
            "line": {
             "colorbar": {
              "outlinewidth": 0,
              "ticks": ""
             }
            },
            "type": "parcoords"
           }
          ],
          "pie": [
           {
            "automargin": true,
            "type": "pie"
           }
          ],
          "scatter": [
           {
            "marker": {
             "colorbar": {
              "outlinewidth": 0,
              "ticks": ""
             }
            },
            "type": "scatter"
           }
          ],
          "scatter3d": [
           {
            "line": {
             "colorbar": {
              "outlinewidth": 0,
              "ticks": ""
             }
            },
            "marker": {
             "colorbar": {
              "outlinewidth": 0,
              "ticks": ""
             }
            },
            "type": "scatter3d"
           }
          ],
          "scattercarpet": [
           {
            "marker": {
             "colorbar": {
              "outlinewidth": 0,
              "ticks": ""
             }
            },
            "type": "scattercarpet"
           }
          ],
          "scattergeo": [
           {
            "marker": {
             "colorbar": {
              "outlinewidth": 0,
              "ticks": ""
             }
            },
            "type": "scattergeo"
           }
          ],
          "scattergl": [
           {
            "marker": {
             "colorbar": {
              "outlinewidth": 0,
              "ticks": ""
             }
            },
            "type": "scattergl"
           }
          ],
          "scattermapbox": [
           {
            "marker": {
             "colorbar": {
              "outlinewidth": 0,
              "ticks": ""
             }
            },
            "type": "scattermapbox"
           }
          ],
          "scatterpolar": [
           {
            "marker": {
             "colorbar": {
              "outlinewidth": 0,
              "ticks": ""
             }
            },
            "type": "scatterpolar"
           }
          ],
          "scatterpolargl": [
           {
            "marker": {
             "colorbar": {
              "outlinewidth": 0,
              "ticks": ""
             }
            },
            "type": "scatterpolargl"
           }
          ],
          "scatterternary": [
           {
            "marker": {
             "colorbar": {
              "outlinewidth": 0,
              "ticks": ""
             }
            },
            "type": "scatterternary"
           }
          ],
          "surface": [
           {
            "colorbar": {
             "outlinewidth": 0,
             "ticks": ""
            },
            "colorscale": [
             [
              0,
              "#0d0887"
             ],
             [
              0.1111111111111111,
              "#46039f"
             ],
             [
              0.2222222222222222,
              "#7201a8"
             ],
             [
              0.3333333333333333,
              "#9c179e"
             ],
             [
              0.4444444444444444,
              "#bd3786"
             ],
             [
              0.5555555555555556,
              "#d8576b"
             ],
             [
              0.6666666666666666,
              "#ed7953"
             ],
             [
              0.7777777777777778,
              "#fb9f3a"
             ],
             [
              0.8888888888888888,
              "#fdca26"
             ],
             [
              1,
              "#f0f921"
             ]
            ],
            "type": "surface"
           }
          ],
          "table": [
           {
            "cells": {
             "fill": {
              "color": "#EBF0F8"
             },
             "line": {
              "color": "white"
             }
            },
            "header": {
             "fill": {
              "color": "#C8D4E3"
             },
             "line": {
              "color": "white"
             }
            },
            "type": "table"
           }
          ]
         },
         "layout": {
          "annotationdefaults": {
           "arrowcolor": "#2a3f5f",
           "arrowhead": 0,
           "arrowwidth": 1
          },
          "autotypenumbers": "strict",
          "coloraxis": {
           "colorbar": {
            "outlinewidth": 0,
            "ticks": ""
           }
          },
          "colorscale": {
           "diverging": [
            [
             0,
             "#8e0152"
            ],
            [
             0.1,
             "#c51b7d"
            ],
            [
             0.2,
             "#de77ae"
            ],
            [
             0.3,
             "#f1b6da"
            ],
            [
             0.4,
             "#fde0ef"
            ],
            [
             0.5,
             "#f7f7f7"
            ],
            [
             0.6,
             "#e6f5d0"
            ],
            [
             0.7,
             "#b8e186"
            ],
            [
             0.8,
             "#7fbc41"
            ],
            [
             0.9,
             "#4d9221"
            ],
            [
             1,
             "#276419"
            ]
           ],
           "sequential": [
            [
             0,
             "#0d0887"
            ],
            [
             0.1111111111111111,
             "#46039f"
            ],
            [
             0.2222222222222222,
             "#7201a8"
            ],
            [
             0.3333333333333333,
             "#9c179e"
            ],
            [
             0.4444444444444444,
             "#bd3786"
            ],
            [
             0.5555555555555556,
             "#d8576b"
            ],
            [
             0.6666666666666666,
             "#ed7953"
            ],
            [
             0.7777777777777778,
             "#fb9f3a"
            ],
            [
             0.8888888888888888,
             "#fdca26"
            ],
            [
             1,
             "#f0f921"
            ]
           ],
           "sequentialminus": [
            [
             0,
             "#0d0887"
            ],
            [
             0.1111111111111111,
             "#46039f"
            ],
            [
             0.2222222222222222,
             "#7201a8"
            ],
            [
             0.3333333333333333,
             "#9c179e"
            ],
            [
             0.4444444444444444,
             "#bd3786"
            ],
            [
             0.5555555555555556,
             "#d8576b"
            ],
            [
             0.6666666666666666,
             "#ed7953"
            ],
            [
             0.7777777777777778,
             "#fb9f3a"
            ],
            [
             0.8888888888888888,
             "#fdca26"
            ],
            [
             1,
             "#f0f921"
            ]
           ]
          },
          "colorway": [
           "#636efa",
           "#EF553B",
           "#00cc96",
           "#ab63fa",
           "#FFA15A",
           "#19d3f3",
           "#FF6692",
           "#B6E880",
           "#FF97FF",
           "#FECB52"
          ],
          "font": {
           "color": "#2a3f5f"
          },
          "geo": {
           "bgcolor": "white",
           "lakecolor": "white",
           "landcolor": "#E5ECF6",
           "showlakes": true,
           "showland": true,
           "subunitcolor": "white"
          },
          "hoverlabel": {
           "align": "left"
          },
          "hovermode": "closest",
          "mapbox": {
           "style": "light"
          },
          "paper_bgcolor": "white",
          "plot_bgcolor": "#E5ECF6",
          "polar": {
           "angularaxis": {
            "gridcolor": "white",
            "linecolor": "white",
            "ticks": ""
           },
           "bgcolor": "#E5ECF6",
           "radialaxis": {
            "gridcolor": "white",
            "linecolor": "white",
            "ticks": ""
           }
          },
          "scene": {
           "xaxis": {
            "backgroundcolor": "#E5ECF6",
            "gridcolor": "white",
            "gridwidth": 2,
            "linecolor": "white",
            "showbackground": true,
            "ticks": "",
            "zerolinecolor": "white"
           },
           "yaxis": {
            "backgroundcolor": "#E5ECF6",
            "gridcolor": "white",
            "gridwidth": 2,
            "linecolor": "white",
            "showbackground": true,
            "ticks": "",
            "zerolinecolor": "white"
           },
           "zaxis": {
            "backgroundcolor": "#E5ECF6",
            "gridcolor": "white",
            "gridwidth": 2,
            "linecolor": "white",
            "showbackground": true,
            "ticks": "",
            "zerolinecolor": "white"
           }
          },
          "shapedefaults": {
           "line": {
            "color": "#2a3f5f"
           }
          },
          "ternary": {
           "aaxis": {
            "gridcolor": "white",
            "linecolor": "white",
            "ticks": ""
           },
           "baxis": {
            "gridcolor": "white",
            "linecolor": "white",
            "ticks": ""
           },
           "bgcolor": "#E5ECF6",
           "caxis": {
            "gridcolor": "white",
            "linecolor": "white",
            "ticks": ""
           }
          },
          "title": {
           "x": 0.05
          },
          "xaxis": {
           "automargin": true,
           "gridcolor": "white",
           "linecolor": "white",
           "ticks": "",
           "title": {
            "standoff": 15
           },
           "zerolinecolor": "white",
           "zerolinewidth": 2
          },
          "yaxis": {
           "automargin": true,
           "gridcolor": "white",
           "linecolor": "white",
           "ticks": "",
           "title": {
            "standoff": 15
           },
           "zerolinecolor": "white",
           "zerolinewidth": 2
          }
         }
        },
        "xaxis": {
         "autorange": true,
         "range": [
          -0.5,
          10.5
         ],
         "title": {
          "text": "Type of violation"
         },
         "type": "category"
        },
        "yaxis": {
         "autorange": true,
         "range": [
          -0.20029320139270662,
          0.2761590617555433
         ],
         "title": {
          "text": "AOD"
         },
         "type": "linear"
        }
       }
      },
      "image/png": "[encoded data removed]",
      "text/html": [
       "<div>                            <div id=\"e7d5b7f8-3096-4c4d-945e-fe85cd310ab1\" class=\"plotly-graph-div\" style=\"height:525px; width:100%;\"></div>            <script type=\"text/javascript\">                require([\"plotly\"], function(Plotly) {                    window.PLOTLYENV=window.PLOTLYENV || {};                                    if (document.getElementById(\"e7d5b7f8-3096-4c4d-945e-fe85cd310ab1\")) {                    Plotly.newPlot(                        \"e7d5b7f8-3096-4c4d-945e-fe85cd310ab1\",                        [{\"base\": 0, \"error_y\": {\"array\": [0.0, 0.052307692307692305, 0.0501002004008016, 0.08021390374331551, 0.06622516556291391, 0.09183673469387757, 0.10280373831775699, 0.029950083194675535, 0.012381984212970128, 0.046162280701754294, 0.09146341463414634], \"arrayminus\": [0.0, 0.05846153846153847, 0.04609218436873747, 0.08021390374331551, 0.06622516556291391, 0.08163265306122448, 0.11214953271028036, 0.03161397670549085, 0.012536759015632256, 0.04824561403508772, 0.0975609756097561], \"color\": \"crimson\", \"symmetric\": false, \"type\": \"data\"}, \"name\": \"Men officers\", \"type\": \"bar\", \"x\": [\"CMV INSPECTION\", \"EXPIRED TAG (- MONTHS OR LESS)\", \"FAULTY EQUIPMENT\", \"MOVE OVER LAW\", \"OTHER MOVING VIOLATIONS\", \"OTHER NON MOVING VIOLATIONS\", \"OTHER TAG / REGISTRATION VIOLATIONS\", \"SEATBELT (DRIVER)\", \"SPEED\", \"VIOLATIONS OF TRAFFIC CONTROL DEVICE\", \"WINDOW TINT\"], \"y\": [0.0, 0.07692307692307693, 0.0841683366733467, 0.0213903743315508, 0.04966887417218543, 0.04081632653061224, 0.14953271028037382, 0.03993344425956739, 0.010834236186348862, 0.07456140350877193, -0.03048780487804878]}, {\"base\": 0, \"error_y\": {\"array\": [0.058823529411764705, 0.04297619047619037, 0.05238095238095239, 0.0707070707070707, 0.05405405405405405, 0.08450704225352113, 0.12087912087912088, 0.020214030915576692, 0.012611665790856541, 0.038327526132404185, 0.14545454545454545], \"arrayminus\": [0.11764705882352942, 0.047619047619047616, 0.05476190476190476, 0.0606060606060606, 0.04914004914004914, 0.08450704225352113, 0.13186813186813187, 0.019024970273483946, 0.011394289717989139, 0.04006968641114982, 0.14545454545454545], \"color\": \"crimson\", \"symmetric\": false, \"type\": \"data\"}, \"name\": \"Women officers\", \"type\": \"bar\", \"x\": [\"CMV INSPECTION\", \"EXPIRED TAG (- MONTHS OR LESS)\", \"FAULTY EQUIPMENT\", \"MOVE OVER LAW\", \"OTHER MOVING VIOLATIONS\", \"OTHER NON MOVING VIOLATIONS\", \"OTHER TAG / REGISTRATION VIOLATIONS\", \"SEATBELT (DRIVER)\", \"SPEED\", \"VIOLATIONS OF TRAFFIC CONTROL DEVICE\", \"WINDOW TINT\"], \"y\": [-0.058823529411764705, -0.007142857142857143, 0.07142857142857142, -0.03535353535353535, 0.044226044226044224, 0.035211267605633804, 0.01098901098901099, 0.01070154577883472, -0.016465230338062707, 0.006968641114982578, 0.0]}],                        {\"template\": {\"data\": {\"bar\": [{\"error_x\": {\"color\": \"#2a3f5f\"}, \"error_y\": {\"color\": \"#2a3f5f\"}, \"marker\": {\"line\": {\"color\": \"#E5ECF6\", \"width\": 0.5}}, \"type\": \"bar\"}], \"barpolar\": [{\"marker\": {\"line\": {\"color\": \"#E5ECF6\", \"width\": 0.5}}, \"type\": \"barpolar\"}], \"carpet\": [{\"aaxis\": {\"endlinecolor\": \"#2a3f5f\", \"gridcolor\": \"white\", \"linecolor\": \"white\", \"minorgridcolor\": \"white\", \"startlinecolor\": \"#2a3f5f\"}, \"baxis\": {\"endlinecolor\": \"#2a3f5f\", \"gridcolor\": \"white\", \"linecolor\": \"white\", \"minorgridcolor\": \"white\", \"startlinecolor\": \"#2a3f5f\"}, \"type\": \"carpet\"}], \"choropleth\": [{\"colorbar\": {\"outlinewidth\": 0, \"ticks\": \"\"}, \"type\": \"choropleth\"}], \"contour\": [{\"colorbar\": {\"outlinewidth\": 0, \"ticks\": \"\"}, \"colorscale\": [[0.0, \"#0d0887\"], [0.1111111111111111, \"#46039f\"], [0.2222222222222222, \"#7201a8\"], [0.3333333333333333, \"#9c179e\"], [0.4444444444444444, \"#bd3786\"], [0.5555555555555556, \"#d8576b\"], [0.6666666666666666, \"#ed7953\"], [0.7777777777777778, \"#fb9f3a\"], [0.8888888888888888, \"#fdca26\"], [1.0, \"#f0f921\"]], \"type\": \"contour\"}], \"contourcarpet\": [{\"colorbar\": {\"outlinewidth\": 0, \"ticks\": \"\"}, \"type\": \"contourcarpet\"}], \"heatmap\": [{\"colorbar\": {\"outlinewidth\": 0, \"ticks\": \"\"}, \"colorscale\": [[0.0, \"#0d0887\"], [0.1111111111111111, \"#46039f\"], [0.2222222222222222, \"#7201a8\"], [0.3333333333333333, \"#9c179e\"], [0.4444444444444444, \"#bd3786\"], [0.5555555555555556, \"#d8576b\"], [0.6666666666666666, \"#ed7953\"], [0.7777777777777778, \"#fb9f3a\"], [0.8888888888888888, \"#fdca26\"], [1.0, \"#f0f921\"]], \"type\": \"heatmap\"}], \"heatmapgl\": [{\"colorbar\": {\"outlinewidth\": 0, \"ticks\": \"\"}, \"colorscale\": [[0.0, \"#0d0887\"], [0.1111111111111111, \"#46039f\"], [0.2222222222222222, \"#7201a8\"], [0.3333333333333333, \"#9c179e\"], [0.4444444444444444, \"#bd3786\"], [0.5555555555555556, \"#d8576b\"], [0.6666666666666666, \"#ed7953\"], [0.7777777777777778, \"#fb9f3a\"], [0.8888888888888888, \"#fdca26\"], [1.0, \"#f0f921\"]], \"type\": \"heatmapgl\"}], \"histogram\": [{\"marker\": {\"colorbar\": {\"outlinewidth\": 0, \"ticks\": \"\"}}, \"type\": \"histogram\"}], \"histogram2d\": [{\"colorbar\": {\"outlinewidth\": 0, \"ticks\": \"\"}, \"colorscale\": [[0.0, \"#0d0887\"], [0.1111111111111111, \"#46039f\"], [0.2222222222222222, \"#7201a8\"], [0.3333333333333333, \"#9c179e\"], [0.4444444444444444, \"#bd3786\"], [0.5555555555555556, \"#d8576b\"], [0.6666666666666666, \"#ed7953\"], [0.7777777777777778, \"#fb9f3a\"], [0.8888888888888888, \"#fdca26\"], [1.0, \"#f0f921\"]], \"type\": \"histogram2d\"}], \"histogram2dcontour\": [{\"colorbar\": {\"outlinewidth\": 0, \"ticks\": \"\"}, \"colorscale\": [[0.0, \"#0d0887\"], [0.1111111111111111, \"#46039f\"], [0.2222222222222222, \"#7201a8\"], [0.3333333333333333, \"#9c179e\"], [0.4444444444444444, \"#bd3786\"], [0.5555555555555556, \"#d8576b\"], [0.6666666666666666, \"#ed7953\"], [0.7777777777777778, \"#fb9f3a\"], [0.8888888888888888, \"#fdca26\"], [1.0, \"#f0f921\"]], \"type\": \"histogram2dcontour\"}], \"mesh3d\": [{\"colorbar\": {\"outlinewidth\": 0, \"ticks\": \"\"}, \"type\": \"mesh3d\"}], \"parcoords\": [{\"line\": {\"colorbar\": {\"outlinewidth\": 0, \"ticks\": \"\"}}, \"type\": \"parcoords\"}], \"pie\": [{\"automargin\": true, \"type\": \"pie\"}], \"scatter\": [{\"marker\": {\"colorbar\": {\"outlinewidth\": 0, \"ticks\": \"\"}}, \"type\": \"scatter\"}], \"scatter3d\": [{\"line\": {\"colorbar\": {\"outlinewidth\": 0, \"ticks\": \"\"}}, \"marker\": {\"colorbar\": {\"outlinewidth\": 0, \"ticks\": \"\"}}, \"type\": \"scatter3d\"}], \"scattercarpet\": [{\"marker\": {\"colorbar\": {\"outlinewidth\": 0, \"ticks\": \"\"}}, \"type\": \"scattercarpet\"}], \"scattergeo\": [{\"marker\": {\"colorbar\": {\"outlinewidth\": 0, \"ticks\": \"\"}}, \"type\": \"scattergeo\"}], \"scattergl\": [{\"marker\": {\"colorbar\": {\"outlinewidth\": 0, \"ticks\": \"\"}}, \"type\": \"scattergl\"}], \"scattermapbox\": [{\"marker\": {\"colorbar\": {\"outlinewidth\": 0, \"ticks\": \"\"}}, \"type\": \"scattermapbox\"}], \"scatterpolar\": [{\"marker\": {\"colorbar\": {\"outlinewidth\": 0, \"ticks\": \"\"}}, \"type\": \"scatterpolar\"}], \"scatterpolargl\": [{\"marker\": {\"colorbar\": {\"outlinewidth\": 0, \"ticks\": \"\"}}, \"type\": \"scatterpolargl\"}], \"scatterternary\": [{\"marker\": {\"colorbar\": {\"outlinewidth\": 0, \"ticks\": \"\"}}, \"type\": \"scatterternary\"}], \"surface\": [{\"colorbar\": {\"outlinewidth\": 0, \"ticks\": \"\"}, \"colorscale\": [[0.0, \"#0d0887\"], [0.1111111111111111, \"#46039f\"], [0.2222222222222222, \"#7201a8\"], [0.3333333333333333, \"#9c179e\"], [0.4444444444444444, \"#bd3786\"], [0.5555555555555556, \"#d8576b\"], [0.6666666666666666, \"#ed7953\"], [0.7777777777777778, \"#fb9f3a\"], [0.8888888888888888, \"#fdca26\"], [1.0, \"#f0f921\"]], \"type\": \"surface\"}], \"table\": [{\"cells\": {\"fill\": {\"color\": \"#EBF0F8\"}, \"line\": {\"color\": \"white\"}}, \"header\": {\"fill\": {\"color\": \"#C8D4E3\"}, \"line\": {\"color\": \"white\"}}, \"type\": \"table\"}]}, \"layout\": {\"annotationdefaults\": {\"arrowcolor\": \"#2a3f5f\", \"arrowhead\": 0, \"arrowwidth\": 1}, \"autotypenumbers\": \"strict\", \"coloraxis\": {\"colorbar\": {\"outlinewidth\": 0, \"ticks\": \"\"}}, \"colorscale\": {\"diverging\": [[0, \"#8e0152\"], [0.1, \"#c51b7d\"], [0.2, \"#de77ae\"], [0.3, \"#f1b6da\"], [0.4, \"#fde0ef\"], [0.5, \"#f7f7f7\"], [0.6, \"#e6f5d0\"], [0.7, \"#b8e186\"], [0.8, \"#7fbc41\"], [0.9, \"#4d9221\"], [1, \"#276419\"]], \"sequential\": [[0.0, \"#0d0887\"], [0.1111111111111111, \"#46039f\"], [0.2222222222222222, \"#7201a8\"], [0.3333333333333333, \"#9c179e\"], [0.4444444444444444, \"#bd3786\"], [0.5555555555555556, \"#d8576b\"], [0.6666666666666666, \"#ed7953\"], [0.7777777777777778, \"#fb9f3a\"], [0.8888888888888888, \"#fdca26\"], [1.0, \"#f0f921\"]], \"sequentialminus\": [[0.0, \"#0d0887\"], [0.1111111111111111, \"#46039f\"], [0.2222222222222222, \"#7201a8\"], [0.3333333333333333, \"#9c179e\"], [0.4444444444444444, \"#bd3786\"], [0.5555555555555556, \"#d8576b\"], [0.6666666666666666, \"#ed7953\"], [0.7777777777777778, \"#fb9f3a\"], [0.8888888888888888, \"#fdca26\"], [1.0, \"#f0f921\"]]}, \"colorway\": [\"#636efa\", \"#EF553B\", \"#00cc96\", \"#ab63fa\", \"#FFA15A\", \"#19d3f3\", \"#FF6692\", \"#B6E880\", \"#FF97FF\", \"#FECB52\"], \"font\": {\"color\": \"#2a3f5f\"}, \"geo\": {\"bgcolor\": \"white\", \"lakecolor\": \"white\", \"landcolor\": \"#E5ECF6\", \"showlakes\": true, \"showland\": true, \"subunitcolor\": \"white\"}, \"hoverlabel\": {\"align\": \"left\"}, \"hovermode\": \"closest\", \"mapbox\": {\"style\": \"light\"}, \"paper_bgcolor\": \"white\", \"plot_bgcolor\": \"#E5ECF6\", \"polar\": {\"angularaxis\": {\"gridcolor\": \"white\", \"linecolor\": \"white\", \"ticks\": \"\"}, \"bgcolor\": \"#E5ECF6\", \"radialaxis\": {\"gridcolor\": \"white\", \"linecolor\": \"white\", \"ticks\": \"\"}}, \"scene\": {\"xaxis\": {\"backgroundcolor\": \"#E5ECF6\", \"gridcolor\": \"white\", \"gridwidth\": 2, \"linecolor\": \"white\", \"showbackground\": true, \"ticks\": \"\", \"zerolinecolor\": \"white\"}, \"yaxis\": {\"backgroundcolor\": \"#E5ECF6\", \"gridcolor\": \"white\", \"gridwidth\": 2, \"linecolor\": \"white\", \"showbackground\": true, \"ticks\": \"\", \"zerolinecolor\": \"white\"}, \"zaxis\": {\"backgroundcolor\": \"#E5ECF6\", \"gridcolor\": \"white\", \"gridwidth\": 2, \"linecolor\": \"white\", \"showbackground\": true, \"ticks\": \"\", \"zerolinecolor\": \"white\"}}, \"shapedefaults\": {\"line\": {\"color\": \"#2a3f5f\"}}, \"ternary\": {\"aaxis\": {\"gridcolor\": \"white\", \"linecolor\": \"white\", \"ticks\": \"\"}, \"baxis\": {\"gridcolor\": \"white\", \"linecolor\": \"white\", \"ticks\": \"\"}, \"bgcolor\": \"#E5ECF6\", \"caxis\": {\"gridcolor\": \"white\", \"linecolor\": \"white\", \"ticks\": \"\"}}, \"title\": {\"x\": 0.05}, \"xaxis\": {\"automargin\": true, \"gridcolor\": \"white\", \"linecolor\": \"white\", \"ticks\": \"\", \"title\": {\"standoff\": 15}, \"zerolinecolor\": \"white\", \"zerolinewidth\": 2}, \"yaxis\": {\"automargin\": true, \"gridcolor\": \"white\", \"linecolor\": \"white\", \"ticks\": \"\", \"title\": {\"standoff\": 15}, \"zerolinecolor\": \"white\", \"zerolinewidth\": 2}}}, \"xaxis\": {\"title\": {\"text\": \"Type of violation\"}}, \"yaxis\": {\"title\": {\"text\": \"AOD\"}}},                        {\"responsive\": true}                    ).then(function(){\n",
       "                            \n",
       "var gd = document.getElementById('e7d5b7f8-3096-4c4d-945e-fe85cd310ab1');\n",
       "var x = new MutationObserver(function (mutations, observer) {{\n",
       "        var display = window.getComputedStyle(gd).display;\n",
       "        if (!display || display === 'none') {{\n",
       "            console.log([gd, 'removed!']);\n",
       "            Plotly.purge(gd);\n",
       "            observer.disconnect();\n",
       "        }}\n",
       "}});\n",
       "\n",
       "// Listen for the removal of the full notebook cells\n",
       "var notebookContainer = gd.closest('#notebook-container');\n",
       "if (notebookContainer) {{\n",
       "    x.observe(notebookContainer, {childList: true});\n",
       "}}\n",
       "\n",
       "// Listen for the clearing of the current output cell\n",
       "var outputEl = gd.closest('.output');\n",
       "if (outputEl) {{\n",
       "    x.observe(outputEl, {childList: true});\n",
       "}}\n",
       "\n",
       "                        })                };                });            </script>        </div>"
      ]
     },
     "metadata": {},
     "output_type": "display_data"
    }
   ],
   "source": [
    "fig = go.Figure()\n",
    "fig.add_trace(go.Bar(x=list(ordered_reasons_M), y=list((AOD_stopped_M.values())),\n",
    "                base=0, error_y= dict(type='data',symmetric=False, array=up_M,arrayminus=down_M,color=\"crimson\"),\n",
    "                #marker_color='crimson',\n",
    "                name='Men officers'))\n",
    "\n",
    "fig.add_trace(go.Bar(x=list(ordered_reasons_W), y=list((AOD_stopped_W.values())),\n",
    "                base=0,error_y= dict(type='data',symmetric=False, array=up_W,arrayminus=down_W,color=\"crimson\"),\n",
    "                \n",
    "                #marker_color='crimson',\n",
    "                name='Women officers'))\n",
    "\n",
    "fig.update_xaxes(title_text='Type of violation')\n",
    "fig.update_yaxes(title_text='AOD')\n",
    "\n",
    "\n",
    "#fig.update_layout(\n",
    "#        font = dict(size=18, family='Courier', color=\"#F5F5F5\"),\n",
    "#        paper_bgcolor='rgba(0,0,0,0)',\n",
    "#        plot_bgcolor='rgba(0,0,0,0)',\n",
    "#        autosize=True,\n",
    "#        title={\n",
    "#        'text': \"AOD for male and female officers for different types of reasons\",\n",
    "#        'y':0.9,\n",
    "#        'x':0.5,\n",
    "#        'xanchor': 'center',\n",
    "#        'yanchor': 'top',\n",
    "#        \"font\" : dict(size=25, color=\"#F5F5F5\")},\n",
    "#        dragmode = False,\n",
    "#    )\n",
    "\n",
    "\n",
    "fig.show()\n",
    "#pio.write_html(fig, file='MW_off.html', auto_open=False)"
   ]
  },
  {
   "cell_type": "code",
   "execution_count": null,
   "metadata": {},
   "outputs": [],
   "source": []
  }
 ],
 "metadata": {
  "kernelspec": {
   "display_name": "Python 3",
   "language": "python",
   "name": "python3"
  },
  "language_info": {
   "codemirror_mode": {
    "name": "ipython",
    "version": 3
   },
   "file_extension": ".py",
   "mimetype": "text/x-python",
   "name": "python",
   "nbconvert_exporter": "python",
   "pygments_lexer": "ipython3",
   "version": "3.8.6"
  }
 },
 "nbformat": 4,
 "nbformat_minor": 4
}
