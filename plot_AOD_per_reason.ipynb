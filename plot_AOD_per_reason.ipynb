{
 "cells": [
  {
   "cell_type": "code",
   "execution_count": 1,
   "metadata": {},
   "outputs": [],
   "source": [
    "#bar plot distribution\n",
    "import plotly.graph_objects as go\n",
    "import plotly.io as pio\n",
    "import pandas as pd\n"
   ]
  },
  {
   "cell_type": "code",
   "execution_count": 2,
   "metadata": {},
   "outputs": [],
   "source": [
    "import plotly.graph_objects as go\n",
    "import plotly.io as pio\n",
    "\n",
    "infraction = ['All types','Vehicle Equipment violation','Speeding','Seat Belt', 'Stop light/sign violation', 'Driving impaired']\n",
    "\n",
    "fig = go.Figure()\n",
    "fig.add_trace(go.Bar(x=infraction, y=[0.0245, 0.047997, 0.014531, 0.055560, 0.059200, 0.070175],\n",
    "                base=0,\n",
    "                #marker_color='crimson',\n",
    "                name='Charlotte'))\n",
    "fig.add_trace(go.Bar(x=infraction, y=[0.0775, 0.230216, 0.028807, 0.021277, 0.11, -0.002123],\n",
    "                base=0,\n",
    "                #marker_color='lightslategrey',\n",
    "                name='Raleigh'))\n",
    "fig.add_trace(go.Bar(x=infraction, y=[0.0433, 0.069293, 0.011111, 0.0452670, 0.019455, 0.004854],\n",
    "                base=0,\n",
    "                #marker_color='lightslategrey',\n",
    "                name='Greensboro'))\n",
    "\n",
    "#fig.show()\n",
    "pio.write_html(fig, file='AOD_per_reason_stop.html', auto_open=True)"
   ]
  },
  {
   "cell_type": "code",
   "execution_count": 4,
   "metadata": {},
   "outputs": [],
   "source": [
    "df_charlotte = pd.read_csv('data/df_charlotte.csv')\n",
    "\n",
    "fig = go.Figure()\n",
    "fig.add_trace(go.Histogram(histfunc='count', y=df_charlotte['reason_for_search']))\n",
    "pio.write_html(fig, file='overview_reason_search.html', auto_open=True)"
   ]
  }
 ],
 "metadata": {
  "kernelspec": {
   "display_name": "Python 3",
   "language": "python",
   "name": "python3"
  },
  "language_info": {
   "codemirror_mode": {
    "name": "ipython",
    "version": 3
   },
   "file_extension": ".py",
   "mimetype": "text/x-python",
   "name": "python",
   "nbconvert_exporter": "python",
   "pygments_lexer": "ipython3",
   "version": "3.8.3"
  }
 },
 "nbformat": 4,
 "nbformat_minor": 4
}
