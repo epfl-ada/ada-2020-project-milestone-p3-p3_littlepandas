{
 "cells": [
  {
   "cell_type": "markdown",
   "metadata": {},
   "source": [
    "# Data analysis 2: Gender disparities stops outcome"
   ]
  },
  {
   "cell_type": "code",
   "execution_count": 1,
   "metadata": {},
   "outputs": [],
   "source": [
    "# Libraries\n",
    "\n",
    "import numpy as np\n",
    "import pandas as pd\n",
    "import collections\n",
    "from collections import Counter\n",
    "import matplotlib.pyplot as plt\n"
   ]
  },
  {
   "cell_type": "code",
   "execution_count": 2,
   "metadata": {},
   "outputs": [
    {
     "name": "stderr",
     "output_type": "stream",
     "text": [
      "C:\\Users\\julie\\anaconda3\\lib\\site-packages\\IPython\\core\\interactiveshell.py:3071: DtypeWarning: Columns (5) have mixed types.Specify dtype option on import or set low_memory=False.\n",
      "  has_raised = await self.run_ast_nodes(code_ast.body, cell_name,\n"
     ]
    }
   ],
   "source": [
    "# Import data\n",
    "df_charlotte = pd.read_csv('data/df_charlotte.csv')\n",
    "df_greensboro = pd.read_csv('data/df_greensboro.csv')\n",
    "df_nashville = pd.read_csv('data/df_nashville.csv')\n",
    "df_neworleans = pd.read_csv('data/df_neworleans.csv')\n",
    "df_raleigh = pd.read_csv('data/df_raleigh.csv')\n",
    "df_sandiego = pd.read_csv('data/df_sandiego.csv')\n",
    "df_sanfrancisco = pd.read_csv('data/df_sanfrancisco.csv')\n",
    "df_WA = pd.read_csv('data/df_WA.csv')"
   ]
  },
  {
   "cell_type": "markdown",
   "metadata": {},
   "source": [
    "## NC Charlotte"
   ]
  },
  {
   "cell_type": "code",
   "execution_count": 4,
   "metadata": {},
   "outputs": [],
   "source": [
    "df_charlotte = df_charlotte.rename(columns={'Unnamed: 0':'id'})"
   ]
  },
  {
   "cell_type": "code",
   "execution_count": 5,
   "metadata": {},
   "outputs": [],
   "source": [
    "# Age categorie (proxy for attractiveness)\n",
    "df_charlotte['attractiveness'] = df_charlotte.apply(lambda x: True if (x.subject_age<46) else False, axis=1)"
   ]
  },
  {
   "cell_type": "code",
   "execution_count": 6,
   "metadata": {},
   "outputs": [
    {
     "data": {
      "text/html": [
       "<div>\n",
       "<style scoped>\n",
       "    .dataframe tbody tr th:only-of-type {\n",
       "        vertical-align: middle;\n",
       "    }\n",
       "\n",
       "    .dataframe tbody tr th {\n",
       "        vertical-align: top;\n",
       "    }\n",
       "\n",
       "    .dataframe thead th {\n",
       "        text-align: right;\n",
       "    }\n",
       "</style>\n",
       "<table border=\"1\" class=\"dataframe\">\n",
       "  <thead>\n",
       "    <tr style=\"text-align: right;\">\n",
       "      <th></th>\n",
       "      <th>id</th>\n",
       "      <th>subject_age</th>\n",
       "      <th>subject_race</th>\n",
       "      <th>subject_sex</th>\n",
       "      <th>arrest_made</th>\n",
       "      <th>citation_issued</th>\n",
       "      <th>warning_issued</th>\n",
       "      <th>contraband_found</th>\n",
       "      <th>frisk_performed</th>\n",
       "      <th>search_person</th>\n",
       "      <th>search_vehicle</th>\n",
       "      <th>reason_for_frisk</th>\n",
       "      <th>reason_for_search</th>\n",
       "      <th>reason_for_stop</th>\n",
       "      <th>attractiveness</th>\n",
       "      <th>outcome</th>\n",
       "    </tr>\n",
       "  </thead>\n",
       "  <tbody>\n",
       "    <tr>\n",
       "      <th>0</th>\n",
       "      <td>81</td>\n",
       "      <td>21.0</td>\n",
       "      <td>black</td>\n",
       "      <td>male</td>\n",
       "      <td>True</td>\n",
       "      <td>False</td>\n",
       "      <td>False</td>\n",
       "      <td>True</td>\n",
       "      <td>False</td>\n",
       "      <td>True</td>\n",
       "      <td>True</td>\n",
       "      <td>NaN</td>\n",
       "      <td>Other Official Information</td>\n",
       "      <td>Vehicle Equipment Violation</td>\n",
       "      <td>True</td>\n",
       "      <td>1</td>\n",
       "    </tr>\n",
       "    <tr>\n",
       "      <th>1</th>\n",
       "      <td>82</td>\n",
       "      <td>21.0</td>\n",
       "      <td>black</td>\n",
       "      <td>male</td>\n",
       "      <td>True</td>\n",
       "      <td>False</td>\n",
       "      <td>False</td>\n",
       "      <td>False</td>\n",
       "      <td>False</td>\n",
       "      <td>True</td>\n",
       "      <td>True</td>\n",
       "      <td>NaN</td>\n",
       "      <td>Other Official Information</td>\n",
       "      <td>Investigation</td>\n",
       "      <td>True</td>\n",
       "      <td>1</td>\n",
       "    </tr>\n",
       "  </tbody>\n",
       "</table>\n",
       "</div>"
      ],
      "text/plain": [
       "   id  subject_age subject_race subject_sex  arrest_made  citation_issued  \\\n",
       "0  81         21.0        black        male         True            False   \n",
       "1  82         21.0        black        male         True            False   \n",
       "\n",
       "   warning_issued  contraband_found  frisk_performed  search_person  \\\n",
       "0           False              True            False           True   \n",
       "1           False             False            False           True   \n",
       "\n",
       "   search_vehicle reason_for_frisk           reason_for_search  \\\n",
       "0            True              NaN  Other Official Information   \n",
       "1            True              NaN  Other Official Information   \n",
       "\n",
       "               reason_for_stop  attractiveness  outcome  \n",
       "0  Vehicle Equipment Violation            True        1  \n",
       "1                Investigation            True        1  "
      ]
     },
     "execution_count": 6,
     "metadata": {},
     "output_type": "execute_result"
    }
   ],
   "source": [
    "# Outcome value: arrest, citation = 1 and warning = 0\n",
    "df_charlotte['outcome'] = df_charlotte.apply(lambda x: 1 if (x.arrest_made or x.citation_issued) else 0, axis=1)\n",
    "df_charlotte.head(2)"
   ]
  },
  {
   "cell_type": "code",
   "execution_count": 7,
   "metadata": {},
   "outputs": [
    {
     "data": {
      "text/plain": [
       "Counter({'Vehicle Equipment Violation': 14280,\n",
       "         'Investigation': 12125,\n",
       "         'Other Motor Vehicle Violation': 7564,\n",
       "         'Driving While Impaired': 3912,\n",
       "         'Vehicle Regulatory Violation': 27893,\n",
       "         'Speed Limit Violation': 10800,\n",
       "         'Safe Movement Violation': 6156,\n",
       "         'Stop Light/Sign Violation': 4806,\n",
       "         'Seat Belt Violation': 5028,\n",
       "         'Checkpoint': 314})"
      ]
     },
     "execution_count": 7,
     "metadata": {},
     "output_type": "execute_result"
    }
   ],
   "source": [
    "# Possible reasons for stop\n",
    "reason_stops = list(Counter(df_charlotte['reason_for_stop']).keys())\n",
    "Counter(df_charlotte['reason_for_stop'])"
   ]
  },
  {
   "cell_type": "markdown",
   "metadata": {},
   "source": [
    "We find 10 different reason for stops that cannot combine. We keep them all."
   ]
  },
  {
   "cell_type": "code",
   "execution_count": 8,
   "metadata": {},
   "outputs": [
    {
     "data": {
      "text/html": [
       "<div>\n",
       "<style scoped>\n",
       "    .dataframe tbody tr th:only-of-type {\n",
       "        vertical-align: middle;\n",
       "    }\n",
       "\n",
       "    .dataframe tbody tr th {\n",
       "        vertical-align: top;\n",
       "    }\n",
       "\n",
       "    .dataframe thead th {\n",
       "        text-align: right;\n",
       "    }\n",
       "</style>\n",
       "<table border=\"1\" class=\"dataframe\">\n",
       "  <thead>\n",
       "    <tr style=\"text-align: right;\">\n",
       "      <th></th>\n",
       "      <th>men</th>\n",
       "      <th>women</th>\n",
       "    </tr>\n",
       "  </thead>\n",
       "  <tbody>\n",
       "    <tr>\n",
       "      <th>0</th>\n",
       "      <td>969.0</td>\n",
       "      <td>10634.0</td>\n",
       "    </tr>\n",
       "    <tr>\n",
       "      <th>1</th>\n",
       "      <td>1941.0</td>\n",
       "      <td>19204.0</td>\n",
       "    </tr>\n",
       "    <tr>\n",
       "      <th>2</th>\n",
       "      <td>2327.0</td>\n",
       "      <td>19579.0</td>\n",
       "    </tr>\n",
       "    <tr>\n",
       "      <th>3</th>\n",
       "      <td>5978.0</td>\n",
       "      <td>21292.0</td>\n",
       "    </tr>\n",
       "    <tr>\n",
       "      <th>4</th>\n",
       "      <td>17379.0</td>\n",
       "      <td>36322.0</td>\n",
       "    </tr>\n",
       "  </tbody>\n",
       "</table>\n",
       "</div>"
      ],
      "text/plain": [
       "       men    women\n",
       "0    969.0  10634.0\n",
       "1   1941.0  19204.0\n",
       "2   2327.0  19579.0\n",
       "3   5978.0  21292.0\n",
       "4  17379.0  36322.0"
      ]
     },
     "execution_count": 8,
     "metadata": {},
     "output_type": "execute_result"
    }
   ],
   "source": [
    "matching=pd.DataFrame({'men':[],'women':[]})\n",
    "AOD = 0\n",
    "# Match 1 woman and 1 man with same attributes\n",
    "for reason in reason_stops:\n",
    "    for race in ('white','black','hispanic'):\n",
    "        for attractiveness in ('True', 'False'):\n",
    "            for contraband in ('True', 'False'):\n",
    "                query = \"reason_for_stop=='\"+reason+\"' & subject_race=='\"+race+\"' & attractiveness==\"+attractiveness+\" & contraband_found==\"+contraband\n",
    "                data = df_charlotte.query(query).copy()\n",
    "                id_M = np.array(data[data['subject_sex']=='male'].id)\n",
    "                id_W = np.array(data[data['subject_sex']=='female'].id)\n",
    "                if ((len(id_M)>0) & (len(id_W)>0)):\n",
    "                    if (len(id_M)>len(id_W)):\n",
    "                        for i in np.arange(0,len(id_W)):\n",
    "                            matching = matching.append({'men':id_M[i],'women':id_W[i]},ignore_index=True)\n",
    "                          \n",
    "                    if (len(id_M)<len(id_W)):\n",
    "                        for i in np.arange(0,len(id_M)):\n",
    "                            matching = matching.append({'men':id_M[i],'women':id_W[i]},ignore_index=True)\n",
    "                       \n",
    "matching.head(5)                       "
   ]
  },
  {
   "cell_type": "code",
   "execution_count": 9,
   "metadata": {},
   "outputs": [],
   "source": [
    "# Averaged outcome difference\n",
    "N_matches = len(matching)\n",
    "diff = np.zeros(N_matches)\n",
    "for i in np.arange(0,N_matches):\n",
    "    outcome_man = np.array(df_charlotte[df_charlotte['id']==matching.loc[i,'men']].outcome)\n",
    "    outcome_woman = np.array(df_charlotte[df_charlotte['id']==matching.loc[i,'women']].outcome)\n",
    "    diff[i] = outcome_man-outcome_woman                    \n",
    "AOD = diff.sum()/N_matches    \n"
   ]
  },
  {
   "cell_type": "code",
   "execution_count": 10,
   "metadata": {},
   "outputs": [
    {
     "name": "stdout",
     "output_type": "stream",
     "text": [
      "Averaged outcome difference 0.0245 with [0.0164, 0.0326] 95% confidence intervals\n"
     ]
    }
   ],
   "source": [
    "# Confidence interval\n",
    "\n",
    "# Bootstrap CI function from exercise session 2\n",
    "def bootstrap_CI(data, nbr_draws):\n",
    "    means = np.zeros(nbr_draws)\n",
    "    data = np.array(data)\n",
    "\n",
    "    for n in range(nbr_draws):\n",
    "        indices = np.random.randint(0, len(data), len(data))\n",
    "        data_tmp = data[indices] \n",
    "        means[n] = np.nanmean(data_tmp)\n",
    "\n",
    "    return [np.nanpercentile(means, 5),np.nanpercentile(means, 95)]\n",
    "\n",
    "CI = bootstrap_CI(diff, 1000)\n",
    "\n",
    "print('Averaged outcome difference %.4f with [%.4f, %.4f] 95%% confidence intervals' %(AOD, CI[0], CI[1]))\n",
    "\n"
   ]
  },
  {
   "cell_type": "markdown",
   "metadata": {},
   "source": [
    "## TN Nashville"
   ]
  },
  {
   "cell_type": "code",
   "execution_count": 11,
   "metadata": {},
   "outputs": [
    {
     "data": {
      "text/html": [
       "<div>\n",
       "<style scoped>\n",
       "    .dataframe tbody tr th:only-of-type {\n",
       "        vertical-align: middle;\n",
       "    }\n",
       "\n",
       "    .dataframe tbody tr th {\n",
       "        vertical-align: top;\n",
       "    }\n",
       "\n",
       "    .dataframe thead th {\n",
       "        text-align: right;\n",
       "    }\n",
       "</style>\n",
       "<table border=\"1\" class=\"dataframe\">\n",
       "  <thead>\n",
       "    <tr style=\"text-align: right;\">\n",
       "      <th></th>\n",
       "      <th>id</th>\n",
       "      <th>subject_age</th>\n",
       "      <th>subject_race</th>\n",
       "      <th>subject_sex</th>\n",
       "      <th>arrest_made</th>\n",
       "      <th>citation_issued</th>\n",
       "      <th>warning_issued</th>\n",
       "      <th>contraband_found</th>\n",
       "      <th>reason_for_stop</th>\n",
       "      <th>attractiveness</th>\n",
       "      <th>outcome</th>\n",
       "    </tr>\n",
       "  </thead>\n",
       "  <tbody>\n",
       "    <tr>\n",
       "      <th>0</th>\n",
       "      <td>4</td>\n",
       "      <td>21.0</td>\n",
       "      <td>black</td>\n",
       "      <td>male</td>\n",
       "      <td>False</td>\n",
       "      <td>False</td>\n",
       "      <td>True</td>\n",
       "      <td>False</td>\n",
       "      <td>vehicle equipment violation</td>\n",
       "      <td>True</td>\n",
       "      <td>0</td>\n",
       "    </tr>\n",
       "    <tr>\n",
       "      <th>1</th>\n",
       "      <td>26</td>\n",
       "      <td>49.0</td>\n",
       "      <td>black</td>\n",
       "      <td>male</td>\n",
       "      <td>True</td>\n",
       "      <td>True</td>\n",
       "      <td>False</td>\n",
       "      <td>True</td>\n",
       "      <td>vehicle equipment violation</td>\n",
       "      <td>False</td>\n",
       "      <td>1</td>\n",
       "    </tr>\n",
       "  </tbody>\n",
       "</table>\n",
       "</div>"
      ],
      "text/plain": [
       "   id  subject_age subject_race subject_sex arrest_made citation_issued  \\\n",
       "0   4         21.0        black        male       False           False   \n",
       "1  26         49.0        black        male        True            True   \n",
       "\n",
       "  warning_issued  contraband_found              reason_for_stop  \\\n",
       "0           True             False  vehicle equipment violation   \n",
       "1          False              True  vehicle equipment violation   \n",
       "\n",
       "   attractiveness  outcome  \n",
       "0            True        0  \n",
       "1           False        1  "
      ]
     },
     "execution_count": 11,
     "metadata": {},
     "output_type": "execute_result"
    }
   ],
   "source": [
    "df_nashville = df_nashville.rename(columns={'Unnamed: 0':'id'})\n",
    "# Age categorie (proxy for attractiveness)\n",
    "df_nashville['attractiveness'] = df_nashville.apply(lambda x: True if (x.subject_age<46) else False, axis=1)\n",
    "# Outcome value: arrest, citation = 1 and warning = 0\n",
    "df_nashville['outcome'] = df_nashville.apply(lambda x: 1 if (x.arrest_made or x.citation_issued) else 0, axis=1)\n",
    "df_nashville.head(2)"
   ]
  },
  {
   "cell_type": "code",
   "execution_count": 12,
   "metadata": {},
   "outputs": [
    {
     "data": {
      "text/plain": [
       "Counter({'vehicle equipment violation': 42376,\n",
       "         'investigative stop': 8602,\n",
       "         'moving traffic violation': 54808,\n",
       "         'seatbelt violation': 5232,\n",
       "         'registration': 7945,\n",
       "         'safety violation': 7098,\n",
       "         'parking violation': 301,\n",
       "         'child restraint': 49})"
      ]
     },
     "execution_count": 12,
     "metadata": {},
     "output_type": "execute_result"
    }
   ],
   "source": [
    "# Possible reasons for stop\n",
    "reason_stops = list(Counter(df_nashville['reason_for_stop']).keys())\n",
    "Counter(df_nashville['reason_for_stop'])"
   ]
  },
  {
   "cell_type": "markdown",
   "metadata": {},
   "source": [
    "We find 8 different reason for stops that cannot combine. We keep them all."
   ]
  },
  {
   "cell_type": "code",
   "execution_count": 13,
   "metadata": {},
   "outputs": [
    {
     "data": {
      "text/html": [
       "<div>\n",
       "<style scoped>\n",
       "    .dataframe tbody tr th:only-of-type {\n",
       "        vertical-align: middle;\n",
       "    }\n",
       "\n",
       "    .dataframe tbody tr th {\n",
       "        vertical-align: top;\n",
       "    }\n",
       "\n",
       "    .dataframe thead th {\n",
       "        text-align: right;\n",
       "    }\n",
       "</style>\n",
       "<table border=\"1\" class=\"dataframe\">\n",
       "  <thead>\n",
       "    <tr style=\"text-align: right;\">\n",
       "      <th></th>\n",
       "      <th>men</th>\n",
       "      <th>women</th>\n",
       "    </tr>\n",
       "  </thead>\n",
       "  <tbody>\n",
       "    <tr>\n",
       "      <th>0</th>\n",
       "      <td>197.0</td>\n",
       "      <td>696.0</td>\n",
       "    </tr>\n",
       "    <tr>\n",
       "      <th>1</th>\n",
       "      <td>1561.0</td>\n",
       "      <td>6801.0</td>\n",
       "    </tr>\n",
       "    <tr>\n",
       "      <th>2</th>\n",
       "      <td>3701.0</td>\n",
       "      <td>8070.0</td>\n",
       "    </tr>\n",
       "    <tr>\n",
       "      <th>3</th>\n",
       "      <td>4922.0</td>\n",
       "      <td>9394.0</td>\n",
       "    </tr>\n",
       "    <tr>\n",
       "      <th>4</th>\n",
       "      <td>5814.0</td>\n",
       "      <td>9890.0</td>\n",
       "    </tr>\n",
       "  </tbody>\n",
       "</table>\n",
       "</div>"
      ],
      "text/plain": [
       "      men   women\n",
       "0   197.0   696.0\n",
       "1  1561.0  6801.0\n",
       "2  3701.0  8070.0\n",
       "3  4922.0  9394.0\n",
       "4  5814.0  9890.0"
      ]
     },
     "execution_count": 13,
     "metadata": {},
     "output_type": "execute_result"
    }
   ],
   "source": [
    "matching=pd.DataFrame({'men':[],'women':[]})\n",
    "AOD = 0\n",
    "# Match 1 woman and 1 man with same attributes\n",
    "for reason in reason_stops:\n",
    "    for race in ('white','black','hispanic'):\n",
    "        for attractiveness in ('True', 'False'):\n",
    "            for contraband in ('True', 'False'):\n",
    "                query = \"reason_for_stop=='\"+reason+\"' & subject_race=='\"+race+\"' & attractiveness==\"+attractiveness+\" & contraband_found==\"+contraband\n",
    "                data = df_nashville.query(query).copy()\n",
    "                id_M = np.array(data[data['subject_sex']=='male'].id)\n",
    "                id_W = np.array(data[data['subject_sex']=='female'].id)\n",
    "                if ((len(id_M)>0) & (len(id_W)>0)):\n",
    "                    if (len(id_M)>len(id_W)):\n",
    "                        for i in np.arange(0,len(id_W)):\n",
    "                            matching = matching.append({'men':id_M[i],'women':id_W[i]},ignore_index=True)\n",
    "                          \n",
    "                    if (len(id_M)<len(id_W)):\n",
    "                        for i in np.arange(0,len(id_M)):\n",
    "                            matching = matching.append({'men':id_M[i],'women':id_W[i]},ignore_index=True)\n",
    "matching.head(5)                       "
   ]
  },
  {
   "cell_type": "code",
   "execution_count": 20,
   "metadata": {},
   "outputs": [],
   "source": [
    "# Averaged outcome difference\n",
    "N_matches = len(matching)\n",
    "diff = np.zeros(N_matches)\n",
    "for i in np.arange(0,N_matches):\n",
    "    outcome_man = np.array(df_nashville[df_nashville['id']==matching.loc[i,'men']].outcome)\n",
    "    outcome_woman = np.array(df_nashville[df_nashville['id']==matching.loc[i,'women']].outcome)\n",
    "    diff[i] = outcome_man-outcome_woman                    \n",
    "AOD = diff.sum()/N_matches    \n"
   ]
  },
  {
   "cell_type": "code",
   "execution_count": 21,
   "metadata": {},
   "outputs": [
    {
     "name": "stdout",
     "output_type": "stream",
     "text": [
      "Averaged outcome difference 0.0227 with [0.0164, 0.0285] 95% confidence intervals\n"
     ]
    }
   ],
   "source": [
    "# Confidence interval\n",
    "\n",
    "CI = bootstrap_CI(diff, 1000)\n",
    "\n",
    "print('Averaged outcome difference %.4f with [%.4f, %.4f] 95%% confidence intervals' %(AOD, CI[0], CI[1]))\n"
   ]
  },
  {
   "cell_type": "markdown",
   "metadata": {},
   "source": [
    "## LA New Orleans"
   ]
  },
  {
   "cell_type": "code",
   "execution_count": 22,
   "metadata": {},
   "outputs": [
    {
     "data": {
      "text/html": [
       "<div>\n",
       "<style scoped>\n",
       "    .dataframe tbody tr th:only-of-type {\n",
       "        vertical-align: middle;\n",
       "    }\n",
       "\n",
       "    .dataframe tbody tr th {\n",
       "        vertical-align: top;\n",
       "    }\n",
       "\n",
       "    .dataframe thead th {\n",
       "        text-align: right;\n",
       "    }\n",
       "</style>\n",
       "<table border=\"1\" class=\"dataframe\">\n",
       "  <thead>\n",
       "    <tr style=\"text-align: right;\">\n",
       "      <th></th>\n",
       "      <th>id</th>\n",
       "      <th>subject_age</th>\n",
       "      <th>subject_race</th>\n",
       "      <th>subject_sex</th>\n",
       "      <th>arrest_made</th>\n",
       "      <th>citation_issued</th>\n",
       "      <th>warning_issued</th>\n",
       "      <th>contraband_found</th>\n",
       "      <th>reason_for_stop</th>\n",
       "      <th>attractiveness</th>\n",
       "      <th>outcome</th>\n",
       "    </tr>\n",
       "  </thead>\n",
       "  <tbody>\n",
       "    <tr>\n",
       "      <th>0</th>\n",
       "      <td>380</td>\n",
       "      <td>27.0</td>\n",
       "      <td>black</td>\n",
       "      <td>male</td>\n",
       "      <td>False</td>\n",
       "      <td>False</td>\n",
       "      <td>True</td>\n",
       "      <td>False</td>\n",
       "      <td>TRAFFIC VIOLATION</td>\n",
       "      <td>True</td>\n",
       "      <td>0</td>\n",
       "    </tr>\n",
       "    <tr>\n",
       "      <th>1</th>\n",
       "      <td>414</td>\n",
       "      <td>18.0</td>\n",
       "      <td>black</td>\n",
       "      <td>male</td>\n",
       "      <td>True</td>\n",
       "      <td>False</td>\n",
       "      <td>False</td>\n",
       "      <td>True</td>\n",
       "      <td>CRIMINAL VIOLATION</td>\n",
       "      <td>True</td>\n",
       "      <td>1</td>\n",
       "    </tr>\n",
       "  </tbody>\n",
       "</table>\n",
       "</div>"
      ],
      "text/plain": [
       "    id  subject_age subject_race subject_sex  arrest_made  citation_issued  \\\n",
       "0  380         27.0        black        male        False            False   \n",
       "1  414         18.0        black        male         True            False   \n",
       "\n",
       "   warning_issued  contraband_found     reason_for_stop  attractiveness  \\\n",
       "0            True             False   TRAFFIC VIOLATION            True   \n",
       "1           False              True  CRIMINAL VIOLATION            True   \n",
       "\n",
       "   outcome  \n",
       "0        0  \n",
       "1        1  "
      ]
     },
     "execution_count": 22,
     "metadata": {},
     "output_type": "execute_result"
    }
   ],
   "source": [
    "df_neworleans = df_neworleans.rename(columns={'Unnamed: 0':'id'})\n",
    "# Age categorie (proxy for attractiveness)\n",
    "df_neworleans['attractiveness'] = df_neworleans.apply(lambda x: True if (x.subject_age<46) else False, axis=1)\n",
    "# Outcome value: arrest, citation = 1 and warning = 0\n",
    "df_neworleans['outcome'] = df_neworleans.apply(lambda x: 1 if (x.arrest_made or x.citation_issued) else 0, axis=1)\n",
    "df_neworleans.head(2)"
   ]
  },
  {
   "cell_type": "code",
   "execution_count": 23,
   "metadata": {},
   "outputs": [
    {
     "data": {
      "text/plain": [
       "Counter({'TRAFFIC VIOLATION': 25977,\n",
       "         'CRIMINAL VIOLATION': 10549,\n",
       "         'CALL FOR SERVICE': 18271,\n",
       "         'SUSPECT PERSON': 12146,\n",
       "         'SUSPECT VEHICLE': 1001,\n",
       "         'JUVENILE VIOLATION': 436,\n",
       "         'OTHER': 3706,\n",
       "         'FLAGGED DOWN': 1102,\n",
       "         'CITIZEN CONTACT': 1698,\n",
       "         'PRESENT AT CRIME SCENE': 240})"
      ]
     },
     "execution_count": 23,
     "metadata": {},
     "output_type": "execute_result"
    }
   ],
   "source": [
    "# Possible reasons for stop\n",
    "reason_stops = list(Counter(df_neworleans['reason_for_stop']).keys())\n",
    "Counter(df_neworleans['reason_for_stop'])"
   ]
  },
  {
   "cell_type": "code",
   "execution_count": 24,
   "metadata": {},
   "outputs": [
    {
     "data": {
      "text/html": [
       "<div>\n",
       "<style scoped>\n",
       "    .dataframe tbody tr th:only-of-type {\n",
       "        vertical-align: middle;\n",
       "    }\n",
       "\n",
       "    .dataframe tbody tr th {\n",
       "        vertical-align: top;\n",
       "    }\n",
       "\n",
       "    .dataframe thead th {\n",
       "        text-align: right;\n",
       "    }\n",
       "</style>\n",
       "<table border=\"1\" class=\"dataframe\">\n",
       "  <thead>\n",
       "    <tr style=\"text-align: right;\">\n",
       "      <th></th>\n",
       "      <th>men</th>\n",
       "      <th>women</th>\n",
       "    </tr>\n",
       "  </thead>\n",
       "  <tbody>\n",
       "    <tr>\n",
       "      <th>0</th>\n",
       "      <td>680.0</td>\n",
       "      <td>2221.0</td>\n",
       "    </tr>\n",
       "    <tr>\n",
       "      <th>1</th>\n",
       "      <td>1725.0</td>\n",
       "      <td>8899.0</td>\n",
       "    </tr>\n",
       "    <tr>\n",
       "      <th>2</th>\n",
       "      <td>2222.0</td>\n",
       "      <td>15361.0</td>\n",
       "    </tr>\n",
       "    <tr>\n",
       "      <th>3</th>\n",
       "      <td>3761.0</td>\n",
       "      <td>21729.0</td>\n",
       "    </tr>\n",
       "    <tr>\n",
       "      <th>4</th>\n",
       "      <td>4956.0</td>\n",
       "      <td>24344.0</td>\n",
       "    </tr>\n",
       "  </tbody>\n",
       "</table>\n",
       "</div>"
      ],
      "text/plain": [
       "      men    women\n",
       "0   680.0   2221.0\n",
       "1  1725.0   8899.0\n",
       "2  2222.0  15361.0\n",
       "3  3761.0  21729.0\n",
       "4  4956.0  24344.0"
      ]
     },
     "execution_count": 24,
     "metadata": {},
     "output_type": "execute_result"
    }
   ],
   "source": [
    "matching=pd.DataFrame({'men':[],'women':[]})\n",
    "AOD = 0\n",
    "# Match 1 woman and 1 man with same attributes\n",
    "for reason in reason_stops:\n",
    "    for race in ('white','black','hispanic'):\n",
    "        for attractiveness in ('True', 'False'):\n",
    "            for contraband in ('True', 'False'):\n",
    "                query = \"reason_for_stop=='\"+reason+\"' & subject_race=='\"+race+\"' & attractiveness==\"+attractiveness+\" & contraband_found==\"+contraband\n",
    "                data = df_neworleans.query(query).copy()\n",
    "                id_M = np.array(data[data['subject_sex']=='male'].id)\n",
    "                id_W = np.array(data[data['subject_sex']=='female'].id)\n",
    "                if ((len(id_M)>0) & (len(id_W)>0)):\n",
    "                    if (len(id_M)>len(id_W)):\n",
    "                        for i in np.arange(0,len(id_W)):\n",
    "                            matching = matching.append({'men':id_M[i],'women':id_W[i]},ignore_index=True)\n",
    "                          \n",
    "                    if (len(id_M)<len(id_W)):\n",
    "                        for i in np.arange(0,len(id_M)):\n",
    "                            matching = matching.append({'men':id_M[i],'women':id_W[i]},ignore_index=True)\n",
    "matching.head(5) "
   ]
  },
  {
   "cell_type": "code",
   "execution_count": 25,
   "metadata": {},
   "outputs": [],
   "source": [
    "# Averaged outcome difference\n",
    "N_matches = len(matching)\n",
    "diff = np.zeros(N_matches)\n",
    "for i in np.arange(0,N_matches):\n",
    "    outcome_man = np.array(df_neworleans[df_neworleans['id']==matching.loc[i,'men']].outcome)\n",
    "    outcome_woman = np.array(df_neworleans[df_neworleans['id']==matching.loc[i,'women']].outcome)\n",
    "    diff[i] = outcome_man-outcome_woman                    \n",
    "AOD = diff.sum()/N_matches "
   ]
  },
  {
   "cell_type": "code",
   "execution_count": 26,
   "metadata": {},
   "outputs": [
    {
     "name": "stdout",
     "output_type": "stream",
     "text": [
      "Averaged outcome difference -0.0715 with [-0.0775, -0.0654] 95% confidence intervals\n"
     ]
    }
   ],
   "source": [
    "# Confidence interval\n",
    "\n",
    "CI = bootstrap_CI(diff, 1000)\n",
    "\n",
    "print('Averaged outcome difference %.4f with [%.4f, %.4f] 95%% confidence intervals' %(AOD, CI[0], CI[1]))\n"
   ]
  },
  {
   "cell_type": "markdown",
   "metadata": {},
   "source": [
    "## CA San diego"
   ]
  },
  {
   "cell_type": "code",
   "execution_count": 27,
   "metadata": {},
   "outputs": [
    {
     "data": {
      "text/html": [
       "<div>\n",
       "<style scoped>\n",
       "    .dataframe tbody tr th:only-of-type {\n",
       "        vertical-align: middle;\n",
       "    }\n",
       "\n",
       "    .dataframe tbody tr th {\n",
       "        vertical-align: top;\n",
       "    }\n",
       "\n",
       "    .dataframe thead th {\n",
       "        text-align: right;\n",
       "    }\n",
       "</style>\n",
       "<table border=\"1\" class=\"dataframe\">\n",
       "  <thead>\n",
       "    <tr style=\"text-align: right;\">\n",
       "      <th></th>\n",
       "      <th>id</th>\n",
       "      <th>raw_row_number</th>\n",
       "      <th>date</th>\n",
       "      <th>time</th>\n",
       "      <th>service_area</th>\n",
       "      <th>subject_age</th>\n",
       "      <th>subject_race</th>\n",
       "      <th>subject_sex</th>\n",
       "      <th>type</th>\n",
       "      <th>arrest_made</th>\n",
       "      <th>...</th>\n",
       "      <th>contraband_found</th>\n",
       "      <th>search_conducted</th>\n",
       "      <th>search_person</th>\n",
       "      <th>search_vehicle</th>\n",
       "      <th>search_basis</th>\n",
       "      <th>reason_for_search</th>\n",
       "      <th>reason_for_stop</th>\n",
       "      <th>raw_action_taken</th>\n",
       "      <th>raw_subject_race_description</th>\n",
       "      <th>attractiveness</th>\n",
       "    </tr>\n",
       "  </thead>\n",
       "  <tbody>\n",
       "    <tr>\n",
       "      <th>0</th>\n",
       "      <td>80</td>\n",
       "      <td>82</td>\n",
       "      <td>2014-01-02</td>\n",
       "      <td>13:30:00</td>\n",
       "      <td>Unknown</td>\n",
       "      <td>25.0</td>\n",
       "      <td>hispanic</td>\n",
       "      <td>male</td>\n",
       "      <td>vehicular</td>\n",
       "      <td>False</td>\n",
       "      <td>...</td>\n",
       "      <td>True</td>\n",
       "      <td>True</td>\n",
       "      <td>False</td>\n",
       "      <td>True</td>\n",
       "      <td>probable cause</td>\n",
       "      <td>Odor of Contraband</td>\n",
       "      <td>Moving Violation</td>\n",
       "      <td>Verbal Warning|FI</td>\n",
       "      <td>HISPANIC</td>\n",
       "      <td>True</td>\n",
       "    </tr>\n",
       "    <tr>\n",
       "      <th>1</th>\n",
       "      <td>127</td>\n",
       "      <td>131</td>\n",
       "      <td>2014-01-03</td>\n",
       "      <td>06:50:00</td>\n",
       "      <td>310</td>\n",
       "      <td>28.0</td>\n",
       "      <td>hispanic</td>\n",
       "      <td>male</td>\n",
       "      <td>vehicular</td>\n",
       "      <td>False</td>\n",
       "      <td>...</td>\n",
       "      <td>False</td>\n",
       "      <td>True</td>\n",
       "      <td>False</td>\n",
       "      <td>True</td>\n",
       "      <td>other</td>\n",
       "      <td>Inventory Search</td>\n",
       "      <td>Moving Violation</td>\n",
       "      <td>Citation</td>\n",
       "      <td>HISPANIC</td>\n",
       "      <td>True</td>\n",
       "    </tr>\n",
       "  </tbody>\n",
       "</table>\n",
       "<p>2 rows × 23 columns</p>\n",
       "</div>"
      ],
      "text/plain": [
       "    id raw_row_number        date      time service_area  subject_age  \\\n",
       "0   80             82  2014-01-02  13:30:00      Unknown         25.0   \n",
       "1  127            131  2014-01-03  06:50:00          310         28.0   \n",
       "\n",
       "  subject_race subject_sex       type arrest_made  ... contraband_found  \\\n",
       "0     hispanic        male  vehicular       False  ...             True   \n",
       "1     hispanic        male  vehicular       False  ...            False   \n",
       "\n",
       "  search_conducted  search_person  search_vehicle    search_basis  \\\n",
       "0             True          False            True  probable cause   \n",
       "1             True          False            True           other   \n",
       "\n",
       "    reason_for_search   reason_for_stop   raw_action_taken  \\\n",
       "0  Odor of Contraband  Moving Violation  Verbal Warning|FI   \n",
       "1    Inventory Search  Moving Violation           Citation   \n",
       "\n",
       "  raw_subject_race_description attractiveness  \n",
       "0                     HISPANIC           True  \n",
       "1                     HISPANIC           True  \n",
       "\n",
       "[2 rows x 23 columns]"
      ]
     },
     "execution_count": 27,
     "metadata": {},
     "output_type": "execute_result"
    }
   ],
   "source": [
    "df_sandiego = df_sandiego.rename(columns={'Unnamed: 0':'id'})\n",
    "# Age categorie (proxy for attractiveness)\n",
    "df_sandiego['attractiveness'] = df_sandiego.apply(lambda x: True if (x.subject_age<46) else False, axis=1)\n",
    "# Outcome value: arrest, citation = 1 and warning = 0\n",
    "df_sandiego['outcome'] = df_sandiego.apply(lambda x: 1 if (x.arrest_made or x.citation_issued) else 0, axis=1)\n",
    "df_sandiego.head(2)"
   ]
  },
  {
   "cell_type": "code",
   "execution_count": 29,
   "metadata": {},
   "outputs": [
    {
     "data": {
      "text/plain": [
       "Counter({'Moving Violation': 5910,\n",
       "         'Equipment Violation': 6736,\n",
       "         'Radio Call/Citizen Contact': 310,\n",
       "         'Personal Knowledge/Informant': 197,\n",
       "         'Muni, County, H&S Code': 120,\n",
       "         'Suspect Info (I.S., Bulletin, Log)': 130,\n",
       "         'Radio Call/Citizen Contact|Moving Violation': 1,\n",
       "         'Equipment Violation|Equipment Violation|Moving Violation': 1,\n",
       "         '&Moving Violation': 5,\n",
       "         'Suspect Info': 7,\n",
       "         'UNI, &County, H&&S Code': 3,\n",
       "         'Equipment Violation|Moving Violation': 5,\n",
       "         'Personal Observ/Knowledge': 7,\n",
       "         nan: 4,\n",
       "         'Moving Violation|Equipment Violation': 2,\n",
       "         'Other': 2,\n",
       "         '&Equipment Violation': 1,\n",
       "         'Moving Violation|Suspect Info (I.S., Bulletin, Log)': 1,\n",
       "         'MUNI, County, H&S Code': 1,\n",
       "         'No Cause Specified on a Card': 2,\n",
       "         'Muni, County, H&S Code|Moving Violation': 1})"
      ]
     },
     "execution_count": 29,
     "metadata": {},
     "output_type": "execute_result"
    }
   ],
   "source": [
    "# Possible reasons for stop\n",
    "reason_stops = list(Counter(df_sandiego['reason_for_stop']).keys())\n",
    "Counter(df_sandiego['reason_for_stop'])"
   ]
  },
  {
   "cell_type": "markdown",
   "metadata": {},
   "source": [
    "we keep only stop reasons habing at least 100 instances"
   ]
  },
  {
   "cell_type": "code",
   "execution_count": 35,
   "metadata": {},
   "outputs": [
    {
     "data": {
      "text/plain": [
       "Counter({'Moving Violation': 5910,\n",
       "         'Equipment Violation': 6736,\n",
       "         'Radio Call/Citizen Contact': 310,\n",
       "         'Personal Knowledge/Informant': 197,\n",
       "         'Suspect Info (I.S., Bulletin, Log)': 130})"
      ]
     },
     "execution_count": 35,
     "metadata": {},
     "output_type": "execute_result"
    }
   ],
   "source": [
    "df_sandiego = df_sandiego.query(\"reason_for_stop=='Moving Violation' or reason_for_stop=='Equipment Violation' or reason_for_stop=='Radio Call/Citizen Contact' or reason_for_stop=='Personal Knowledge/Informant' or reason_for_stop=='Suspect Info (I.S., Bulletin, Log)' \")\n",
    "reason_stops = list(Counter(df_sandiego['reason_for_stop']).keys())\n",
    "Counter(df_sandiego['reason_for_stop'])\n"
   ]
  },
  {
   "cell_type": "code",
   "execution_count": 36,
   "metadata": {},
   "outputs": [
    {
     "data": {
      "text/html": [
       "<div>\n",
       "<style scoped>\n",
       "    .dataframe tbody tr th:only-of-type {\n",
       "        vertical-align: middle;\n",
       "    }\n",
       "\n",
       "    .dataframe tbody tr th {\n",
       "        vertical-align: top;\n",
       "    }\n",
       "\n",
       "    .dataframe thead th {\n",
       "        text-align: right;\n",
       "    }\n",
       "</style>\n",
       "<table border=\"1\" class=\"dataframe\">\n",
       "  <thead>\n",
       "    <tr style=\"text-align: right;\">\n",
       "      <th></th>\n",
       "      <th>men</th>\n",
       "      <th>women</th>\n",
       "    </tr>\n",
       "  </thead>\n",
       "  <tbody>\n",
       "    <tr>\n",
       "      <th>0</th>\n",
       "      <td>7407.0</td>\n",
       "      <td>8738.0</td>\n",
       "    </tr>\n",
       "    <tr>\n",
       "      <th>1</th>\n",
       "      <td>7429.0</td>\n",
       "      <td>10152.0</td>\n",
       "    </tr>\n",
       "    <tr>\n",
       "      <th>2</th>\n",
       "      <td>8893.0</td>\n",
       "      <td>16066.0</td>\n",
       "    </tr>\n",
       "    <tr>\n",
       "      <th>3</th>\n",
       "      <td>9929.0</td>\n",
       "      <td>16181.0</td>\n",
       "    </tr>\n",
       "    <tr>\n",
       "      <th>4</th>\n",
       "      <td>13063.0</td>\n",
       "      <td>21597.0</td>\n",
       "    </tr>\n",
       "  </tbody>\n",
       "</table>\n",
       "</div>"
      ],
      "text/plain": [
       "       men    women\n",
       "0   7407.0   8738.0\n",
       "1   7429.0  10152.0\n",
       "2   8893.0  16066.0\n",
       "3   9929.0  16181.0\n",
       "4  13063.0  21597.0"
      ]
     },
     "execution_count": 36,
     "metadata": {},
     "output_type": "execute_result"
    }
   ],
   "source": [
    "matching=pd.DataFrame({'men':[],'women':[]})\n",
    "AOD = 0\n",
    "# Match 1 woman and 1 man with same attributes\n",
    "for reason in reason_stops:\n",
    "    for race in ('white','black','hispanic'):\n",
    "        for attractiveness in ('True', 'False'):\n",
    "            for contraband in ('True', 'False'):\n",
    "                query = \"reason_for_stop=='\"+reason+\"' & subject_race=='\"+race+\"' & attractiveness==\"+attractiveness+\" & contraband_found==\"+contraband\n",
    "                data = df_sandiego.query(query).copy()\n",
    "                id_M = np.array(data[data['subject_sex']=='male'].id)\n",
    "                id_W = np.array(data[data['subject_sex']=='female'].id)\n",
    "                if ((len(id_M)>0) & (len(id_W)>0)):\n",
    "                    if (len(id_M)>len(id_W)):\n",
    "                        for i in np.arange(0,len(id_W)):\n",
    "                            matching = matching.append({'men':id_M[i],'women':id_W[i]},ignore_index=True)\n",
    "                          \n",
    "                    if (len(id_M)<len(id_W)):\n",
    "                        for i in np.arange(0,len(id_M)):\n",
    "                            matching = matching.append({'men':id_M[i],'women':id_W[i]},ignore_index=True)\n",
    "matching.head(5) "
   ]
  },
  {
   "cell_type": "code",
   "execution_count": 37,
   "metadata": {},
   "outputs": [],
   "source": [
    "# Averaged outcome difference\n",
    "N_matches = len(matching)\n",
    "diff = np.zeros(N_matches)\n",
    "for i in np.arange(0,N_matches):\n",
    "    outcome_man = np.array(df_sandiego[df_sandiego['id']==matching.loc[i,'men']].outcome)\n",
    "    outcome_woman = np.array(df_sandiego[df_sandiego['id']==matching.loc[i,'women']].outcome)\n",
    "    diff[i] = outcome_man-outcome_woman                    \n",
    "AOD = diff.sum()/N_matches "
   ]
  },
  {
   "cell_type": "code",
   "execution_count": 38,
   "metadata": {},
   "outputs": [
    {
     "name": "stdout",
     "output_type": "stream",
     "text": [
      "Averaged outcome difference -0.1543 with [-0.1752, -0.1330] 95% confidence intervals\n"
     ]
    }
   ],
   "source": [
    "# Confidence interval\n",
    "\n",
    "CI = bootstrap_CI(diff, 1000)\n",
    "\n",
    "print('Averaged outcome difference %.4f with [%.4f, %.4f] 95%% confidence intervals' %(AOD, CI[0], CI[1]))\n"
   ]
  },
  {
   "cell_type": "markdown",
   "metadata": {},
   "source": [
    "## CA San Francisco"
   ]
  },
  {
   "cell_type": "code",
   "execution_count": 39,
   "metadata": {},
   "outputs": [
    {
     "data": {
      "text/html": [
       "<div>\n",
       "<style scoped>\n",
       "    .dataframe tbody tr th:only-of-type {\n",
       "        vertical-align: middle;\n",
       "    }\n",
       "\n",
       "    .dataframe tbody tr th {\n",
       "        vertical-align: top;\n",
       "    }\n",
       "\n",
       "    .dataframe thead th {\n",
       "        text-align: right;\n",
       "    }\n",
       "</style>\n",
       "<table border=\"1\" class=\"dataframe\">\n",
       "  <thead>\n",
       "    <tr style=\"text-align: right;\">\n",
       "      <th></th>\n",
       "      <th>id</th>\n",
       "      <th>subject_age</th>\n",
       "      <th>subject_race</th>\n",
       "      <th>subject_sex</th>\n",
       "      <th>arrest_made</th>\n",
       "      <th>citation_issued</th>\n",
       "      <th>warning_issued</th>\n",
       "      <th>contraband_found</th>\n",
       "      <th>reason_for_stop</th>\n",
       "      <th>attractiveness</th>\n",
       "      <th>outcome</th>\n",
       "    </tr>\n",
       "  </thead>\n",
       "  <tbody>\n",
       "    <tr>\n",
       "      <th>0</th>\n",
       "      <td>33182</td>\n",
       "      <td>39.0</td>\n",
       "      <td>hispanic</td>\n",
       "      <td>male</td>\n",
       "      <td>True</td>\n",
       "      <td>False</td>\n",
       "      <td>False</td>\n",
       "      <td>False</td>\n",
       "      <td>Moving Violation</td>\n",
       "      <td>True</td>\n",
       "      <td>1</td>\n",
       "    </tr>\n",
       "    <tr>\n",
       "      <th>1</th>\n",
       "      <td>33185</td>\n",
       "      <td>24.0</td>\n",
       "      <td>hispanic</td>\n",
       "      <td>female</td>\n",
       "      <td>True</td>\n",
       "      <td>False</td>\n",
       "      <td>False</td>\n",
       "      <td>True</td>\n",
       "      <td>Mechanical or Non-Moving Violation (V.C.)</td>\n",
       "      <td>True</td>\n",
       "      <td>1</td>\n",
       "    </tr>\n",
       "  </tbody>\n",
       "</table>\n",
       "</div>"
      ],
      "text/plain": [
       "      id  subject_age subject_race subject_sex  arrest_made  citation_issued  \\\n",
       "0  33182         39.0     hispanic        male         True            False   \n",
       "1  33185         24.0     hispanic      female         True            False   \n",
       "\n",
       "   warning_issued  contraband_found  \\\n",
       "0           False             False   \n",
       "1           False              True   \n",
       "\n",
       "                             reason_for_stop  attractiveness  outcome  \n",
       "0                           Moving Violation            True        1  \n",
       "1  Mechanical or Non-Moving Violation (V.C.)            True        1  "
      ]
     },
     "execution_count": 39,
     "metadata": {},
     "output_type": "execute_result"
    }
   ],
   "source": [
    "df_sanfrancisco = df_sanfrancisco.rename(columns={'Unnamed: 0':'id'})\n",
    "# Age categorie (proxy for attractiveness)\n",
    "df_sanfrancisco['attractiveness'] = df_sanfrancisco.apply(lambda x: True if (x.subject_age<46) else False, axis=1)\n",
    "# Outcome value: arrest, citation = 1 and warning = 0\n",
    "df_sanfrancisco['outcome'] = df_sanfrancisco.apply(lambda x: 1 if (x.arrest_made or x.citation_issued) else 0, axis=1)\n",
    "df_sanfrancisco.head(2)"
   ]
  },
  {
   "cell_type": "code",
   "execution_count": 40,
   "metadata": {},
   "outputs": [
    {
     "data": {
      "text/plain": [
       "Counter({'Moving Violation': 5910,\n",
       "         'Equipment Violation': 6736,\n",
       "         'Radio Call/Citizen Contact': 310,\n",
       "         'Personal Knowledge/Informant': 197,\n",
       "         'Suspect Info (I.S., Bulletin, Log)': 130})"
      ]
     },
     "execution_count": 40,
     "metadata": {},
     "output_type": "execute_result"
    }
   ],
   "source": [
    "# Possible reasons for stop\n",
    "reason_stops = list(Counter(df_sandiego['reason_for_stop']).keys())\n",
    "Counter(df_sandiego['reason_for_stop'])"
   ]
  },
  {
   "cell_type": "code",
   "execution_count": 41,
   "metadata": {},
   "outputs": [
    {
     "data": {
      "text/html": [
       "<div>\n",
       "<style scoped>\n",
       "    .dataframe tbody tr th:only-of-type {\n",
       "        vertical-align: middle;\n",
       "    }\n",
       "\n",
       "    .dataframe tbody tr th {\n",
       "        vertical-align: top;\n",
       "    }\n",
       "\n",
       "    .dataframe thead th {\n",
       "        text-align: right;\n",
       "    }\n",
       "</style>\n",
       "<table border=\"1\" class=\"dataframe\">\n",
       "  <thead>\n",
       "    <tr style=\"text-align: right;\">\n",
       "      <th></th>\n",
       "      <th>men</th>\n",
       "      <th>women</th>\n",
       "    </tr>\n",
       "  </thead>\n",
       "  <tbody>\n",
       "    <tr>\n",
       "      <th>0</th>\n",
       "      <td>33434.0</td>\n",
       "      <td>33806.0</td>\n",
       "    </tr>\n",
       "    <tr>\n",
       "      <th>1</th>\n",
       "      <td>33523.0</td>\n",
       "      <td>34526.0</td>\n",
       "    </tr>\n",
       "    <tr>\n",
       "      <th>2</th>\n",
       "      <td>34336.0</td>\n",
       "      <td>35148.0</td>\n",
       "    </tr>\n",
       "    <tr>\n",
       "      <th>3</th>\n",
       "      <td>34825.0</td>\n",
       "      <td>36784.0</td>\n",
       "    </tr>\n",
       "    <tr>\n",
       "      <th>4</th>\n",
       "      <td>36443.0</td>\n",
       "      <td>41237.0</td>\n",
       "    </tr>\n",
       "  </tbody>\n",
       "</table>\n",
       "</div>"
      ],
      "text/plain": [
       "       men    women\n",
       "0  33434.0  33806.0\n",
       "1  33523.0  34526.0\n",
       "2  34336.0  35148.0\n",
       "3  34825.0  36784.0\n",
       "4  36443.0  41237.0"
      ]
     },
     "execution_count": 41,
     "metadata": {},
     "output_type": "execute_result"
    }
   ],
   "source": [
    "matching=pd.DataFrame({'men':[],'women':[]})\n",
    "AOD = 0\n",
    "# Match 1 woman and 1 man with same attributes\n",
    "for reason in reason_stops:\n",
    "    for race in ('white','black','hispanic'):\n",
    "        for attractiveness in ('True', 'False'):\n",
    "            for contraband in ('True', 'False'):\n",
    "                query = \"reason_for_stop=='\"+reason+\"' & subject_race=='\"+race+\"' & attractiveness==\"+attractiveness+\" & contraband_found==\"+contraband\n",
    "                data = df_sanfrancisco.query(query).copy()\n",
    "                id_M = np.array(data[data['subject_sex']=='male'].id)\n",
    "                id_W = np.array(data[data['subject_sex']=='female'].id)\n",
    "                if ((len(id_M)>0) & (len(id_W)>0)):\n",
    "                    if (len(id_M)>len(id_W)):\n",
    "                        for i in np.arange(0,len(id_W)):\n",
    "                            matching = matching.append({'men':id_M[i],'women':id_W[i]},ignore_index=True)\n",
    "                          \n",
    "                    if (len(id_M)<len(id_W)):\n",
    "                        for i in np.arange(0,len(id_M)):\n",
    "                            matching = matching.append({'men':id_M[i],'women':id_W[i]},ignore_index=True)\n",
    "matching.head(5) "
   ]
  },
  {
   "cell_type": "code",
   "execution_count": 43,
   "metadata": {},
   "outputs": [],
   "source": [
    "# Averaged outcome difference\n",
    "N_matches = len(matching)\n",
    "diff = np.zeros(N_matches)\n",
    "for i in np.arange(0,N_matches):\n",
    "    outcome_man = np.array(df_sanfrancisco[df_sanfrancisco['id']==matching.loc[i,'men']].outcome)\n",
    "    outcome_woman = np.array(df_sanfrancisco[df_sanfrancisco['id']==matching.loc[i,'women']].outcome)\n",
    "    diff[i] = outcome_man-outcome_woman                    \n",
    "AOD = diff.sum()/N_matches "
   ]
  },
  {
   "cell_type": "code",
   "execution_count": 44,
   "metadata": {},
   "outputs": [
    {
     "name": "stdout",
     "output_type": "stream",
     "text": [
      "Averaged outcome difference 0.0207 with [0.0034, 0.0400] 95% confidence intervals\n"
     ]
    }
   ],
   "source": [
    "# Confidence interval\n",
    "\n",
    "CI = bootstrap_CI(diff, 1000)\n",
    "\n",
    "print('Averaged outcome difference %.4f with [%.4f, %.4f] 95%% confidence intervals' %(AOD, CI[0], CI[1]))\n"
   ]
  },
  {
   "cell_type": "markdown",
   "metadata": {},
   "source": [
    "## CN Greensboro"
   ]
  },
  {
   "cell_type": "code",
   "execution_count": 46,
   "metadata": {},
   "outputs": [
    {
     "data": {
      "text/html": [
       "<div>\n",
       "<style scoped>\n",
       "    .dataframe tbody tr th:only-of-type {\n",
       "        vertical-align: middle;\n",
       "    }\n",
       "\n",
       "    .dataframe tbody tr th {\n",
       "        vertical-align: top;\n",
       "    }\n",
       "\n",
       "    .dataframe thead th {\n",
       "        text-align: right;\n",
       "    }\n",
       "</style>\n",
       "<table border=\"1\" class=\"dataframe\">\n",
       "  <thead>\n",
       "    <tr style=\"text-align: right;\">\n",
       "      <th></th>\n",
       "      <th>id</th>\n",
       "      <th>subject_age</th>\n",
       "      <th>subject_race</th>\n",
       "      <th>subject_sex</th>\n",
       "      <th>arrest_made</th>\n",
       "      <th>citation_issued</th>\n",
       "      <th>warning_issued</th>\n",
       "      <th>contraband_found</th>\n",
       "      <th>frisk_performed</th>\n",
       "      <th>search_person</th>\n",
       "      <th>search_vehicle</th>\n",
       "      <th>reason_for_frisk</th>\n",
       "      <th>reason_for_search</th>\n",
       "      <th>reason_for_stop</th>\n",
       "      <th>attractiveness</th>\n",
       "      <th>outcome</th>\n",
       "    </tr>\n",
       "  </thead>\n",
       "  <tbody>\n",
       "    <tr>\n",
       "      <th>0</th>\n",
       "      <td>21</td>\n",
       "      <td>23.0</td>\n",
       "      <td>white</td>\n",
       "      <td>female</td>\n",
       "      <td>False</td>\n",
       "      <td>False</td>\n",
       "      <td>False</td>\n",
       "      <td>False</td>\n",
       "      <td>False</td>\n",
       "      <td>True</td>\n",
       "      <td>True</td>\n",
       "      <td>NaN</td>\n",
       "      <td>Observation of Suspected Contraband</td>\n",
       "      <td>Speed Limit Violation</td>\n",
       "      <td>True</td>\n",
       "      <td>0</td>\n",
       "    </tr>\n",
       "    <tr>\n",
       "      <th>1</th>\n",
       "      <td>26</td>\n",
       "      <td>22.0</td>\n",
       "      <td>white</td>\n",
       "      <td>female</td>\n",
       "      <td>True</td>\n",
       "      <td>False</td>\n",
       "      <td>False</td>\n",
       "      <td>False</td>\n",
       "      <td>False</td>\n",
       "      <td>True</td>\n",
       "      <td>True</td>\n",
       "      <td>NaN</td>\n",
       "      <td>Erratic/Suspicious Behavior</td>\n",
       "      <td>Speed Limit Violation</td>\n",
       "      <td>True</td>\n",
       "      <td>1</td>\n",
       "    </tr>\n",
       "  </tbody>\n",
       "</table>\n",
       "</div>"
      ],
      "text/plain": [
       "   id  subject_age subject_race subject_sex  arrest_made  citation_issued  \\\n",
       "0  21         23.0        white      female        False            False   \n",
       "1  26         22.0        white      female         True            False   \n",
       "\n",
       "   warning_issued  contraband_found  frisk_performed  search_person  \\\n",
       "0           False             False            False           True   \n",
       "1           False             False            False           True   \n",
       "\n",
       "   search_vehicle reason_for_frisk                    reason_for_search  \\\n",
       "0            True              NaN  Observation of Suspected Contraband   \n",
       "1            True              NaN          Erratic/Suspicious Behavior   \n",
       "\n",
       "         reason_for_stop  attractiveness  outcome  \n",
       "0  Speed Limit Violation            True        0  \n",
       "1  Speed Limit Violation            True        1  "
      ]
     },
     "execution_count": 46,
     "metadata": {},
     "output_type": "execute_result"
    }
   ],
   "source": [
    "df_greensboro = df_greensboro.rename(columns={'Unnamed: 0':'id'})\n",
    "# Age categorie (proxy for attractiveness)\n",
    "df_greensboro['attractiveness'] = df_greensboro.apply(lambda x: True if (x.subject_age<46) else False, axis=1)\n",
    "# Outcome value: arrest, citation = 1 and warning = 0\n",
    "df_greensboro['outcome'] = df_greensboro.apply(lambda x: 1 if (x.arrest_made or x.citation_issued) else 0, axis=1)\n",
    "df_greensboro.head(2)"
   ]
  },
  {
   "cell_type": "code",
   "execution_count": 48,
   "metadata": {},
   "outputs": [
    {
     "data": {
      "text/plain": [
       "Counter({'Speed Limit Violation': 4661,\n",
       "         'Driving While Impaired': 1197,\n",
       "         'Stop Light/Sign Violation': 1741,\n",
       "         'Safe Movement Violation': 3753,\n",
       "         'Vehicle Regulatory Violation': 6929,\n",
       "         'Investigation': 4805,\n",
       "         'Other Motor Vehicle Violation': 1769,\n",
       "         'Vehicle Equipment Violation': 4633,\n",
       "         'Seat Belt Violation': 2354,\n",
       "         'Checkpoint': 93})"
      ]
     },
     "execution_count": 48,
     "metadata": {},
     "output_type": "execute_result"
    }
   ],
   "source": [
    "# Possible reasons for stop\n",
    "reason_stops = list(Counter(df_greensboro['reason_for_stop']).keys())\n",
    "Counter(df_greensboro['reason_for_stop'])"
   ]
  },
  {
   "cell_type": "code",
   "execution_count": 49,
   "metadata": {},
   "outputs": [
    {
     "data": {
      "text/html": [
       "<div>\n",
       "<style scoped>\n",
       "    .dataframe tbody tr th:only-of-type {\n",
       "        vertical-align: middle;\n",
       "    }\n",
       "\n",
       "    .dataframe tbody tr th {\n",
       "        vertical-align: top;\n",
       "    }\n",
       "\n",
       "    .dataframe thead th {\n",
       "        text-align: right;\n",
       "    }\n",
       "</style>\n",
       "<table border=\"1\" class=\"dataframe\">\n",
       "  <thead>\n",
       "    <tr style=\"text-align: right;\">\n",
       "      <th></th>\n",
       "      <th>men</th>\n",
       "      <th>women</th>\n",
       "    </tr>\n",
       "  </thead>\n",
       "  <tbody>\n",
       "    <tr>\n",
       "      <th>0</th>\n",
       "      <td>105.0</td>\n",
       "      <td>372.0</td>\n",
       "    </tr>\n",
       "    <tr>\n",
       "      <th>1</th>\n",
       "      <td>599.0</td>\n",
       "      <td>6598.0</td>\n",
       "    </tr>\n",
       "    <tr>\n",
       "      <th>2</th>\n",
       "      <td>926.0</td>\n",
       "      <td>7871.0</td>\n",
       "    </tr>\n",
       "    <tr>\n",
       "      <th>3</th>\n",
       "      <td>1566.0</td>\n",
       "      <td>21307.0</td>\n",
       "    </tr>\n",
       "    <tr>\n",
       "      <th>4</th>\n",
       "      <td>4045.0</td>\n",
       "      <td>21968.0</td>\n",
       "    </tr>\n",
       "  </tbody>\n",
       "</table>\n",
       "</div>"
      ],
      "text/plain": [
       "      men    women\n",
       "0   105.0    372.0\n",
       "1   599.0   6598.0\n",
       "2   926.0   7871.0\n",
       "3  1566.0  21307.0\n",
       "4  4045.0  21968.0"
      ]
     },
     "execution_count": 49,
     "metadata": {},
     "output_type": "execute_result"
    }
   ],
   "source": [
    "matching=pd.DataFrame({'men':[],'women':[]})\n",
    "AOD = 0\n",
    "# Match 1 woman and 1 man with same attributes\n",
    "for reason in reason_stops:\n",
    "    for race in ('white','black','hispanic'):\n",
    "        for attractiveness in ('True', 'False'):\n",
    "            for contraband in ('True', 'False'):\n",
    "                query = \"reason_for_stop=='\"+reason+\"' & subject_race=='\"+race+\"' & attractiveness==\"+attractiveness+\" & contraband_found==\"+contraband\n",
    "                data = df_greensboro.query(query).copy()\n",
    "                id_M = np.array(data[data['subject_sex']=='male'].id)\n",
    "                id_W = np.array(data[data['subject_sex']=='female'].id)\n",
    "                if ((len(id_M)>0) & (len(id_W)>0)):\n",
    "                    if (len(id_M)>len(id_W)):\n",
    "                        for i in np.arange(0,len(id_W)):\n",
    "                            matching = matching.append({'men':id_M[i],'women':id_W[i]},ignore_index=True)\n",
    "                          \n",
    "                    if (len(id_M)<len(id_W)):\n",
    "                        for i in np.arange(0,len(id_M)):\n",
    "                            matching = matching.append({'men':id_M[i],'women':id_W[i]},ignore_index=True)\n",
    "matching.head(5)"
   ]
  },
  {
   "cell_type": "code",
   "execution_count": 50,
   "metadata": {},
   "outputs": [],
   "source": [
    "# Averaged outcome difference\n",
    "N_matches = len(matching)\n",
    "diff = np.zeros(N_matches)\n",
    "for i in np.arange(0,N_matches):\n",
    "    outcome_man = np.array(df_greensboro[df_greensboro['id']==matching.loc[i,'men']].outcome)\n",
    "    outcome_woman = np.array(df_greensboro[df_greensboro['id']==matching.loc[i,'women']].outcome)\n",
    "    diff[i] = outcome_man-outcome_woman                    \n",
    "AOD = diff.sum()/N_matches "
   ]
  },
  {
   "cell_type": "code",
   "execution_count": 51,
   "metadata": {},
   "outputs": [
    {
     "name": "stdout",
     "output_type": "stream",
     "text": [
      "Averaged outcome difference 0.0433 with [0.0317, 0.0546] 95% confidence intervals\n"
     ]
    }
   ],
   "source": [
    "# Confidence interval\n",
    "\n",
    "CI = bootstrap_CI(diff, 1000)\n",
    "\n",
    "print('Averaged outcome difference %.4f with [%.4f, %.4f] 95%% confidence intervals' %(AOD, CI[0], CI[1]))\n"
   ]
  },
  {
   "cell_type": "markdown",
   "metadata": {},
   "source": [
    "## CN Raleigh"
   ]
  },
  {
   "cell_type": "code",
   "execution_count": 52,
   "metadata": {},
   "outputs": [
    {
     "data": {
      "text/html": [
       "<div>\n",
       "<style scoped>\n",
       "    .dataframe tbody tr th:only-of-type {\n",
       "        vertical-align: middle;\n",
       "    }\n",
       "\n",
       "    .dataframe tbody tr th {\n",
       "        vertical-align: top;\n",
       "    }\n",
       "\n",
       "    .dataframe thead th {\n",
       "        text-align: right;\n",
       "    }\n",
       "</style>\n",
       "<table border=\"1\" class=\"dataframe\">\n",
       "  <thead>\n",
       "    <tr style=\"text-align: right;\">\n",
       "      <th></th>\n",
       "      <th>id</th>\n",
       "      <th>subject_age</th>\n",
       "      <th>subject_race</th>\n",
       "      <th>subject_sex</th>\n",
       "      <th>arrest_made</th>\n",
       "      <th>citation_issued</th>\n",
       "      <th>warning_issued</th>\n",
       "      <th>contraband_found</th>\n",
       "      <th>frisk_performed</th>\n",
       "      <th>search_person</th>\n",
       "      <th>search_vehicle</th>\n",
       "      <th>reason_for_frisk</th>\n",
       "      <th>reason_for_search</th>\n",
       "      <th>reason_for_stop</th>\n",
       "      <th>attractiveness</th>\n",
       "      <th>outcome</th>\n",
       "    </tr>\n",
       "  </thead>\n",
       "  <tbody>\n",
       "    <tr>\n",
       "      <th>0</th>\n",
       "      <td>17</td>\n",
       "      <td>21</td>\n",
       "      <td>hispanic</td>\n",
       "      <td>male</td>\n",
       "      <td>True</td>\n",
       "      <td>False</td>\n",
       "      <td>False</td>\n",
       "      <td>False</td>\n",
       "      <td>False</td>\n",
       "      <td>True</td>\n",
       "      <td>True</td>\n",
       "      <td>NaN</td>\n",
       "      <td>Erratic/Suspicious Behavior</td>\n",
       "      <td>Driving While Impaired</td>\n",
       "      <td>True</td>\n",
       "      <td>1</td>\n",
       "    </tr>\n",
       "    <tr>\n",
       "      <th>1</th>\n",
       "      <td>40</td>\n",
       "      <td>34</td>\n",
       "      <td>hispanic</td>\n",
       "      <td>male</td>\n",
       "      <td>True</td>\n",
       "      <td>False</td>\n",
       "      <td>False</td>\n",
       "      <td>False</td>\n",
       "      <td>False</td>\n",
       "      <td>True</td>\n",
       "      <td>True</td>\n",
       "      <td>NaN</td>\n",
       "      <td>Observation of Suspected Contraband</td>\n",
       "      <td>Driving While Impaired</td>\n",
       "      <td>True</td>\n",
       "      <td>1</td>\n",
       "    </tr>\n",
       "  </tbody>\n",
       "</table>\n",
       "</div>"
      ],
      "text/plain": [
       "   id  subject_age subject_race subject_sex  arrest_made  citation_issued  \\\n",
       "0  17           21     hispanic        male         True            False   \n",
       "1  40           34     hispanic        male         True            False   \n",
       "\n",
       "   warning_issued  contraband_found  frisk_performed  search_person  \\\n",
       "0           False             False            False           True   \n",
       "1           False             False            False           True   \n",
       "\n",
       "   search_vehicle reason_for_frisk                    reason_for_search  \\\n",
       "0            True              NaN          Erratic/Suspicious Behavior   \n",
       "1            True              NaN  Observation of Suspected Contraband   \n",
       "\n",
       "          reason_for_stop  attractiveness  outcome  \n",
       "0  Driving While Impaired            True        1  \n",
       "1  Driving While Impaired            True        1  "
      ]
     },
     "execution_count": 52,
     "metadata": {},
     "output_type": "execute_result"
    }
   ],
   "source": [
    "df_raleigh = df_raleigh.rename(columns={'Unnamed: 0':'id'})\n",
    "# Age categorie (proxy for attractiveness)\n",
    "df_raleigh['attractiveness'] = df_raleigh.apply(lambda x: True if (x.subject_age<46) else False, axis=1)\n",
    "# Outcome value: arrest, citation = 1 and warning = 0\n",
    "df_raleigh['outcome'] = df_raleigh.apply(lambda x: 1 if (x.arrest_made or x.citation_issued) else 0, axis=1)\n",
    "df_raleigh.head(2)"
   ]
  },
  {
   "cell_type": "code",
   "execution_count": 53,
   "metadata": {},
   "outputs": [
    {
     "data": {
      "text/plain": [
       "Counter({'Speed Limit Violation': 4661,\n",
       "         'Driving While Impaired': 1197,\n",
       "         'Stop Light/Sign Violation': 1741,\n",
       "         'Safe Movement Violation': 3753,\n",
       "         'Vehicle Regulatory Violation': 6929,\n",
       "         'Investigation': 4805,\n",
       "         'Other Motor Vehicle Violation': 1769,\n",
       "         'Vehicle Equipment Violation': 4633,\n",
       "         'Seat Belt Violation': 2354,\n",
       "         'Checkpoint': 93})"
      ]
     },
     "execution_count": 53,
     "metadata": {},
     "output_type": "execute_result"
    }
   ],
   "source": [
    "# Possible reasons for stop\n",
    "reason_stops = list(Counter(df_greensboro['reason_for_stop']).keys())\n",
    "Counter(df_greensboro['reason_for_stop'])"
   ]
  },
  {
   "cell_type": "code",
   "execution_count": 54,
   "metadata": {},
   "outputs": [
    {
     "data": {
      "text/html": [
       "<div>\n",
       "<style scoped>\n",
       "    .dataframe tbody tr th:only-of-type {\n",
       "        vertical-align: middle;\n",
       "    }\n",
       "\n",
       "    .dataframe tbody tr th {\n",
       "        vertical-align: top;\n",
       "    }\n",
       "\n",
       "    .dataframe thead th {\n",
       "        text-align: right;\n",
       "    }\n",
       "</style>\n",
       "<table border=\"1\" class=\"dataframe\">\n",
       "  <thead>\n",
       "    <tr style=\"text-align: right;\">\n",
       "      <th></th>\n",
       "      <th>men</th>\n",
       "      <th>women</th>\n",
       "    </tr>\n",
       "  </thead>\n",
       "  <tbody>\n",
       "    <tr>\n",
       "      <th>0</th>\n",
       "      <td>1195.0</td>\n",
       "      <td>13898.0</td>\n",
       "    </tr>\n",
       "    <tr>\n",
       "      <th>1</th>\n",
       "      <td>1489.0</td>\n",
       "      <td>19444.0</td>\n",
       "    </tr>\n",
       "    <tr>\n",
       "      <th>2</th>\n",
       "      <td>2213.0</td>\n",
       "      <td>106859.0</td>\n",
       "    </tr>\n",
       "    <tr>\n",
       "      <th>3</th>\n",
       "      <td>2237.0</td>\n",
       "      <td>107943.0</td>\n",
       "    </tr>\n",
       "    <tr>\n",
       "      <th>4</th>\n",
       "      <td>2654.0</td>\n",
       "      <td>144535.0</td>\n",
       "    </tr>\n",
       "  </tbody>\n",
       "</table>\n",
       "</div>"
      ],
      "text/plain": [
       "      men     women\n",
       "0  1195.0   13898.0\n",
       "1  1489.0   19444.0\n",
       "2  2213.0  106859.0\n",
       "3  2237.0  107943.0\n",
       "4  2654.0  144535.0"
      ]
     },
     "execution_count": 54,
     "metadata": {},
     "output_type": "execute_result"
    }
   ],
   "source": [
    "matching=pd.DataFrame({'men':[],'women':[]})\n",
    "AOD = 0\n",
    "# Match 1 woman and 1 man with same attributes\n",
    "for reason in reason_stops:\n",
    "    for race in ('white','black','hispanic'):\n",
    "        for attractiveness in ('True', 'False'):\n",
    "            for contraband in ('True', 'False'):\n",
    "                query = \"reason_for_stop=='\"+reason+\"' & subject_race=='\"+race+\"' & attractiveness==\"+attractiveness+\" & contraband_found==\"+contraband\n",
    "                data = df_raleigh.query(query).copy()\n",
    "                id_M = np.array(data[data['subject_sex']=='male'].id)\n",
    "                id_W = np.array(data[data['subject_sex']=='female'].id)\n",
    "                if ((len(id_M)>0) & (len(id_W)>0)):\n",
    "                    if (len(id_M)>len(id_W)):\n",
    "                        for i in np.arange(0,len(id_W)):\n",
    "                            matching = matching.append({'men':id_M[i],'women':id_W[i]},ignore_index=True)\n",
    "                          \n",
    "                    if (len(id_M)<len(id_W)):\n",
    "                        for i in np.arange(0,len(id_M)):\n",
    "                            matching = matching.append({'men':id_M[i],'women':id_W[i]},ignore_index=True)\n",
    "matching.head(5)"
   ]
  },
  {
   "cell_type": "code",
   "execution_count": 58,
   "metadata": {},
   "outputs": [],
   "source": [
    "# Averaged outcome difference\n",
    "N_matches = len(matching)\n",
    "diff = np.zeros(N_matches)\n",
    "for i in np.arange(0,N_matches):\n",
    "    outcome_man = np.array(df_raleigh[df_raleigh['id']==matching.loc[i,'men']].outcome)\n",
    "    outcome_woman = np.array(df_raleigh[df_raleigh['id']==matching.loc[i,'women']].outcome)\n",
    "    diff[i] = outcome_man-outcome_woman                    \n",
    "AOD = diff.sum()/N_matches "
   ]
  },
  {
   "cell_type": "code",
   "execution_count": 59,
   "metadata": {},
   "outputs": [
    {
     "name": "stdout",
     "output_type": "stream",
     "text": [
      "Averaged outcome difference 0.0775 with [0.0685, 0.0872] 95% confidence intervals\n"
     ]
    }
   ],
   "source": [
    "# Confidence interval\n",
    "\n",
    "CI = bootstrap_CI(diff, 1000)\n",
    "\n",
    "print('Averaged outcome difference %.4f with [%.4f, %.4f] 95%% confidence intervals' %(AOD, CI[0], CI[1]))\n"
   ]
  },
  {
   "cell_type": "code",
   "execution_count": null,
   "metadata": {},
   "outputs": [],
   "source": []
  }
 ],
 "metadata": {
  "kernelspec": {
   "display_name": "Python 3",
   "language": "python",
   "name": "python3"
  },
  "language_info": {
   "codemirror_mode": {
    "name": "ipython",
    "version": 3
   },
   "file_extension": ".py",
   "mimetype": "text/x-python",
   "name": "python",
   "nbconvert_exporter": "python",
   "pygments_lexer": "ipython3",
   "version": "3.8.3"
  }
 },
 "nbformat": 4,
 "nbformat_minor": 4
}
