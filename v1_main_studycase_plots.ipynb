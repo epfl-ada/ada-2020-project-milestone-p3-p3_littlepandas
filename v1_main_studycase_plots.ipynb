{
 "cells": [
  {
   "cell_type": "markdown",
   "metadata": {},
   "source": [
    "# Data analysis :  Gender disparities in police stops accross the United States\n"
   ]
  },
  {
   "cell_type": "code",
   "execution_count": 1,
   "metadata": {},
   "outputs": [],
   "source": [
    "# Libraries needed \n",
    "import pandas as pd\n",
    "import pandas as pd\n",
    "import numpy as np\n",
    "import matplotlib.pyplot as plt\n",
    "%matplotlib inline\n",
    "import seaborn as sns\n",
    "import math\n",
    "from pathlib import Path\n",
    "\n",
    "import collections \n",
    "from collections import Counter"
   ]
  },
  {
   "cell_type": "markdown",
   "metadata": {},
   "source": [
    "## Data wrangling\n",
    "- Datasets choice and loading\n",
    "- Filtering of incomplete rows and unnecessary features\n",
    "- Formatting\n",
    "\n",
    "The datasets handled are : \n",
    "- Set 1 : NC (Charlotte, Greensboro, Raleigh), Austin (TX), CA (San Diego), Maryland state (MD)\n",
    "- Set 2 : NC (Charlotte, Greensboro, Raleigh), CA (San Diego and San Francisco), Nashville (TN), New Orleans (Louisiana), Maryland state (MD)\n",
    "- Case study : Florida state (FL)\n",
    "\n",
    "Also available : Washington state (WA) with officers' gender, Louisville (Kentucky), and Pittsburgh (Philadelphia) for female police officer fraction computation. \n",
    "\n",
    "For the different analysis of our study, there are mandatory features that must appear in each dataset in order to be able to fulfill our analysis. These are listed before each section in this notebook. Remaining interesting features are let in the filtered datasets, for potential data description. \n",
    "Some extra effort was moreover given to find various state and cities accross the USA that differ geographically, and on their potential sexist bias. Indeed, sexism could differ from state to state (which is one of the research question of this work), hence the datasets are commented by an indication on whether the state is a priori sexist or not, following https://www.chicagotribune.com/nation-world/ct-america-most-sexist-places-20180821-story.html. "
   ]
  },
  {
   "cell_type": "markdown",
   "metadata": {},
   "source": [
    "### For set 1 : \n",
    "    - age, gender, race\n",
    "    - reason for search + search_person and search_vehicle\n",
    "    - contraband_found\n",
    "    \n",
    "    \n",
    "North Carolina : Charlotte, Greensboro and Raleigh - very sexist"
   ]
  },
  {
   "cell_type": "code",
   "execution_count": 2,
   "metadata": {},
   "outputs": [
    {
     "name": "stdout",
     "output_type": "stream",
     "text": [
      "\n",
      " For : Charlotte\n",
      "{'search_vehicle', 'officer_id_hash', 'county_name', 'outcome', 'date', 'raw_row_number', 'contraband_found', 'reason_for_search', 'contraband_weapons', 'subject_age', 'reason_for_stop', 'raw_action_description', 'location', 'search_basis', 'arrest_made', 'raw_Ethnicity', 'reason_for_frisk', 'search_person', 'contraband_drugs', 'subject_race', 'raw_Race', 'search_conducted', 'warning_issued', 'frisk_performed', 'type', 'subject_sex', 'department_name', 'time', 'citation_issued'}\n",
      "Dimensions of dataframe before filtering :(1598453, 29)\n",
      "Dimensions of dataframe after :(92878, 13)\n",
      "    subject_age subject_race subject_sex  arrest_made  citation_issued  \\\n",
      "81         21.0        black        male         True            False   \n",
      "82         21.0        black        male         True            False   \n",
      "90         25.0        black        male         True            False   \n",
      "91         25.0        black        male         True            False   \n",
      "92         25.0        black        male         True            False   \n",
      "\n",
      "    warning_issued contraband_found  frisk_performed  search_person  \\\n",
      "81           False             True            False           True   \n",
      "82           False            False            False           True   \n",
      "90           False            False            False           True   \n",
      "91           False            False            False           True   \n",
      "92           False            False            False           True   \n",
      "\n",
      "    search_vehicle reason_for_frisk                    reason_for_search  \\\n",
      "81            True              NaN           Other Official Information   \n",
      "82            True              NaN           Other Official Information   \n",
      "90            True              NaN  Observation of Suspected Contraband   \n",
      "91            True              NaN  Observation of Suspected Contraband   \n",
      "92            True              NaN  Observation of Suspected Contraband   \n",
      "\n",
      "                reason_for_stop  \n",
      "81  Vehicle Equipment Violation  \n",
      "82                Investigation  \n",
      "90                Investigation  \n",
      "91                Investigation  \n",
      "92                Investigation  \n",
      "\n",
      " For : Raleigh\n",
      "{'search_vehicle', 'officer_id_hash', 'county_name', 'outcome', 'date', 'raw_row_number', 'contraband_found', 'reason_for_search', 'contraband_weapons', 'subject_age', 'reason_for_stop', 'raw_action_description', 'location', 'search_basis', 'arrest_made', 'raw_Ethnicity', 'reason_for_frisk', 'search_person', 'contraband_drugs', 'subject_race', 'raw_Race', 'search_conducted', 'warning_issued', 'frisk_performed', 'type', 'subject_sex', 'department_name', 'time', 'citation_issued'}\n",
      "Dimensions of dataframe before filtering :(856400, 29)\n",
      "Dimensions of dataframe after :(33290, 13)\n",
      "    subject_age subject_race subject_sex  arrest_made  citation_issued  \\\n",
      "17           21     hispanic        male         True            False   \n",
      "40           34     hispanic        male         True            False   \n",
      "56           22        white        male         True            False   \n",
      "64           49        other        male        False             True   \n",
      "75           39        black        male        False            False   \n",
      "\n",
      "    warning_issued contraband_found  frisk_performed  search_person  \\\n",
      "17           False            False            False           True   \n",
      "40           False            False            False           True   \n",
      "56           False             True            False           True   \n",
      "64           False            False            False           True   \n",
      "75            True            False             True           True   \n",
      "\n",
      "    search_vehicle             reason_for_frisk  \\\n",
      "17            True                          NaN   \n",
      "40            True                          NaN   \n",
      "56            True                          NaN   \n",
      "64            True                          NaN   \n",
      "75            True  Erratic/Suspicious Behavior   \n",
      "\n",
      "                      reason_for_search            reason_for_stop  \n",
      "17          Erratic/Suspicious Behavior     Driving While Impaired  \n",
      "40  Observation of Suspected Contraband     Driving While Impaired  \n",
      "56          Erratic/Suspicious Behavior  Stop Light/Sign Violation  \n",
      "64          Erratic/Suspicious Behavior    Safe Movement Violation  \n",
      "75          Erratic/Suspicious Behavior              Investigation  \n",
      "\n",
      " For : Greensboro\n",
      "{'search_vehicle', 'officer_id_hash', 'county_name', 'outcome', 'date', 'raw_row_number', 'contraband_found', 'reason_for_search', 'contraband_weapons', 'subject_age', 'reason_for_stop', 'raw_action_description', 'location', 'search_basis', 'arrest_made', 'raw_Ethnicity', 'reason_for_frisk', 'search_person', 'contraband_drugs', 'subject_race', 'raw_Race', 'search_conducted', 'warning_issued', 'frisk_performed', 'type', 'subject_sex', 'department_name', 'time', 'citation_issued'}\n",
      "Dimensions of dataframe before filtering :(600031, 29)\n",
      "Dimensions of dataframe after :(31935, 13)\n",
      "    subject_age subject_race subject_sex  arrest_made  citation_issued  \\\n",
      "21         23.0        white      female        False            False   \n",
      "26         22.0        white      female         True            False   \n",
      "49         19.0        white        male        False            False   \n",
      "51         37.0        white        male         True            False   \n",
      "58         24.0        white        male         True            False   \n",
      "\n",
      "    warning_issued contraband_found  frisk_performed  search_person  \\\n",
      "21           False            False            False           True   \n",
      "26           False            False            False           True   \n",
      "49            True            False            False           True   \n",
      "51           False            False            False           True   \n",
      "58           False            False            False           True   \n",
      "\n",
      "    search_vehicle reason_for_frisk                    reason_for_search  \\\n",
      "21            True              NaN  Observation of Suspected Contraband   \n",
      "26            True              NaN          Erratic/Suspicious Behavior   \n",
      "49            True              NaN  Observation of Suspected Contraband   \n",
      "51            True              NaN          Erratic/Suspicious Behavior   \n",
      "58            True              NaN          Erratic/Suspicious Behavior   \n",
      "\n",
      "           reason_for_stop  \n",
      "21   Speed Limit Violation  \n",
      "26   Speed Limit Violation  \n",
      "49   Speed Limit Violation  \n",
      "51   Speed Limit Violation  \n",
      "58  Driving While Impaired  \n"
     ]
    }
   ],
   "source": [
    "# North Carolina \n",
    "df_charlotte = pd.read_csv('data_P4/yg821jf8611_nc_charlotte_2020_04_01.csv.zip', compression='zip')\n",
    "df_raleigh = pd.read_csv('data_P4/yg821jf8611_nc_raleigh_2020_04_01.csv.zip', compression='zip')\n",
    "df_greensboro = pd.read_csv('data_P4/yg821jf8611_nc_greensboro_2020_04_01.csv.zip', compression='zip')\n",
    "name = ['Charlotte','Raleigh','Greensboro']\n",
    "\n",
    "for idx,df in enumerate([df_charlotte, df_raleigh, df_greensboro]):\n",
    "    print('\\n For : '+str(name[idx]))\n",
    "    print(set(df.columns))\n",
    "    print('Dimensions of dataframe before filtering :'+str(df.shape))\n",
    "    \n",
    "    # filtering \n",
    "    df.dropna(subset=['subject_age', 'subject_race', 'subject_sex', 'contraband_found', 'search_person', 'search_vehicle', 'reason_for_search'], inplace=True)\n",
    "    df.drop(df.columns.difference(['subject_age', 'subject_race', 'subject_sex', 'contraband_found', 'search_person', 'search_vehicle', 'reason_for_search', 'citation_issued','warning_issued','arrest_made', 'frisk_performed', 'reason_for_frisk', 'reason_for_stop']), 1, inplace=True)\n",
    "    \n",
    "    print('Dimensions of dataframe after :'+str(df.shape))\n",
    "    print(df.head())"
   ]
  },
  {
   "cell_type": "markdown",
   "metadata": {},
   "source": [
    "San Diego (California) - not so sexist\n",
    "- without frisk information"
   ]
  },
  {
   "cell_type": "code",
   "execution_count": 3,
   "metadata": {},
   "outputs": [
    {
     "name": "stdout",
     "output_type": "stream",
     "text": [
      "\n",
      " For : San Diego\n",
      "{'search_vehicle', 'outcome', 'date', 'raw_row_number', 'contraband_found', 'reason_for_search', 'subject_age', 'raw_action_taken', 'reason_for_stop', 'search_basis', 'arrest_made', 'search_person', 'subject_race', 'search_conducted', 'warning_issued', 'raw_subject_race_description', 'type', 'subject_sex', 'time', 'citation_issued', 'service_area'}\n",
      "Dimensions of dataframe before filtering :(383027, 21)\n",
      "Dimensions of dataframe after :(13446, 11)\n",
      "     subject_age subject_race subject_sex arrest_made citation_issued  \\\n",
      "80          25.0     hispanic        male       False           False   \n",
      "127         28.0     hispanic        male       False            True   \n",
      "171         27.0     hispanic      female       False            True   \n",
      "193         55.0        black        male       False           False   \n",
      "221         36.0        white        male       False            True   \n",
      "\n",
      "    warning_issued contraband_found search_person search_vehicle  \\\n",
      "80            True             True         False           True   \n",
      "127          False            False         False           True   \n",
      "171          False            False          True          False   \n",
      "193          False            False         False           True   \n",
      "221          False             True         False           True   \n",
      "\n",
      "                       reason_for_search      reason_for_stop  \n",
      "80                    Odor of Contraband     Moving Violation  \n",
      "127                     Inventory Search     Moving Violation  \n",
      "171  Inventory Search [Prior to Impound]  Equipment Violation  \n",
      "193                    -th Waiver Search     Moving Violation  \n",
      "221                       Consent Search  Equipment Violation  \n"
     ]
    }
   ],
   "source": [
    "df_sandiego = pd.read_csv('data_P4/without_frisk_performed/yg821jf8611_ca_san_diego_2020_04_01.csv.zip', compression='zip')\n",
    "\n",
    "print('\\n For : San Diego')\n",
    "print(set(df_sandiego.columns))\n",
    "print('Dimensions of dataframe before filtering :'+str(df_sandiego.shape))\n",
    "#filtering\n",
    "df_sandiego.dropna(subset=['subject_age', 'subject_race', 'subject_sex', 'contraband_found', 'search_person', 'search_vehicle', 'reason_for_search'], inplace=True)\n",
    "df_sandiego.drop(df_sandiego.columns.difference(['subject_age', 'subject_race', 'subject_sex', 'contraband_found', 'search_person', 'search_vehicle', 'reason_for_search', 'citation_issued','warning_issued','arrest_made', 'frisk_performed', 'reason_for_frisk', 'reason_for_stop']), 1, inplace=True)\n",
    "print('Dimensions of dataframe after :'+str(df_sandiego.shape))\n",
    "print(df_sandiego.head())"
   ]
  },
  {
   "cell_type": "markdown",
   "metadata": {},
   "source": [
    "Austin (TX) - very sexist"
   ]
  },
  {
   "cell_type": "code",
   "execution_count": 4,
   "metadata": {},
   "outputs": [
    {
     "name": "stdout",
     "output_type": "stream",
     "text": [
      "\n",
      " For : San Diego\n",
      "{'search_vehicle', 'officer_id_hash', 'date', 'raw_row_number', 'contraband_found', 'contraband_weapons', 'subject_age', 'raw_ethnicity', 'raw_person_search_search_discovered', 'reason_for_stop', 'raw_person_searched', 'raw_street_check_description', 'search_basis', 'vehicle_registration_state', 'raw_vehicle_search_search_based_on', 'vehicle_make', 'raw_vehicle_search_search_discovered', 'search_person', 'contraband_drugs', 'raw_race_description', 'subject_race', 'vehicle_model', 'raw_person_search_search_based_on', 'search_conducted', 'raw_vehicle_searched', 'frisk_performed', 'type', 'vehicle_year', 'subject_sex'}\n",
      "Dimensions of dataframe before filtering :(483255, 29)\n",
      "Dimensions of dataframe after :(15039, 9)\n",
      "     subject_age subject_race subject_sex contraband_found  frisk_performed  \\\n",
      "406         19.0        black        male             True            False   \n",
      "416         27.0        black        male            False             True   \n",
      "420         56.0     hispanic        male            False             True   \n",
      "449         39.0        white        male            False             True   \n",
      "686         21.0        black        male            False             True   \n",
      "\n",
      "     search_person  search_vehicle                           reason_for_stop  \\\n",
      "406           True            True               SUSPICIOUS PERSON / VEHICLE   \n",
      "416           True            True  VIOLATION OF TRANSPORTATION/VEHICLE LAWS   \n",
      "420           True            True               SUSPICIOUS PERSON / VEHICLE   \n",
      "449           True           False  VIOLATION OF TRANSPORTATION/VEHICLE LAWS   \n",
      "686           True            True  VIOLATION OF TRANSPORTATION/VEHICLE LAWS   \n",
      "\n",
      "    reason_for_search  \n",
      "406    PROBABLE CAUSE  \n",
      "416  FRISK FOR SAFETY  \n",
      "420  FRISK FOR SAFETY  \n",
      "449  FRISK FOR SAFETY  \n",
      "686  FRISK FOR SAFETY  \n"
     ]
    }
   ],
   "source": [
    "df_austin = pd.read_csv('data_P4/yg821jf8611_tx_austin_2020_04_01.csv.zip', compression='zip')\n",
    "\n",
    "print('\\n For : San Diego')\n",
    "print(set(df_austin.columns))\n",
    "print('Dimensions of dataframe before filtering :'+str(df_austin.shape))\n",
    "#filtering\n",
    "df_austin.dropna(subset=['subject_age', 'subject_race', 'subject_sex', 'contraband_found', 'search_person', 'search_vehicle', 'raw_person_search_search_based_on'], inplace=True)\n",
    "df_austin.drop(df_austin.columns.difference(['subject_age', 'subject_race', 'subject_sex', 'contraband_found', 'search_person', 'search_vehicle', 'raw_person_search_search_based_on', 'citation_issued','warning_issued','arrest_made', 'frisk_performed', 'reason_for_frisk', 'reason_for_stop']), 1, inplace=True)\n",
    "print('Dimensions of dataframe after :'+str(df_austin.shape))\n",
    "#formatting\n",
    "df_austin = df_austin.rename(columns={'raw_person_search_search_based_on': 'reason_for_search'})\n",
    "print(df_austin.head())"
   ]
  },
  {
   "cell_type": "markdown",
   "metadata": {},
   "source": [
    "Maryland - least sexist state"
   ]
  },
  {
   "cell_type": "code",
   "execution_count": 5,
   "metadata": {},
   "outputs": [
    {
     "name": "stderr",
     "output_type": "stream",
     "text": [
      "C:\\Users\\julie\\anaconda3\\envs\\ada\\lib\\site-packages\\IPython\\core\\interactiveshell.py:3145: DtypeWarning: Columns (1,2,3,9,10,11,12,13,14,15,16,17,19,20,21,22,23,26,27) have mixed types.Specify dtype option on import or set low_memory=False.\n",
      "  has_raised = await self.run_ast_nodes(code_ast.body, cell_name,\n"
     ]
    },
    {
     "name": "stdout",
     "output_type": "stream",
     "text": [
      "\n",
      " For : Maryland\n",
      "{'search_vehicle', 'outcome', 'date', 'raw_row_number', 'contraband_found', 'reason_for_search', 'contraband_weapons', 'subject_age', 'reason_for_stop', 'location', 'search_basis', 'raw_Outcome', 'disposition', 'arrest_made', 'raw_Arrest_Made', 'violation', 'search_person', 'contraband_drugs', 'subject_race', 'raw_Race', 'search_conducted', 'warning_issued', 'reason_for_arrest', 'type', 'subject_sex', 'department_name', 'time', 'citation_issued'}\n",
      "Dimensions of dataframe before filtering :(3669665, 28)\n",
      "Dimensions of dataframe after :(28363, 11)\n",
      "         subject_age subject_race subject_sex arrest_made citation_issued  \\\n",
      "2312659         59.0        black        male        True           False   \n",
      "2312729         43.0        white      female        True           False   \n",
      "2312735         47.0        white        male       False           False   \n",
      "2312736         33.0        white        male        True           False   \n",
      "2312782         24.0        white      female       False           False   \n",
      "\n",
      "        warning_issued contraband_found search_person search_vehicle  \\\n",
      "2312659          False            False          True           True   \n",
      "2312729          False            False          True           True   \n",
      "2312735           True            False          True           True   \n",
      "2312736          False            False          True           True   \n",
      "2312782           True            False         False           True   \n",
      "\n",
      "        reason_for_search reason_for_stop  \n",
      "2312659         incarrest      -------(j)  \n",
      "2312729         incarrest      ------(a-)  \n",
      "2312735              cons      ------(a-)  \n",
      "2312736             other        ------.-  \n",
      "2312782              cons             --*  \n"
     ]
    }
   ],
   "source": [
    "df_MD = pd.read_csv('data_P4/without_frisk_performed/yg821jf8611_md_statewide_2020_04_01.csv.zip', compression='zip')\n",
    "\n",
    "print('\\n For : Maryland')\n",
    "print(set(df_MD.columns))\n",
    "print('Dimensions of dataframe before filtering :'+str(df_MD.shape))\n",
    "#filtering\n",
    "df_MD.dropna(subset=['subject_age', 'subject_race', 'subject_sex', 'contraband_found', 'search_person', 'search_vehicle', 'reason_for_search'], inplace=True)\n",
    "df_MD.drop(df_MD.columns.difference(['subject_age', 'subject_race', 'subject_sex', 'contraband_found', 'search_person', 'search_vehicle', 'reason_for_search', 'citation_issued','warning_issued','arrest_made', 'frisk_performed', 'reason_for_frisk', 'reason_for_stop']), 1, inplace=True)\n",
    "print('Dimensions of dataframe after :'+str(df_MD.shape))\n",
    "print(df_MD.head())"
   ]
  },
  {
   "cell_type": "markdown",
   "metadata": {},
   "source": [
    "### For set 2 :\n",
    "    - age, gender, race\n",
    "    - reason for stop + contraband found\n",
    "    - citation OR warning OR arrest"
   ]
  },
  {
   "cell_type": "markdown",
   "metadata": {},
   "source": [
    "San Francisco (California) - not so sexist\n",
    "\n",
    "- without frisk information"
   ]
  },
  {
   "cell_type": "code",
   "execution_count": 6,
   "metadata": {},
   "outputs": [
    {
     "name": "stderr",
     "output_type": "stream",
     "text": [
      "C:\\Users\\julie\\anaconda3\\envs\\ada\\lib\\site-packages\\IPython\\core\\interactiveshell.py:3145: DtypeWarning: Columns (6) have mixed types.Specify dtype option on import or set low_memory=False.\n",
      "  has_raised = await self.run_ast_nodes(code_ast.body, cell_name,\n"
     ]
    },
    {
     "name": "stdout",
     "output_type": "stream",
     "text": [
      "\n",
      " For San Francisco\n",
      "{'search_vehicle', 'outcome', 'date', 'raw_row_number', 'contraband_found', 'district', 'subject_age', 'reason_for_stop', 'location', 'lat', 'lng', 'search_basis', 'arrest_made', 'raw_result_of_contact_description', 'subject_race', 'search_conducted', 'warning_issued', 'type', 'subject_sex', 'raw_search_vehicle_description', 'time', 'citation_issued'}\n",
      "Dimensions of dataframe before filtering :(905070, 22)\n",
      "Dimensions of dataframe after :(49599, 9)\n",
      "       subject_age subject_race subject_sex  arrest_made  citation_issued  \\\n",
      "33182         39.0     hispanic        male         True            False   \n",
      "33185         24.0     hispanic      female         True            False   \n",
      "33192         24.0        white        male        False            False   \n",
      "33210         27.0        white        male        False            False   \n",
      "33211         48.0        black        male        False             True   \n",
      "\n",
      "       warning_issued contraband_found  search_vehicle  \\\n",
      "33182           False            False            True   \n",
      "33185           False             True            True   \n",
      "33192            True            False            True   \n",
      "33210            True            False            True   \n",
      "33211           False            False            True   \n",
      "\n",
      "                                 reason_for_stop  \n",
      "33182                           Moving Violation  \n",
      "33185  Mechanical or Non-Moving Violation (V.C.)  \n",
      "33192  Mechanical or Non-Moving Violation (V.C.)  \n",
      "33210  Mechanical or Non-Moving Violation (V.C.)  \n",
      "33211  Mechanical or Non-Moving Violation (V.C.)  \n"
     ]
    }
   ],
   "source": [
    "df_sanfrancisco = pd.read_csv('data_P4/without_frisk_performed/yg821jf8611_ca_san_francisco_2020_04_01.csv.zip', compression='zip')\n",
    "\n",
    "print('\\n For San Francisco')\n",
    "print(set(df_sanfrancisco.columns))\n",
    "print('Dimensions of dataframe before filtering :'+str(df_sanfrancisco.shape))\n",
    "#filtering \n",
    "df_sanfrancisco.dropna(subset=['subject_age', 'subject_race', 'subject_sex', 'contraband_found', 'reason_for_stop'], inplace=True)\n",
    "df_sanfrancisco.drop(df_sanfrancisco.columns.difference(['subject_age', 'subject_race', 'subject_sex', 'contraband_found', 'search_person', 'search_vehicle', 'reason_for_search', 'citation_issued','warning_issued','arrest_made', 'frisk_performed', 'reason_for_frisk', 'reason_for_stop']), 1, inplace=True)\n",
    "print('Dimensions of dataframe after :'+str(df_sanfrancisco.shape))\n",
    "print(df_sanfrancisco.head())    "
   ]
  },
  {
   "cell_type": "markdown",
   "metadata": {},
   "source": [
    "Nashville (Tennessee) - very sexist"
   ]
  },
  {
   "cell_type": "code",
   "execution_count": 7,
   "metadata": {},
   "outputs": [
    {
     "name": "stderr",
     "output_type": "stream",
     "text": [
      "C:\\Users\\julie\\anaconda3\\envs\\ada\\lib\\site-packages\\IPython\\core\\interactiveshell.py:3145: DtypeWarning: Columns (6,8,15,16,17,22,23,24,25,29,30,31,32,33,35,36,37,38,40,41) have mixed types.Specify dtype option on import or set low_memory=False.\n",
      "  has_raised = await self.run_ast_nodes(code_ast.body, cell_name,\n"
     ]
    },
    {
     "name": "stdout",
     "output_type": "stream",
     "text": [
      "\n",
      " For Nashville (TN)\n",
      "{'zone', 'search_vehicle', 'officer_id_hash', 'outcome', 'raw_verbal_warning_issued', 'raw_search_warrant', 'date', 'raw_row_number', 'contraband_found', 'contraband_weapons', 'subject_age', 'raw_search_consent', 'reason_for_stop', 'location', 'lat', 'lng', 'notes', 'search_basis', 'vehicle_registration_state', 'arrest_made', 'reporting_area', 'raw_search_arrest', 'raw_traffic_citation_issued', 'raw_search_inventory', 'raw_misd_state_citation_issued', 'raw_driver_searched', 'violation', 'precinct', 'search_person', 'contraband_drugs', 'raw_written_warning_issued', 'subject_race', 'search_conducted', 'warning_issued', 'frisk_performed', 'type', 'subject_sex', 'raw_passenger_searched', 'raw_search_plain_view', 'time', 'citation_issued', 'raw_suspect_ethnicity'}\n",
      "Dimensions of dataframe before filtering :(3092351, 42)\n",
      "Dimensions of dataframe after :(126411, 11)\n",
      "    subject_age subject_race subject_sex arrest_made citation_issued  \\\n",
      "4          21.0        black        male       False           False   \n",
      "26         49.0        black        male        True            True   \n",
      "38         30.0        white      female       False           False   \n",
      "85         19.0        black      female        True           False   \n",
      "86         36.0        white        male        True           False   \n",
      "\n",
      "   warning_issued contraband_found frisk_performed search_person  \\\n",
      "4            True            False           False          True   \n",
      "26          False             True            True          True   \n",
      "38           True            False           False         False   \n",
      "85          False            False            True          True   \n",
      "86           True            False           False          True   \n",
      "\n",
      "   search_vehicle              reason_for_stop  \n",
      "4            True  vehicle equipment violation  \n",
      "26           True  vehicle equipment violation  \n",
      "38           True  vehicle equipment violation  \n",
      "85          False           investigative stop  \n",
      "86          False     moving traffic violation  \n"
     ]
    }
   ],
   "source": [
    "df_nashville = pd.read_csv('data_P4/yg821jf8611_tn_nashville_2020_04_01.csv.zip', compression='zip')\n",
    "\n",
    "print('\\n For Nashville (TN)')\n",
    "print(set(df_nashville.columns))\n",
    "print('Dimensions of dataframe before filtering :'+str(df_nashville.shape))\n",
    "#filtering \n",
    "df_nashville.dropna(subset=['subject_age', 'subject_race', 'subject_sex', 'contraband_found', 'reason_for_stop'], inplace=True)\n",
    "df_nashville.drop(df_nashville.columns.difference(['subject_age', 'subject_race', 'subject_sex', 'contraband_found', 'search_person', 'search_vehicle', 'reason_for_search', 'citation_issued','warning_issued','arrest_made', 'frisk_performed', 'reason_for_frisk', 'reason_for_stop']), 1, inplace=True)\n",
    "print('Dimensions of dataframe after :'+str(df_nashville.shape))\n",
    "print(df_nashville.head())"
   ]
  },
  {
   "cell_type": "markdown",
   "metadata": {},
   "source": [
    "New Orleans (Lousiana) - sexist"
   ]
  },
  {
   "cell_type": "code",
   "execution_count": 8,
   "metadata": {},
   "outputs": [
    {
     "name": "stderr",
     "output_type": "stream",
     "text": [
      "C:\\Users\\julie\\anaconda3\\envs\\ada\\lib\\site-packages\\IPython\\core\\interactiveshell.py:3145: DtypeWarning: Columns (6) have mixed types.Specify dtype option on import or set low_memory=False.\n",
      "  has_raised = await self.run_ast_nodes(code_ast.body, cell_name,\n"
     ]
    },
    {
     "name": "stdout",
     "output_type": "stream",
     "text": [
      "\n",
      " For New Orleans (Louisiana)\n",
      "{'zone', 'search_vehicle', 'raw_subject_race', 'outcome', 'date', 'raw_row_number', 'contraband_found', 'district', 'contraband_weapons', 'subject_age', 'reason_for_stop', 'location', 'lat', 'lng', 'search_basis', 'officer_assignment', 'arrest_made', 'raw_actions_taken', 'vehicle_make', 'search_person', 'contraband_drugs', 'subject_race', 'vehicle_model', 'search_conducted', 'warning_issued', 'vehicle_color', 'frisk_performed', 'type', 'vehicle_year', 'subject_sex', 'time', 'citation_issued'}\n",
      "Dimensions of dataframe before filtering :(512092, 32)\n",
      "Dimensions of dataframe after :(75126, 11)\n",
      "     subject_age subject_race subject_sex  arrest_made  citation_issued  \\\n",
      "380         27.0        black        male        False            False   \n",
      "414         18.0        black        male         True            False   \n",
      "417         24.0        black      female        False             True   \n",
      "433         52.0        black        male         True             True   \n",
      "434         55.0        black        male         True             True   \n",
      "\n",
      "     warning_issued contraband_found  frisk_performed  search_person  \\\n",
      "380            True            False             True           True   \n",
      "414           False             True            False          False   \n",
      "417           False            False            False           True   \n",
      "433           False             True             True           True   \n",
      "434           False             True             True           True   \n",
      "\n",
      "     search_vehicle     reason_for_stop  \n",
      "380            True   TRAFFIC VIOLATION  \n",
      "414           False  CRIMINAL VIOLATION  \n",
      "417           False    CALL FOR SERVICE  \n",
      "433            True   TRAFFIC VIOLATION  \n",
      "434            True   TRAFFIC VIOLATION  \n"
     ]
    }
   ],
   "source": [
    "df_neworleans = pd.read_csv('data_P4/yg821jf8611_la_new_orleans_2020_04_01.csv.zip', compression='zip')\n",
    "\n",
    "print('\\n For New Orleans (Louisiana)')\n",
    "print(set(df_neworleans.columns))\n",
    "print('Dimensions of dataframe before filtering :'+str(df_neworleans.shape))\n",
    "#filtering \n",
    "df_neworleans.dropna(subset=['subject_age', 'subject_race', 'subject_sex', 'contraband_found', 'reason_for_stop'], inplace=True)\n",
    "df_neworleans.drop(df_neworleans.columns.difference(['subject_age', 'subject_race', 'subject_sex', 'contraband_found', 'search_person', 'search_vehicle', 'reason_for_search', 'citation_issued','warning_issued','arrest_made', 'frisk_performed', 'reason_for_frisk', 'reason_for_stop']), 1, inplace=True)\n",
    "print('Dimensions of dataframe after :'+str(df_neworleans.shape))\n",
    "print(df_neworleans.head())"
   ]
  },
  {
   "cell_type": "markdown",
   "metadata": {},
   "source": [
    "### For the case study : \n",
    "\n",
    "Florida state - sexist\n",
    "- no information on contraband\n",
    "- officer's gender"
   ]
  },
  {
   "cell_type": "code",
   "execution_count": 2,
   "metadata": {},
   "outputs": [
    {
     "name": "stderr",
     "output_type": "stream",
     "text": [
      "C:\\Users\\julie\\anaconda3\\envs\\ada\\lib\\site-packages\\IPython\\core\\interactiveshell.py:3145: DtypeWarning: Columns (3,7,10,11,13,14,17,18,19,21,22,23,24,26,27,28,30,31) have mixed types.Specify dtype option on import or set low_memory=False.\n",
      "  has_raised = await self.run_ast_nodes(code_ast.body, cell_name,\n"
     ]
    },
    {
     "name": "stdout",
     "output_type": "stream",
     "text": [
      "{'raw_row_number_old', 'time', 'warning_issued', 'outcome', 'citation_issued', 'violation', 'county_name', 'raw_row_number_new', 'raw_row_number', 'raw_Race', 'reason_for_stop', 'raw_SearchType', 'department_name', 'date', 'officer_age', 'vehicle_registration_state', 'frisk_performed', 'search_conducted', 'subject_age', 'unit', 'subject_sex', 'raw_Ethnicity', 'officer_id_hash', 'raw_EnforcementAction', 'officer_years_of_service', 'officer_race', 'subject_race', 'officer_sex', 'location', 'type', 'notes', 'search_basis', 'reason_for_search', 'arrest_made'}\n",
      "Dimensions of dataframe :(7297538, 34)\n",
      "Male officers :4352689\n",
      "Female officers :326525\n",
      "Fraction of women officers stop record before filtering : 0.07501684590835687\n"
     ]
    }
   ],
   "source": [
    "df_FL = pd.read_csv('data_P4/yg821jf8611_fl_statewide_2020_04_01.csv.zip', compression='zip')\n",
    "\n",
    "print(set(df_FL.columns))\n",
    "print('Dimensions of dataframe :'+str(df_FL.shape))\n",
    "                            \n",
    "print('Male officers :'+format(len(df_FL[df_FL['officer_sex']=='male'])))\n",
    "print('Female officers :'+format(len(df_FL[df_FL['officer_sex']=='female'])))\n",
    "print('Fraction of women officers stop record before filtering : '+str(326525/4352689))\n",
    "\n",
    "# filtering\n",
    "df_FL.dropna(subset=['subject_age', 'subject_race', 'subject_sex', 'officer_sex', 'violation', 'reason_for_stop'], inplace=True)\n",
    "df_FL.drop(df_FL.columns.difference(['subject_age', 'subject_race', 'subject_sex', 'contraband_found', 'violation', 'officer_sex', 'search_person', 'search_vehicle', 'reason_for_search', 'citation_issued','warning_issued','arrest_made', 'frisk_performed', 'reason_for_frisk', 'reason_for_stop']), 1, inplace=True)"
   ]
  },
  {
   "cell_type": "code",
   "execution_count": null,
   "metadata": {},
   "outputs": [],
   "source": []
  },
  {
   "cell_type": "markdown",
   "metadata": {},
   "source": [
    "### Other available datasets : \n",
    "\n",
    "Washington state - middle sexist\n",
    " - contains officer's gender \n",
    " - does not contain reason for search nor stop"
   ]
  },
  {
   "cell_type": "code",
   "execution_count": 10,
   "metadata": {},
   "outputs": [
    {
     "name": "stderr",
     "output_type": "stream",
     "text": [
      "C:\\Users\\julie\\anaconda3\\envs\\ada\\lib\\site-packages\\IPython\\core\\interactiveshell.py:3145: DtypeWarning: Columns (10,23) have mixed types.Specify dtype option on import or set low_memory=False.\n",
      "  has_raised = await self.run_ast_nodes(code_ast.body, cell_name,\n"
     ]
    },
    {
     "name": "stdout",
     "output_type": "stream",
     "text": [
      "{'outcome', 'county_name', 'raw_officer_gender', 'date', 'raw_row_number', 'contraband_found', 'subject_age', 'raw_search_type', 'location', 'lat', 'lng', 'search_basis', 'raw_driver_gender', 'arrest_made', 'raw_officer_race', 'officer_race', 'raw_contact_type', 'officer_sex', 'violation', 'subject_race', 'raw_enforcements', 'search_conducted', 'warning_issued', 'frisk_performed', 'type', 'raw_driver_race', 'subject_sex', 'department_name', 'time', 'citation_issued'}\n",
      "Male officers :10612167\n",
      "Female officers :721258\n",
      "Dimensions of dataframe :(11333425, 30)\n",
      "Male officers :225840\n",
      "Female officers :13757\n",
      "Dimensions of dataframe :(239597, 9)\n",
      "Fraction of women officers stop record before filtering : 0.06796519504451824 fraction after : 0.060914806942968476\n"
     ]
    },
    {
     "data": {
      "text/html": [
       "<div>\n",
       "<style scoped>\n",
       "    .dataframe tbody tr th:only-of-type {\n",
       "        vertical-align: middle;\n",
       "    }\n",
       "\n",
       "    .dataframe tbody tr th {\n",
       "        vertical-align: top;\n",
       "    }\n",
       "\n",
       "    .dataframe thead th {\n",
       "        text-align: right;\n",
       "    }\n",
       "</style>\n",
       "<table border=\"1\" class=\"dataframe\">\n",
       "  <thead>\n",
       "    <tr style=\"text-align: right;\">\n",
       "      <th></th>\n",
       "      <th>subject_age</th>\n",
       "      <th>subject_race</th>\n",
       "      <th>subject_sex</th>\n",
       "      <th>officer_sex</th>\n",
       "      <th>arrest_made</th>\n",
       "      <th>citation_issued</th>\n",
       "      <th>warning_issued</th>\n",
       "      <th>contraband_found</th>\n",
       "      <th>frisk_performed</th>\n",
       "    </tr>\n",
       "  </thead>\n",
       "  <tbody>\n",
       "    <tr>\n",
       "      <th>7</th>\n",
       "      <td>18.0</td>\n",
       "      <td>white</td>\n",
       "      <td>male</td>\n",
       "      <td>male</td>\n",
       "      <td>NaN</td>\n",
       "      <td>True</td>\n",
       "      <td>True</td>\n",
       "      <td>False</td>\n",
       "      <td>False</td>\n",
       "    </tr>\n",
       "    <tr>\n",
       "      <th>61</th>\n",
       "      <td>47.0</td>\n",
       "      <td>white</td>\n",
       "      <td>male</td>\n",
       "      <td>male</td>\n",
       "      <td>NaN</td>\n",
       "      <td>True</td>\n",
       "      <td>True</td>\n",
       "      <td>False</td>\n",
       "      <td>False</td>\n",
       "    </tr>\n",
       "    <tr>\n",
       "      <th>62</th>\n",
       "      <td>23.0</td>\n",
       "      <td>white</td>\n",
       "      <td>male</td>\n",
       "      <td>male</td>\n",
       "      <td>NaN</td>\n",
       "      <td>True</td>\n",
       "      <td>True</td>\n",
       "      <td>False</td>\n",
       "      <td>False</td>\n",
       "    </tr>\n",
       "    <tr>\n",
       "      <th>82</th>\n",
       "      <td>44.0</td>\n",
       "      <td>white</td>\n",
       "      <td>male</td>\n",
       "      <td>male</td>\n",
       "      <td>NaN</td>\n",
       "      <td>True</td>\n",
       "      <td>True</td>\n",
       "      <td>True</td>\n",
       "      <td>False</td>\n",
       "    </tr>\n",
       "    <tr>\n",
       "      <th>87</th>\n",
       "      <td>35.0</td>\n",
       "      <td>other</td>\n",
       "      <td>female</td>\n",
       "      <td>male</td>\n",
       "      <td>NaN</td>\n",
       "      <td>True</td>\n",
       "      <td>True</td>\n",
       "      <td>False</td>\n",
       "      <td>False</td>\n",
       "    </tr>\n",
       "  </tbody>\n",
       "</table>\n",
       "</div>"
      ],
      "text/plain": [
       "    subject_age subject_race subject_sex officer_sex arrest_made  \\\n",
       "7          18.0        white        male        male         NaN   \n",
       "61         47.0        white        male        male         NaN   \n",
       "62         23.0        white        male        male         NaN   \n",
       "82         44.0        white        male        male         NaN   \n",
       "87         35.0        other      female        male         NaN   \n",
       "\n",
       "    citation_issued  warning_issued contraband_found  frisk_performed  \n",
       "7              True            True            False            False  \n",
       "61             True            True            False            False  \n",
       "62             True            True            False            False  \n",
       "82             True            True             True            False  \n",
       "87             True            True            False            False  "
      ]
     },
     "execution_count": 10,
     "metadata": {},
     "output_type": "execute_result"
    }
   ],
   "source": [
    "# Washington state - middle\n",
    "df_WA = pd.read_csv('data_P4/yg821jf8611_wa_statewide_2020_04_01.csv.zip', compression='zip')\n",
    "# contains officers' gender\n",
    "\n",
    "print(set(df_WA.columns))\n",
    "print('Male officers :'+format(len(df_WA[df_WA['officer_sex']=='male'])))\n",
    "print('Female officers :'+format(len(df_WA[df_WA['officer_sex']=='female'])))\n",
    "print('Dimensions of dataframe :'+str(df_WA.shape))\n",
    "df_WA.dropna(subset=['subject_age', 'subject_race', 'subject_sex', 'contraband_found', 'search_conducted'], inplace=True)\n",
    "df_WA.drop(df_WA.columns.difference(['subject_age', 'subject_race', 'subject_sex', 'contraband_found', 'search_person', 'search_vehicle', 'reason_for_search', 'citation_issued','warning_issued','arrest_made', 'frisk_performed', 'reason_for_frisk', 'reason_for_stop', 'officer_sex' ]), 1, inplace = True)\n",
    "                                     \n",
    "print('Male officers :'+format(len(df_WA[df_WA['officer_sex']=='male'])))\n",
    "print('Female officers :'+format(len(df_WA[df_WA['officer_sex']=='female'])))\n",
    "print('Dimensions of dataframe :'+str(df_WA.shape))\n",
    "print('Fraction of women officers stop record before filtering : '+str(721258/10612167)+' fraction after : '+str(13757/225840))\n",
    "df_WA.head()"
   ]
  },
  {
   "cell_type": "markdown",
   "metadata": {},
   "source": [
    "The following are loaded just to show how few female police officer there are : between 4 and 9% of the stop were done by women, based on calculations for Louisville (KY), Pittsburgh (Philadelphia), Washington (state)."
   ]
  },
  {
   "cell_type": "code",
   "execution_count": 11,
   "metadata": {},
   "outputs": [
    {
     "name": "stdout",
     "output_type": "stream",
     "text": [
      "{'raw_driver_age_range', 'outcome', 'date', 'raw_row_number', 'reason_for_search', 'raw_beat', 'subject_age', 'location', 'lat', 'lng', 'search_basis', 'division', 'officer_race', 'raw_activity_division', 'raw_citation_location', 'officer_sex', 'raw_division', 'violation', 'raw_persons_race', 'beat', 'subject_race', 'search_conducted', 'warning_issued', 'raw_was_vehcile_searched', 'frisk_performed', 'raw_persons_ethnicity', 'type', 'raw_activity_beat', 'raw_driver_race', 'subject_sex', 'time', 'citation_issued'}\n",
      "Dimensions of dataframe :(110960, 32)\n",
      "Male officers :105934\n",
      "Female officers :4870\n",
      "Fraction of women officers stop record before filtering : 0.04597202031453546\n"
     ]
    }
   ],
   "source": [
    "# Louisville, KY : sexist \n",
    "df_louisville = pd.read_csv('data_P4/yg821jf8611_ky_louisville_2020_04_01.csv.zip', compression='zip')\n",
    "print(set(df_louisville.columns))\n",
    "print('Dimensions of dataframe :'+str(df_louisville.shape))\n",
    "\n",
    "print('Male officers :'+format(len(df_louisville[df_louisville['officer_sex']=='male'])))\n",
    "print('Female officers :'+format(len(df_louisville[df_louisville['officer_sex']=='female'])))\n",
    "\n",
    "print('Fraction of women officers stop record before filtering : '+str(4870/105934))"
   ]
  },
  {
   "cell_type": "code",
   "execution_count": 12,
   "metadata": {},
   "outputs": [
    {
     "name": "stderr",
     "output_type": "stream",
     "text": [
      "C:\\Users\\julie\\anaconda3\\envs\\ada\\lib\\site-packages\\IPython\\core\\interactiveshell.py:3145: DtypeWarning: Columns (0,6,12,13,15,16,17,18,20,21,23,24,25,27,28,29,30,31,32,33,34) have mixed types.Specify dtype option on import or set low_memory=False.\n",
      "  has_raised = await self.run_ast_nodes(code_ast.body, cell_name,\n"
     ]
    },
    {
     "name": "stdout",
     "output_type": "stream",
     "text": [
      "{'officer_id_hash', 'outcome', 'date', 'raw_row_number', 'contraband_found', 'subject_age', 'raw_ethnicity', 'raw_nothing_found', 'reason_for_stop', 'raw_evidence_found', 'location', 'lat', 'lng', 'officer_age', 'neighborhood', 'raw_object_searched', 'arrest_made', 'raw_officer_race', 'officer_race', 'raw_zone_division', 'raw_race', 'officer_sex', 'violation', 'raw_weapons_found', 'raw_zone', 'subject_race', 'search_conducted', 'warning_issued', 'frisk_performed', 'raw_officer_zone', 'type', 'raw_police_zone', 'subject_sex', 'time', 'citation_issued'}\n",
      "Dimensions of dataframe :(274558, 35)\n",
      "Male officers :197809\n",
      "Female officers :16503\n",
      "Fraction of women officers stop record before filtering : 0.08342896430394978\n"
     ]
    }
   ],
   "source": [
    "# Pittsburgh, Philadelphia : middle \n",
    "df_PA_P = pd.read_csv('data_P4/yg821jf8611_pa_pittsburgh_2020_04_01.csv.zip', compression='zip')\n",
    "print(set(df_PA_P.columns))\n",
    "print('Dimensions of dataframe :'+str(df_PA_P.shape))\n",
    "                            \n",
    "print('Male officers :'+format(len(df_PA_P[df_PA_P['officer_sex']=='male'])))\n",
    "print('Female officers :'+format(len(df_PA_P[df_PA_P['officer_sex']=='female'])))\n",
    "\n",
    "print('Fraction of women officers stop record before filtering : '+str(16503/197809))"
   ]
  },
  {
   "cell_type": "markdown",
   "metadata": {},
   "source": [
    "To save the filtered datasets : "
   ]
  },
  {
   "cell_type": "code",
   "execution_count": 13,
   "metadata": {},
   "outputs": [],
   "source": [
    "DF = [df_charlotte, df_raleigh, df_greensboro, df_austin, df_neworleans, df_sandiego, df_sanfrancisco, df_nashville, df_WA, df_MD, df_FL]\n",
    "name = ['df_charlotte', 'df_raleigh', 'df_greensboro', 'df_austin', 'df_neworleans', 'df_sandiego', 'df_sanfrancisco', 'df_nashville', 'df_WA', 'df_MD', 'df_FL']\n",
    "\n",
    "for idx,df in enumerate(DF):\n",
    "    df.to_csv('data_P4/'+name[idx]+'.csv', sep=',', encoding='utf-8')"
   ]
  },
  {
   "cell_type": "markdown",
   "metadata": {},
   "source": [
    "## Set 1 : Gender disparities in search decisions\n",
    "\n",
    "The aim of this first part is to compare for W-M pairs the difference in search decision. The following method is applied :\n",
    "-  compare only individuals presenting similar subjective signals (except gender) to the police officer. For this, the following features are taken into account : \n",
    "     - match only person of same race\n",
    "     - match only person of different gender\n",
    "     - match only person with the same age range : this one is subjectively determined by assuming that only female under 45 could be attractive enough to generate a significant difference in decision outcome  \n",
    "     - match only person with the same behaviour during the traffic stop (feature : 'reason_for_search') \n",
    "- Compute difference in search decision + confidence intervals\n",
    "- Fisher exact test to assess if the hit rates are significantly different between W and M. If the difference is not significant, it is no warranted to search a gender more than the other, so the difference in search decision is not justified and we conclude that there is gender discrimination.\n",
    "\n",
    "Citation and arrest are considered as severe outcome deicisons (1), whereas warning is considered as less severe (0). There is a difference between a person's search and a frisk : the former is more intrusive than the latter (see https://www.carrolltrobermanlaw.com/blog/2018/september/whats-the-difference-between-a-search-and-a-fris/). \n",
    "\n",
    "\n",
    "If available, the following information are provided in each dataframe :\n",
    "\n",
    "    'subject_age'\n",
    "    'subject_race'\n",
    "    'subject_sex'\n",
    "    'contraband_found'\n",
    "    'search_person'\n",
    "    'search_vehicle'\n",
    "    'reason_for_search'\n",
    "    'citation_issued'\n",
    "    'warning_issued'\n",
    "    'arrest_made'\n",
    "    'frisk_performed'\n",
    "    'reason_for_frisk'\n",
    "    'reason_for_stop'\n",
    "    'officer_sex' (only for WA, FL and Louisville)\n",
    "\n",
    "The following datasets are used : NC (Charlotte, Greensboro, Raleigh), Austin (TX), CA (San Diego), Maryland state (MD)\n"
   ]
  },
  {
   "cell_type": "markdown",
   "metadata": {},
   "source": [
    "Generic functions : "
   ]
  },
  {
   "cell_type": "code",
   "execution_count": 62,
   "metadata": {},
   "outputs": [],
   "source": [
    "def DF_handling(df):\n",
    "    # create a index column\n",
    "    df['id']= df.index\n",
    "    \n",
    "    # Age category (proxy for attractiveness)\n",
    "    df['attractiveness'] = df.apply(lambda x: True if (x.subject_age<46) else False, axis=1)\n",
    "    \n",
    "    return df\n",
    "\n",
    "def match_pair_search(df, reason_searches):\n",
    "    # match pairs on race, age range, contraband found (1:yes or 0:no), and search reason\n",
    "    matching=pd.DataFrame({'men':[],'women':[]})\n",
    "    AOD = 0\n",
    "    # Match 1 woman and 1 man with same attributes\n",
    "    for reason in reason_searches:\n",
    "        for race in ('white','black','hispanic'):\n",
    "            for attractiveness in ('True', 'False'):\n",
    "                for contraband in ('True', 'False'):\n",
    "                    for s_vehicle in ('True', 'False'):\n",
    "                        query = \"reason_for_search=='\"+reason+\"' & search_vehicle==\"+s_vehicle+\" & subject_race=='\"+race+\"' & attractiveness==\"+attractiveness+\" & contraband_found==\"+contraband\n",
    "                        data = df.query(query).copy()\n",
    "                        id_M = np.array(data[data['subject_sex']=='male'].id)\n",
    "                        id_W = np.array(data[data['subject_sex']=='female'].id)\n",
    "                        if ((len(id_M)>0) & (len(id_W)>0)):\n",
    "                            if (len(id_M)>len(id_W)):\n",
    "                                for i in np.arange(0,len(id_W)):\n",
    "                                    matching = matching.append({'men':id_M[i],'women':id_W[i]},ignore_index=True)\n",
    "                              \n",
    "                            if (len(id_M)<len(id_W)):\n",
    "                                for i in np.arange(0,len(id_M)):\n",
    "                                    matching = matching.append({'men':id_M[i],'women':id_W[i]},ignore_index=True)\n",
    "    return matching\n",
    "\n",
    "def AOD_search(df, matching):\n",
    "    # Averaged outcome difference (AOD) in search decision s : \n",
    "    # if it is positive, men are more strictly reprehended for a given act than woman.\n",
    "    N_matches = len(matching)\n",
    "    diff = np.zeros(N_matches)\n",
    "\n",
    "    for i in np.arange(0,N_matches):\n",
    "        s_man = int(np.array(df[df['id']==matching.loc[i,'men']].search_person))\n",
    "        s_woman = int(np.array(df[df['id']==matching.loc[i,'women']].search_person))\n",
    "        diff[i] = s_man-s_woman                    \n",
    "    AOD = diff.sum()/N_matches    \n",
    "    \n",
    "    return AOD, diff\n",
    "\n",
    "def bootstrap_CI(data, nbr_draws):\n",
    "    # Confidence interval\n",
    "    # Bootstrap CI function from exercise session 2\n",
    "    means = np.zeros(nbr_draws)\n",
    "    data = np.array(data)\n",
    "\n",
    "    for n in range(nbr_draws):\n",
    "        indices = np.random.randint(0, len(data), len(data))\n",
    "        data_tmp = data[indices] \n",
    "        means[n] = np.nanmean(data_tmp)\n",
    "\n",
    "    return [np.nanpercentile(means, 5),np.nanpercentile(means, 95)]"
   ]
  },
  {
   "cell_type": "code",
   "execution_count": 65,
   "metadata": {},
   "outputs": [],
   "source": [
    "def state(df, n):\n",
    "    # - compute the reason distribution in order to determine n, the number of reasons that are kept for the analysis.\n",
    "    # - match the pairs, compute AOD and interval of confidence\n",
    "    \n",
    "    df = DF_handling(df)\n",
    "\n",
    "    # Feature analysis : reason for search\n",
    "    Counter(df['reason_for_search'])\n",
    "\n",
    "    # Plot of the possible combination of the reason for search\n",
    "    plt.figure(figsize=[18,8])\n",
    "    plt.bar(Counter(df.dropna(subset=['reason_for_search']).reason_for_search).keys(), Counter(df.dropna(subset=['reason_for_search']).reason_for_search).values())\n",
    "    plt.show()\n",
    "    \n",
    "    print('There are %d combinations of reasons for the policeman to decide to operate a search, among which, the most represented combinations are (in descending order of importance) :' %len(Counter(df['reason_for_search']).items()))\n",
    "    print(list(sorted(Counter(df.dropna(subset=['reason_for_search']).reason_for_search).items(), key=lambda x:x[1],  reverse=True))[:13])\n",
    "\n",
    "    # Possible reasons for search : n combinations chosen\n",
    "    reason_searches = sorted(Counter(df['reason_for_search']), key=Counter(df['reason_for_search']).get, reverse = True)[:n]\n",
    "    \n",
    "    matching = match_pair_search(df, reason_searches)\n",
    "\n",
    "    [AOD, diff] = AOD_search(df, matching)\n",
    "\n",
    "    CI = bootstrap_CI(diff, 1000)\n",
    "\n",
    "    print('Averaged outcome difference %.4f with [%.4f, %.4f] 95%% confidence intervals' %(AOD, CI[0], CI[1]))"
   ]
  },
  {
   "cell_type": "code",
   "execution_count": 68,
   "metadata": {},
   "outputs": [
    {
     "data": {
      "image/png": "[encoded data removed]",
      "text/plain": [
       "<Figure size 1296x576 with 1 Axes>"
      ]
     },
     "metadata": {
      "needs_background": "light"
     },
     "output_type": "display_data"
    },
    {
     "name": "stdout",
     "output_type": "stream",
     "text": [
      "There are 63 combinations of reasons for the policeman to decide to operate a search, among which, the most represented combinations are (in descending order of importance) :\n",
      "[('Other Official Information', 31331), ('Erratic/Suspicious Behavior', 12003), ('Observation of Suspected Contraband', 9024), ('Erratic/Suspicious Behavior|Suspicious Movement', 8201), ('Erratic/Suspicious Behavior|Other Official Information', 4989), ('Erratic/Suspicious Behavior|Observation of Suspected Contraband', 4738), ('Erratic/Suspicious Behavior|Observation of Suspected Contraband|Suspicious Movement', 4583), ('Erratic/Suspicious Behavior|Suspicious Movement|Other Official Information', 2862), ('Observation of Suspected Contraband|Other Official Information', 2754), ('Suspicious Movement', 1709), ('Erratic/Suspicious Behavior|Observation of Suspected Contraband|Suspicious Movement|Other Official Information', 1468), ('Erratic/Suspicious Behavior|Observation of Suspected Contraband|Other Official Information', 1279), ('Witness Observation', 737)]\n",
      "Averaged outcome difference 0.0562 with [0.0482, 0.0642] 95% confidence intervals\n",
      "\n",
      " ---------------------------------------------------------------------------\n",
      "\n"
     ]
    },
    {
     "data": {
      "image/png": "[encoded data removed]",
      "text/plain": [
       "<Figure size 1296x576 with 1 Axes>"
      ]
     },
     "metadata": {
      "needs_background": "light"
     },
     "output_type": "display_data"
    },
    {
     "name": "stdout",
     "output_type": "stream",
     "text": [
      "There are 59 combinations of reasons for the policeman to decide to operate a search, among which, the most represented combinations are (in descending order of importance) :\n",
      "[('Erratic/Suspicious Behavior', 10173), ('Observation of Suspected Contraband', 6268), ('Suspicious Movement', 4574), ('Other Official Information', 3727), ('Erratic/Suspicious Behavior|Informant Tip', 2108), ('Erratic/Suspicious Behavior|Observation of Suspected Contraband', 1002), ('Informant Tip', 903), ('Erratic/Suspicious Behavior|Observation of Suspected Contraband|Informant Tip', 823), ('Erratic/Suspicious Behavior|Suspicious Movement', 607), ('Erratic/Suspicious Behavior|Suspicious Movement|Informant Tip', 312), ('Observation of Suspected Contraband|Suspicious Movement', 262), ('Observation of Suspected Contraband|Informant Tip', 181), ('Witness Observation', 164)]\n",
      "Averaged outcome difference 0.0765 with [0.0655, 0.0869] 95% confidence intervals\n",
      "\n",
      " ---------------------------------------------------------------------------\n",
      "\n"
     ]
    },
    {
     "data": {
      "image/png": "[encoded data removed]",
      "text/plain": [
       "<Figure size 1296x576 with 1 Axes>"
      ]
     },
     "metadata": {
      "needs_background": "light"
     },
     "output_type": "display_data"
    },
    {
     "name": "stdout",
     "output_type": "stream",
     "text": [
      "There are 90 combinations of reasons for the policeman to decide to operate a search, among which, the most represented combinations are (in descending order of importance) :\n",
      "[('Other Official Information', 15967), ('Erratic/Suspicious Behavior', 7207), ('Observation of Suspected Contraband', 6669), ('Suspicious Movement', 1442), ('Witness Observation', 377), ('Erratic/Suspicious Behavior|Observation of Suspected Contraband', 213), ('Erratic/Suspicious Behavior|Other Official Information', 201), ('Erratic/Suspicious Behavior|Suspicious Movement', 192), ('Observation of Suspected Contraband|Other Official Information', 170), ('Informant Tip', 97), ('Observation of Suspected Contraband|Erratic/Suspicious Behavior', 95), ('Other Official Information|Erratic/Suspicious Behavior', 72), ('Erratic/Suspicious Behavior|Observation of Suspected Contraband|Suspicious Movement', 56)]\n",
      "Averaged outcome difference 0.0270 with [0.0194, 0.0344] 95% confidence intervals\n",
      "\n",
      " ---------------------------------------------------------------------------\n",
      "\n"
     ]
    },
    {
     "data": {
      "image/png": "[encoded data removed]",
      "text/plain": [
       "<Figure size 1296x576 with 1 Axes>"
      ]
     },
     "metadata": {
      "needs_background": "light"
     },
     "output_type": "display_data"
    },
    {
     "name": "stdout",
     "output_type": "stream",
     "text": [
      "There are 15 combinations of reasons for the policeman to decide to operate a search, among which, the most represented combinations are (in descending order of importance) :\n",
      "[('incarrest', 7938), ('prob', 6377), ('cons', 4687), ('k-', 2066), ('Probable Cause', 2040), ('Incident to Arrest', 1749), ('other', 1439), ('Consensual', 851), ('K--', 389), ('Other', 325), ('K-- Scan', 282), ('exigent', 183), ('Exigent Circumstances', 35)]\n",
      "Averaged outcome difference 0.1087 with [0.0958, 0.1214] 95% confidence intervals\n",
      "\n",
      " ---------------------------------------------------------------------------\n",
      "\n"
     ]
    },
    {
     "data": {
      "image/png": "[encoded data removed]",
      "text/plain": [
       "<Figure size 1296x576 with 1 Axes>"
      ]
     },
     "metadata": {
      "needs_background": "light"
     },
     "output_type": "display_data"
    },
    {
     "name": "stdout",
     "output_type": "stream",
     "text": [
      "There are 585 combinations of reasons for the policeman to decide to operate a search, among which, the most represented combinations are (in descending order of importance) :\n",
      "[('Inventory Search [Prior to Impound]', 3832), ('-th Waiver Search', 3260), ('Consent Search', 2273), ('Search incident to Arrest', 1739), ('Inventory Search', 615), ('Odor of Contraband', 252), ('Contraband Visible', 220), ('-h Waiver Search', 133), ('Other', 92), ('Search Incident To Arrest', 79), ('Observed Evidence related to criminal', 34), ('Search Incident To Arrest|Inventory Search', 22), ('Consent Search|-h Waiver Search', 19)]\n",
      "Averaged outcome difference 0.0624 with [0.0468, 0.0785] 95% confidence intervals\n",
      "\n",
      " ---------------------------------------------------------------------------\n",
      "\n"
     ]
    },
    {
     "data": {
      "image/png": "[encoded data removed]",
      "text/plain": [
       "<Figure size 1296x576 with 1 Axes>"
      ]
     },
     "metadata": {
      "needs_background": "light"
     },
     "output_type": "display_data"
    },
    {
     "name": "stdout",
     "output_type": "stream",
     "text": [
      "There are 30 combinations of reasons for the policeman to decide to operate a search, among which, the most represented combinations are (in descending order of importance) :\n",
      "[('FRISK FOR SAFETY', 9289), ('PROBABLE CAUSE', 4040), ('CONSENT', 1299), ('INCIDENTAL TO ARREST', 180), ('CONTRABAND/EVIDENCE IN PLAIN VIEW', 59), ('NA|FRISK FOR SAFETY', 55), ('INVENTORY OF TOWED VEHICLE', 32), ('NA|PROBABLE CAUSE', 22), ('FRISK FOR SAFETY|NA', 21), ('PROBABLE CAUSE|NA', 7), ('NA|CONSENT', 6), ('FRISK FOR SAFETY|CONSENT', 3), ('PROBABLE CAUSE|FRISK FOR SAFETY', 3)]\n",
      "Averaged outcome difference 0.0497 with [0.0379, 0.0615] 95% confidence intervals\n"
     ]
    }
   ],
   "source": [
    "# Compute the AOD and interval of confidence for each desired state or city\n",
    "state(df_charlotte, n=3)\n",
    "print('\\n ---------------------------------------------------------------------------\\n')\n",
    "state(df_greensboro, n=4)\n",
    "print('\\n ---------------------------------------------------------------------------\\n')\n",
    "state(df_raleigh, n=3)\n",
    "print('\\n ---------------------------------------------------------------------------\\n')\n",
    "state(df_MD, n=3)\n",
    "print('\\n ---------------------------------------------------------------------------\\n')\n",
    "state(df_sandiego, n=4)\n",
    "print('\\n ---------------------------------------------------------------------------\\n')\n",
    "state(df_austin, n=2)"
   ]
  },
  {
   "cell_type": "markdown",
   "metadata": {},
   "source": [
    "These results provide an interesting starting point to our analysis : as all AOD are significantly higher than 0, varying between few % uo to more than 10%, the data for these cities and state patrols seem to provide some evidence that bias is present in search decisions. In order to assess this point more rigourously, this study continues by grouping pairs that had their vehicle searched, and those that did not. This will eliminate the data bias possible if we compare people that are so suspicious that their car was also searched to people that did not do much and just get searched physically. \n",
    "\n",
    "Note that the choice of n is subjective : its choice can accordingly increase or decrease computational time, without necessarily changing the conclusion. A sensibility analysis was performed on this parameter, on the Charlotte dataset, and results stay constant for values of n = 3 to n = 63 (maximum), hence the realistic value of n = 4 is kept for this dataset. A similar methodology is applied for all other datasets."
   ]
  },
  {
   "cell_type": "code",
   "execution_count": 72,
   "metadata": {},
   "outputs": [],
   "source": [
    "def s_vehi_or_not(df, n):\n",
    "    # executes the matching for the diven dataframe df, with n most representative search reasons\n",
    "    # splits the matched pairs into 2 sets : drivers that had their vehicle searched, and those who did not.\n",
    "    # computes the average outcome difference\n",
    "    \n",
    "    df = DF_handling(df)\n",
    "\n",
    "    reason_searches = sorted(Counter(df['reason_for_search']), key=Counter(df['reason_for_search']).get, reverse = True)[:n]\n",
    "\n",
    "    matching = match_pair_search(df, reason_searches)\n",
    "\n",
    "    df.index = df['id']\n",
    "    matching['men']= matching['men'].apply(lambda x: int(x))\n",
    "    matching['women']= matching['women'].apply(lambda x: int(x))\n",
    "    matching.index = matching['women']\n",
    "\n",
    "    search_vehicle_w = dict(tuple(df.loc[matching['women']].groupby('search_vehicle')))\n",
    "    search_vehicle_m = dict(tuple(df.loc[matching['men']].groupby('search_vehicle')))\n",
    "\n",
    "    [AOD_vehicule_searched, diff_veh] = AOD_search(df, matching.loc[search_vehicle_w[True].id].reset_index(drop=True))\n",
    "\n",
    "    [AOD_vehicule_not_searched, diff_no_veh] = AOD_search(df, matching.loc[search_vehicle_w[False].id].reset_index(drop=True))\n",
    "    \n",
    "    return [matching, AOD_vehicule_searched, diff_veh, AOD_vehicule_not_searched, diff_no_veh, search_vehicle_w, search_vehicle_m]\n"
   ]
  },
  {
   "cell_type": "code",
   "execution_count": 122,
   "metadata": {},
   "outputs": [],
   "source": [
    "def reason_type_search(df, matching, df_w):\n",
    "    # splits the matched pairs into n sets (n = # of search reason considered)\n",
    "    # computes the average outcome difference for each group\n",
    "    \n",
    "    AOD_searched_ = dict()\n",
    "    diff_ = dict()\n",
    "    \n",
    "    search_reason_w = dict(tuple(df_w.groupby('reason_for_search')))\n",
    "    \n",
    "    for idx, reason in enumerate(search_reason_w.keys()):\n",
    "        [AOD_searched_[idx], diff_[idx]] = AOD_search(df, matching.loc[search_reason_w[reason].id].reset_index(drop=True))\n",
    "    return AOD_searched_, diff_, search_reason_w.keys()"
   ]
  },
  {
   "cell_type": "markdown",
   "metadata": {},
   "source": [
    "Example : Charlotte"
   ]
  },
  {
   "cell_type": "code",
   "execution_count": 89,
   "metadata": {},
   "outputs": [
    {
     "name": "stdout",
     "output_type": "stream",
     "text": [
      " Searched vehicle : \n",
      " AOD for drivers whose car was searched : 0.06213481544819723 with CI :\n",
      "[0.05300698304118569, 0.07111301125837252]\n",
      "{0: 0.0710295291300878, 1: 0.048368953880764905, 2: 0.06173780487804878, 3: 0.06258770698849285}\n",
      "          0         1\n",
      "0  0.047885  0.095770\n",
      "1  0.022497  0.074241\n",
      "2  0.037348  0.086128\n",
      "3  0.051642  0.074376\n",
      "For the following reason for search :                                                  0\n",
      "0                      Erratic/Suspicious Behavior\n",
      "1  Erratic/Suspicious Behavior|Suspicious Movement\n",
      "2              Observation of Suspected Contraband\n",
      "3                       Other Official Information\n",
      "\n",
      " Non-searched vehicle : \n",
      " AOD for drivers whose car was not searched : 0.023270846800258566 with CI :\n",
      "[0.01616031027795734, 0.030381383322559793]\n",
      "{0: 0.038314176245210725, 1: 0.0, 2: 0.02564102564102564, 3: 0.02066115702479339}\n",
      "          0         1\n",
      "0  0.015326  0.061303\n",
      "1  0.000000  0.000000\n",
      "2 -0.051282  0.102564\n",
      "3  0.013223  0.028926\n",
      "For the following reason for search :                                                  0\n",
      "0                      Erratic/Suspicious Behavior\n",
      "1  Erratic/Suspicious Behavior|Suspicious Movement\n",
      "2              Observation of Suspected Contraband\n",
      "3                       Other Official Information\n"
     ]
    }
   ],
   "source": [
    "# As precendently evaluated, n = 4 reasons for search are sufficient to cover well the data of Charlotte (NC).\n",
    "n = 4\n",
    "\n",
    "[matching, AOD_vehi_searched, diff_veh, AOD_vehi_not_searched, diff_no_veh, search_vehicle_w, search_vehi_m] = s_vehi_or_not(df_charlotte, n)\n",
    "\n",
    "CI_veh = bootstrap_CI(diff_veh, 1000)\n",
    "CI_no_veh = bootstrap_CI(diff_no_veh, 1000)\n",
    "\n",
    "print(' Searched vehicle : \\n AOD for drivers whose car was searched : '+str(AOD_vehi_searched)+' with CI :')\n",
    "print(str(CI_veh))\n",
    "\n",
    "[AOD_searched_T, diff_T, ordered_search_reason_T] = reason_type_search(df_charlotte, matching, search_vehicle_w[True])\n",
    "\n",
    "CI_T = dict()\n",
    "for idx,d in enumerate(diff_T.values()): \n",
    "    CI_T[idx] = bootstrap_CI(d, 1000)\n",
    "\n",
    "print(str(AOD_searched_T))\n",
    "print(str(pd.DataFrame(CI_T.values())))\n",
    "print('For the following reason for search : '+str(pd.DataFrame(ordered_search_reason_T)))\n",
    "\n",
    "\n",
    "print('\\n Non-searched vehicle : \\n AOD for drivers whose car was not searched : '+str(AOD_vehi_not_searched)+' with CI :')\n",
    "print(str(CI_no_veh))\n",
    "\n",
    "[AOD_searched_F, diff_F, ordered_search_reason_F] = reason_type_search(df_charlotte, matching, search_vehicle_w[False])\n",
    "    \n",
    "CI_F = dict()\n",
    "for idx,d in enumerate(diff_F.values()): \n",
    "    CI_F[idx] = bootstrap_CI(d, 1000)\n",
    "\n",
    "print(str(AOD_searched_F))\n",
    "print(str(pd.DataFrame(CI_F.values())))\n",
    "print('For the following reason for search : '+str(pd.DataFrame(ordered_search_reason_F)))"
   ]
  },
  {
   "cell_type": "markdown",
   "metadata": {},
   "source": [
    "These results are not those expected, though they are explainable : if their vehicle is searched, men get more searched for given features than women. However, this difference lowers by about 50% if the car is not searched. This could indicate for example that officers seem to have more confidence in women if they search their car, searching them physically less. \n",
    "\n",
    "The displayed CIs and AOD above permit to conclude that if the car is not searched, officers tend to treat drivers more equally than if the car is searched."
   ]
  },
  {
   "cell_type": "markdown",
   "metadata": {},
   "source": [
    "## Set 2 : Gender disparities in stop outcome decisions\n"
   ]
  },
  {
   "cell_type": "markdown",
   "metadata": {},
   "source": [
    "A quite similar methodology is applied in this second section, this time to determine if stop outcome are depending on the driver's gender. Indeed, an officer could act biased when taking the decision to warn, issue a citation or even arrest. \n",
    "\n",
    "If available, the following information are provided in each dataframe :\n",
    "\n",
    "    'subject_age'\n",
    "    'subject_race'\n",
    "    'subject_sex'\n",
    "    'contraband_found'\n",
    "    'search_person'\n",
    "    'search_vehicle'\n",
    "    'reason_for_search'\n",
    "    'citation_issued'\n",
    "    'warning_issued'\n",
    "    'arrest_made'\n",
    "    'frisk_performed'\n",
    "    'reason_for_frisk'\n",
    "    'reason_for_stop'\n",
    "    'officer_sex' (only for WA, FL and Louisville)\n",
    "\n",
    "The following datasets are used : NC (Charlotte, Greensboro, Raleigh), CA (San Diego and San Francisco), Nashville (TN), New Orleans."
   ]
  },
  {
   "cell_type": "markdown",
   "metadata": {},
   "source": [
    "### Generic functions : "
   ]
  },
  {
   "cell_type": "code",
   "execution_count": 3,
   "metadata": {},
   "outputs": [],
   "source": [
    "def match_pair_stop(df, reason_stops):\n",
    "    matching=pd.DataFrame({'men':[],'women':[]})\n",
    "    AOD = 0\n",
    "    # Match 1 woman and 1 man with same attributes\n",
    "    for reason in reason_stops:\n",
    "        for race in ('white','black','hispanic'):\n",
    "            for attractiveness in ('True', 'False'):\n",
    "                for contraband in ('True', 'False'):\n",
    "                    query = \"reason_for_stop=='\"+reason+\"' & subject_race=='\"+race+\"' & attractiveness==\"+attractiveness+\" & contraband_found==\"+contraband\n",
    "                    data = df.query(query).copy()\n",
    "                    id_M = np.array(data[data['subject_sex']=='male'].id)\n",
    "                    id_W = np.array(data[data['subject_sex']=='female'].id)\n",
    "                    if ((len(id_M)>0) & (len(id_W)>0)):\n",
    "                        if (len(id_M)>len(id_W)):\n",
    "                            for i in np.arange(0,len(id_W)):\n",
    "                                matching = matching.append({'men':id_M[i],'women':id_W[i]},ignore_index=True)\n",
    "                          \n",
    "                        if (len(id_M)<len(id_W)):\n",
    "                            for i in np.arange(0,len(id_M)):\n",
    "                                matching = matching.append({'men':id_M[i],'women':id_W[i]},ignore_index=True)\n",
    "    return matching \n",
    "\n",
    "def AOD_stop(df, matching):\n",
    "    # Averaged outcome difference\n",
    "    N_matches = len(matching)\n",
    "    diff = np.zeros(N_matches)\n",
    "    for i in np.arange(0,N_matches):\n",
    "        outcome_man = np.array(df[df['id']==matching.loc[i,'men']].outcome)\n",
    "        outcome_woman = np.array(df[df['id']==matching.loc[i,'women']].outcome)\n",
    "        diff[i] = outcome_man-outcome_woman                    \n",
    "    AOD = diff.sum()/N_matches \n",
    "    return AOD, diff"
   ]
  },
  {
   "cell_type": "code",
   "execution_count": 14,
   "metadata": {},
   "outputs": [],
   "source": [
    "def reason_type_stop(df, matching):\n",
    "    # splits the matched pairs into n sets (n = # of stop reason considered)\n",
    "    # computes the average outcome difference    \n",
    "    \n",
    "    AOD_stopped_ = dict()\n",
    "    diff_ = dict()\n",
    "    matching.index = matching['women']\n",
    "    \n",
    "    stop_reason_w = dict(tuple(df.loc[matching['women']].groupby('reason_for_stop')))\n",
    "    stop_reason_m = dict(tuple(df.loc[matching['men']].groupby('reason_for_stop')))\n",
    "    \n",
    "    for idx, reason in enumerate(stop_reason_w.keys()):\n",
    "        [AOD_stopped_[idx], diff_[idx]] = AOD_stop(df, matching.loc[stop_reason_w[reason].id].reset_index(drop=True))\n",
    "    return AOD_stopped_, diff_, stop_reason_w.keys()"
   ]
  },
  {
   "cell_type": "markdown",
   "metadata": {},
   "source": [
    "Computation"
   ]
  },
  {
   "cell_type": "code",
   "execution_count": 5,
   "metadata": {},
   "outputs": [
    {
     "ename": "NameError",
     "evalue": "name 'df_charlotte' is not defined",
     "output_type": "error",
     "traceback": [
      "\u001b[1;31m---------------------------------------------------------------------------\u001b[0m",
      "\u001b[1;31mNameError\u001b[0m                                 Traceback (most recent call last)",
      "\u001b[1;32m<ipython-input-5-807251ed7692>\u001b[0m in \u001b[0;36m<module>\u001b[1;34m\u001b[0m\n\u001b[0;32m      1\u001b[0m \u001b[1;31m# Datasets for this section\u001b[0m\u001b[1;33m\u001b[0m\u001b[1;33m\u001b[0m\u001b[1;33m\u001b[0m\u001b[0m\n\u001b[1;32m----> 2\u001b[1;33m \u001b[0mDF\u001b[0m \u001b[1;33m=\u001b[0m \u001b[1;33m[\u001b[0m\u001b[0mdf_charlotte\u001b[0m\u001b[1;33m,\u001b[0m \u001b[0mdf_raleigh\u001b[0m\u001b[1;33m,\u001b[0m \u001b[0mdf_greensboro\u001b[0m\u001b[1;33m,\u001b[0m \u001b[0mdf_neworleans\u001b[0m\u001b[1;33m,\u001b[0m \u001b[0mdf_sandiego\u001b[0m\u001b[1;33m,\u001b[0m \u001b[0mdf_sanfrancisco\u001b[0m\u001b[1;33m,\u001b[0m \u001b[0mdf_nashville\u001b[0m\u001b[1;33m]\u001b[0m\u001b[1;33m\u001b[0m\u001b[1;33m\u001b[0m\u001b[0m\n\u001b[0m\u001b[0;32m      3\u001b[0m \u001b[0mname\u001b[0m \u001b[1;33m=\u001b[0m \u001b[1;33m[\u001b[0m\u001b[1;34m'df_charlotte'\u001b[0m\u001b[1;33m,\u001b[0m \u001b[1;34m'df_raleigh'\u001b[0m\u001b[1;33m,\u001b[0m \u001b[1;34m'df_greensboro'\u001b[0m\u001b[1;33m,\u001b[0m \u001b[1;34m'df_neworleans'\u001b[0m\u001b[1;33m,\u001b[0m \u001b[1;34m'df_sandiego'\u001b[0m\u001b[1;33m,\u001b[0m \u001b[1;34m'df_sanfrancisco'\u001b[0m\u001b[1;33m,\u001b[0m \u001b[1;34m'df_nashville'\u001b[0m\u001b[1;33m]\u001b[0m\u001b[1;33m\u001b[0m\u001b[1;33m\u001b[0m\u001b[0m\n",
      "\u001b[1;31mNameError\u001b[0m: name 'df_charlotte' is not defined"
     ]
    }
   ],
   "source": [
    "# Datasets for this section\n",
    "DF = [df_charlotte, df_raleigh, df_greensboro, df_neworleans, df_sandiego, df_sanfrancisco, df_nashville]\n",
    "name = ['df_charlotte', 'df_raleigh', 'df_greensboro', 'df_neworleans', 'df_sandiego', 'df_sanfrancisco', 'df_nashville']"
   ]
  },
  {
   "cell_type": "code",
   "execution_count": 191,
   "metadata": {},
   "outputs": [
    {
     "name": "stdout",
     "output_type": "stream",
     "text": [
      "DATASET : df_charlotte\n",
      "Counter({'Vehicle Regulatory Violation': 27893, 'Vehicle Equipment Violation': 14280, 'Investigation': 12125, 'Speed Limit Violation': 10800, 'Other Motor Vehicle Violation': 7564, 'Safe Movement Violation': 6156, 'Seat Belt Violation': 5028, 'Stop Light/Sign Violation': 4806, 'Driving While Impaired': 3912, 'Checkpoint': 314})\n",
      "Averaged outcome difference 0.0245 with [0.0165, 0.0326] 95% confidence intervals\n",
      "\n",
      " ---------------------------------------------------------------------------\n",
      "\n",
      "DATASET : df_raleigh\n",
      "Counter({'Vehicle Regulatory Violation': 7700, 'Driving While Impaired': 6686, 'Other Motor Vehicle Violation': 4184, 'Investigation': 3868, 'Vehicle Equipment Violation': 3579, 'Speed Limit Violation': 3183, 'Safe Movement Violation': 1797, 'Stop Light/Sign Violation': 1483, 'Seat Belt Violation': 766, 'Checkpoint': 44})\n",
      "Averaged outcome difference 0.0775 with [0.0681, 0.0869] 95% confidence intervals\n",
      "\n",
      " ---------------------------------------------------------------------------\n",
      "\n",
      "DATASET : df_greensboro\n",
      "Counter({'Vehicle Regulatory Violation': 6929, 'Investigation': 4805, 'Speed Limit Violation': 4661, 'Vehicle Equipment Violation': 4633, 'Safe Movement Violation': 3753, 'Seat Belt Violation': 2354, 'Other Motor Vehicle Violation': 1769, 'Stop Light/Sign Violation': 1741, 'Driving While Impaired': 1197, 'Checkpoint': 93})\n",
      "Averaged outcome difference 0.0433 with [0.0313, 0.0556] 95% confidence intervals\n",
      "\n",
      " ---------------------------------------------------------------------------\n",
      "\n",
      "DATASET : df_neworleans\n",
      "Counter({'TRAFFIC VIOLATION': 25977, 'CALL FOR SERVICE': 18271, 'SUSPECT PERSON': 12146, 'CRIMINAL VIOLATION': 10549, 'OTHER': 3706, 'CITIZEN CONTACT': 1698, 'FLAGGED DOWN': 1102, 'SUSPECT VEHICLE': 1001, 'JUVENILE VIOLATION': 436, 'PRESENT AT CRIME SCENE': 240})\n",
      "Averaged outcome difference -0.0715 with [-0.0775, -0.0654] 95% confidence intervals\n",
      "\n",
      " ---------------------------------------------------------------------------\n",
      "\n",
      "DATASET : df_sandiego\n",
      "Counter({'Equipment Violation': 6736, 'Moving Violation': 5910, 'Radio Call/Citizen Contact': 310, 'Personal Knowledge/Informant': 197, 'Suspect Info (I.S., Bulletin, Log)': 130, 'Muni, County, H&S Code': 120, 'Suspect Info': 7, 'Personal Observ/Knowledge': 7, '&Moving Violation': 5, 'Equipment Violation|Moving Violation': 5, 'UNI, &County, H&&S Code': 3, 'Moving Violation|Equipment Violation': 2, 'Other': 2, 'No Cause Specified on a Card': 2, 'Radio Call/Citizen Contact|Moving Violation': 1, 'Equipment Violation|Equipment Violation|Moving Violation': 1, '&Equipment Violation': 1, 'Moving Violation|Suspect Info (I.S., Bulletin, Log)': 1, 'MUNI, County, H&S Code': 1, 'Muni, County, H&S Code|Moving Violation': 1})\n",
      "Averaged outcome difference -0.1536 with [-0.1747, -0.1321] 95% confidence intervals\n",
      "\n",
      " ---------------------------------------------------------------------------\n",
      "\n",
      "DATASET : df_sanfrancisco\n",
      "Counter({'Moving Violation': 24584, 'Mechanical or Non-Moving Violation (V.C.)': 23510, 'BOLO/APB/Warrant': 579, 'MPC Violation': 358, 'Traffic Collision': 248, 'DUI Check': 183, 'Assistance to Motorist': 124, 'Moving Violation|Mechanical or Non-Moving Violation (V.C.)': 10, 'Moving Violation|DUI Check': 2, 'Mechanical or Non-Moving Violation (V.C.)|BOLO/APB/Warrant': 1})\n",
      "Averaged outcome difference -0.0007 with [-0.0135, 0.0121] 95% confidence intervals\n",
      "\n",
      " ---------------------------------------------------------------------------\n",
      "\n",
      "DATASET : df_nashville\n",
      "Counter({'moving traffic violation': 54808, 'vehicle equipment violation': 42376, 'investigative stop': 8602, 'registration': 7945, 'safety violation': 7098, 'seatbelt violation': 5232, 'parking violation': 301, 'child restraint': 49})\n",
      "Averaged outcome difference 0.0227 with [0.0166, 0.0287] 95% confidence intervals\n",
      "\n",
      " ---------------------------------------------------------------------------\n",
      "\n"
     ]
    }
   ],
   "source": [
    "for idx,df in enumerate(DF):\n",
    "    print('DATASET : '+str(name[idx]))\n",
    "    df = DF_handling(df)\n",
    "    \n",
    "    # Outcome value: arrest, citation = 1 and warning = 0\n",
    "    df['outcome'] = df.apply(lambda x: 1 if (x.arrest_made or x.citation_issued) else 0, axis=1)\n",
    "\n",
    "    # Possible reasons for stop\n",
    "    reason_stops = list(Counter(df['reason_for_stop']).keys())\n",
    "    print(Counter(df['reason_for_stop']))\n",
    "    \n",
    "    #debugging\n",
    "    if name[idx] == 'df_sandiego':\n",
    "        del reason_stops[13]\n",
    "        \n",
    "    matching = match_pair_stop(df, reason_stops)\n",
    "    \n",
    "    [AOD, diff] = AOD_stop(df, matching)\n",
    "    \n",
    "    CI = bootstrap_CI(diff, 1000)\n",
    "\n",
    "    print('Averaged outcome difference %.4f with [%.4f, %.4f] 95%% confidence intervals' %(AOD, CI[0], CI[1]))\n",
    "    \n",
    "    # Saving the results for New Orleans\n",
    "    if name[idx] == 'df_neworleans':\n",
    "        matching_newO = matching\n",
    "        AOD_newO = AOD\n",
    "        diff_newO = diff\n",
    "        CI_newO = CI\n",
    "        \n",
    "    print('\\n ---------------------------------------------------------------------------\\n')\n"
   ]
  },
  {
   "cell_type": "markdown",
   "metadata": {},
   "source": [
    "Example : New Orleans"
   ]
  },
  {
   "cell_type": "code",
   "execution_count": 176,
   "metadata": {},
   "outputs": [
    {
     "name": "stdout",
     "output_type": "stream",
     "text": [
      "AOD : -0.07148318042813456  with CI at 95% [-0.07767584097859327, -0.06528669724770643]\n"
     ]
    }
   ],
   "source": [
    "#From the stored data above\n",
    "print('AOD :',AOD_newO, ' with CI at 95%', CI_newO)\n",
    "\n",
    "[AOD_stopped__, diff__, ordered_reasons__] = reason_type_stop(df_neworleans, matching_newO)\n",
    "\n",
    "CI_newO = dict()\n",
    "for idx,d in enumerate(diff__.values()): \n",
    "    CI_newO[idx] = bootstrap_CI(d, 1000)"
   ]
  },
  {
   "cell_type": "code",
   "execution_count": 177,
   "metadata": {},
   "outputs": [
    {
     "name": "stdout",
     "output_type": "stream",
     "text": [
      "AOD for all 10 reasons for stop :\n",
      "          0\n",
      "0 -0.094762\n",
      "1 -0.218905\n",
      "2 -0.017391\n",
      "3 -0.028902\n",
      "4 -0.037736\n",
      "5 -0.081232\n",
      "6 -0.130435\n",
      "7 -0.138060\n",
      "8 -0.006369\n",
      "9 -0.049328\n",
      " with CI of \n",
      "          0         1\n",
      "0 -0.106607 -0.082903\n",
      "1 -0.283582 -0.149254\n",
      "2 -0.027950 -0.007422\n",
      "3 -0.092486  0.023410\n",
      "4 -0.075472  0.000000\n",
      "5 -0.107843 -0.051821\n",
      "6 -0.260870  0.000000\n",
      "7 -0.163470 -0.111940\n",
      "8 -0.082803  0.064013\n",
      "9 -0.058753 -0.040104\n",
      "The order of the reasons are :                         0\n",
      "0        CALL FOR SERVICE\n",
      "1         CITIZEN CONTACT\n",
      "2      CRIMINAL VIOLATION\n",
      "3            FLAGGED DOWN\n",
      "4      JUVENILE VIOLATION\n",
      "5                   OTHER\n",
      "6  PRESENT AT CRIME SCENE\n",
      "7          SUSPECT PERSON\n",
      "8         SUSPECT VEHICLE\n",
      "9       TRAFFIC VIOLATION\n"
     ]
    }
   ],
   "source": [
    "print('AOD for all %d reasons for stop :' %len(ordered_reasons__))\n",
    "print(str(pd.DataFrame(AOD_stopped__.values()))+'\\n with CI of \\n'+str(pd.DataFrame(CI_newO.values())))\n",
    "print('The order of the reasons are : '+str(pd.DataFrame(ordered_reasons__)))"
   ]
  },
  {
   "cell_type": "markdown",
   "metadata": {},
   "source": [
    "These results indicate some clear tendency for the officers to be biased in New Orleans, but this time the bias is inversed : women tend to be more severely punished. \n",
    "\n",
    "- 'CALL FOR SERVICE', 'CITIZEN CONTACT', 'CRIMINAL and TRAFFIC VIOLATION' and 'SUSPECT PERSON' are the reason for stop and consecutive potential violations that experience biased decisions towards the drivers."
   ]
  },
  {
   "cell_type": "markdown",
   "metadata": {},
   "source": [
    "## Case study : Gender disparities in Florida state policing "
   ]
  },
  {
   "cell_type": "markdown",
   "metadata": {},
   "source": [
    "This case study aims to dig into even more details concerning stop decisions. Indeed, up to now, it was not possible to assess the gender of the officers, as this feature is very rare in the available dataset : only 8 states or cities have this information, and most of the time it is not coupled with the other features required for our analysis, such as for example reason for stop. \n",
    "\n",
    "This third section hence assesses a potential bias in stop outcome decisions, influenced by the officer's gender. This further analysis is motivated by the fact that men and women officers could be influenced by the driver's gender in their decision to punish him/her. \n",
    "\n",
    "For this case study, Florida state is one of the very few showcasing all required features. The methodology resembles the one applied for previous section 2."
   ]
  },
  {
   "cell_type": "code",
   "execution_count": 3,
   "metadata": {},
   "outputs": [
    {
     "name": "stdout",
     "output_type": "stream",
     "text": [
      "Remember that :\n",
      "Male officers :3201883\n",
      "Female officers :252026\n",
      "Fraction of women officers stop record before filtering : 0.07501684590835687\n"
     ]
    }
   ],
   "source": [
    "# Formatting\n",
    "df_FL['id']=df_FL.index\n",
    "df_FL.drop(df_FL.columns.difference(['subject_age', 'subject_race', 'subject_sex', 'contraband_found', 'search_person', 'search_vehicle', 'reason_for_search', 'citation_issued','warning_issued','arrest_made', 'frisk_performed', 'reason_for_frisk', 'reason_for_stop', 'officer_sex', 'violation','attractiveness', 'id', 'result']), 1, inplace = True)\n",
    "\n",
    "\n",
    "print('Remember that :')                    \n",
    "print('Male officers :'+format(len(df_FL[df_FL['officer_sex']=='male'])))\n",
    "print('Female officers :'+format(len(df_FL[df_FL['officer_sex']=='female'])))\n",
    "print('Fraction of women officers stop record before filtering : '+str(326525/4352689))"
   ]
  },
  {
   "cell_type": "markdown",
   "metadata": {},
   "source": [
    "This very low relative number of records for women officers compared to men is remarkable, yet not a problem for this study, as the datasets are still big. "
   ]
  },
  {
   "cell_type": "code",
   "execution_count": 4,
   "metadata": {},
   "outputs": [
    {
     "data": {
      "text/plain": [
       "[('SPEED', 1324271),\n",
       " ('SEATBELT (DRIVER)', 147232),\n",
       " ('SPEED|PROOF OF INSURANCE', 117248),\n",
       " ('VIOLATIONS OF TRAFFIC CONTROL DEVICE', 99263),\n",
       " ('FAULTY EQUIPMENT', 96718),\n",
       " ('CMV INSPECTION', 95419),\n",
       " ('OTHER MOVING VIOLATIONS', 70159),\n",
       " ('SPEED|FAULTY EQUIPMENT', 58354),\n",
       " ('SPEED|OTHER TAG / REGISTRATION VIOLATIONS', 52049),\n",
       " ('EXPIRED TAG (6 MONTHS OR LESS)', 45838)]"
      ]
     },
     "execution_count": 4,
     "metadata": {},
     "output_type": "execute_result"
    }
   ],
   "source": [
    "# Show the most represented reasons for stop\n",
    "sorted(Counter(df_FL.violation).items(), key=lambda x:x[1], reverse=True)[:10]"
   ]
  },
  {
   "cell_type": "code",
   "execution_count": 5,
   "metadata": {},
   "outputs": [],
   "source": [
    "# filtering out the incomplete rows\n",
    "df_FL.dropna(subset=['subject_age', 'subject_race', 'citation_issued', 'arrest_made', 'subject_sex', 'officer_sex', 'violation', 'reason_for_stop'], inplace=True)\n",
    "\n",
    "# Age categorie (proxy for attractiveness)\n",
    "df_FL['attractiveness'] = df_FL.apply(lambda x: True if (x.subject_age<46) else False, axis=1)\n",
    "\n",
    "# Outcome value: arrest, citation = 1 and warning = 0\n",
    "df_FL['result'] = df_FL.apply(lambda x: 1 if (x.arrest_made or x.citation_issued) else 0, axis=1)"
   ]
  },
  {
   "cell_type": "code",
   "execution_count": 6,
   "metadata": {},
   "outputs": [
    {
     "data": {
      "text/plain": [
       "[('SPEED', 2044626),\n",
       " ('SEATBELT (DRIVER)', 280676),\n",
       " ('FAULTY EQUIPMENT', 171141),\n",
       " ('VIOLATIONS OF TRAFFIC CONTROL DEVICE', 148494),\n",
       " ('CMV INSPECTION', 134115),\n",
       " ('OTHER MOVING VIOLATIONS', 115056),\n",
       " ('EXPIRED TAG (- MONTHS OR LESS)', 90447),\n",
       " ('MOVE OVER LAW', 59723),\n",
       " ('WINDOW TINT', 55889),\n",
       " ('OTHER TAG / REGISTRATION VIOLATIONS', 53062),\n",
       " ('OTHER NON MOVING VIOLATIONS', 52691),\n",
       " ('IMPROPER CHANGE OF LANE OR COURSE', 32391),\n",
       " ('FOLLOWING TOO CLOSELY', 22878),\n",
       " ('SEATBELT (PASSENGER)', 21330),\n",
       " ('IMPROPER TURN', 21044),\n",
       " ('DRIVING WITHOUT HEADLIGHTS', 20800),\n",
       " ('IMPROPER PASSING', 20733),\n",
       " ('EXPIRED TAG (MORE THAN - MONTHS)', 14745),\n",
       " ('VIOLATIONS OF RIGHT OF WAY', 13129),\n",
       " ('CARELESS DRIVING', 12081),\n",
       " ('TOLL EVASION', 9117),\n",
       " ('LOADS ON VEHICLE', 5818),\n",
       " ('OBSTRUCTING THE ROADWAY', 4230),\n",
       " ('WEIGHT VIOLATION', 4035),\n",
       " ('ATTACHING TAG NOT ASSIGNED', 3734),\n",
       " ('DRIVING WHILE LICENSE SUSPENDED / REVOKED', 3316),\n",
       " ('DRIVING ON WRONG SIDE OF ROAD', 2804),\n",
       " ('NO REGISTRATION', 2712),\n",
       " ('IMPROPER BACKING', 2583),\n",
       " ('EXHAUST SYSTEM', 2306),\n",
       " ('PARKING', 2128),\n",
       " ('DUI', 1645),\n",
       " ('RECKLESS DRIVING', 1535),\n",
       " ('CHILD RESTRAINT', 1515),\n",
       " ('FAILURE TO EXHIBIT DL UPON DEMAND', 1317),\n",
       " ('OTHER CRIMINAL TRAFFIC VIOLATIONS', 1187),\n",
       " ('MAXIMUM WIDTH, HEIGHT AND LENGTH', 952),\n",
       " ('PROOF OF INSURANCE', 904),\n",
       " ('EXPIRED DRIVERS LICENSE (- MONTHS OR LESS)', 796),\n",
       " ('BICYCLE VIOLATIONS', 649),\n",
       " ('PASSING STOPPED SCHOOL BUS', 611),\n",
       " ('OTHER CRIMINAL VIOLATIONS', 580),\n",
       " ('OTHER DRIVERS LICENSE VIOLATIONS', 558),\n",
       " ('MISCELLANEOUS MOTORCYCLE / MOPEDS STATUTES', 530),\n",
       " ('EXPIRED DRIVERS LICENSE (MORE THAN - MONTHS)', 510),\n",
       " ('IMPROPER START', 461),\n",
       " ('NO DRIVERS LICENSE', 430),\n",
       " ('SPEED|PROOF OF INSURANCE', 407),\n",
       " ('VIOLATION OF DL RESTRICTIONS', 393),\n",
       " ('PROOF OF INSURANCE|SPEED', 381),\n",
       " ('OTHER TAG / REGISTRATION VIOLATIONS|SPEED', 381),\n",
       " ('PERMIT VIOLATION', 363),\n",
       " ('SPEED|OTHER TAG / REGISTRATION VIOLATIONS', 354),\n",
       " ('MOTOR VEHICLE NOISE', 325),\n",
       " ('OPEN CONTAINER (PASSENGER)', 318),\n",
       " ('BUMPER HEIGHTS', 256),\n",
       " ('SPEED|SEATBELT (DRIVER)', 243),\n",
       " ('SEATBELT (DRIVER)|SPEED', 236),\n",
       " ('OPEN CONTAINER (DRIVER)', 224),\n",
       " ('FALSE ACCIDENT REPORT', 183),\n",
       " ('FAILURE TO OBEY A POLICE OFFICER', 162),\n",
       " ('OUT OF SERVICE VIOLATION', 158),\n",
       " ('SPEED|FAULTY EQUIPMENT', 157),\n",
       " ('FOLLOWING TOO CLOSELY|SPEED', 156),\n",
       " ('DRIVER LOG VIOLATION', 152),\n",
       " ('FAULTY EQUIPMENT|SPEED', 145),\n",
       " ('SPEED|WINDOW TINT', 137),\n",
       " ('SPEED|FOLLOWING TOO CLOSELY', 136),\n",
       " ('WINDOW TINT|SPEED', 133),\n",
       " ('OTHER DRIVERS LICENSE VIOLATIONS|SPEED', 130),\n",
       " ('LEAVING THE SCENE', 115),\n",
       " ('SPEED|OTHER DRIVERS LICENSE VIOLATIONS', 109),\n",
       " ('SPEED|EXPIRED TAG (- MONTHS OR LESS)', 87),\n",
       " ('EXPIRED TAG (- MONTHS OR LESS)|SPEED', 82),\n",
       " ('FLEEING AND ATTEMPTING TO ELUDE', 79),\n",
       " ('SPEED|OTHER MOVING VIOLATIONS', 76),\n",
       " ('SPEED|NO REGISTRATION', 70),\n",
       " ('OTHER MOVING VIOLATIONS|SPEED', 70),\n",
       " ('CRIMES AGAINST PERSONS', 68),\n",
       " ('SPEED|OTHER NON MOVING VIOLATIONS', 66),\n",
       " ('OTHER TAG / REGISTRATION VIOLATIONS|WINDOW TINT', 63),\n",
       " ('NO REGISTRATION|SPEED', 62),\n",
       " ('SPEED|DRIVING WHILE LICENSE SUSPENDED / REVOKED', 58),\n",
       " ('DRIVING WHILE LICENSE SUSPENDED / REVOKED|SPEED', 57),\n",
       " ('WINDOW TINT|OTHER TAG / REGISTRATION VIOLATIONS', 57),\n",
       " ('SEATBELT (DRIVER)|FAULTY EQUIPMENT', 54),\n",
       " ('OTHER NON MOVING VIOLATIONS|SPEED', 54),\n",
       " ('SPEED|MOVE OVER LAW', 51),\n",
       " ('FAILURE TO EXHIBIT DL UPON DEMAND|SPEED', 50),\n",
       " ('SEATBELT (DRIVER)|VIOLATIONS OF TRAFFIC CONTROL DEVICE', 49),\n",
       " ('SPEED|FAILURE TO EXHIBIT DL UPON DEMAND', 48),\n",
       " ('DRUG / CONTRABAND OFFENSE', 47),\n",
       " ('OTHER NON MOVING VIOLATIONS|OTHER MOVING VIOLATIONS', 46),\n",
       " ('CDL VIOLATION', 45),\n",
       " ('VIOLATIONS OF TRAFFIC CONTROL DEVICE|SPEED', 44),\n",
       " ('MOVE OVER LAW|SPEED', 42),\n",
       " ('FAULTY EQUIPMENT|SEATBELT (DRIVER)', 41),\n",
       " ('SPEED|VIOLATIONS OF TRAFFIC CONTROL DEVICE', 39),\n",
       " ('RESISTING ARREST WITH / WITHOUT VIOLENCE', 38),\n",
       " ('SEATBELT (DRIVER)|SEATBELT (PASSENGER)', 38),\n",
       " ('SEATBELT (PASSENGER)|SEATBELT (DRIVER)', 36),\n",
       " ('VIOLATIONS OF TRAFFIC CONTROL DEVICE|SEATBELT (DRIVER)', 35),\n",
       " ('OTHER MOVING VIOLATIONS|OTHER NON MOVING VIOLATIONS', 33),\n",
       " ('PROPERTY CRIMES', 31),\n",
       " ('IMPROPER CHANGE OF LANE OR COURSE|SPEED', 31),\n",
       " ('PROOF OF INSURANCE|EXPIRED TAG (- MONTHS OR LESS)', 31),\n",
       " ('OTHER TAG / REGISTRATION VIOLATIONS|MOVE OVER LAW', 30),\n",
       " ('PROOF OF INSURANCE|SEATBELT (DRIVER)', 28),\n",
       " ('OTHER MOVING VIOLATIONS|SEATBELT (DRIVER)', 27),\n",
       " ('PROOF OF INSURANCE|MOVE OVER LAW', 27),\n",
       " ('FAULTY EQUIPMENT|WINDOW TINT', 27),\n",
       " ('OTHER NON MOVING VIOLATIONS|OTHER TAG / REGISTRATION VIOLATIONS', 26),\n",
       " ('PROOF OF INSURANCE|CARELESS DRIVING', 26),\n",
       " ('MOVE OVER LAW|OTHER TAG / REGISTRATION VIOLATIONS', 26),\n",
       " ('SEATBELT (DRIVER)|OTHER NON MOVING VIOLATIONS', 25),\n",
       " ('SPEED|IMPROPER CHANGE OF LANE OR COURSE', 25),\n",
       " ('SPEED|IMPROPER PASSING', 24),\n",
       " ('CARELESS DRIVING|PROOF OF INSURANCE', 24),\n",
       " ('EXPIRED TAG (- MONTHS OR LESS)|EXPIRED TAG (MORE THAN - MONTHS)', 23),\n",
       " ('SEATBELT (PASSENGER)|SPEED', 23),\n",
       " ('SPEED|SEATBELT (PASSENGER)', 23),\n",
       " ('LEAVING CHILDREN UNATTENDED IN MV', 23),\n",
       " ('SEATBELT (DRIVER)|PROOF OF INSURANCE', 23),\n",
       " ('PROOF OF INSURANCE|DRIVING WHILE LICENSE SUSPENDED / REVOKED', 22),\n",
       " ('EXPIRED TAG (- MONTHS OR LESS)|PROOF OF INSURANCE', 22),\n",
       " ('BATTERY ON A POLICE OFFICER', 21),\n",
       " ('FAULTY EQUIPMENT|OTHER TAG / REGISTRATION VIOLATIONS', 21),\n",
       " ('OTHER TAG / REGISTRATION VIOLATIONS|FAULTY EQUIPMENT', 21),\n",
       " ('SPEED|PROOF OF INSURANCE|OTHER TAG / REGISTRATION VIOLATIONS', 21),\n",
       " ('OTHER DRIVERS LICENSE VIOLATIONS|WINDOW TINT', 21),\n",
       " ('SPEED|EXPIRED DRIVERS LICENSE (- MONTHS OR LESS)', 20),\n",
       " ('EXPIRED TAG (- MONTHS OR LESS)|FAULTY EQUIPMENT', 20),\n",
       " ('SPEED|NO DRIVERS LICENSE', 20),\n",
       " ('WINDOW TINT|FAULTY EQUIPMENT', 20),\n",
       " ('OTHER TAG / REGISTRATION VIOLATIONS|OTHER NON MOVING VIOLATIONS', 19),\n",
       " ('OTHER NON MOVING VIOLATIONS|FAULTY EQUIPMENT', 19),\n",
       " ('EXPIRED TAG (- MONTHS OR LESS)|OTHER TAG / REGISTRATION VIOLATIONS', 19),\n",
       " ('FAULTY EQUIPMENT|EXPIRED TAG (- MONTHS OR LESS)', 18),\n",
       " ('SPEED|OTHER TAG / REGISTRATION VIOLATIONS|PROOF OF INSURANCE', 18),\n",
       " ('OTHER TAG / REGISTRATION VIOLATIONS|OTHER TAG / REGISTRATION VIOLATIONS|SPEED',\n",
       "  18),\n",
       " ('DRIVING WHILE LICENSE SUSPENDED / REVOKED|SEATBELT (DRIVER)', 17),\n",
       " ('SEATBELT (DRIVER)|OTHER MOVING VIOLATIONS', 17),\n",
       " ('EXPIRED TAG (- MONTHS OR LESS)|SEATBELT (DRIVER)', 17),\n",
       " ('DRIVING WHILE LICENSE SUSPENDED / REVOKED|PROOF OF INSURANCE', 17),\n",
       " ('OTHER NON MOVING VIOLATIONS|SEATBELT (DRIVER)', 17),\n",
       " ('OTHER TAG / REGISTRATION VIOLATIONS|PROOF OF INSURANCE|SPEED', 17),\n",
       " ('FAULTY EQUIPMENT|OTHER NON MOVING VIOLATIONS', 16),\n",
       " ('SEATBELT (DRIVER)|EXPIRED TAG (- MONTHS OR LESS)', 16),\n",
       " ('EXPIRED DRIVERS LICENSE (- MONTHS OR LESS)|SPEED', 16),\n",
       " ('OTHER TAG / REGISTRATION VIOLATIONS|SPEED|OTHER TAG / REGISTRATION VIOLATIONS',\n",
       "  16),\n",
       " ('NO DRIVERS LICENSE|SPEED', 16),\n",
       " ('OTHER TAG / REGISTRATION VIOLATIONS|SEATBELT (DRIVER)', 16),\n",
       " ('IMPROPER BACKING|SPEED', 16),\n",
       " ('PROOF OF INSURANCE|SPEED|OTHER TAG / REGISTRATION VIOLATIONS', 16),\n",
       " ('OTHER TAG / REGISTRATION VIOLATIONS|SPEED|PROOF OF INSURANCE', 16),\n",
       " ('WINDOW TINT|OTHER DRIVERS LICENSE VIOLATIONS', 16),\n",
       " ('FAULTY EQUIPMENT|OTHER MOVING VIOLATIONS', 15),\n",
       " ('EXPIRED TAG (MORE THAN - MONTHS)|EXPIRED TAG (- MONTHS OR LESS)', 15),\n",
       " ('WINDOW TINT|SEATBELT (DRIVER)', 15),\n",
       " ('SPEED|OTHER DRIVERS LICENSE VIOLATIONS|OTHER TAG / REGISTRATION VIOLATIONS',\n",
       "  15),\n",
       " ('IMPROPER PASSING|SPEED', 14),\n",
       " ('WINDOW TINT|SPEED|OTHER TAG / REGISTRATION VIOLATIONS', 14),\n",
       " ('SEATBELT (DRIVER)|OTHER TAG / REGISTRATION VIOLATIONS', 13),\n",
       " ('OTHER MOVING VIOLATIONS|OTHER TAG / REGISTRATION VIOLATIONS', 13),\n",
       " ('OTHER CRIMINAL TRAFFIC VIOLATIONS|OTHER MOVING VIOLATIONS', 13),\n",
       " ('OTHER MOVING VIOLATIONS|OTHER CRIMINAL TRAFFIC VIOLATIONS', 13),\n",
       " ('OTHER TAG / REGISTRATION VIOLATIONS|EXPIRED TAG (- MONTHS OR LESS)', 13),\n",
       " ('OTHER TAG / REGISTRATION VIOLATIONS|OTHER MOVING VIOLATIONS', 13),\n",
       " ('MOVE OVER LAW|PROOF OF INSURANCE', 13),\n",
       " ('SPEED|OTHER TAG / REGISTRATION VIOLATIONS|OTHER TAG / REGISTRATION VIOLATIONS',\n",
       "  13),\n",
       " ('OTHER TAG / REGISTRATION VIOLATIONS|SPEED|OTHER DRIVERS LICENSE VIOLATIONS',\n",
       "  13),\n",
       " ('FAULTY EQUIPMENT|PROOF OF INSURANCE', 12),\n",
       " ('OTHER MOVING VIOLATIONS|FAULTY EQUIPMENT', 12),\n",
       " ('SPEED|SPEED|SEATBELT (DRIVER)', 12),\n",
       " ('WINDOW TINT|OTHER NON MOVING VIOLATIONS', 12),\n",
       " ('SPEED|WINDOW TINT|OTHER TAG / REGISTRATION VIOLATIONS', 12),\n",
       " ('PROOF OF INSURANCE|FAULTY EQUIPMENT', 11),\n",
       " ('FAULTY EQUIPMENT|VIOLATIONS OF TRAFFIC CONTROL DEVICE', 11),\n",
       " ('FOLLOWING TOO CLOSELY|PROOF OF INSURANCE', 11),\n",
       " ('FAILURE TO EXHIBIT DL UPON DEMAND|FAULTY EQUIPMENT', 11),\n",
       " ('OTHER NON MOVING VIOLATIONS|WINDOW TINT', 11),\n",
       " ('PROOF OF INSURANCE|WINDOW TINT', 11),\n",
       " ('OTHER TAG / REGISTRATION VIOLATIONS|SPEED|WINDOW TINT', 11),\n",
       " ('WINDOW TINT|OTHER TAG / REGISTRATION VIOLATIONS|SPEED', 11),\n",
       " ('SEATBELT (DRIVER)|IMPROPER PASSING', 10),\n",
       " ('SPEED|SEATBELT (DRIVER)|SEATBELT (DRIVER)', 10),\n",
       " ('EXPIRED TAG (- MONTHS OR LESS)|OTHER NON MOVING VIOLATIONS', 10),\n",
       " ('OTHER MOVING VIOLATIONS|IMPROPER CHANGE OF LANE OR COURSE', 10),\n",
       " ('OTHER MOVING VIOLATIONS|PROOF OF INSURANCE', 10),\n",
       " ('PROOF OF INSURANCE|OTHER TAG / REGISTRATION VIOLATIONS|SPEED', 10),\n",
       " ('VIOLATIONS OF TRAFFIC CONTROL DEVICE|EXPIRED TAG (- MONTHS OR LESS)', 10),\n",
       " ('SPEED|OTHER TAG / REGISTRATION VIOLATIONS|WINDOW TINT', 10),\n",
       " ('VIOLATIONS OF RIGHT OF WAY|PROOF OF INSURANCE', 10),\n",
       " ('PROOF OF INSURANCE|OTHER MOVING VIOLATIONS', 9),\n",
       " ('EXPIRED TAG (- MONTHS OR LESS)|EXPIRED DRIVERS LICENSE (- MONTHS OR LESS)',\n",
       "  9),\n",
       " ('FAULTY EQUIPMENT|FAILURE TO EXHIBIT DL UPON DEMAND', 9),\n",
       " ('SEATBELT (DRIVER)|SPEED|SEATBELT (DRIVER)', 9),\n",
       " ('OTHER DRIVERS LICENSE VIOLATIONS|OTHER MOVING VIOLATIONS', 9),\n",
       " ('CARELESS DRIVING|DRIVING WHILE LICENSE SUSPENDED / REVOKED', 9),\n",
       " ('PROOF OF INSURANCE|OTHER NON MOVING VIOLATIONS', 9),\n",
       " ('SPEED|SPEED|OTHER TAG / REGISTRATION VIOLATIONS', 9),\n",
       " ('PROOF OF INSURANCE|VIOLATIONS OF TRAFFIC CONTROL DEVICE', 9),\n",
       " ('SPEED|IMPROPER BACKING', 9),\n",
       " ('VIOLATIONS OF TRAFFIC CONTROL DEVICE|PROOF OF INSURANCE', 9),\n",
       " ('OTHER MOVING VIOLATIONS|EXPIRED TAG (- MONTHS OR LESS)', 9),\n",
       " ('OTHER TAG / REGISTRATION VIOLATIONS|TOLL EVASION', 9),\n",
       " ('SPEED|CARELESS DRIVING', 9),\n",
       " ('EXPIRED TAG (- MONTHS OR LESS)|OTHER MOVING VIOLATIONS', 9),\n",
       " ('OTHER DRIVERS LICENSE VIOLATIONS|SEATBELT (DRIVER)', 9),\n",
       " ('OTHER DRIVERS LICENSE VIOLATIONS|OTHER TAG / REGISTRATION VIOLATIONS|SPEED',\n",
       "  9),\n",
       " ('SEATBELT (DRIVER)|DRIVING WHILE LICENSE SUSPENDED / REVOKED', 8),\n",
       " ('EXPIRED DRIVERS LICENSE (- MONTHS OR LESS)|EXPIRED TAG (- MONTHS OR LESS)',\n",
       "  8),\n",
       " ('SPEED|SEATBELT (DRIVER)|SPEED', 8),\n",
       " ('SEATBELT (DRIVER)|FAILURE TO EXHIBIT DL UPON DEMAND', 8),\n",
       " ('OTHER TAG / REGISTRATION VIOLATIONS|VIOLATIONS OF TRAFFIC CONTROL DEVICE',\n",
       "  8),\n",
       " ('OTHER DRIVERS LICENSE VIOLATIONS|OTHER NON MOVING VIOLATIONS', 8),\n",
       " ('EXPIRED TAG (- MONTHS OR LESS)|DRIVING WHILE LICENSE SUSPENDED / REVOKED',\n",
       "  8),\n",
       " ('EXPIRED TAG (- MONTHS OR LESS)|NO REGISTRATION', 8),\n",
       " ('IMPROPER TURN|SPEED', 8),\n",
       " ('VIOLATIONS OF TRAFFIC CONTROL DEVICE|OTHER MOVING VIOLATIONS', 8),\n",
       " ('PROOF OF INSURANCE|VIOLATIONS OF RIGHT OF WAY', 8),\n",
       " ('NO REGISTRATION|FAULTY EQUIPMENT', 8),\n",
       " ('EXPIRED TAG (MORE THAN - MONTHS)|SPEED', 8),\n",
       " ('SPEED|OTHER TAG / REGISTRATION VIOLATIONS|OTHER DRIVERS LICENSE VIOLATIONS',\n",
       "  8),\n",
       " ('OTHER TAG / REGISTRATION VIOLATIONS|WINDOW TINT|SPEED', 8),\n",
       " ('EXPIRED TAG (MORE THAN - MONTHS)|SEATBELT (DRIVER)', 7),\n",
       " ('SEATBELT (DRIVER)|SEATBELT (DRIVER)|SPEED', 7),\n",
       " ('OTHER MOVING VIOLATIONS|OTHER DRIVERS LICENSE VIOLATIONS', 7),\n",
       " ('PROOF OF INSURANCE|OTHER TAG / REGISTRATION VIOLATIONS', 7),\n",
       " ('OTHER TAG / REGISTRATION VIOLATIONS|PROOF OF INSURANCE', 7),\n",
       " ('DRIVING WHILE LICENSE SUSPENDED / REVOKED|CARELESS DRIVING', 7),\n",
       " ('VIOLATIONS OF TRAFFIC CONTROL DEVICE|NO REGISTRATION', 7),\n",
       " ('DRIVING WHILE LICENSE SUSPENDED / REVOKED|VIOLATIONS OF TRAFFIC CONTROL DEVICE',\n",
       "  7),\n",
       " ('IMPROPER CHANGE OF LANE OR COURSE|IMPROPER PASSING', 7),\n",
       " ('DRIVING WHILE LICENSE SUSPENDED / REVOKED|EXPIRED TAG (- MONTHS OR LESS)',\n",
       "  7),\n",
       " ('VIOLATIONS OF TRAFFIC CONTROL DEVICE|OTHER DRIVERS LICENSE VIOLATIONS', 7),\n",
       " ('SPEED|WINDOW TINT|SPEED', 7),\n",
       " ('VIOLATIONS OF TRAFFIC CONTROL DEVICE|VIOLATION OF DL RESTRICTIONS', 7),\n",
       " ('MOVE OVER LAW|SEATBELT (DRIVER)', 7),\n",
       " ('FAILURE TO EXHIBIT DL UPON DEMAND|SPEED|PROOF OF INSURANCE', 7),\n",
       " ('VIOLATIONS OF TRAFFIC CONTROL DEVICE|WINDOW TINT', 7),\n",
       " ('PROOF OF INSURANCE|IMPROPER CHANGE OF LANE OR COURSE', 7),\n",
       " ('SPEED|OTHER TAG / REGISTRATION VIOLATIONS|SPEED', 7),\n",
       " ('VIOLATIONS OF TRAFFIC CONTROL DEVICE|DRIVING WHILE LICENSE SUSPENDED / REVOKED',\n",
       "  7),\n",
       " ('VIOLATIONS OF TRAFFIC CONTROL DEVICE|OTHER TAG / REGISTRATION VIOLATIONS',\n",
       "  7),\n",
       " ('SPEED|DRIVING WITHOUT HEADLIGHTS', 7),\n",
       " ('SEATBELT (DRIVER)|WINDOW TINT', 7),\n",
       " ('SPEED|SPEED|WINDOW TINT', 7),\n",
       " ('TOLL EVASION|OTHER TAG / REGISTRATION VIOLATIONS', 6),\n",
       " ('VIOLATIONS OF TRAFFIC CONTROL DEVICE|FAULTY EQUIPMENT', 6),\n",
       " ('TOLL EVASION|SPEED', 6),\n",
       " ('IMPROPER CHANGE OF LANE OR COURSE|OTHER MOVING VIOLATIONS', 6),\n",
       " ('OTHER NON MOVING VIOLATIONS|VIOLATIONS OF TRAFFIC CONTROL DEVICE', 6),\n",
       " ('IMPROPER BACKING|IMPROPER CHANGE OF LANE OR COURSE', 6),\n",
       " ('VIOLATIONS OF TRAFFIC CONTROL DEVICE|FAILURE TO EXHIBIT DL UPON DEMAND', 6),\n",
       " ('SPEED|EXPIRED DRIVERS LICENSE (MORE THAN - MONTHS)', 6),\n",
       " ('OTHER NON MOVING VIOLATIONS|OTHER DRIVERS LICENSE VIOLATIONS', 6),\n",
       " ('IMPROPER PASSING|SEATBELT (DRIVER)', 6),\n",
       " ('SPEED|PARKING', 6),\n",
       " ('FAILURE TO EXHIBIT DL UPON DEMAND|SEATBELT (DRIVER)', 6),\n",
       " ('PROOF OF INSURANCE|SPEED|EXPIRED TAG (- MONTHS OR LESS)', 6),\n",
       " ('PROOF OF INSURANCE|SPEED|SPEED', 6),\n",
       " ('CARELESS DRIVING|SPEED', 6),\n",
       " ('IMPROPER CHANGE OF LANE OR COURSE|SEATBELT (DRIVER)', 6),\n",
       " ('OTHER TAG / REGISTRATION VIOLATIONS|OTHER DRIVERS LICENSE VIOLATIONS', 6),\n",
       " ('VIOLATIONS OF TRAFFIC CONTROL DEVICE|VIOLATIONS OF RIGHT OF WAY', 6),\n",
       " ('PROOF OF INSURANCE|NO REGISTRATION', 6),\n",
       " ('SEATBELT (DRIVER)|IMPROPER CHANGE OF LANE OR COURSE', 6),\n",
       " ('IMPROPER CHANGE OF LANE OR COURSE|PROOF OF INSURANCE', 6),\n",
       " ('PROOF OF INSURANCE|SPEED|FOLLOWING TOO CLOSELY', 6),\n",
       " ('DUI|OTHER MOVING VIOLATIONS', 6),\n",
       " ('WINDOW TINT|DRIVING WHILE LICENSE SUSPENDED / REVOKED', 6),\n",
       " ('EXPIRED TAG (- MONTHS OR LESS)|OTHER DRIVERS LICENSE VIOLATIONS', 6),\n",
       " ('MOVE OVER LAW|WINDOW TINT', 6),\n",
       " ('WINDOW TINT|SPEED|PROOF OF INSURANCE', 6),\n",
       " ('SEATBELT (DRIVER)|OTHER DRIVERS LICENSE VIOLATIONS', 6),\n",
       " ('EXPIRED DRIVERS LICENSE (- MONTHS OR LESS)|PROOF OF INSURANCE', 6),\n",
       " ('NO REGISTRATION|PROOF OF INSURANCE|SPEED', 6),\n",
       " ('SEATBELT (DRIVER)|MOVE OVER LAW', 6),\n",
       " ('OTHER DRIVERS LICENSE VIOLATIONS|WINDOW TINT|OTHER TAG / REGISTRATION VIOLATIONS',\n",
       "  6),\n",
       " ('OTHER DRIVERS LICENSE VIOLATIONS|SPEED|OTHER TAG / REGISTRATION VIOLATIONS',\n",
       "  6),\n",
       " ('LEAVING THE SCENE|CARELESS DRIVING', 5),\n",
       " ('SPEED|IMPROPER TURN', 5),\n",
       " ('SEATBELT (DRIVER)|EXPIRED TAG (MORE THAN - MONTHS)', 5),\n",
       " ('VIOLATIONS OF TRAFFIC CONTROL DEVICE|IMPROPER TURN', 5),\n",
       " ('EXPIRED TAG (MORE THAN - MONTHS)|EXPIRED DRIVERS LICENSE (MORE THAN - MONTHS)',\n",
       "  5),\n",
       " ('OTHER NON MOVING VIOLATIONS|EXPIRED TAG (- MONTHS OR LESS)', 5),\n",
       " ('OTHER NON MOVING VIOLATIONS|CARELESS DRIVING', 5),\n",
       " ('EXPIRED TAG (- MONTHS OR LESS)|CARELESS DRIVING', 5),\n",
       " ('SPEED|VIOLATIONS OF RIGHT OF WAY', 5),\n",
       " ('JUVENILE .-- BAC SUSPENSION', 5),\n",
       " ('CHILD RESTRAINT|SEATBELT (DRIVER)', 5),\n",
       " ('OTHER MOVING VIOLATIONS|NO DRIVERS LICENSE', 5),\n",
       " ('PROOF OF INSURANCE|NO REGISTRATION|SPEED', 5),\n",
       " ('EXPIRED TAG (- MONTHS OR LESS)|VIOLATIONS OF TRAFFIC CONTROL DEVICE', 5),\n",
       " ('SPEED|FAULTY EQUIPMENT|SPEED', 5),\n",
       " ('SPEED|OTHER CRIMINAL TRAFFIC VIOLATIONS', 5),\n",
       " ('EXPIRED TAG (MORE THAN - MONTHS)|PROOF OF INSURANCE', 5),\n",
       " ('FAULTY EQUIPMENT|NO REGISTRATION', 5),\n",
       " ('SPEED|VIOLATION OF DL RESTRICTIONS', 5),\n",
       " ('DRIVING WHILE LICENSE SUSPENDED / REVOKED|OTHER TAG / REGISTRATION VIOLATIONS',\n",
       "  5),\n",
       " ('WINDOW TINT|EXPIRED TAG (- MONTHS OR LESS)', 5),\n",
       " ('DRIVING WHILE LICENSE SUSPENDED / REVOKED|SPEED|PROOF OF INSURANCE', 5),\n",
       " ('SPEED|PROOF OF INSURANCE|NO REGISTRATION', 5),\n",
       " ('NO REGISTRATION|EXPIRED TAG (- MONTHS OR LESS)', 5),\n",
       " ('NO DRIVERS LICENSE|PROOF OF INSURANCE', 5),\n",
       " ('MOVE OVER LAW|FAULTY EQUIPMENT', 5),\n",
       " ('IMPROPER CHANGE OF LANE OR COURSE|FOLLOWING TOO CLOSELY', 5),\n",
       " ('SPEED|ATTACHING TAG NOT ASSIGNED', 5),\n",
       " ('DRIVING WHILE LICENSE SUSPENDED / REVOKED|WINDOW TINT', 5),\n",
       " ('SEATBELT (DRIVER)|SEATBELT (DRIVER)|VIOLATIONS OF TRAFFIC CONTROL DEVICE',\n",
       "  5),\n",
       " ('WEIGHT VIOLATION|WINDOW TINT', 5),\n",
       " ('SPEED|PROOF OF INSURANCE|WINDOW TINT', 5),\n",
       " ('OTHER TAG / REGISTRATION VIOLATIONS|WINDOW TINT|OTHER TAG / REGISTRATION VIOLATIONS',\n",
       "  5),\n",
       " ('WINDOW TINT|OTHER DRIVERS LICENSE VIOLATIONS|SPEED', 5),\n",
       " ('OTHER DRIVERS LICENSE VIOLATIONS|MOVE OVER LAW', 5),\n",
       " ('MOVE OVER LAW|MOTOR VEHICLE NOISE', 5),\n",
       " ('WINDOW TINT|OTHER TAG / REGISTRATION VIOLATIONS|OTHER DRIVERS LICENSE VIOLATIONS',\n",
       "  5),\n",
       " ('SEATBELT (DRIVER)|CARELESS DRIVING', 4),\n",
       " ('OTHER NON MOVING VIOLATIONS|PROOF OF INSURANCE', 4),\n",
       " ('SEATBELT (DRIVER)|CHILD RESTRAINT', 4),\n",
       " ('FAULTY EQUIPMENT|FAULTY EQUIPMENT|SPEED', 4),\n",
       " ('SPEED|SPEED|SPEED|SEATBELT (DRIVER)', 4),\n",
       " ('FAULTY EQUIPMENT|IMPROPER CHANGE OF LANE OR COURSE', 4),\n",
       " ('DRIVING WITHOUT HEADLIGHTS|SEATBELT (DRIVER)', 4),\n",
       " ('OTHER NON MOVING VIOLATIONS|IMPROPER CHANGE OF LANE OR COURSE', 4),\n",
       " ('IMPROPER CHANGE OF LANE OR COURSE|VIOLATIONS OF TRAFFIC CONTROL DEVICE', 4),\n",
       " ('NO REGISTRATION|OTHER MOVING VIOLATIONS', 4),\n",
       " ('SPEED|TOLL EVASION', 4),\n",
       " ('OTHER DRIVERS LICENSE VIOLATIONS|OTHER TAG / REGISTRATION VIOLATIONS', 4),\n",
       " ('SPEED|SPEED|IMPROPER BACKING', 4),\n",
       " ('OTHER TAG / REGISTRATION VIOLATIONS|OTHER NON MOVING VIOLATIONS|OTHER TAG / REGISTRATION VIOLATIONS',\n",
       "  4),\n",
       " ('NO DRIVERS LICENSE|OTHER MOVING VIOLATIONS', 4),\n",
       " ('VIOLATIONS OF RIGHT OF WAY|VIOLATIONS OF TRAFFIC CONTROL DEVICE', 4),\n",
       " ('DUI|SPEED', 4),\n",
       " ('SEATBELT (DRIVER)|SPEED|SPEED|SPEED', 4),\n",
       " ('DRIVING WHILE LICENSE SUSPENDED / REVOKED|OTHER MOVING VIOLATIONS', 4),\n",
       " ('SPEED|IMPROPER BACKING|SPEED', 4),\n",
       " ('FAILURE TO EXHIBIT DL UPON DEMAND|CARELESS DRIVING', 4),\n",
       " ('SEATBELT (DRIVER)|NO REGISTRATION', 4),\n",
       " ('ATTACHING TAG NOT ASSIGNED|OTHER TAG / REGISTRATION VIOLATIONS', 4),\n",
       " ('NO REGISTRATION|PROOF OF INSURANCE', 4),\n",
       " ('PROOF OF INSURANCE|SPEED|NO REGISTRATION', 4),\n",
       " ('SPEED|SPEED|EXPIRED TAG (- MONTHS OR LESS)', 4),\n",
       " ('NO REGISTRATION|VIOLATIONS OF TRAFFIC CONTROL DEVICE', 4),\n",
       " ('NO REGISTRATION|SEATBELT (DRIVER)', 4),\n",
       " ('CARELESS DRIVING|DUI', 4),\n",
       " ('SPEED|SPEED|FAULTY EQUIPMENT', 4),\n",
       " ('SPEED|PROOF OF INSURANCE|EXPIRED TAG (- MONTHS OR LESS)', 4),\n",
       " ('VIOLATIONS OF TRAFFIC CONTROL DEVICE|IMPROPER PASSING', 4),\n",
       " ('NO DRIVERS LICENSE|CARELESS DRIVING', 4),\n",
       " ('FAULTY EQUIPMENT|DRIVING WHILE LICENSE SUSPENDED / REVOKED', 4),\n",
       " ('EXPIRED TAG (- MONTHS OR LESS)|IMPROPER BACKING', 4),\n",
       " ('WEIGHT VIOLATION|SPEED', 4),\n",
       " ('EXPIRED TAG (- MONTHS OR LESS)|WINDOW TINT', 4),\n",
       " ('PROOF OF INSURANCE|FOLLOWING TOO CLOSELY', 4),\n",
       " ('OTHER TAG / REGISTRATION VIOLATIONS|EXPIRED TAG (MORE THAN - MONTHS)', 4),\n",
       " ('OTHER CRIMINAL TRAFFIC VIOLATIONS|OTHER TAG / REGISTRATION VIOLATIONS', 4),\n",
       " ('SPEED|EXPIRED TAG (- MONTHS OR LESS)|PROOF OF INSURANCE', 4),\n",
       " ('DUI|CARELESS DRIVING', 4),\n",
       " ('SPEED|EXPIRED TAG (MORE THAN - MONTHS)', 4),\n",
       " ('PROOF OF INSURANCE|FOLLOWING TOO CLOSELY|SPEED', 4),\n",
       " ('SEATBELT (PASSENGER)|OTHER NON MOVING VIOLATIONS', 4),\n",
       " ('EXPIRED DRIVERS LICENSE (- MONTHS OR LESS)|SEATBELT (DRIVER)', 4),\n",
       " ('SPEED|SPEED|PROOF OF INSURANCE', 4),\n",
       " ('SPEED|CHILD RESTRAINT', 4),\n",
       " ('SPEED|DRIVING WHILE LICENSE SUSPENDED / REVOKED|PROOF OF INSURANCE', 4),\n",
       " ('OTHER NON MOVING VIOLATIONS|MOVE OVER LAW', 4),\n",
       " ('OTHER TAG / REGISTRATION VIOLATIONS|WINDOW TINT|OTHER DRIVERS LICENSE VIOLATIONS',\n",
       "  4),\n",
       " ('WINDOW TINT|PROOF OF INSURANCE', 4),\n",
       " ('FAULTY EQUIPMENT|MOVE OVER LAW', 4),\n",
       " ('SPEED|OTHER DRIVERS LICENSE VIOLATIONS|WINDOW TINT', 4),\n",
       " ('OTHER TAG / REGISTRATION VIOLATIONS|SEATBELT (DRIVER)|SPEED', 4),\n",
       " ('OTHER DRIVERS LICENSE VIOLATIONS|WINDOW TINT|SPEED', 4),\n",
       " ('OTHER DRIVERS LICENSE VIOLATIONS|OTHER TAG / REGISTRATION VIOLATIONS|WINDOW TINT',\n",
       "  4),\n",
       " ('OTHER TAG / REGISTRATION VIOLATIONS|OTHER DRIVERS LICENSE VIOLATIONS|SPEED',\n",
       "  4),\n",
       " ('SEATBELT (DRIVER)|SPEED|OTHER TAG / REGISTRATION VIOLATIONS', 4),\n",
       " ('MOVE OVER LAW|OTHER DRIVERS LICENSE VIOLATIONS', 4),\n",
       " ('MOVE OVER LAW|OTHER NON MOVING VIOLATIONS', 4),\n",
       " ('CARELESS DRIVING|FAILURE TO EXHIBIT DL UPON DEMAND', 3),\n",
       " ('SEATBELT (DRIVER)|IMPROPER TURN', 3),\n",
       " ('IMPROPER BACKING|PROOF OF INSURANCE', 3),\n",
       " ('SEATBELT (DRIVER)|NO DRIVERS LICENSE', 3),\n",
       " ('CARELESS DRIVING|SEATBELT (DRIVER)', 3),\n",
       " ('SEATBELT (PASSENGER)|OPEN CONTAINER (PASSENGER)', 3),\n",
       " ('VIOLATIONS OF TRAFFIC CONTROL DEVICE|CARELESS DRIVING', 3),\n",
       " ('OTHER NON MOVING VIOLATIONS|SPEED|SPEED', 3),\n",
       " ('FAULTY EQUIPMENT|SPEED|PROOF OF INSURANCE', 3),\n",
       " ('VIOLATION OF DL RESTRICTIONS|VIOLATIONS OF TRAFFIC CONTROL DEVICE', 3),\n",
       " ('IMPROPER TURN|OTHER MOVING VIOLATIONS', 3),\n",
       " ('FAULTY EQUIPMENT|OTHER DRIVERS LICENSE VIOLATIONS', 3),\n",
       " ('FOLLOWING TOO CLOSELY|FAULTY EQUIPMENT', 3),\n",
       " ('OTHER TAG / REGISTRATION VIOLATIONS|ATTACHING TAG NOT ASSIGNED', 3),\n",
       " ('PROOF OF INSURANCE|EXPIRED DRIVERS LICENSE (- MONTHS OR LESS)', 3),\n",
       " ('IMPROPER BACKING|VIOLATIONS OF TRAFFIC CONTROL DEVICE', 3),\n",
       " ('SPEED|PROOF OF INSURANCE|FAULTY EQUIPMENT', 3),\n",
       " ('OTHER NON MOVING VIOLATIONS|OTHER NON MOVING VIOLATIONS|OTHER MOVING VIOLATIONS',\n",
       "  3),\n",
       " ('EXPIRED TAG (- MONTHS OR LESS)|FAULTY EQUIPMENT|EXPIRED TAG (- MONTHS OR LESS)',\n",
       "  3),\n",
       " ('IMPROPER BACKING|SEATBELT (DRIVER)', 3),\n",
       " ('FAULTY EQUIPMENT|SEATBELT (DRIVER)|SEATBELT (DRIVER)', 3),\n",
       " ('OTHER MOVING VIOLATIONS|IMPROPER BACKING', 3),\n",
       " ('OTHER MOVING VIOLATIONS|IMPROPER PASSING', 3),\n",
       " ('SEATBELT (DRIVER)|FAULTY EQUIPMENT|SEATBELT (DRIVER)', 3),\n",
       " ('FAULTY EQUIPMENT|EXPIRED DRIVERS LICENSE (- MONTHS OR LESS)', 3),\n",
       " ('DRIVING WHILE LICENSE SUSPENDED / REVOKED|IMPROPER CHANGE OF LANE OR COURSE',\n",
       "  3),\n",
       " ('OTHER MOVING VIOLATIONS|DRIVING WHILE LICENSE SUSPENDED / REVOKED', 3),\n",
       " ('SPEED|PROOF OF INSURANCE|SPEED', 3),\n",
       " ('IMPROPER PASSING|DRIVING WHILE LICENSE SUSPENDED / REVOKED', 3),\n",
       " ('SPEED|OTHER MOVING VIOLATIONS|OTHER MOVING VIOLATIONS', 3),\n",
       " ('LOADS ON VEHICLE|SEATBELT (DRIVER)', 3),\n",
       " ('CARELESS DRIVING|EXPIRED DRIVERS LICENSE (- MONTHS OR LESS)', 3),\n",
       " ('IMPROPER PASSING|FAULTY EQUIPMENT', 3),\n",
       " ('OTHER MOVING VIOLATIONS|FOLLOWING TOO CLOSELY', 3),\n",
       " ('SEATBELT (DRIVER)|SEATBELT (DRIVER)|DRIVING WHILE LICENSE SUSPENDED / REVOKED',\n",
       "  3),\n",
       " ('FAULTY EQUIPMENT|EXPIRED TAG (- MONTHS OR LESS)|EXPIRED TAG (- MONTHS OR LESS)',\n",
       "  3),\n",
       " ('VIOLATIONS OF TRAFFIC CONTROL DEVICE|VIOLATIONS OF TRAFFIC CONTROL DEVICE|VIOLATION OF DL RESTRICTIONS',\n",
       "  3),\n",
       " ('OBSTRUCTING THE ROADWAY|SPEED', 3),\n",
       " ('SPEED|FOLLOWING TOO CLOSELY|FOLLOWING TOO CLOSELY', 3),\n",
       " ('NO DRIVERS LICENSE|IMPROPER CHANGE OF LANE OR COURSE', 3),\n",
       " ('IMPROPER CHANGE OF LANE OR COURSE|WINDOW TINT', 3),\n",
       " ('OTHER NON MOVING VIOLATIONS|IMPROPER BACKING', 3),\n",
       " ('OTHER NON MOVING VIOLATIONS|OTHER MOVING VIOLATIONS|OTHER NON MOVING VIOLATIONS',\n",
       "  3),\n",
       " ('IMPROPER BACKING|SPEED|SPEED', 3),\n",
       " ('SEATBELT (DRIVER)|SPEED|SPEED', 3),\n",
       " ('ATTACHING TAG NOT ASSIGNED|FAULTY EQUIPMENT', 3),\n",
       " ('SPEED|FAULTY EQUIPMENT|PROOF OF INSURANCE', 3),\n",
       " ('DRIVING WITHOUT HEADLIGHTS|DRIVING WHILE LICENSE SUSPENDED / REVOKED', 3),\n",
       " ('IMPROPER PASSING|IMPROPER CHANGE OF LANE OR COURSE', 3),\n",
       " ('WINDOW TINT|IMPROPER BACKING', 3),\n",
       " ('OTHER TAG / REGISTRATION VIOLATIONS|CARELESS DRIVING', 3),\n",
       " ('NO REGISTRATION|SPEED|PROOF OF INSURANCE', 3),\n",
       " ('CARELESS DRIVING|LEAVING THE SCENE', 3),\n",
       " ('WINDOW TINT|OTHER MOVING VIOLATIONS', 3),\n",
       " ('SPEED|EXPIRED TAG (- MONTHS OR LESS)|EXPIRED TAG (- MONTHS OR LESS)', 3),\n",
       " ('SEATBELT (DRIVER)|ATTACHING TAG NOT ASSIGNED', 3),\n",
       " ('WINDOW TINT|IMPROPER CHANGE OF LANE OR COURSE', 3),\n",
       " ('FOLLOWING TOO CLOSELY|FOLLOWING TOO CLOSELY|SPEED', 3),\n",
       " ('SPEED|FOLLOWING TOO CLOSELY|IMPROPER CHANGE OF LANE OR COURSE', 3),\n",
       " ('SPEED|NO REGISTRATION|PROOF OF INSURANCE', 3),\n",
       " ('SEATBELT (DRIVER)|OTHER CRIMINAL TRAFFIC VIOLATIONS', 3),\n",
       " ('WINDOW TINT|MOVE OVER LAW', 3),\n",
       " ('EXPIRED TAG (- MONTHS OR LESS)|EXPIRED DRIVERS LICENSE (MORE THAN - MONTHS)',\n",
       "  3),\n",
       " ('WINDOW TINT|VIOLATIONS OF TRAFFIC CONTROL DEVICE', 3),\n",
       " ('SPEED|FOLLOWING TOO CLOSELY|SPEED', 3),\n",
       " ('FOLLOWING TOO CLOSELY|SPEED|PROOF OF INSURANCE', 3),\n",
       " ('NO DRIVERS LICENSE|WINDOW TINT', 3),\n",
       " ('PROOF OF INSURANCE|FAILURE TO EXHIBIT DL UPON DEMAND', 3),\n",
       " ('IMPROPER PASSING|OTHER NON MOVING VIOLATIONS', 3),\n",
       " ('SPEED|SPEED|OTHER DRIVERS LICENSE VIOLATIONS', 3),\n",
       " ('SPEED|PROOF OF INSURANCE|FAILURE TO EXHIBIT DL UPON DEMAND', 3),\n",
       " ('FAULTY EQUIPMENT|WINDOW TINT|WINDOW TINT', 3),\n",
       " ('SPEED|MOVE OVER LAW|MOVE OVER LAW', 3),\n",
       " ('FAULTY EQUIPMENT|DRIVING WHILE LICENSE SUSPENDED / REVOKED|PROOF OF INSURANCE',\n",
       "  3),\n",
       " ('SEATBELT (DRIVER)|VIOLATIONS OF RIGHT OF WAY', 3),\n",
       " ('SEATBELT (DRIVER)|VIOLATIONS OF TRAFFIC CONTROL DEVICE|VIOLATIONS OF TRAFFIC CONTROL DEVICE',\n",
       "  3),\n",
       " ('SPEED|WEIGHT VIOLATION', 3),\n",
       " ('PROOF OF INSURANCE|DRIVING WHILE LICENSE SUSPENDED / REVOKED|SPEED', 3),\n",
       " ('NO REGISTRATION|PROOF OF INSURANCE|CARELESS DRIVING', 3),\n",
       " ('EXPIRED TAG (MORE THAN - MONTHS)|FAULTY EQUIPMENT', 3),\n",
       " ('WINDOW TINT|SPEED|OTHER DRIVERS LICENSE VIOLATIONS', 3),\n",
       " ('OTHER TAG / REGISTRATION VIOLATIONS|CMV INSPECTION', 3),\n",
       " ('SPEED|DRIVING WHILE LICENSE SUSPENDED / REVOKED|OTHER DRIVERS LICENSE VIOLATIONS',\n",
       "  3),\n",
       " ('MOVE OVER LAW|FOLLOWING TOO CLOSELY', 3),\n",
       " ('PROOF OF INSURANCE|WINDOW TINT|SPEED', 3),\n",
       " ('SPEED|PROOF OF INSURANCE|OTHER DRIVERS LICENSE VIOLATIONS', 3),\n",
       " ('OTHER DRIVERS LICENSE VIOLATIONS|CARELESS DRIVING', 3),\n",
       " ('OTHER TAG / REGISTRATION VIOLATIONS|OTHER CRIMINAL TRAFFIC VIOLATIONS', 3),\n",
       " ('EXPIRED TAG (- MONTHS OR LESS)|SEATBELT (DRIVER)|SEATBELT (DRIVER)', 3),\n",
       " ('VIOLATIONS OF RIGHT OF WAY|SPEED', 3),\n",
       " ('SPEED|OTHER DRIVERS LICENSE VIOLATIONS|OTHER DRIVERS LICENSE VIOLATIONS',\n",
       "  3),\n",
       " ('FAULTY EQUIPMENT|NO DRIVERS LICENSE', 3),\n",
       " ('OTHER TAG / REGISTRATION VIOLATIONS|SPEED|SEATBELT (DRIVER)', 3),\n",
       " ('OTHER DRIVERS LICENSE VIOLATIONS|SPEED|WINDOW TINT', 3),\n",
       " ('MOTOR VEHICLE NOISE|MOVE OVER LAW', 3),\n",
       " ('SEATBELT (DRIVER)|IMPROPER BACKING', 3),\n",
       " ('IMPROPER TURN|VIOLATIONS OF TRAFFIC CONTROL DEVICE', 3),\n",
       " ('OTHER DRIVERS LICENSE VIOLATIONS|SPEED|SPEED', 3),\n",
       " ('MOTOR VEHICLE NOISE|SPEED', 3),\n",
       " ('SPEED|OTHER TAG / REGISTRATION VIOLATIONS|DRIVING WHILE LICENSE SUSPENDED / REVOKED',\n",
       "  3),\n",
       " ('EXPIRED DRIVERS LICENSE (MORE THAN - MONTHS)|EXPIRED TAG (- MONTHS OR LESS)',\n",
       "  3),\n",
       " ('PROOF OF INSURANCE|SPEED|NO DRIVERS LICENSE', 3),\n",
       " ('CMV INSPECTION|LOADS ON VEHICLE', 3),\n",
       " ('IMPROPER TURN|IMPROPER PASSING', 3),\n",
       " ('OTHER TAG / REGISTRATION VIOLATIONS|MOVE OVER LAW|OTHER TAG / REGISTRATION VIOLATIONS',\n",
       "  3),\n",
       " ('CMV INSPECTION|OTHER TAG / REGISTRATION VIOLATIONS', 3),\n",
       " ('SPEED|SEATBELT (DRIVER)|OTHER TAG / REGISTRATION VIOLATIONS', 3),\n",
       " ('OTHER CRIMINAL TRAFFIC VIOLATIONS|SPEED', 3),\n",
       " ('WINDOW TINT|OTHER TAG / REGISTRATION VIOLATIONS|OTHER TAG / REGISTRATION VIOLATIONS',\n",
       "  3),\n",
       " ('ATTACHING TAG NOT ASSIGNED|EXPIRED TAG (MORE THAN - MONTHS)', 3),\n",
       " ('RESISTING ARREST WITH / WITHOUT VIOLENCE|SEATBELT (DRIVER)', 2),\n",
       " ('FAULTY EQUIPMENT|ATTACHING TAG NOT ASSIGNED', 2),\n",
       " ('OTHER MOVING VIOLATIONS|OTHER MOVING VIOLATIONS|OTHER NON MOVING VIOLATIONS',\n",
       "  2),\n",
       " ('SPEED|NO REGISTRATION|SPEED', 2),\n",
       " ('OTHER MOVING VIOLATIONS|DRIVING WITHOUT HEADLIGHTS', 2),\n",
       " ('RECKLESS DRIVING|SPEED', 2),\n",
       " ('CARELESS DRIVING|FOLLOWING TOO CLOSELY', 2),\n",
       " ('OTHER MOVING VIOLATIONS|OTHER MOVING VIOLATIONS|SEATBELT (DRIVER)|SEATBELT (DRIVER)',\n",
       "  2),\n",
       " ('SEATBELT (DRIVER)|OPEN CONTAINER (DRIVER)', 2),\n",
       " ('SPEED|BUMPER HEIGHTS', 2),\n",
       " ('CARELESS DRIVING|OTHER MOVING VIOLATIONS', 2),\n",
       " ('FAULTY EQUIPMENT|CARELESS DRIVING', 2),\n",
       " ('TOLL EVASION|OTHER NON MOVING VIOLATIONS', 2),\n",
       " ('VIOLATIONS OF RIGHT OF WAY|SEATBELT (DRIVER)', 2),\n",
       " ('EXPIRED DRIVERS LICENSE (MORE THAN - MONTHS)|EXPIRED TAG (MORE THAN - MONTHS)',\n",
       "  2),\n",
       " ('OTHER NON MOVING VIOLATIONS|OTHER MOVING VIOLATIONS|OTHER MOVING VIOLATIONS',\n",
       "  2),\n",
       " ('IMPROPER TURN|OTHER NON MOVING VIOLATIONS', 2),\n",
       " ('EXPIRED DRIVERS LICENSE (MORE THAN - MONTHS)|SPEED', 2),\n",
       " ('OTHER NON MOVING VIOLATIONS|VIOLATIONS OF RIGHT OF WAY', 2),\n",
       " ('DRIVING WITHOUT HEADLIGHTS|OTHER NON MOVING VIOLATIONS', 2),\n",
       " ('IMPROPER CHANGE OF LANE OR COURSE|VIOLATIONS OF RIGHT OF WAY', 2),\n",
       " ('OTHER MOVING VIOLATIONS|OTHER DRIVERS LICENSE VIOLATIONS|OTHER MOVING VIOLATIONS',\n",
       "  2),\n",
       " ('CARELESS DRIVING|VIOLATIONS OF TRAFFIC CONTROL DEVICE', 2),\n",
       " ('OTHER MOVING VIOLATIONS|VIOLATIONS OF TRAFFIC CONTROL DEVICE', 2),\n",
       " ('OTHER MOVING VIOLATIONS|OTHER CRIMINAL TRAFFIC VIOLATIONS|OTHER MOVING VIOLATIONS',\n",
       "  2),\n",
       " ('FAULTY EQUIPMENT|SEATBELT (DRIVER)|FAULTY EQUIPMENT', 2),\n",
       " ('FAULTY EQUIPMENT|FOLLOWING TOO CLOSELY', 2),\n",
       " ('OTHER MOVING VIOLATIONS|TOLL EVASION', 2),\n",
       " ('EXPIRED DRIVERS LICENSE (- MONTHS OR LESS)|VIOLATIONS OF RIGHT OF WAY', 2),\n",
       " ('SPEED|OTHER MOVING VIOLATIONS|SPEED', 2),\n",
       " ('OBSTRUCTING THE ROADWAY|OTHER MOVING VIOLATIONS', 2),\n",
       " ('DRIVING WHILE LICENSE SUSPENDED / REVOKED|VIOLATIONS OF RIGHT OF WAY', 2),\n",
       " ('IMPROPER PASSING|NO REGISTRATION', 2),\n",
       " ('EXPIRED TAG (- MONTHS OR LESS)|SPEED|NO REGISTRATION', 2),\n",
       " ('OTHER NON MOVING VIOLATIONS|IMPROPER TURN', 2),\n",
       " ('SPEED|SPEED|OTHER NON MOVING VIOLATIONS', 2),\n",
       " ('SEATBELT (DRIVER)|OTHER MOVING VIOLATIONS|OTHER MOVING VIOLATIONS', 2),\n",
       " ('IMPROPER PASSING|OTHER MOVING VIOLATIONS', 2),\n",
       " ('IMPROPER CHANGE OF LANE OR COURSE|CARELESS DRIVING', 2),\n",
       " ('ATTACHING TAG NOT ASSIGNED|NO REGISTRATION|PROOF OF INSURANCE', 2),\n",
       " ('SPEED|SPEED|OTHER MOVING VIOLATIONS', 2),\n",
       " ('SPEED|LOADS ON VEHICLE', 2),\n",
       " ('EXPIRED TAG (- MONTHS OR LESS)|LOADS ON VEHICLE', 2),\n",
       " ('PROOF OF INSURANCE|DRIVING WHILE LICENSE SUSPENDED / REVOKED|OTHER TAG / REGISTRATION VIOLATIONS',\n",
       "  2),\n",
       " ('NO REGISTRATION|CARELESS DRIVING', 2),\n",
       " ('EXPIRED TAG (MORE THAN - MONTHS)|OTHER TAG / REGISTRATION VIOLATIONS', 2),\n",
       " ('OTHER NON MOVING VIOLATIONS|OTHER NON MOVING VIOLATIONS|SEATBELT (DRIVER)',\n",
       "  2),\n",
       " ('OTHER NON MOVING VIOLATIONS|OTHER TAG / REGISTRATION VIOLATIONS|OTHER TAG / REGISTRATION VIOLATIONS',\n",
       "  2),\n",
       " ('OTHER TAG / REGISTRATION VIOLATIONS|OTHER TAG / REGISTRATION VIOLATIONS|FAULTY EQUIPMENT',\n",
       "  2),\n",
       " ('FAULTY EQUIPMENT|IMPROPER PASSING', 2),\n",
       " ('DUI ARREST - JUVENILE', 2),\n",
       " ('SEATBELT (DRIVER)|FOLLOWING TOO CLOSELY', 2),\n",
       " ('EXPIRED TAG (- MONTHS OR LESS)|EXPIRED TAG (MORE THAN - MONTHS)|EXPIRED TAG (MORE THAN - MONTHS)',\n",
       "  2),\n",
       " ('DRIVING WHILE LICENSE SUSPENDED / REVOKED|NO DRIVERS LICENSE', 2),\n",
       " ('DRIVING WHILE LICENSE SUSPENDED / REVOKED|DRIVING WHILE LICENSE SUSPENDED / REVOKED|PROOF OF INSURANCE',\n",
       "  2),\n",
       " ('OPEN CONTAINER (DRIVER)|CARELESS DRIVING', 2),\n",
       " ('EXPIRED TAG (- MONTHS OR LESS)|CHILD RESTRAINT', 2),\n",
       " ('EXPIRED TAG (- MONTHS OR LESS)|SEATBELT (DRIVER)|EXPIRED TAG (- MONTHS OR LESS)',\n",
       "  2),\n",
       " ('IMPROPER CHANGE OF LANE OR COURSE|FAULTY EQUIPMENT', 2),\n",
       " ('EXPIRED TAG (- MONTHS OR LESS)|EXPIRED TAG (MORE THAN - MONTHS)|EXPIRED TAG (- MONTHS OR LESS)',\n",
       "  2),\n",
       " ('MOVE OVER LAW|EXPIRED DRIVERS LICENSE (- MONTHS OR LESS)', 2),\n",
       " ('EXPIRED TAG (MORE THAN - MONTHS)|EXPIRED TAG (- MONTHS OR LESS)|EXPIRED TAG (- MONTHS OR LESS)',\n",
       "  2),\n",
       " ('VIOLATIONS OF TRAFFIC CONTROL DEVICE|SPEED|VIOLATIONS OF TRAFFIC CONTROL DEVICE',\n",
       "  2),\n",
       " ('OTHER MOVING VIOLATIONS|CARELESS DRIVING', 2),\n",
       " ('IMPROPER CHANGE OF LANE OR COURSE|NO REGISTRATION', 2),\n",
       " ('SEATBELT (DRIVER)|SEATBELT (DRIVER)|SEATBELT (PASSENGER)', 2),\n",
       " ('EXPIRED TAG (- MONTHS OR LESS)|MOVE OVER LAW', 2),\n",
       " ('IMPROPER CHANGE OF LANE OR COURSE|OTHER TAG / REGISTRATION VIOLATIONS', 2),\n",
       " ('SEATBELT (DRIVER)|EXPIRED DRIVERS LICENSE (- MONTHS OR LESS)', 2),\n",
       " ('FOLLOWING TOO CLOSELY|PROOF OF INSURANCE|DRIVING WHILE LICENSE SUSPENDED / REVOKED',\n",
       "  2),\n",
       " ('OTHER NON MOVING VIOLATIONS|WINDOW TINT|WINDOW TINT', 2),\n",
       " ('OTHER MOVING VIOLATIONS|OTHER TAG / REGISTRATION VIOLATIONS|OTHER MOVING VIOLATIONS|OTHER MOVING VIOLATIONS',\n",
       "  2),\n",
       " ('DRIVING WHILE LICENSE SUSPENDED / REVOKED|PROOF OF INSURANCE|EXPIRED TAG (- MONTHS OR LESS)',\n",
       "  2),\n",
       " ('DRIVING WHILE LICENSE SUSPENDED / REVOKED|FOLLOWING TOO CLOSELY', 2),\n",
       " ('EXPIRED TAG (- MONTHS OR LESS)|FOLLOWING TOO CLOSELY', 2),\n",
       " ('CARELESS DRIVING|EXPIRED TAG (- MONTHS OR LESS)', 2),\n",
       " ('SPEED|NO DRIVERS LICENSE|PROOF OF INSURANCE', 2),\n",
       " ('FAULTY EQUIPMENT|SEATBELT (PASSENGER)', 2),\n",
       " ('OTHER CRIMINAL TRAFFIC VIOLATIONS|OTHER CRIMINAL VIOLATIONS', 2),\n",
       " ('DRIVING WHILE LICENSE SUSPENDED / REVOKED|FAULTY EQUIPMENT', 2),\n",
       " ('FAILURE TO EXHIBIT DL UPON DEMAND|SPEED|DRIVING WHILE LICENSE SUSPENDED / REVOKED',\n",
       "  2),\n",
       " ('EXPIRED TAG (- MONTHS OR LESS)|NO REGISTRATION|PROOF OF INSURANCE', 2),\n",
       " ('EXPIRED TAG (- MONTHS OR LESS)|SPEED|PROOF OF INSURANCE', 2),\n",
       " ('MOVE OVER LAW|DRIVING WHILE LICENSE SUSPENDED / REVOKED', 2),\n",
       " ('PROOF OF INSURANCE|OTHER CRIMINAL TRAFFIC VIOLATIONS', 2),\n",
       " ('OTHER NON MOVING VIOLATIONS|OTHER NON MOVING VIOLATIONS|WINDOW TINT', 2),\n",
       " ('PROOF OF INSURANCE|FAULTY EQUIPMENT|SPEED', 2),\n",
       " ('FAULTY EQUIPMENT|SPEED|SPEED', 2),\n",
       " ('SPEED|OTHER CRIMINAL VIOLATIONS', 2),\n",
       " ('DRIVING WHILE LICENSE SUSPENDED / REVOKED|PROOF OF INSURANCE|FAULTY EQUIPMENT',\n",
       "  2),\n",
       " ('VIOLATIONS OF TRAFFIC CONTROL DEVICE|EXPIRED DRIVERS LICENSE (MORE THAN - MONTHS)',\n",
       "  2),\n",
       " ('FAILURE TO EXHIBIT DL UPON DEMAND|VIOLATIONS OF TRAFFIC CONTROL DEVICE', 2),\n",
       " ('DRIVING WHILE LICENSE SUSPENDED / REVOKED|SPEED|NO REGISTRATION', 2),\n",
       " ('IMPROPER CHANGE OF LANE OR COURSE|IMPROPER TURN', 2),\n",
       " ('PROOF OF INSURANCE|EXPIRED TAG (MORE THAN - MONTHS)', 2),\n",
       " ('EXPIRED TAG (- MONTHS OR LESS)|PROOF OF INSURANCE|SPEED', 2),\n",
       " ('OTHER MOVING VIOLATIONS|SPEED|SPEED', 2),\n",
       " ('EXPIRED TAG (- MONTHS OR LESS)|DRIVING WHILE LICENSE SUSPENDED / REVOKED|SPEED',\n",
       "  2),\n",
       " ('IMPROPER CHANGE OF LANE OR COURSE|FAILURE TO EXHIBIT DL UPON DEMAND', 2),\n",
       " ('IMPROPER CHANGE OF LANE OR COURSE|FAULTY EQUIPMENT|PROOF OF INSURANCE', 2),\n",
       " ('FALSE ACCIDENT REPORT|FAULTY EQUIPMENT', 2),\n",
       " ('DRIVING WITHOUT HEADLIGHTS|SPEED', 2),\n",
       " ('TOLL EVASION|PROOF OF INSURANCE', 2),\n",
       " ('VIOLATIONS OF TRAFFIC CONTROL DEVICE|VIOLATIONS OF TRAFFIC CONTROL DEVICE|SEATBELT (DRIVER)',\n",
       "  2),\n",
       " ('PROOF OF INSURANCE|VIOLATIONS OF TRAFFIC CONTROL DEVICE|NO REGISTRATION',\n",
       "  2),\n",
       " ('WINDOW TINT|PROOF OF INSURANCE|SPEED', 2),\n",
       " ('WINDOW TINT|WINDOW TINT|SEATBELT (DRIVER)', 2),\n",
       " ('PROOF OF INSURANCE|NO REGISTRATION|VIOLATIONS OF TRAFFIC CONTROL DEVICE',\n",
       "  2),\n",
       " ('EXPIRED TAG (- MONTHS OR LESS)|SPEED|EXPIRED TAG (- MONTHS OR LESS)', 2),\n",
       " ('FAILURE TO EXHIBIT DL UPON DEMAND|PROOF OF INSURANCE', 2),\n",
       " ('OTHER MOVING VIOLATIONS|IMPROPER TURN', 2),\n",
       " ('ATTACHING TAG NOT ASSIGNED|SPEED', 2),\n",
       " ('FOLLOWING TOO CLOSELY|SEATBELT (DRIVER)', 2),\n",
       " ('PROOF OF INSURANCE|SEATBELT (DRIVER)|SPEED', 2),\n",
       " ('SPEED|IMPROPER PASSING|IMPROPER PASSING', 2),\n",
       " ('FAILURE TO EXHIBIT DL UPON DEMAND|OTHER TAG / REGISTRATION VIOLATIONS', 2),\n",
       " ('IMPROPER TURN|FAULTY EQUIPMENT', 2),\n",
       " ('FOLLOWING TOO CLOSELY|PROOF OF INSURANCE|SPEED', 2),\n",
       " ('MOVE OVER LAW|OTHER MOVING VIOLATIONS', 2),\n",
       " ('SPEED|SPEED|OTHER CRIMINAL TRAFFIC VIOLATIONS', 2),\n",
       " ('OTHER MOVING VIOLATIONS|MOVE OVER LAW', 2),\n",
       " ('OTHER TAG / REGISTRATION VIOLATIONS|LOADS ON VEHICLE', 2),\n",
       " ('EXPIRED TAG (MORE THAN - MONTHS)|OTHER CRIMINAL TRAFFIC VIOLATIONS', 2),\n",
       " ('SPEED|MOTOR VEHICLE NOISE', 2),\n",
       " ('VIOLATIONS OF RIGHT OF WAY|VIOLATIONS OF RIGHT OF WAY|SPEED', 2),\n",
       " ('OTHER MOVING VIOLATIONS|DUI', 2),\n",
       " ('SPEED|EXPIRED TAG (MORE THAN - MONTHS)|SPEED', 2),\n",
       " ('OTHER MOVING VIOLATIONS|WINDOW TINT', 2),\n",
       " ('OTHER TAG / REGISTRATION VIOLATIONS|SEATBELT (PASSENGER)', 2),\n",
       " ('OTHER NON MOVING VIOLATIONS|DRIVING WITHOUT HEADLIGHTS', 2),\n",
       " ('OTHER TAG / REGISTRATION VIOLATIONS|FAULTY EQUIPMENT|OTHER TAG / REGISTRATION VIOLATIONS',\n",
       "  2),\n",
       " ('SPEED|FAULTY EQUIPMENT|OTHER TAG / REGISTRATION VIOLATIONS', 2),\n",
       " ('SEATBELT (DRIVER)|PROOF OF INSURANCE|SEATBELT (DRIVER)', 2),\n",
       " ('SPEED|SPEED|SEATBELT (PASSENGER)|SPEED', 2),\n",
       " ('DRIVING WITHOUT HEADLIGHTS|SPEED|SPEED', 2),\n",
       " ('OTHER NON MOVING VIOLATIONS|PROOF OF INSURANCE|SPEED', 2),\n",
       " ('FOLLOWING TOO CLOSELY|OTHER TAG / REGISTRATION VIOLATIONS', 2),\n",
       " ('WINDOW TINT|WEIGHT VIOLATION', 2),\n",
       " ('PROOF OF INSURANCE|CARELESS DRIVING|LEAVING THE SCENE', 2),\n",
       " ('OTHER TAG / REGISTRATION VIOLATIONS|WINDOW TINT|WINDOW TINT', 2),\n",
       " ('SPEED|IMPROPER PASSING|SPEED', 2),\n",
       " ('EXPIRED DRIVERS LICENSE (- MONTHS OR LESS)|CARELESS DRIVING', 2),\n",
       " ('CHILD RESTRAINT|SPEED', 2),\n",
       " ('CARELESS DRIVING|NO DRIVERS LICENSE', 2),\n",
       " ('FAULTY EQUIPMENT|CMV INSPECTION', 2),\n",
       " ('EXPIRED DRIVERS LICENSE (- MONTHS OR LESS)|EXPIRED TAG (- MONTHS OR LESS)|EXPIRED TAG (- MONTHS OR LESS)|EXPIRED TAG (- MONTHS OR LESS)',\n",
       "  2),\n",
       " ('SEATBELT (DRIVER)|WEIGHT VIOLATION', 2),\n",
       " ('IMPROPER CHANGE OF LANE OR COURSE|EXPIRED TAG (- MONTHS OR LESS)', 2),\n",
       " ('SPEED|RECKLESS DRIVING', 2),\n",
       " ('SEATBELT (DRIVER)|TOLL EVASION', 2),\n",
       " ('PROOF OF INSURANCE|IMPROPER BACKING', 2),\n",
       " ('OTHER TAG / REGISTRATION VIOLATIONS|VIOLATIONS OF RIGHT OF WAY', 2),\n",
       " ('IMPROPER TURN|PROOF OF INSURANCE', 2),\n",
       " ('DRIVING WHILE LICENSE SUSPENDED / REVOKED|OTHER NON MOVING VIOLATIONS', 2),\n",
       " ('OTHER MOVING VIOLATIONS|SPEED|OTHER TAG / REGISTRATION VIOLATIONS', 2),\n",
       " ('CARELESS DRIVING|IMPROPER CHANGE OF LANE OR COURSE', 2),\n",
       " ('FAULTY EQUIPMENT|DRIVING WITHOUT HEADLIGHTS', 2),\n",
       " ('WINDOW TINT|OTHER DRIVERS LICENSE VIOLATIONS|OTHER TAG / REGISTRATION VIOLATIONS',\n",
       "  2),\n",
       " ('ATTACHING TAG NOT ASSIGNED|WINDOW TINT', 2),\n",
       " ('OPEN CONTAINER (DRIVER)|SPEED', 2),\n",
       " ('PROOF OF INSURANCE|SPEED|FAILURE TO EXHIBIT DL UPON DEMAND', 2),\n",
       " ('OTHER TAG / REGISTRATION VIOLATIONS|SPEED|SPEED', 2),\n",
       " ('OTHER TAG / REGISTRATION VIOLATIONS|FAULTY EQUIPMENT|FAULTY EQUIPMENT', 2),\n",
       " ('SEATBELT (DRIVER)|OTHER TAG / REGISTRATION VIOLATIONS|SPEED', 2),\n",
       " ('ATTACHING TAG NOT ASSIGNED|OTHER TAG / REGISTRATION VIOLATIONS|OTHER TAG / REGISTRATION VIOLATIONS',\n",
       "  2),\n",
       " ('OTHER DRIVERS LICENSE VIOLATIONS|SPEED|OTHER DRIVERS LICENSE VIOLATIONS',\n",
       "  2),\n",
       " ('MOVE OVER LAW|PROOF OF INSURANCE|SPEED', 2),\n",
       " ('MOVE OVER LAW|SEATBELT (PASSENGER)', 2),\n",
       " ('WEIGHT VIOLATION|OTHER TAG / REGISTRATION VIOLATIONS', 2),\n",
       " ('EXHAUST SYSTEM|SEATBELT (DRIVER)', 2),\n",
       " ('OTHER TAG / REGISTRATION VIOLATIONS|PROOF OF INSURANCE|WINDOW TINT', 2),\n",
       " ('CMV INSPECTION|SPEED', 2),\n",
       " ('FAILURE TO EXHIBIT DL UPON DEMAND|OTHER MOVING VIOLATIONS', 2),\n",
       " ('OTHER CRIMINAL TRAFFIC VIOLATIONS|OTHER TAG / REGISTRATION VIOLATIONS|OTHER TAG / REGISTRATION VIOLATIONS',\n",
       "  2),\n",
       " ('WINDOW TINT|SPEED|WINDOW TINT', 2),\n",
       " ('PROOF OF INSURANCE|SPEED|WINDOW TINT', 2),\n",
       " ('EXPIRED DRIVERS LICENSE (MORE THAN - MONTHS)|PROOF OF INSURANCE', 2),\n",
       " ('SPEED|OTHER DRIVERS LICENSE VIOLATIONS|PROOF OF INSURANCE', 2),\n",
       " ('OTHER TAG / REGISTRATION VIOLATIONS|WINDOW TINT|PROOF OF INSURANCE', 2),\n",
       " ('VIOLATIONS OF TRAFFIC CONTROL DEVICE|NO DRIVERS LICENSE', 2),\n",
       " ('OTHER MOVING VIOLATIONS|VIOLATIONS OF RIGHT OF WAY', 2),\n",
       " ('OTHER DRIVERS LICENSE VIOLATIONS|OTHER CRIMINAL TRAFFIC VIOLATIONS', 2),\n",
       " ('SPEED|WINDOW TINT|OTHER DRIVERS LICENSE VIOLATIONS', 2),\n",
       " ('DRIVING WHILE LICENSE SUSPENDED / REVOKED|EXPIRED TAG (- MONTHS OR LESS)|PROOF OF INSURANCE',\n",
       "  2),\n",
       " ('WEIGHT VIOLATION|VIOLATIONS OF TRAFFIC CONTROL DEVICE', 2),\n",
       " ('OTHER TAG / REGISTRATION VIOLATIONS|EXPIRED TAG (- MONTHS OR LESS)|OTHER TAG / REGISTRATION VIOLATIONS',\n",
       "  2),\n",
       " ('PROOF OF INSURANCE|CHILD RESTRAINT', 2),\n",
       " ('SEATBELT (PASSENGER)|PROOF OF INSURANCE', 2),\n",
       " ('PROOF OF INSURANCE|FAILURE TO EXHIBIT DL UPON DEMAND|SPEED', 2),\n",
       " ('SEATBELT (DRIVER)|SEATBELT (DRIVER)|MOVE OVER LAW', 2),\n",
       " ('SEATBELT (DRIVER)|SEATBELT (DRIVER)|SPEED|SPEED', 2),\n",
       " ('VIOLATIONS OF RIGHT OF WAY|VIOLATION OF DL RESTRICTIONS', 2),\n",
       " ('CMV INSPECTION|OTHER MOVING VIOLATIONS', 2),\n",
       " ('IMPROPER CHANGE OF LANE OR COURSE|OTHER NON MOVING VIOLATIONS', 2),\n",
       " ('SPEED|FOLLOWING TOO CLOSELY|PROOF OF INSURANCE', 2),\n",
       " ('OTHER TAG / REGISTRATION VIOLATIONS|OTHER TAG / REGISTRATION VIOLATIONS|WINDOW TINT',\n",
       "  2),\n",
       " ('SPEED|OTHER TAG / REGISTRATION VIOLATIONS|OTHER MOVING VIOLATIONS', 2),\n",
       " ('MOVE OVER LAW|OTHER TAG / REGISTRATION VIOLATIONS|OTHER TAG / REGISTRATION VIOLATIONS',\n",
       "  2),\n",
       " ('SPEED|MOVE OVER LAW|SPEED', 2),\n",
       " ('OPEN CONTAINER (DRIVER)|DRIVING WHILE LICENSE SUSPENDED / REVOKED', 2),\n",
       " ('EXPIRED TAG (- MONTHS OR LESS)|PROOF OF INSURANCE|DRIVING WHILE LICENSE SUSPENDED / REVOKED',\n",
       "  2),\n",
       " ('LOADS ON VEHICLE|DRIVING WHILE LICENSE SUSPENDED / REVOKED', 2),\n",
       " ('OTHER TAG / REGISTRATION VIOLATIONS|PROOF OF INSURANCE|OTHER TAG / REGISTRATION VIOLATIONS|SPEED',\n",
       "  2),\n",
       " ('PROOF OF INSURANCE|OBSTRUCTING THE ROADWAY', 2),\n",
       " ('OTHER NON MOVING VIOLATIONS|OTHER CRIMINAL TRAFFIC VIOLATIONS', 2),\n",
       " ('SEATBELT (DRIVER)|OTHER NON MOVING VIOLATIONS|OTHER DRIVERS LICENSE VIOLATIONS',\n",
       "  2),\n",
       " ('OTHER NON MOVING VIOLATIONS|EXPIRED TAG (MORE THAN - MONTHS)', 2),\n",
       " ('VIOLATIONS OF TRAFFIC CONTROL DEVICE|SEATBELT (DRIVER)|VIOLATIONS OF TRAFFIC CONTROL DEVICE',\n",
       "  2),\n",
       " ('LOADS ON VEHICLE|OTHER TAG / REGISTRATION VIOLATIONS', 2),\n",
       " ('BICYCLE VIOLATIONS|SPEED', 2),\n",
       " ('EXPIRED TAG (MORE THAN - MONTHS)|OTHER MOVING VIOLATIONS', 2),\n",
       " ('SPEED|DRIVING ON WRONG SIDE OF ROAD|SPEED', 1),\n",
       " ('OTHER MOVING VIOLATIONS|OTHER MOVING VIOLATIONS|OTHER DRIVERS LICENSE VIOLATIONS|OTHER MOVING VIOLATIONS',\n",
       "  1),\n",
       " ('DRIVING WHILE LICENSE SUSPENDED / REVOKED|ATTACHING TAG NOT ASSIGNED|SEATBELT (DRIVER)|PROOF OF INSURANCE',\n",
       "  1),\n",
       " ('SPEED|VIOLATIONS OF RIGHT OF WAY|SPEED', 1),\n",
       " ('SEATBELT (DRIVER)|EXPIRED TAG (MORE THAN - MONTHS)|SEATBELT (DRIVER)', 1),\n",
       " ('IMPROPER PASSING|IMPROPER TURN', 1),\n",
       " ('OPEN CONTAINER (PASSENGER)|SEATBELT (PASSENGER)', 1),\n",
       " ('OBSTRUCTING THE ROADWAY|DRIVING WITHOUT HEADLIGHTS', 1),\n",
       " ('EXPIRED DRIVERS LICENSE (- MONTHS OR LESS)|OTHER NON MOVING VIOLATIONS|OTHER MOVING VIOLATIONS',\n",
       "  1),\n",
       " ('CARELESS DRIVING|SEATBELT (DRIVER)|SEATBELT (DRIVER)', 1),\n",
       " ('DRIVING WHILE LICENSE SUSPENDED / REVOKED|NO REGISTRATION|PROOF OF INSURANCE',\n",
       "  1),\n",
       " ('SEATBELT (DRIVER)|SEATBELT (PASSENGER)|SEATBELT (PASSENGER)', 1),\n",
       " ('BICYCLE VIOLATIONS|FAULTY EQUIPMENT', 1),\n",
       " ('LEAVING THE SCENE|IMPROPER CHANGE OF LANE OR COURSE', 1),\n",
       " ('IMPROPER CHANGE OF LANE OR COURSE|SEATBELT (PASSENGER)', 1),\n",
       " ('EXPIRED DRIVERS LICENSE (- MONTHS OR LESS)|EXPIRED TAG (MORE THAN - MONTHS)',\n",
       "  1),\n",
       " ('OTHER MOVING VIOLATIONS|FAULTY EQUIPMENT|OTHER MOVING VIOLATIONS|FAULTY EQUIPMENT',\n",
       "  1),\n",
       " ('SEATBELT (DRIVER)|SEATBELT (PASSENGER)|OTHER NON MOVING VIOLATIONS', 1),\n",
       " ('FAULTY EQUIPMENT|NO DRIVERS LICENSE|SPEED', 1),\n",
       " ('CHILD RESTRAINT|EXPIRED TAG (- MONTHS OR LESS)|SEATBELT (DRIVER)', 1),\n",
       " ('FAULTY EQUIPMENT|EXPIRED TAG (- MONTHS OR LESS)|EXPIRED DRIVERS LICENSE (- MONTHS OR LESS)',\n",
       "  1),\n",
       " ('SPEED|SPEED|SPEED|SPEED|SPEED|SPEED|SPEED|SPEED|SEATBELT (DRIVER)|SPEED|SPEED',\n",
       "  1),\n",
       " ('CARELESS DRIVING|ATTACHING TAG NOT ASSIGNED|NO DRIVERS LICENSE|DRIVING WHILE LICENSE SUSPENDED / REVOKED',\n",
       "  1),\n",
       " ('EXPIRED DRIVERS LICENSE (- MONTHS OR LESS)|FAULTY EQUIPMENT', 1),\n",
       " ('FAULTY EQUIPMENT|FAULTY EQUIPMENT|NO DRIVERS LICENSE|DRIVING WHILE LICENSE SUSPENDED / REVOKED',\n",
       "  1),\n",
       " ('RECKLESS DRIVING|DUI', 1),\n",
       " ('OTHER MOVING VIOLATIONS|OTHER NON MOVING VIOLATIONS|OTHER MOVING VIOLATIONS|OTHER MOVING VIOLATIONS',\n",
       "  1),\n",
       " ('SPEED|IMPROPER CHANGE OF LANE OR COURSE|NO DRIVERS LICENSE', 1),\n",
       " ('SPEED|FAULTY EQUIPMENT|NO REGISTRATION', 1),\n",
       " ('SEATBELT (DRIVER)|SEATBELT (DRIVER)|SEATBELT (DRIVER)|SEATBELT (DRIVER)|SPEED',\n",
       "  1),\n",
       " ('TOLL EVASION|RESISTING ARREST WITH / WITHOUT VIOLENCE', 1),\n",
       " ('OTHER MOVING VIOLATIONS|OTHER MOVING VIOLATIONS|TOLL EVASION', 1),\n",
       " ('FAULTY EQUIPMENT|FAULTY EQUIPMENT|OTHER TAG / REGISTRATION VIOLATIONS', 1),\n",
       " ('OTHER TAG / REGISTRATION VIOLATIONS|FAULTY EQUIPMENT|FAULTY EQUIPMENT|OTHER TAG / REGISTRATION VIOLATIONS',\n",
       "  1),\n",
       " ('SPEED|EXPIRED TAG (- MONTHS OR LESS)|FAILURE TO EXHIBIT DL UPON DEMAND', 1),\n",
       " ('OTHER MOVING VIOLATIONS|OTHER CRIMINAL TRAFFIC VIOLATIONS|OTHER MOVING VIOLATIONS|OTHER CRIMINAL TRAFFIC VIOLATIONS',\n",
       "  1),\n",
       " ('EXPIRED TAG (MORE THAN - MONTHS)|OTHER NON MOVING VIOLATIONS|OTHER CRIMINAL TRAFFIC VIOLATIONS',\n",
       "  1),\n",
       " ('SPEED|SPEED|EXPIRED TAG (MORE THAN - MONTHS)|SPEED|SPEED', 1),\n",
       " ('EXPIRED TAG (- MONTHS OR LESS)|SPEED|FAULTY EQUIPMENT', 1),\n",
       " ('NO REGISTRATION|IMPROPER CHANGE OF LANE OR COURSE', 1),\n",
       " ('SPEED|SPEED|SPEED|SPEED|SPEED|SEATBELT (DRIVER)', 1),\n",
       " ('SPEED|EXPIRED TAG (- MONTHS OR LESS)|DRIVING WHILE LICENSE SUSPENDED / REVOKED',\n",
       "  1),\n",
       " ('SEATBELT (DRIVER)|OTHER MOVING VIOLATIONS|SEATBELT (DRIVER)', 1),\n",
       " ('VIOLATIONS OF TRAFFIC CONTROL DEVICE|FOLLOWING TOO CLOSELY', 1),\n",
       " ('OTHER MOVING VIOLATIONS|VIOLATIONS OF TRAFFIC CONTROL DEVICE|SEATBELT (DRIVER)|SPEED',\n",
       "  1),\n",
       " ('OTHER NON MOVING VIOLATIONS|OTHER CRIMINAL VIOLATIONS', 1),\n",
       " ('PROOF OF INSURANCE|VIOLATIONS OF TRAFFIC CONTROL DEVICE|VIOLATIONS OF TRAFFIC CONTROL DEVICE',\n",
       "  1),\n",
       " ('VIOLATIONS OF RIGHT OF WAY|NO REGISTRATION', 1),\n",
       " ('VIOLATIONS OF TRAFFIC CONTROL DEVICE|TOLL EVASION', 1),\n",
       " ('OTHER NON MOVING VIOLATIONS|OTHER NON MOVING VIOLATIONS|IMPROPER TURN', 1),\n",
       " ('EXPIRED TAG (- MONTHS OR LESS)|IMPROPER PASSING', 1),\n",
       " ('OTHER CRIMINAL VIOLATIONS|OTHER MOVING VIOLATIONS|OTHER MOVING VIOLATIONS',\n",
       "  1),\n",
       " ('DRIVING ON WRONG SIDE OF ROAD|SPEED|SPEED', 1),\n",
       " ('SPEED|SPEED|FAILURE TO EXHIBIT DL UPON DEMAND', 1),\n",
       " ('EXPIRED DRIVERS LICENSE (MORE THAN - MONTHS)|EXPIRED TAG (MORE THAN - MONTHS)|EXPIRED TAG (- MONTHS OR LESS)',\n",
       "  1),\n",
       " ('FAILURE TO EXHIBIT DL UPON DEMAND|IMPROPER PASSING|SPEED', 1),\n",
       " ('OTHER MOVING VIOLATIONS|CHILD RESTRAINT', 1),\n",
       " ('NO REGISTRATION|OTHER MOVING VIOLATIONS|PROOF OF INSURANCE', 1),\n",
       " ('SEATBELT (PASSENGER)|SEATBELT (DRIVER)|CHILD RESTRAINT|SEATBELT (DRIVER)',\n",
       "  1),\n",
       " ('TOLL EVASION|SEATBELT (DRIVER)', 1),\n",
       " ('EXPIRED DRIVERS LICENSE (MORE THAN - MONTHS)|EXPIRED TAG (- MONTHS OR LESS)|PROOF OF INSURANCE',\n",
       "  1),\n",
       " ('IMPROPER CHANGE OF LANE OR COURSE|IMPROPER CHANGE OF LANE OR COURSE|EXPIRED TAG (- MONTHS OR LESS)',\n",
       "  1),\n",
       " ('SEATBELT (DRIVER)|SEATBELT (DRIVER)|EXPIRED TAG (- MONTHS OR LESS)|OTHER TAG / REGISTRATION VIOLATIONS',\n",
       "  1),\n",
       " ('DRIVING WITHOUT HEADLIGHTS|NO REGISTRATION', 1),\n",
       " ('SPEED|SPEED|OTHER TAG / REGISTRATION VIOLATIONS|SPEED', 1),\n",
       " ('OTHER MOVING VIOLATIONS|NO DRIVERS LICENSE|OTHER MOVING VIOLATIONS', 1),\n",
       " ('IMPROPER CHANGE OF LANE OR COURSE|IMPROPER BACKING', 1),\n",
       " ('EXPIRED TAG (MORE THAN - MONTHS)|NO DRIVERS LICENSE', 1),\n",
       " ('SPEED|SPEED|SPEED|EXPIRED TAG (- MONTHS OR LESS)', 1),\n",
       " ('SPEED|FAILURE TO EXHIBIT DL UPON DEMAND|SPEED', 1),\n",
       " ('SEATBELT (DRIVER)|FAILURE TO EXHIBIT DL UPON DEMAND|SEATBELT (DRIVER)', 1),\n",
       " ('VIOLATIONS OF RIGHT OF WAY|IMPROPER CHANGE OF LANE OR COURSE', 1),\n",
       " ('IMPROPER CHANGE OF LANE OR COURSE|IMPROPER CHANGE OF LANE OR COURSE|IMPROPER PASSING',\n",
       "  1),\n",
       " ('LOADS ON VEHICLE|SPEED|SPEED', 1),\n",
       " ('ATTACHING TAG NOT ASSIGNED|OTHER CRIMINAL VIOLATIONS', 1),\n",
       " ('SPEED|EXPIRED TAG (- MONTHS OR LESS)|SPEED', 1),\n",
       " ('SPEED|SEATBELT (DRIVER)|IMPROPER PASSING', 1),\n",
       " ('OTHER TAG / REGISTRATION VIOLATIONS|TOLL EVASION|TOLL EVASION', 1),\n",
       " ('FAULTY EQUIPMENT|FALSE ACCIDENT REPORT', 1),\n",
       " ('OTHER MOVING VIOLATIONS|EXPIRED DRIVERS LICENSE (MORE THAN - MONTHS)', 1),\n",
       " ('VIOLATIONS OF TRAFFIC CONTROL DEVICE|OTHER MOVING VIOLATIONS|OTHER MOVING VIOLATIONS|VIOLATIONS OF TRAFFIC CONTROL DEVICE',\n",
       "  1),\n",
       " ('NO REGISTRATION|SPEED|SPEED', 1),\n",
       " ('VIOLATIONS OF RIGHT OF WAY|OTHER MOVING VIOLATIONS', 1),\n",
       " ('VIOLATIONS OF RIGHT OF WAY|NO DRIVERS LICENSE', 1),\n",
       " ('NO REGISTRATION|EXPIRED DRIVERS LICENSE (- MONTHS OR LESS)|SPEED', 1),\n",
       " ('SEATBELT (DRIVER)|SEATBELT (DRIVER)|SPEED|SEATBELT (DRIVER)', 1),\n",
       " ('SPEED|DRIVING WHILE LICENSE SUSPENDED / REVOKED|FAULTY EQUIPMENT', 1),\n",
       " ('OTHER MOVING VIOLATIONS|RESISTING ARREST WITH / WITHOUT VIOLENCE', 1),\n",
       " ('SEATBELT (DRIVER)|IMPROPER PASSING|DRIVING WHILE LICENSE SUSPENDED / REVOKED',\n",
       "  1),\n",
       " ('SEATBELT (DRIVER)|DRIVING WHILE LICENSE SUSPENDED / REVOKED|DRIVING WHILE LICENSE SUSPENDED / REVOKED',\n",
       "  1),\n",
       " ('SEATBELT (DRIVER)|SEATBELT (DRIVER)|EXPIRED TAG (- MONTHS OR LESS)|SEATBELT (DRIVER)',\n",
       "  1),\n",
       " ('PROOF OF INSURANCE|ATTACHING TAG NOT ASSIGNED', 1),\n",
       " ('IMPROPER PASSING|EXPIRED TAG (- MONTHS OR LESS)', 1),\n",
       " ('EXPIRED DRIVERS LICENSE (MORE THAN - MONTHS)|NO REGISTRATION|SEATBELT (DRIVER)',\n",
       "  1),\n",
       " ('LEAVING THE SCENE|LEAVING CHILDREN UNATTENDED IN MV|LEAVING THE SCENE', 1),\n",
       " ('OTHER NON MOVING VIOLATIONS|OTHER TAG / REGISTRATION VIOLATIONS|PROOF OF INSURANCE',\n",
       "  1),\n",
       " ('EXPIRED TAG (- MONTHS OR LESS)|OTHER TAG / REGISTRATION VIOLATIONS|OTHER TAG / REGISTRATION VIOLATIONS',\n",
       "  1),\n",
       " ('SPEED|OTHER MOVING VIOLATIONS|SPEED|SPEED', 1),\n",
       " ('SPEED|OBSTRUCTING THE ROADWAY|SPEED|SPEED', 1),\n",
       " ('OTHER TAG / REGISTRATION VIOLATIONS|OTHER TAG / REGISTRATION VIOLATIONS|EXPIRED TAG (- MONTHS OR LESS)|OTHER TAG / REGISTRATION VIOLATIONS',\n",
       "  1),\n",
       " ('SPEED|FALSE ACCIDENT REPORT|SPEED', 1),\n",
       " ('DRIVING WHILE LICENSE SUSPENDED / REVOKED|NO REGISTRATION|SPEED', 1),\n",
       " ('VIOLATIONS OF TRAFFIC CONTROL DEVICE|LEAVING THE SCENE|LEAVING THE SCENE|NO DRIVERS LICENSE',\n",
       "  1),\n",
       " ('LOADS ON VEHICLE|FAULTY EQUIPMENT', 1),\n",
       " ('OTHER MOVING VIOLATIONS|IMPROPER CHANGE OF LANE OR COURSE|OTHER MOVING VIOLATIONS',\n",
       "  1),\n",
       " ('SEATBELT (DRIVER)|VIOLATION OF DL RESTRICTIONS', 1),\n",
       " ('SPEED|OTHER NON MOVING VIOLATIONS|OTHER NON MOVING VIOLATIONS|OTHER NON MOVING VIOLATIONS|OTHER NON MOVING VIOLATIONS',\n",
       "  1),\n",
       " ('DUI|CARELESS DRIVING|PROOF OF INSURANCE|OPEN CONTAINER (DRIVER)|OTHER TAG / REGISTRATION VIOLATIONS|CARELESS DRIVING',\n",
       "  1),\n",
       " ('FAULTY EQUIPMENT|FAILURE TO EXHIBIT DL UPON DEMAND|FAULTY EQUIPMENT|FAULTY EQUIPMENT|FAULTY EQUIPMENT',\n",
       "  1),\n",
       " ('TOLL EVASION|FAILURE TO EXHIBIT DL UPON DEMAND|OTHER TAG / REGISTRATION VIOLATIONS',\n",
       "  1),\n",
       " ('PROOF OF INSURANCE|FAULTY EQUIPMENT|EXPIRED TAG (MORE THAN - MONTHS)', 1),\n",
       " ('SPEED|SPEED|SPEED|SPEED|SEATBELT (DRIVER)', 1),\n",
       " ('FAULTY EQUIPMENT|SEATBELT (DRIVER)|SEATBELT (DRIVER)|SEATBELT (DRIVER)|SEATBELT (DRIVER)',\n",
       "  1),\n",
       " ('IMPROPER CHANGE OF LANE OR COURSE|EXPIRED TAG (- MONTHS OR LESS)|IMPROPER PASSING',\n",
       "  1),\n",
       " ('EXPIRED TAG (MORE THAN - MONTHS)|EXPIRED TAG (MORE THAN - MONTHS)|EXPIRED TAG (MORE THAN - MONTHS)|EXPIRED TAG (MORE THAN - MONTHS)|EXPIRED TAG (- MONTHS OR LESS)',\n",
       "  1),\n",
       " ('EXPIRED TAG (- MONTHS OR LESS)|SPEED|SPEED|SPEED|EXPIRED TAG (- MONTHS OR LESS)',\n",
       "  1),\n",
       " ('FAILURE TO EXHIBIT DL UPON DEMAND|DRIVING WHILE LICENSE SUSPENDED / REVOKED',\n",
       "  1),\n",
       " ('VIOLATIONS OF RIGHT OF WAY|LEAVING THE SCENE', 1),\n",
       " ('EXPIRED TAG (- MONTHS OR LESS)|DRIVING WHILE LICENSE SUSPENDED / REVOKED|PROOF OF INSURANCE',\n",
       "  1),\n",
       " ('OTHER MOVING VIOLATIONS|SEATBELT (DRIVER)|OTHER MOVING VIOLATIONS', 1),\n",
       " ('OTHER NON MOVING VIOLATIONS|PROOF OF INSURANCE|OTHER TAG / REGISTRATION VIOLATIONS',\n",
       "  1),\n",
       " ('OTHER MOVING VIOLATIONS|OBSTRUCTING THE ROADWAY', 1),\n",
       " ('OTHER MOVING VIOLATIONS|DRIVING ON WRONG SIDE OF ROAD', 1),\n",
       " ('OTHER NON MOVING VIOLATIONS|EXHAUST SYSTEM|EXHAUST SYSTEM|EXHAUST SYSTEM',\n",
       "  1),\n",
       " ('NO DRIVERS LICENSE|EXPIRED TAG (MORE THAN - MONTHS)|EXPIRED TAG (MORE THAN - MONTHS)',\n",
       "  1),\n",
       " ('VIOLATIONS OF RIGHT OF WAY|IMPROPER BACKING', 1),\n",
       " ('FAULTY EQUIPMENT|FAULTY EQUIPMENT|FAULTY EQUIPMENT|WINDOW TINT', 1),\n",
       " ('PROOF OF INSURANCE|EXPIRED TAG (- MONTHS OR LESS)|SPEED|DRIVING WHILE LICENSE SUSPENDED / REVOKED',\n",
       "  1),\n",
       " ('SPEED|SPEED|SPEED|SPEED|SPEED|SPEED|SPEED|SEATBELT (PASSENGER)', 1),\n",
       " ('DRIVING ON WRONG SIDE OF ROAD|SPEED', 1),\n",
       " ('OTHER MOVING VIOLATIONS|MOVE OVER LAW|OTHER MOVING VIOLATIONS', 1),\n",
       " ('MOVE OVER LAW|EXPIRED DRIVERS LICENSE (MORE THAN - MONTHS)', 1),\n",
       " ('OTHER NON MOVING VIOLATIONS|WEIGHT VIOLATION', 1),\n",
       " ('WINDOW TINT|OTHER NON MOVING VIOLATIONS|OTHER NON MOVING VIOLATIONS|WINDOW TINT',\n",
       "  1),\n",
       " ('IMPROPER PASSING|IMPROPER BACKING|IMPROPER PASSING', 1),\n",
       " ('FOLLOWING TOO CLOSELY|EXPIRED TAG (MORE THAN - MONTHS)', 1),\n",
       " ('EXPIRED TAG (- MONTHS OR LESS)|FAILURE TO EXHIBIT DL UPON DEMAND|EXPIRED DRIVERS LICENSE (- MONTHS OR LESS)|SPEED',\n",
       "  1),\n",
       " ('LEAVING THE SCENE|OTHER MOVING VIOLATIONS|CARELESS DRIVING|FALSE ACCIDENT REPORT',\n",
       "  1),\n",
       " ('PROOF OF INSURANCE|TOLL EVASION|EXPIRED TAG (MORE THAN - MONTHS)', 1),\n",
       " ('SEATBELT (DRIVER)|SPEED|OTHER TAG / REGISTRATION VIOLATIONS|SPEED|SEATBELT (DRIVER)',\n",
       "  1),\n",
       " ('WINDOW TINT|VIOLATION OF DL RESTRICTIONS', 1),\n",
       " ('PROOF OF INSURANCE|EXPIRED DRIVERS LICENSE (- MONTHS OR LESS)|SPEED|SPEED',\n",
       "  1),\n",
       " ('FAULTY EQUIPMENT|PROOF OF INSURANCE|IMPROPER PASSING|SPEED', 1),\n",
       " ('FAULTY EQUIPMENT|PROOF OF INSURANCE|PROOF OF INSURANCE', 1),\n",
       " ('OTHER DRIVERS LICENSE VIOLATIONS|IMPROPER CHANGE OF LANE OR COURSE', 1),\n",
       " ('DUI|VIOLATIONS OF TRAFFIC CONTROL DEVICE', 1),\n",
       " ('PASSING STOPPED SCHOOL BUS|FAULTY EQUIPMENT', 1),\n",
       " ('OTHER NON MOVING VIOLATIONS|OTHER TAG / REGISTRATION VIOLATIONS|OTHER TAG / REGISTRATION VIOLATIONS|OTHER NON MOVING VIOLATIONS',\n",
       "  1),\n",
       " ('MOVE OVER LAW|FAULTY EQUIPMENT|FAULTY EQUIPMENT|FAULTY EQUIPMENT', 1),\n",
       " ('SEATBELT (DRIVER)|PROOF OF INSURANCE|SPEED', 1),\n",
       " ('VIOLATIONS OF TRAFFIC CONTROL DEVICE|IMPROPER TURN|FAULTY EQUIPMENT', 1),\n",
       " ('PROOF OF INSURANCE|EXPIRED TAG (- MONTHS OR LESS)|ATTACHING TAG NOT ASSIGNED|DRIVING WHILE LICENSE SUSPENDED / REVOKED',\n",
       "  1),\n",
       " ('SEATBELT (DRIVER)|FAULTY EQUIPMENT|SPEED', 1),\n",
       " ('SPEED|DUI', 1),\n",
       " ('IMPROPER CHANGE OF LANE OR COURSE|LEAVING THE SCENE', 1),\n",
       " ('EXPIRED TAG (- MONTHS OR LESS)|EXPIRED TAG (- MONTHS OR LESS)|EXPIRED DRIVERS LICENSE (MORE THAN - MONTHS)',\n",
       "  1),\n",
       " ('EXPIRED DRIVERS LICENSE (MORE THAN - MONTHS)|SEATBELT (DRIVER)', 1),\n",
       " ('VIOLATIONS OF RIGHT OF WAY|VIOLATIONS OF RIGHT OF WAY|VIOLATIONS OF RIGHT OF WAY|SPEED',\n",
       "  1),\n",
       " ('OTHER MOVING VIOLATIONS|OTHER DRIVERS LICENSE VIOLATIONS|OTHER DRIVERS LICENSE VIOLATIONS',\n",
       "  1),\n",
       " ('SEATBELT (DRIVER)|SEATBELT (DRIVER)|CHILD RESTRAINT', 1),\n",
       " ('DRIVING WHILE LICENSE SUSPENDED / REVOKED|NO DRIVERS LICENSE|SPEED', 1),\n",
       " ('CHILD RESTRAINT|OTHER MOVING VIOLATIONS', 1),\n",
       " ('OTHER NON MOVING VIOLATIONS|OTHER MOVING VIOLATIONS|OTHER MOVING VIOLATIONS|OTHER MOVING VIOLATIONS',\n",
       "  1),\n",
       " ('IMPROPER TURN|MAXIMUM WIDTH, HEIGHT AND LENGTH', 1),\n",
       " ('DRIVING WHILE LICENSE SUSPENDED / REVOKED|VIOLATION OF DL RESTRICTIONS|SPEED|SEATBELT (DRIVER)',\n",
       "  1),\n",
       " ('SPEED|ATTACHING TAG NOT ASSIGNED|SPEED', 1),\n",
       " ('FAILURE TO EXHIBIT DL UPON DEMAND|IMPROPER PASSING', 1),\n",
       " ('DRIVING WHILE LICENSE SUSPENDED / REVOKED|OTHER NON MOVING VIOLATIONS|OTHER NON MOVING VIOLATIONS',\n",
       "  1),\n",
       " ('FAULTY EQUIPMENT|VIOLATIONS OF TRAFFIC CONTROL DEVICE|SEATBELT (DRIVER)',\n",
       "  1),\n",
       " ('EXPIRED TAG (- MONTHS OR LESS)|TOLL EVASION', 1),\n",
       " ('DRIVING WHILE LICENSE SUSPENDED / REVOKED|EXPIRED TAG (- MONTHS OR LESS)|EXPIRED DRIVERS LICENSE (- MONTHS OR LESS)',\n",
       "  1),\n",
       " ('EXPIRED TAG (MORE THAN - MONTHS)|EXPIRED TAG (- MONTHS OR LESS)|EXPIRED TAG (MORE THAN - MONTHS)|EXPIRED TAG (MORE THAN - MONTHS)',\n",
       "  1),\n",
       " ('OTHER NON MOVING VIOLATIONS|LOADS ON VEHICLE|LOADS ON VEHICLE', 1),\n",
       " ('NO REGISTRATION|SPEED|VIOLATIONS OF TRAFFIC CONTROL DEVICE', 1),\n",
       " ('EXPIRED TAG (- MONTHS OR LESS)|PROOF OF INSURANCE|VIOLATIONS OF RIGHT OF WAY',\n",
       "  1),\n",
       " ('NO DRIVERS LICENSE|DRIVING WHILE LICENSE SUSPENDED / REVOKED|VIOLATIONS OF TRAFFIC CONTROL DEVICE',\n",
       "  1),\n",
       " ('OTHER MOVING VIOLATIONS|SEATBELT (DRIVER)|SEATBELT (DRIVER)', 1),\n",
       " ('SEATBELT (DRIVER)|SEATBELT (DRIVER)|OTHER NON MOVING VIOLATIONS|OTHER NON MOVING VIOLATIONS',\n",
       "  1),\n",
       " ('MOVE OVER LAW|MOVE OVER LAW|OTHER NON MOVING VIOLATIONS', 1),\n",
       " ('DRIVING WHILE LICENSE SUSPENDED / REVOKED|NO REGISTRATION|PROOF OF INSURANCE|FAULTY EQUIPMENT|EXPIRED DRIVERS LICENSE (MORE THAN - MONTHS)',\n",
       "  1),\n",
       " ('IMPROPER TURN|FOLLOWING TOO CLOSELY', 1),\n",
       " ('NO REGISTRATION|DRIVING WHILE LICENSE SUSPENDED / REVOKED|PROOF OF INSURANCE',\n",
       "  1),\n",
       " ('PROOF OF INSURANCE|EXPIRED TAG (- MONTHS OR LESS)|ATTACHING TAG NOT ASSIGNED',\n",
       "  1),\n",
       " ('SPEED|DRIVING WHILE LICENSE SUSPENDED / REVOKED|PROOF OF INSURANCE|NO REGISTRATION',\n",
       "  1),\n",
       " ('NO REGISTRATION|OTHER NON MOVING VIOLATIONS', 1),\n",
       " ('CARELESS DRIVING|SEATBELT (DRIVER)|CARELESS DRIVING|CARELESS DRIVING', 1),\n",
       " ('NO REGISTRATION|ATTACHING TAG NOT ASSIGNED', 1),\n",
       " ('IMPROPER CHANGE OF LANE OR COURSE|PROOF OF INSURANCE|NO REGISTRATION', 1),\n",
       " ('SEATBELT (DRIVER)|NO REGISTRATION|NO REGISTRATION', 1),\n",
       " ('DRIVING WHILE LICENSE SUSPENDED / REVOKED|TOLL EVASION|SPEED', 1),\n",
       " ('FAILURE TO EXHIBIT DL UPON DEMAND|EXPIRED TAG (- MONTHS OR LESS)', 1),\n",
       " ('EXPIRED TAG (MORE THAN - MONTHS)|OTHER TAG / REGISTRATION VIOLATIONS|OTHER TAG / REGISTRATION VIOLATIONS',\n",
       "  1),\n",
       " ('OTHER NON MOVING VIOLATIONS|PROPERTY CRIMES', 1),\n",
       " ('DRIVING ON WRONG SIDE OF ROAD|NO DRIVERS LICENSE', 1),\n",
       " ('LEAVING THE SCENE|LEAVING THE SCENE|CARELESS DRIVING|CARELESS DRIVING', 1),\n",
       " ('SPEED|WINDOW TINT|SPEED|SPEED', 1),\n",
       " ('NO DRIVERS LICENSE|NO DRIVERS LICENSE|RECKLESS DRIVING', 1),\n",
       " ('FAULTY EQUIPMENT|SEATBELT (DRIVER)|SPEED', 1),\n",
       " ('PROOF OF INSURANCE|DRIVING WHILE LICENSE SUSPENDED / REVOKED|EXPIRED TAG (- MONTHS OR LESS)|FAULTY EQUIPMENT',\n",
       "  1),\n",
       " ('EXPIRED TAG (- MONTHS OR LESS)|EXPIRED TAG (- MONTHS OR LESS)|IMPROPER BACKING',\n",
       "  1),\n",
       " ('SPEED|EXPIRED DRIVERS LICENSE (MORE THAN - MONTHS)|PROOF OF INSURANCE', 1),\n",
       " ('NO DRIVERS LICENSE|PROOF OF INSURANCE|ATTACHING TAG NOT ASSIGNED', 1),\n",
       " ('CARELESS DRIVING|OTHER CRIMINAL VIOLATIONS|OTHER MOVING VIOLATIONS', 1),\n",
       " ('FAULTY EQUIPMENT|NO REGISTRATION|OTHER CRIMINAL TRAFFIC VIOLATIONS|PROOF OF INSURANCE|FAULTY EQUIPMENT',\n",
       "  1),\n",
       " ('EXPIRED DRIVERS LICENSE (- MONTHS OR LESS)|FOLLOWING TOO CLOSELY|PROOF OF INSURANCE',\n",
       "  1),\n",
       " ('OTHER MOVING VIOLATIONS|OTHER MOVING VIOLATIONS|OTHER DRIVERS LICENSE VIOLATIONS',\n",
       "  1),\n",
       " ('FAILURE TO EXHIBIT DL UPON DEMAND|FAULTY EQUIPMENT|EXPIRED TAG (MORE THAN - MONTHS)',\n",
       "  1),\n",
       " ('ATTACHING TAG NOT ASSIGNED|EXPIRED TAG (- MONTHS OR LESS)|SEATBELT (DRIVER)|PROOF OF INSURANCE',\n",
       "  1),\n",
       " ('FAILURE TO EXHIBIT DL UPON DEMAND|RECKLESS DRIVING', 1),\n",
       " ('FAILURE TO EXHIBIT DL UPON DEMAND|IMPROPER CHANGE OF LANE OR COURSE|NO REGISTRATION',\n",
       "  1),\n",
       " ('NO DRIVERS LICENSE|DRIVING WHILE LICENSE SUSPENDED / REVOKED|SEATBELT (DRIVER)',\n",
       "  1),\n",
       " ('FAULTY EQUIPMENT|EXPIRED TAG (- MONTHS OR LESS)|FAULTY EQUIPMENT', 1),\n",
       " ('SPEED|FAILURE TO EXHIBIT DL UPON DEMAND|NO REGISTRATION', 1),\n",
       " ('NO REGISTRATION|SPEED|FAILURE TO EXHIBIT DL UPON DEMAND', 1),\n",
       " ('NO REGISTRATION|EXPIRED TAG (- MONTHS OR LESS)|SPEED', 1),\n",
       " ('SPEED|SPEED|FAULTY EQUIPMENT|SPEED', 1),\n",
       " ('EXPIRED TAG (- MONTHS OR LESS)|SPEED|SEATBELT (DRIVER)', 1),\n",
       " ('IMPROPER BACKING|MOVE OVER LAW', 1),\n",
       " ('CDL VIOLATION|EXPIRED TAG (- MONTHS OR LESS)', 1),\n",
       " ('EXPIRED TAG (- MONTHS OR LESS)|DRIVING WHILE LICENSE SUSPENDED / REVOKED|PROOF OF INSURANCE|SPEED',\n",
       "  1),\n",
       " ('SPEED|DRIVING WHILE LICENSE SUSPENDED / REVOKED|PROOF OF INSURANCE|NO DRIVERS LICENSE',\n",
       "  1),\n",
       " ('OTHER NON MOVING VIOLATIONS|FAULTY EQUIPMENT|FAULTY EQUIPMENT', 1),\n",
       " ('LEAVING THE SCENE|FAULTY EQUIPMENT|DRIVING WHILE LICENSE SUSPENDED / REVOKED',\n",
       "  1),\n",
       " ('VIOLATIONS OF TRAFFIC CONTROL DEVICE|OTHER NON MOVING VIOLATIONS', 1),\n",
       " ('PROOF OF INSURANCE|SPEED|PROOF OF INSURANCE', 1),\n",
       " ('OTHER TAG / REGISTRATION VIOLATIONS|PROOF OF INSURANCE|DRIVING WHILE LICENSE SUSPENDED / REVOKED',\n",
       "  1),\n",
       " ('IMPROPER CHANGE OF LANE OR COURSE|IMPROPER CHANGE OF LANE OR COURSE|OTHER CRIMINAL TRAFFIC VIOLATIONS',\n",
       "  1),\n",
       " ('EXPIRED TAG (- MONTHS OR LESS)|IMPROPER CHANGE OF LANE OR COURSE', 1),\n",
       " ('EXPIRED TAG (- MONTHS OR LESS)|IMPROPER CHANGE OF LANE OR COURSE|EXPIRED TAG (- MONTHS OR LESS)',\n",
       "  1),\n",
       " ('PROOF OF INSURANCE|TOLL EVASION|NO REGISTRATION', 1),\n",
       " ('EXPIRED DRIVERS LICENSE (MORE THAN - MONTHS)|OTHER MOVING VIOLATIONS|OTHER MOVING VIOLATIONS',\n",
       "  1),\n",
       " ('IMPROPER START|FAILURE TO EXHIBIT DL UPON DEMAND', 1),\n",
       " ('PROOF OF INSURANCE|VIOLATIONS OF TRAFFIC CONTROL DEVICE|DRIVING WHILE LICENSE SUSPENDED / REVOKED|NO REGISTRATION',\n",
       "  1),\n",
       " ('PROOF OF INSURANCE|FAILURE TO EXHIBIT DL UPON DEMAND|OTHER TAG / REGISTRATION VIOLATIONS|SPEED',\n",
       "  1),\n",
       " ('MOVE OVER LAW|SPEED|SPEED', 1),\n",
       " ('EXPIRED TAG (MORE THAN - MONTHS)|SPEED|NO REGISTRATION|PROOF OF INSURANCE|NO DRIVERS LICENSE',\n",
       "  1),\n",
       " ('OTHER NON MOVING VIOLATIONS|PROOF OF INSURANCE|EXPIRED TAG (- MONTHS OR LESS)',\n",
       "  1),\n",
       " ('DRIVING WHILE LICENSE SUSPENDED / REVOKED|PROOF OF INSURANCE|NO REGISTRATION',\n",
       "  1),\n",
       " ('EXPIRED DRIVERS LICENSE (MORE THAN - MONTHS)|EXPIRED TAG (- MONTHS OR LESS)|EXPIRED TAG (- MONTHS OR LESS)',\n",
       "  1),\n",
       " ('PROOF OF INSURANCE|EXPIRED TAG (- MONTHS OR LESS)|EXPIRED TAG (- MONTHS OR LESS)',\n",
       "  1),\n",
       " ('IMPROPER PASSING|DRIVING WHILE LICENSE SUSPENDED / REVOKED|PROOF OF INSURANCE',\n",
       "  1),\n",
       " ('SEATBELT (DRIVER)|BUMPER HEIGHTS', 1),\n",
       " ('FAULTY EQUIPMENT|ATTACHING TAG NOT ASSIGNED|NO REGISTRATION|SPEED', 1),\n",
       " ('EXPIRED DRIVERS LICENSE (- MONTHS OR LESS)|EXPIRED DRIVERS LICENSE (MORE THAN - MONTHS)',\n",
       "  1),\n",
       " ('FAULTY EQUIPMENT|FAULTY EQUIPMENT|PROOF OF INSURANCE|EXPIRED TAG (- MONTHS OR LESS)',\n",
       "  1),\n",
       " ('SEATBELT (PASSENGER)|SPEED|FOLLOWING TOO CLOSELY', 1),\n",
       " ('FAULTY EQUIPMENT|FAULTY EQUIPMENT|FALSE ACCIDENT REPORT', 1),\n",
       " ('SEATBELT (DRIVER)|PROOF OF INSURANCE|FAULTY EQUIPMENT', 1),\n",
       " ('SEATBELT (DRIVER)|DRIVING WHILE LICENSE SUSPENDED / REVOKED|PROOF OF INSURANCE|FAULTY EQUIPMENT',\n",
       "  1),\n",
       " ('VIOLATIONS OF TRAFFIC CONTROL DEVICE|NO REGISTRATION|ATTACHING TAG NOT ASSIGNED',\n",
       "  1),\n",
       " ('SPEED|PROOF OF INSURANCE|FAILURE TO EXHIBIT DL UPON DEMAND|OTHER TAG / REGISTRATION VIOLATIONS',\n",
       "  1),\n",
       " ('FAULTY EQUIPMENT|FAULTY EQUIPMENT|SEATBELT (DRIVER)', 1),\n",
       " ('FAILURE TO EXHIBIT DL UPON DEMAND|FAILURE TO EXHIBIT DL UPON DEMAND|SPEED',\n",
       "  1),\n",
       " ('PROOF OF INSURANCE|PROOF OF INSURANCE|SPEED', 1),\n",
       " ('OTHER TAG / REGISTRATION VIOLATIONS|OTHER TAG / REGISTRATION VIOLATIONS|OTHER TAG / REGISTRATION VIOLATIONS|FAULTY EQUIPMENT',\n",
       "  1),\n",
       " ('NO REGISTRATION|PROOF OF INSURANCE|IMPROPER BACKING', 1),\n",
       " ('FAULTY EQUIPMENT|DRIVING WHILE LICENSE SUSPENDED / REVOKED|SPEED', 1),\n",
       " ('FAULTY EQUIPMENT|FAULTY EQUIPMENT|PROOF OF INSURANCE', 1),\n",
       " ('DRIVING WHILE LICENSE SUSPENDED / REVOKED|IMPROPER PASSING|SPEED', 1),\n",
       " ('NO REGISTRATION|DRIVING WHILE LICENSE SUSPENDED / REVOKED|EXPIRED TAG (MORE THAN - MONTHS)|PROOF OF INSURANCE',\n",
       "  1),\n",
       " ('VIOLATIONS OF RIGHT OF WAY|EXPIRED DRIVERS LICENSE (MORE THAN - MONTHS)|VIOLATION OF DL RESTRICTIONS',\n",
       "  1),\n",
       " ('PROOF OF INSURANCE|FAILURE TO EXHIBIT DL UPON DEMAND|SPEED|OTHER TAG / REGISTRATION VIOLATIONS',\n",
       "  1),\n",
       " ('SPEED|EXPIRED TAG (- MONTHS OR LESS)|NO REGISTRATION|FAILURE TO EXHIBIT DL UPON DEMAND',\n",
       "  1),\n",
       " ('EXPIRED DRIVERS LICENSE (- MONTHS OR LESS)|SPEED|SEATBELT (DRIVER)', 1),\n",
       " ('OTHER TAG / REGISTRATION VIOLATIONS|EXPIRED DRIVERS LICENSE (- MONTHS OR LESS)|PROOF OF INSURANCE|SPEED',\n",
       "  1),\n",
       " ('SPEED|FAULTY EQUIPMENT|SEATBELT (DRIVER)', 1),\n",
       " ('DRIVING WHILE LICENSE SUSPENDED / REVOKED|FAULTY EQUIPMENT|FAULTY EQUIPMENT',\n",
       "  1),\n",
       " ('OTHER CRIMINAL TRAFFIC VIOLATIONS|NO REGISTRATION', 1),\n",
       " ('OTHER NON MOVING VIOLATIONS|DRIVING WHILE LICENSE SUSPENDED / REVOKED|IMPROPER CHANGE OF LANE OR COURSE|SPEED',\n",
       "  1),\n",
       " ('VIOLATIONS OF TRAFFIC CONTROL DEVICE|SPEED|VIOLATIONS OF TRAFFIC CONTROL DEVICE|VIOLATIONS OF TRAFFIC CONTROL DEVICE|VIOLATIONS OF TRAFFIC CONTROL DEVICE',\n",
       "  1),\n",
       " ('OBSTRUCTING THE ROADWAY|SEATBELT (DRIVER)', 1),\n",
       " ('EXPIRED TAG (- MONTHS OR LESS)|DRIVING WHILE LICENSE SUSPENDED / REVOKED|SEATBELT (DRIVER)',\n",
       "  1),\n",
       " ('PROOF OF INSURANCE|FAULTY EQUIPMENT|DRIVING WHILE LICENSE SUSPENDED / REVOKED',\n",
       "  1),\n",
       " ('EXPIRED TAG (MORE THAN - MONTHS)|IMPROPER CHANGE OF LANE OR COURSE', 1),\n",
       " ('FAULTY EQUIPMENT|FOLLOWING TOO CLOSELY|DRIVING WHILE LICENSE SUSPENDED / REVOKED|PROOF OF INSURANCE',\n",
       "  1),\n",
       " ('OTHER MOVING VIOLATIONS|OTHER CRIMINAL VIOLATIONS', 1),\n",
       " ('SEATBELT (DRIVER)|PROOF OF INSURANCE|SEATBELT (DRIVER)|OTHER CRIMINAL TRAFFIC VIOLATIONS',\n",
       "  1),\n",
       " ('PROOF OF INSURANCE|FAILURE TO EXHIBIT DL UPON DEMAND|IMPROPER PASSING', 1),\n",
       " ('EXPIRED TAG (- MONTHS OR LESS)|FOLLOWING TOO CLOSELY|PROOF OF INSURANCE',\n",
       "  1),\n",
       " ('VIOLATIONS OF RIGHT OF WAY|CARELESS DRIVING', 1),\n",
       " ('DRIVING WHILE LICENSE SUSPENDED / REVOKED|PROOF OF INSURANCE|VIOLATIONS OF TRAFFIC CONTROL DEVICE',\n",
       "  1),\n",
       " ('IMPROPER CHANGE OF LANE OR COURSE|EXPIRED DRIVERS LICENSE (- MONTHS OR LESS)|FAILURE TO EXHIBIT DL UPON DEMAND|PROOF OF INSURANCE',\n",
       "  1),\n",
       " ('EXPIRED TAG (MORE THAN - MONTHS)|DRIVING WHILE LICENSE SUSPENDED / REVOKED',\n",
       "  1),\n",
       " ('EXPIRED DRIVERS LICENSE (- MONTHS OR LESS)|SPEED|PROOF OF INSURANCE', 1),\n",
       " ('EXPIRED DRIVERS LICENSE (MORE THAN - MONTHS)|MOVE OVER LAW', 1),\n",
       " ('EXPIRED DRIVERS LICENSE (MORE THAN - MONTHS)|EXPIRED TAG (- MONTHS OR LESS)|SPEED',\n",
       "  1),\n",
       " ('OTHER TAG / REGISTRATION VIOLATIONS|NO REGISTRATION', 1),\n",
       " ('IMPROPER TURN|IMPROPER TURN|FAULTY EQUIPMENT', 1),\n",
       " ('OTHER TAG / REGISTRATION VIOLATIONS|PROOF OF INSURANCE|EXPIRED TAG (- MONTHS OR LESS)',\n",
       "  1),\n",
       " ('FALSE ACCIDENT REPORT|FAULTY EQUIPMENT|FAULTY EQUIPMENT', 1),\n",
       " ('SPEED|EXPIRED DRIVERS LICENSE (MORE THAN - MONTHS)|DRIVING WHILE LICENSE SUSPENDED / REVOKED',\n",
       "  1),\n",
       " ('OTHER CRIMINAL TRAFFIC VIOLATIONS|SPEED|EXPIRED DRIVERS LICENSE (MORE THAN - MONTHS)',\n",
       "  1),\n",
       " ('FAILURE TO EXHIBIT DL UPON DEMAND|SEATBELT (PASSENGER)', 1),\n",
       " ('CARELESS DRIVING|NO REGISTRATION|PROOF OF INSURANCE', 1),\n",
       " ('SEATBELT (DRIVER)|MOTOR VEHICLE NOISE', 1),\n",
       " ('SPEED|OTHER TAG / REGISTRATION VIOLATIONS|FAILURE TO EXHIBIT DL UPON DEMAND',\n",
       "  1),\n",
       " ('FOLLOWING TOO CLOSELY|OTHER NON MOVING VIOLATIONS', 1),\n",
       " ('VIOLATIONS OF RIGHT OF WAY|SEATBELT (PASSENGER)', 1),\n",
       " ('SPEED|DRIVING WHILE LICENSE SUSPENDED / REVOKED|NO REGISTRATION|EXPIRED DRIVERS LICENSE (- MONTHS OR LESS)',\n",
       "  1),\n",
       " ('SPEED|PROOF OF INSURANCE|SPEED|DRIVING WHILE LICENSE SUSPENDED / REVOKED',\n",
       "  1),\n",
       " ...]"
      ]
     },
     "execution_count": 6,
     "metadata": {},
     "output_type": "execute_result"
    }
   ],
   "source": [
    "# Possible reasons for stop\n",
    "sorted(Counter(df_FL['reason_for_stop']).items(), key=lambda x:x[1], reverse=True)"
   ]
  },
  {
   "cell_type": "code",
   "execution_count": 7,
   "metadata": {},
   "outputs": [
    {
     "name": "stdout",
     "output_type": "stream",
     "text": [
      "# of possible reasons : 1775\n",
      "[('SPEED', 2044626), ('SEATBELT (DRIVER)', 280676), ('FAULTY EQUIPMENT', 171141), ('VIOLATIONS OF TRAFFIC CONTROL DEVICE', 148494), ('CMV INSPECTION', 134115), ('OTHER MOVING VIOLATIONS', 115056), ('EXPIRED TAG (- MONTHS OR LESS)', 90447), ('MOVE OVER LAW', 59723), ('WINDOW TINT', 55889), ('OTHER TAG / REGISTRATION VIOLATIONS', 53062), ('OTHER NON MOVING VIOLATIONS', 52691)]\n"
     ]
    },
    {
     "data": {
      "text/plain": [
       "0.9282004824099304"
      ]
     },
     "execution_count": 7,
     "metadata": {},
     "output_type": "execute_result"
    }
   ],
   "source": [
    "print('# of possible reasons : '+str(len(sorted(Counter(df_FL['reason_for_stop']).items(), key=lambda x:x[1], reverse=True))))\n",
    "print(sorted(Counter(df_FL['reason_for_stop']).items(), key=lambda x:x[1], reverse=True)[:11])\n",
    "\n",
    "# Chosen reason for stop\n",
    "reason_stops = dict(sorted(Counter(df_FL['reason_for_stop']).items(), key=lambda x:x[1], reverse=True)[:11]).keys()\n",
    "sum(sorted(Counter(df_FL['reason_for_stop']).values(), reverse=True)[:11])/df_FL.shape[0]"
   ]
  },
  {
   "cell_type": "markdown",
   "metadata": {},
   "source": [
    "We keep only those 11 first categories as they are the most representative reason for stop and cover 92% of all stops recorded in the filtered dataset df_FL. \n",
    "\n",
    "Now, the stops will be devided in 2 dataframes, for women and men officers respectively, in order to later analyse differences in outcome. "
   ]
  },
  {
   "cell_type": "code",
   "execution_count": 8,
   "metadata": {},
   "outputs": [],
   "source": [
    "grouped = dict(tuple(df_FL.groupby('officer_sex')))\n",
    "\n",
    "# Reducing the big dataset to speed up the process (same size as women's officers dataset)\n",
    "new_group_Woff = grouped['female'].sample(n=40000)\n",
    "new_group_Moff = grouped['male'].sample(n=40000)"
   ]
  },
  {
   "cell_type": "markdown",
   "metadata": {},
   "source": [
    "**Generic functions :**"
   ]
  },
  {
   "cell_type": "code",
   "execution_count": 9,
   "metadata": {},
   "outputs": [],
   "source": [
    "def matching_stop(df, reason_stops):\n",
    "    matching=pd.DataFrame({'men':[],'women':[]})\n",
    "    AOD = 0\n",
    "    # Match 1 woman and 1 man with same attributes\n",
    "    for reason in reason_stops:\n",
    "        for race in ('white','black','hispanic'):\n",
    "            for attractiveness in ('True', 'False'):\n",
    "                query = \"reason_for_stop=='\"+reason+\"' & subject_race=='\"+race+\"' & attractiveness==\"+attractiveness\n",
    "                data = df.query(query).copy()\n",
    "                id_M = np.array(data[data['subject_sex']=='male'].id)\n",
    "                id_W = np.array(data[data['subject_sex']=='female'].id)\n",
    "                if ((len(id_M)>0) & (len(id_W)>0)):\n",
    "                    if (len(id_M)>len(id_W)):\n",
    "                        for i in np.arange(0,len(id_W)):\n",
    "                            matching = matching.append({'men':id_M[i],'women':id_W[i]},ignore_index=True)\n",
    "                          \n",
    "                    if (len(id_M)<len(id_W)):\n",
    "                        for i in np.arange(0,len(id_M)):\n",
    "                            matching = matching.append({'men':id_M[i],'women':id_W[i]},ignore_index=True)\n",
    "                       \n",
    "    return matching   \n",
    "\n",
    "def AOD_stop(df, matching):\n",
    "    # Averaged outcome difference (AOD) in search decision s \n",
    "    N_matches = len(matching)\n",
    "    diff = np.zeros(N_matches)\n",
    "\n",
    "    for i in np.arange(0,N_matches):\n",
    "        s_man = int(np.array(df[df['id']==matching.loc[i,'men']].result))\n",
    "        s_woman = int(np.array(df[df['id']==matching.loc[i,'women']].result))\n",
    "        diff[i] = s_man-s_woman                    \n",
    "    AOD = diff.sum()/N_matches    \n",
    "    \n",
    "    return AOD, diff\n",
    "\n",
    "def bootstrap_CI(data, nbr_draws):\n",
    "    # Confidence interval\n",
    "    # Bootstrap CI function from exercise session 2\n",
    "    means = np.zeros(nbr_draws)\n",
    "    data = np.array(data)\n",
    "\n",
    "    for n in range(nbr_draws):\n",
    "        indices = np.random.randint(0, len(data), len(data))\n",
    "        data_tmp = data[indices] \n",
    "        means[n] = np.nanmean(data_tmp)\n",
    "\n",
    "    return [np.nanpercentile(means, 5),np.nanpercentile(means, 95)]"
   ]
  },
  {
   "cell_type": "markdown",
   "metadata": {},
   "source": [
    "Computation of average outcome difference for the female officers group, and the male officers group. "
   ]
  },
  {
   "cell_type": "code",
   "execution_count": 10,
   "metadata": {},
   "outputs": [],
   "source": [
    "matching_W = matching_stop(new_group_Woff, reason_stops)\n",
    "matching_M = matching_stop(new_group_Moff, reason_stops)"
   ]
  },
  {
   "cell_type": "code",
   "execution_count": 11,
   "metadata": {},
   "outputs": [
    {
     "name": "stdout",
     "output_type": "stream",
     "text": [
      "Averaged outcome difference 0.0117 with [0.0032, 0.0207] 95% confidence intervals\n"
     ]
    }
   ],
   "source": [
    "#For women officer, matching\n",
    "[AOD_w, diff_w] = AOD_stop(df_FL, matching_W)\n",
    "\n",
    "CI_w = bootstrap_CI(diff_w, 1000)\n",
    "\n",
    "print('Averaged outcome difference %.4f with [%.4f, %.4f] 95%% confidence intervals' %(AOD_w, CI_w[0], CI_w[1]))"
   ]
  },
  {
   "cell_type": "code",
   "execution_count": 12,
   "metadata": {},
   "outputs": [
    {
     "name": "stdout",
     "output_type": "stream",
     "text": [
      "Averaged outcome difference 0.0284 with [0.0200, 0.0375] 95% confidence intervals\n"
     ]
    }
   ],
   "source": [
    "#For men officer, matching\n",
    "[AOD_m, diff_m] = AOD_stop(df_FL, matching_M)\n",
    "\n",
    "CI_m = bootstrap_CI(diff_m, 1000)\n",
    "\n",
    "print('Averaged outcome difference %.4f with [%.4f, %.4f] 95%% confidence intervals' %(AOD_m, CI_m[0], CI_m[1]))"
   ]
  },
  {
   "cell_type": "markdown",
   "metadata": {},
   "source": [
    "These results already provide some useful information. The AOD for the woman officers is near 0, and the confidence interval ranges from negative to positive values : at this point, it is not possible to determine whether woman officers take biased decisions. However, it seems different for men : their average outcome when deciding on the outcome of a stop seems to indicate that they tend to search men more than woman drivers, even if the age range, race, subjective indicator (reason for stop) are identical for them. \n",
    "\n",
    "Let's dig further, to determine if this seamingly biased behavior is linked to the type of reason for stop. This feature is chosen as it is the most likely to induce a bias, if any. It is important to look for the impact of grouping the matched pairs, as indeed, the AOD is matched over all matched pairs, hence some pairs could cancel eachother."
   ]
  },
  {
   "cell_type": "code",
   "execution_count": 15,
   "metadata": {},
   "outputs": [],
   "source": [
    "[AOD_stopped_W, diff_W, ordered_reasons_W] = reason_type_stop(df_FL, matching_W)\n",
    "[AOD_stopped_M, diff_M, ordered_reasons_M] = reason_type_stop(df_FL, matching_M)\n",
    "\n",
    "CI_W = dict()\n",
    "CI_M = dict()\n",
    "\n",
    "for idx,d in enumerate(diff_W.values()): \n",
    "    CI_W[idx] = bootstrap_CI(d, 1000)\n",
    "    \n",
    "\n",
    "for idx,d in enumerate(diff_M.values()): \n",
    "    CI_M[idx] = bootstrap_CI(d, 1000)"
   ]
  },
  {
   "cell_type": "code",
   "execution_count": 16,
   "metadata": {},
   "outputs": [
    {
     "name": "stdout",
     "output_type": "stream",
     "text": [
      "AOD for all 8 reasons for stop :\n",
      "          0\n",
      "0 -0.024762\n",
      "1  0.066667\n",
      "2 -0.002012\n",
      "3 -0.041322\n",
      "4  0.129630\n",
      "5  0.047270\n",
      "6 -0.000661\n",
      "7  0.072197\n",
      " with CI of \n",
      "          0         1\n",
      "0 -0.066667  0.015238\n",
      "1  0.023333  0.111667\n",
      "2 -0.034205  0.032193\n",
      "3 -0.093664  0.011019\n",
      "4  0.043210  0.216049\n",
      "5  0.030626  0.063915\n",
      "6 -0.011239  0.010446\n",
      "7  0.030722  0.109140\n",
      "The order of the reasons are :                                       0\n",
      "0        EXPIRED TAG (- MONTHS OR LESS)\n",
      "1                      FAULTY EQUIPMENT\n",
      "2               OTHER MOVING VIOLATIONS\n",
      "3           OTHER NON MOVING VIOLATIONS\n",
      "4   OTHER TAG / REGISTRATION VIOLATIONS\n",
      "5                     SEATBELT (DRIVER)\n",
      "6                                 SPEED\n",
      "7  VIOLATIONS OF TRAFFIC CONTROL DEVICE\n"
     ]
    }
   ],
   "source": [
    "print('AOD for all %d reasons for stop :' %len(ordered_reasons_W))\n",
    "print(str(pd.DataFrame(AOD_stopped_W.values()))+'\\n with CI of \\n'+str(pd.DataFrame(CI_W.values())))\n",
    "print('The order of the reasons are : '+str(pd.DataFrame(ordered_reasons_W)))"
   ]
  },
  {
   "cell_type": "code",
   "execution_count": 17,
   "metadata": {},
   "outputs": [
    {
     "name": "stdout",
     "output_type": "stream",
     "text": [
      "AOD for all 8 reasons for stop :\n",
      "          0\n",
      "0  0.039526\n",
      "1  0.082508\n",
      "2  0.091633\n",
      "3 -0.007937\n",
      "4  0.120690\n",
      "5  0.016703\n",
      "6  0.022606\n",
      "7 -0.002304\n",
      " with CI of \n",
      "          0         1\n",
      "0 -0.031621  0.110672\n",
      "1  0.045105  0.116612\n",
      "2  0.041833  0.147410\n",
      "3 -0.079365  0.063492\n",
      "4  0.017241  0.224138\n",
      "5 -0.001489  0.035585\n",
      "6  0.012240  0.032130\n",
      "7 -0.050691  0.050691\n",
      "The order of the reasons are :                                       0\n",
      "0        EXPIRED TAG (- MONTHS OR LESS)\n",
      "1                      FAULTY EQUIPMENT\n",
      "2               OTHER MOVING VIOLATIONS\n",
      "3           OTHER NON MOVING VIOLATIONS\n",
      "4   OTHER TAG / REGISTRATION VIOLATIONS\n",
      "5                     SEATBELT (DRIVER)\n",
      "6                                 SPEED\n",
      "7  VIOLATIONS OF TRAFFIC CONTROL DEVICE\n"
     ]
    }
   ],
   "source": [
    "print('AOD for all %d reasons for stop :' %len(ordered_reasons_M))\n",
    "print(str(pd.DataFrame(AOD_stopped_M.values()))+'\\n with CI of \\n'+str(pd.DataFrame(CI_M.values())))\n",
    "print('The order of the reasons are : '+str(pd.DataFrame(ordered_reasons_M)))"
   ]
  },
  {
   "cell_type": "markdown",
   "metadata": {},
   "source": [
    "Several conclusions can be deduced from these confidence intervals, knowing to which reason for stop they correspond. \n",
    "\n",
    "- The reason to stop 'SPEED' has different results for men officers' group than for women officers' group : men are more gentle with female drivers, reprehending them less than male drivers, whereas women officers do not make a significant difference between them. The exact inverse conclusion can be drawn for the 'DRIVER'S SEATBELT' violation. \n",
    "- Both men and women officers seem more gentle with female drivers that have faulty equipment, as well as other types of TAG or registration violations.\n",
    "- Men officers seem particularly biased regarding 'OTHER MOVING VIOLATIONS' : the AOD is around 11.1% with a CI of +/- 5.5%, hence men officers decide themselves for harder outcomes when facing a male driver. This is however not the case for female officers, acting equally on male and female drivers for this violation type. \n",
    "- Female officers seem particularly biased too for 'VIOLATIONS OF TRAFFIC CONTROL DEVICE' with female : they tend to let them get away more easily than men drivers. "
   ]
  },
  {
   "cell_type": "code",
   "execution_count": 18,
   "metadata": {},
   "outputs": [],
   "source": [
    "#bar plot distribution\n",
    "import plotly.graph_objects as go\n",
    "import plotly.io as pio"
   ]
  },
  {
   "cell_type": "code",
   "execution_count": 94,
   "metadata": {},
   "outputs": [],
   "source": [
    "# Compute the difference between the AOD and the upper and lower bound \n",
    "up_M = abs(list(AOD_stopped_M.values())-pd.DataFrame(CI_M.values())[1])\n",
    "down_M = list(AOD_stopped_M.values())-pd.DataFrame(CI_M.values())[0]\n",
    "\n",
    "up_W = abs(list(AOD_stopped_W.values())-pd.DataFrame(CI_W.values())[1])\n",
    "down_W = list(AOD_stopped_W.values())-pd.DataFrame(CI_W.values())[0]"
   ]
  },
  {
   "cell_type": "code",
   "execution_count": 103,
   "metadata": {},
   "outputs": [
    {
     "data": {
      "application/vnd.plotly.v1+json": {
       "config": {
        "plotlyServerURL": "https://plot.ly"
       },
       "data": [
        {
         "base": 0,
         "error_y": {
          "array": [
           0.07114624505928854,
           0.034103410341034104,
           0.05577689243027889,
           0.07142857142857142,
           0.10344827586206896,
           0.01888162672476398,
           0.009523809523809525,
           0.052995391705069124
          ],
          "arrayminus": [
           0.07114624505928854,
           0.0374037403740374,
           0.04980079681274901,
           0.07142857142857142,
           0.10344827586206898,
           0.0181917211328976,
           0.010366300366300369,
           0.048387096774193554
          ],
          "color": "crimson",
          "symmetric": false,
          "type": "data"
         },
         "name": "Men officers",
         "type": "bar",
         "x": [
          "EXPIRED TAG (- MONTHS OR LESS)",
          "FAULTY EQUIPMENT",
          "OTHER MOVING VIOLATIONS",
          "OTHER NON MOVING VIOLATIONS",
          "OTHER TAG / REGISTRATION VIOLATIONS",
          "SEATBELT (DRIVER)",
          "SPEED",
          "VIOLATIONS OF TRAFFIC CONTROL DEVICE"
         ],
         "y": [
          0.039525691699604744,
          0.08250825082508251,
          0.09163346613545817,
          -0.007936507936507936,
          0.1206896551724138,
          0.01670297748729121,
          0.02260596546310832,
          -0.002304147465437788
         ]
        },
        {
         "base": 0,
         "error_y": {
          "array": [
           0.04,
           0.045,
           0.03420523138832998,
           0.05234159779614325,
           0.08641975308641975,
           0.016644474034620507,
           0.011106703689012298,
           0.03694316436251914
          ],
          "arrayminus": [
           0.0419047619047619,
           0.043333333333333335,
           0.03219315895372234,
           0.05234159779614325,
           0.08641975308641975,
           0.016644474034620507,
           0.010577813037154568,
           0.041474654377880185
          ],
          "color": "crimson",
          "symmetric": false,
          "type": "data"
         },
         "name": "Women officers",
         "type": "bar",
         "x": [
          "EXPIRED TAG (- MONTHS OR LESS)",
          "FAULTY EQUIPMENT",
          "OTHER MOVING VIOLATIONS",
          "OTHER NON MOVING VIOLATIONS",
          "OTHER TAG / REGISTRATION VIOLATIONS",
          "SEATBELT (DRIVER)",
          "SPEED",
          "VIOLATIONS OF TRAFFIC CONTROL DEVICE"
         ],
         "y": [
          -0.024761904761904763,
          0.06666666666666667,
          -0.002012072434607646,
          -0.04132231404958678,
          0.12962962962962962,
          0.04727030625832224,
          -0.0006611133148221605,
          0.07219662058371736
         ]
        }
       ],
       "layout": {
        "template": {
         "data": {
          "bar": [
           {
            "error_x": {
             "color": "#2a3f5f"
            },
            "error_y": {
             "color": "#2a3f5f"
            },
            "marker": {
             "line": {
              "color": "#E5ECF6",
              "width": 0.5
             }
            },
            "type": "bar"
           }
          ],
          "barpolar": [
           {
            "marker": {
             "line": {
              "color": "#E5ECF6",
              "width": 0.5
             }
            },
            "type": "barpolar"
           }
          ],
          "carpet": [
           {
            "aaxis": {
             "endlinecolor": "#2a3f5f",
             "gridcolor": "white",
             "linecolor": "white",
             "minorgridcolor": "white",
             "startlinecolor": "#2a3f5f"
            },
            "baxis": {
             "endlinecolor": "#2a3f5f",
             "gridcolor": "white",
             "linecolor": "white",
             "minorgridcolor": "white",
             "startlinecolor": "#2a3f5f"
            },
            "type": "carpet"
           }
          ],
          "choropleth": [
           {
            "colorbar": {
             "outlinewidth": 0,
             "ticks": ""
            },
            "type": "choropleth"
           }
          ],
          "contour": [
           {
            "colorbar": {
             "outlinewidth": 0,
             "ticks": ""
            },
            "colorscale": [
             [
              0,
              "#0d0887"
             ],
             [
              0.1111111111111111,
              "#46039f"
             ],
             [
              0.2222222222222222,
              "#7201a8"
             ],
             [
              0.3333333333333333,
              "#9c179e"
             ],
             [
              0.4444444444444444,
              "#bd3786"
             ],
             [
              0.5555555555555556,
              "#d8576b"
             ],
             [
              0.6666666666666666,
              "#ed7953"
             ],
             [
              0.7777777777777778,
              "#fb9f3a"
             ],
             [
              0.8888888888888888,
              "#fdca26"
             ],
             [
              1,
              "#f0f921"
             ]
            ],
            "type": "contour"
           }
          ],
          "contourcarpet": [
           {
            "colorbar": {
             "outlinewidth": 0,
             "ticks": ""
            },
            "type": "contourcarpet"
           }
          ],
          "heatmap": [
           {
            "colorbar": {
             "outlinewidth": 0,
             "ticks": ""
            },
            "colorscale": [
             [
              0,
              "#0d0887"
             ],
             [
              0.1111111111111111,
              "#46039f"
             ],
             [
              0.2222222222222222,
              "#7201a8"
             ],
             [
              0.3333333333333333,
              "#9c179e"
             ],
             [
              0.4444444444444444,
              "#bd3786"
             ],
             [
              0.5555555555555556,
              "#d8576b"
             ],
             [
              0.6666666666666666,
              "#ed7953"
             ],
             [
              0.7777777777777778,
              "#fb9f3a"
             ],
             [
              0.8888888888888888,
              "#fdca26"
             ],
             [
              1,
              "#f0f921"
             ]
            ],
            "type": "heatmap"
           }
          ],
          "heatmapgl": [
           {
            "colorbar": {
             "outlinewidth": 0,
             "ticks": ""
            },
            "colorscale": [
             [
              0,
              "#0d0887"
             ],
             [
              0.1111111111111111,
              "#46039f"
             ],
             [
              0.2222222222222222,
              "#7201a8"
             ],
             [
              0.3333333333333333,
              "#9c179e"
             ],
             [
              0.4444444444444444,
              "#bd3786"
             ],
             [
              0.5555555555555556,
              "#d8576b"
             ],
             [
              0.6666666666666666,
              "#ed7953"
             ],
             [
              0.7777777777777778,
              "#fb9f3a"
             ],
             [
              0.8888888888888888,
              "#fdca26"
             ],
             [
              1,
              "#f0f921"
             ]
            ],
            "type": "heatmapgl"
           }
          ],
          "histogram": [
           {
            "marker": {
             "colorbar": {
              "outlinewidth": 0,
              "ticks": ""
             }
            },
            "type": "histogram"
           }
          ],
          "histogram2d": [
           {
            "colorbar": {
             "outlinewidth": 0,
             "ticks": ""
            },
            "colorscale": [
             [
              0,
              "#0d0887"
             ],
             [
              0.1111111111111111,
              "#46039f"
             ],
             [
              0.2222222222222222,
              "#7201a8"
             ],
             [
              0.3333333333333333,
              "#9c179e"
             ],
             [
              0.4444444444444444,
              "#bd3786"
             ],
             [
              0.5555555555555556,
              "#d8576b"
             ],
             [
              0.6666666666666666,
              "#ed7953"
             ],
             [
              0.7777777777777778,
              "#fb9f3a"
             ],
             [
              0.8888888888888888,
              "#fdca26"
             ],
             [
              1,
              "#f0f921"
             ]
            ],
            "type": "histogram2d"
           }
          ],
          "histogram2dcontour": [
           {
            "colorbar": {
             "outlinewidth": 0,
             "ticks": ""
            },
            "colorscale": [
             [
              0,
              "#0d0887"
             ],
             [
              0.1111111111111111,
              "#46039f"
             ],
             [
              0.2222222222222222,
              "#7201a8"
             ],
             [
              0.3333333333333333,
              "#9c179e"
             ],
             [
              0.4444444444444444,
              "#bd3786"
             ],
             [
              0.5555555555555556,
              "#d8576b"
             ],
             [
              0.6666666666666666,
              "#ed7953"
             ],
             [
              0.7777777777777778,
              "#fb9f3a"
             ],
             [
              0.8888888888888888,
              "#fdca26"
             ],
             [
              1,
              "#f0f921"
             ]
            ],
            "type": "histogram2dcontour"
           }
          ],
          "mesh3d": [
           {
            "colorbar": {
             "outlinewidth": 0,
             "ticks": ""
            },
            "type": "mesh3d"
           }
          ],
          "parcoords": [
           {
            "line": {
             "colorbar": {
              "outlinewidth": 0,
              "ticks": ""
             }
            },
            "type": "parcoords"
           }
          ],
          "pie": [
           {
            "automargin": true,
            "type": "pie"
           }
          ],
          "scatter": [
           {
            "marker": {
             "colorbar": {
              "outlinewidth": 0,
              "ticks": ""
             }
            },
            "type": "scatter"
           }
          ],
          "scatter3d": [
           {
            "line": {
             "colorbar": {
              "outlinewidth": 0,
              "ticks": ""
             }
            },
            "marker": {
             "colorbar": {
              "outlinewidth": 0,
              "ticks": ""
             }
            },
            "type": "scatter3d"
           }
          ],
          "scattercarpet": [
           {
            "marker": {
             "colorbar": {
              "outlinewidth": 0,
              "ticks": ""
             }
            },
            "type": "scattercarpet"
           }
          ],
          "scattergeo": [
           {
            "marker": {
             "colorbar": {
              "outlinewidth": 0,
              "ticks": ""
             }
            },
            "type": "scattergeo"
           }
          ],
          "scattergl": [
           {
            "marker": {
             "colorbar": {
              "outlinewidth": 0,
              "ticks": ""
             }
            },
            "type": "scattergl"
           }
          ],
          "scattermapbox": [
           {
            "marker": {
             "colorbar": {
              "outlinewidth": 0,
              "ticks": ""
             }
            },
            "type": "scattermapbox"
           }
          ],
          "scatterpolar": [
           {
            "marker": {
             "colorbar": {
              "outlinewidth": 0,
              "ticks": ""
             }
            },
            "type": "scatterpolar"
           }
          ],
          "scatterpolargl": [
           {
            "marker": {
             "colorbar": {
              "outlinewidth": 0,
              "ticks": ""
             }
            },
            "type": "scatterpolargl"
           }
          ],
          "scatterternary": [
           {
            "marker": {
             "colorbar": {
              "outlinewidth": 0,
              "ticks": ""
             }
            },
            "type": "scatterternary"
           }
          ],
          "surface": [
           {
            "colorbar": {
             "outlinewidth": 0,
             "ticks": ""
            },
            "colorscale": [
             [
              0,
              "#0d0887"
             ],
             [
              0.1111111111111111,
              "#46039f"
             ],
             [
              0.2222222222222222,
              "#7201a8"
             ],
             [
              0.3333333333333333,
              "#9c179e"
             ],
             [
              0.4444444444444444,
              "#bd3786"
             ],
             [
              0.5555555555555556,
              "#d8576b"
             ],
             [
              0.6666666666666666,
              "#ed7953"
             ],
             [
              0.7777777777777778,
              "#fb9f3a"
             ],
             [
              0.8888888888888888,
              "#fdca26"
             ],
             [
              1,
              "#f0f921"
             ]
            ],
            "type": "surface"
           }
          ],
          "table": [
           {
            "cells": {
             "fill": {
              "color": "#EBF0F8"
             },
             "line": {
              "color": "white"
             }
            },
            "header": {
             "fill": {
              "color": "#C8D4E3"
             },
             "line": {
              "color": "white"
             }
            },
            "type": "table"
           }
          ]
         },
         "layout": {
          "annotationdefaults": {
           "arrowcolor": "#2a3f5f",
           "arrowhead": 0,
           "arrowwidth": 1
          },
          "autotypenumbers": "strict",
          "coloraxis": {
           "colorbar": {
            "outlinewidth": 0,
            "ticks": ""
           }
          },
          "colorscale": {
           "diverging": [
            [
             0,
             "#8e0152"
            ],
            [
             0.1,
             "#c51b7d"
            ],
            [
             0.2,
             "#de77ae"
            ],
            [
             0.3,
             "#f1b6da"
            ],
            [
             0.4,
             "#fde0ef"
            ],
            [
             0.5,
             "#f7f7f7"
            ],
            [
             0.6,
             "#e6f5d0"
            ],
            [
             0.7,
             "#b8e186"
            ],
            [
             0.8,
             "#7fbc41"
            ],
            [
             0.9,
             "#4d9221"
            ],
            [
             1,
             "#276419"
            ]
           ],
           "sequential": [
            [
             0,
             "#0d0887"
            ],
            [
             0.1111111111111111,
             "#46039f"
            ],
            [
             0.2222222222222222,
             "#7201a8"
            ],
            [
             0.3333333333333333,
             "#9c179e"
            ],
            [
             0.4444444444444444,
             "#bd3786"
            ],
            [
             0.5555555555555556,
             "#d8576b"
            ],
            [
             0.6666666666666666,
             "#ed7953"
            ],
            [
             0.7777777777777778,
             "#fb9f3a"
            ],
            [
             0.8888888888888888,
             "#fdca26"
            ],
            [
             1,
             "#f0f921"
            ]
           ],
           "sequentialminus": [
            [
             0,
             "#0d0887"
            ],
            [
             0.1111111111111111,
             "#46039f"
            ],
            [
             0.2222222222222222,
             "#7201a8"
            ],
            [
             0.3333333333333333,
             "#9c179e"
            ],
            [
             0.4444444444444444,
             "#bd3786"
            ],
            [
             0.5555555555555556,
             "#d8576b"
            ],
            [
             0.6666666666666666,
             "#ed7953"
            ],
            [
             0.7777777777777778,
             "#fb9f3a"
            ],
            [
             0.8888888888888888,
             "#fdca26"
            ],
            [
             1,
             "#f0f921"
            ]
           ]
          },
          "colorway": [
           "#636efa",
           "#EF553B",
           "#00cc96",
           "#ab63fa",
           "#FFA15A",
           "#19d3f3",
           "#FF6692",
           "#B6E880",
           "#FF97FF",
           "#FECB52"
          ],
          "font": {
           "color": "#2a3f5f"
          },
          "geo": {
           "bgcolor": "white",
           "lakecolor": "white",
           "landcolor": "#E5ECF6",
           "showlakes": true,
           "showland": true,
           "subunitcolor": "white"
          },
          "hoverlabel": {
           "align": "left"
          },
          "hovermode": "closest",
          "mapbox": {
           "style": "light"
          },
          "paper_bgcolor": "white",
          "plot_bgcolor": "#E5ECF6",
          "polar": {
           "angularaxis": {
            "gridcolor": "white",
            "linecolor": "white",
            "ticks": ""
           },
           "bgcolor": "#E5ECF6",
           "radialaxis": {
            "gridcolor": "white",
            "linecolor": "white",
            "ticks": ""
           }
          },
          "scene": {
           "xaxis": {
            "backgroundcolor": "#E5ECF6",
            "gridcolor": "white",
            "gridwidth": 2,
            "linecolor": "white",
            "showbackground": true,
            "ticks": "",
            "zerolinecolor": "white"
           },
           "yaxis": {
            "backgroundcolor": "#E5ECF6",
            "gridcolor": "white",
            "gridwidth": 2,
            "linecolor": "white",
            "showbackground": true,
            "ticks": "",
            "zerolinecolor": "white"
           },
           "zaxis": {
            "backgroundcolor": "#E5ECF6",
            "gridcolor": "white",
            "gridwidth": 2,
            "linecolor": "white",
            "showbackground": true,
            "ticks": "",
            "zerolinecolor": "white"
           }
          },
          "shapedefaults": {
           "line": {
            "color": "#2a3f5f"
           }
          },
          "ternary": {
           "aaxis": {
            "gridcolor": "white",
            "linecolor": "white",
            "ticks": ""
           },
           "baxis": {
            "gridcolor": "white",
            "linecolor": "white",
            "ticks": ""
           },
           "bgcolor": "#E5ECF6",
           "caxis": {
            "gridcolor": "white",
            "linecolor": "white",
            "ticks": ""
           }
          },
          "title": {
           "x": 0.05
          },
          "xaxis": {
           "automargin": true,
           "gridcolor": "white",
           "linecolor": "white",
           "ticks": "",
           "title": {
            "standoff": 15
           },
           "zerolinecolor": "white",
           "zerolinewidth": 2
          },
          "yaxis": {
           "automargin": true,
           "gridcolor": "white",
           "linecolor": "white",
           "ticks": "",
           "title": {
            "standoff": 15
           },
           "zerolinecolor": "white",
           "zerolinewidth": 2
          }
         }
        }
       }
      },
      "text/html": [
       "<div>                            <div id=\"50ef93a5-9abc-44d9-97f0-6bf25436881c\" class=\"plotly-graph-div\" style=\"height:525px; width:100%;\"></div>            <script type=\"text/javascript\">                require([\"plotly\"], function(Plotly) {                    window.PLOTLYENV=window.PLOTLYENV || {};                                    if (document.getElementById(\"50ef93a5-9abc-44d9-97f0-6bf25436881c\")) {                    Plotly.newPlot(                        \"50ef93a5-9abc-44d9-97f0-6bf25436881c\",                        [{\"base\": 0, \"error_y\": {\"array\": [0.07114624505928854, 0.034103410341034104, 0.05577689243027889, 0.07142857142857142, 0.10344827586206896, 0.01888162672476398, 0.009523809523809525, 0.052995391705069124], \"arrayminus\": [0.07114624505928854, 0.0374037403740374, 0.04980079681274901, 0.07142857142857142, 0.10344827586206898, 0.0181917211328976, 0.010366300366300369, 0.048387096774193554], \"color\": \"crimson\", \"symmetric\": false, \"type\": \"data\"}, \"name\": \"Men officers\", \"type\": \"bar\", \"x\": [\"EXPIRED TAG (- MONTHS OR LESS)\", \"FAULTY EQUIPMENT\", \"OTHER MOVING VIOLATIONS\", \"OTHER NON MOVING VIOLATIONS\", \"OTHER TAG / REGISTRATION VIOLATIONS\", \"SEATBELT (DRIVER)\", \"SPEED\", \"VIOLATIONS OF TRAFFIC CONTROL DEVICE\"], \"y\": [0.039525691699604744, 0.08250825082508251, 0.09163346613545817, -0.007936507936507936, 0.1206896551724138, 0.01670297748729121, 0.02260596546310832, -0.002304147465437788]}, {\"base\": 0, \"error_y\": {\"array\": [0.04, 0.045, 0.03420523138832998, 0.05234159779614325, 0.08641975308641975, 0.016644474034620507, 0.011106703689012298, 0.03694316436251914], \"arrayminus\": [0.0419047619047619, 0.043333333333333335, 0.03219315895372234, 0.05234159779614325, 0.08641975308641975, 0.016644474034620507, 0.010577813037154568, 0.041474654377880185], \"color\": \"crimson\", \"symmetric\": false, \"type\": \"data\"}, \"name\": \"Women officers\", \"type\": \"bar\", \"x\": [\"EXPIRED TAG (- MONTHS OR LESS)\", \"FAULTY EQUIPMENT\", \"OTHER MOVING VIOLATIONS\", \"OTHER NON MOVING VIOLATIONS\", \"OTHER TAG / REGISTRATION VIOLATIONS\", \"SEATBELT (DRIVER)\", \"SPEED\", \"VIOLATIONS OF TRAFFIC CONTROL DEVICE\"], \"y\": [-0.024761904761904763, 0.06666666666666667, -0.002012072434607646, -0.04132231404958678, 0.12962962962962962, 0.04727030625832224, -0.0006611133148221605, 0.07219662058371736]}],                        {\"template\": {\"data\": {\"bar\": [{\"error_x\": {\"color\": \"#2a3f5f\"}, \"error_y\": {\"color\": \"#2a3f5f\"}, \"marker\": {\"line\": {\"color\": \"#E5ECF6\", \"width\": 0.5}}, \"type\": \"bar\"}], \"barpolar\": [{\"marker\": {\"line\": {\"color\": \"#E5ECF6\", \"width\": 0.5}}, \"type\": \"barpolar\"}], \"carpet\": [{\"aaxis\": {\"endlinecolor\": \"#2a3f5f\", \"gridcolor\": \"white\", \"linecolor\": \"white\", \"minorgridcolor\": \"white\", \"startlinecolor\": \"#2a3f5f\"}, \"baxis\": {\"endlinecolor\": \"#2a3f5f\", \"gridcolor\": \"white\", \"linecolor\": \"white\", \"minorgridcolor\": \"white\", \"startlinecolor\": \"#2a3f5f\"}, \"type\": \"carpet\"}], \"choropleth\": [{\"colorbar\": {\"outlinewidth\": 0, \"ticks\": \"\"}, \"type\": \"choropleth\"}], \"contour\": [{\"colorbar\": {\"outlinewidth\": 0, \"ticks\": \"\"}, \"colorscale\": [[0.0, \"#0d0887\"], [0.1111111111111111, \"#46039f\"], [0.2222222222222222, \"#7201a8\"], [0.3333333333333333, \"#9c179e\"], [0.4444444444444444, \"#bd3786\"], [0.5555555555555556, \"#d8576b\"], [0.6666666666666666, \"#ed7953\"], [0.7777777777777778, \"#fb9f3a\"], [0.8888888888888888, \"#fdca26\"], [1.0, \"#f0f921\"]], \"type\": \"contour\"}], \"contourcarpet\": [{\"colorbar\": {\"outlinewidth\": 0, \"ticks\": \"\"}, \"type\": \"contourcarpet\"}], \"heatmap\": [{\"colorbar\": {\"outlinewidth\": 0, \"ticks\": \"\"}, \"colorscale\": [[0.0, \"#0d0887\"], [0.1111111111111111, \"#46039f\"], [0.2222222222222222, \"#7201a8\"], [0.3333333333333333, \"#9c179e\"], [0.4444444444444444, \"#bd3786\"], [0.5555555555555556, \"#d8576b\"], [0.6666666666666666, \"#ed7953\"], [0.7777777777777778, \"#fb9f3a\"], [0.8888888888888888, \"#fdca26\"], [1.0, \"#f0f921\"]], \"type\": \"heatmap\"}], \"heatmapgl\": [{\"colorbar\": {\"outlinewidth\": 0, \"ticks\": \"\"}, \"colorscale\": [[0.0, \"#0d0887\"], [0.1111111111111111, \"#46039f\"], [0.2222222222222222, \"#7201a8\"], [0.3333333333333333, \"#9c179e\"], [0.4444444444444444, \"#bd3786\"], [0.5555555555555556, \"#d8576b\"], [0.6666666666666666, \"#ed7953\"], [0.7777777777777778, \"#fb9f3a\"], [0.8888888888888888, \"#fdca26\"], [1.0, \"#f0f921\"]], \"type\": \"heatmapgl\"}], \"histogram\": [{\"marker\": {\"colorbar\": {\"outlinewidth\": 0, \"ticks\": \"\"}}, \"type\": \"histogram\"}], \"histogram2d\": [{\"colorbar\": {\"outlinewidth\": 0, \"ticks\": \"\"}, \"colorscale\": [[0.0, \"#0d0887\"], [0.1111111111111111, \"#46039f\"], [0.2222222222222222, \"#7201a8\"], [0.3333333333333333, \"#9c179e\"], [0.4444444444444444, \"#bd3786\"], [0.5555555555555556, \"#d8576b\"], [0.6666666666666666, \"#ed7953\"], [0.7777777777777778, \"#fb9f3a\"], [0.8888888888888888, \"#fdca26\"], [1.0, \"#f0f921\"]], \"type\": \"histogram2d\"}], \"histogram2dcontour\": [{\"colorbar\": {\"outlinewidth\": 0, \"ticks\": \"\"}, \"colorscale\": [[0.0, \"#0d0887\"], [0.1111111111111111, \"#46039f\"], [0.2222222222222222, \"#7201a8\"], [0.3333333333333333, \"#9c179e\"], [0.4444444444444444, \"#bd3786\"], [0.5555555555555556, \"#d8576b\"], [0.6666666666666666, \"#ed7953\"], [0.7777777777777778, \"#fb9f3a\"], [0.8888888888888888, \"#fdca26\"], [1.0, \"#f0f921\"]], \"type\": \"histogram2dcontour\"}], \"mesh3d\": [{\"colorbar\": {\"outlinewidth\": 0, \"ticks\": \"\"}, \"type\": \"mesh3d\"}], \"parcoords\": [{\"line\": {\"colorbar\": {\"outlinewidth\": 0, \"ticks\": \"\"}}, \"type\": \"parcoords\"}], \"pie\": [{\"automargin\": true, \"type\": \"pie\"}], \"scatter\": [{\"marker\": {\"colorbar\": {\"outlinewidth\": 0, \"ticks\": \"\"}}, \"type\": \"scatter\"}], \"scatter3d\": [{\"line\": {\"colorbar\": {\"outlinewidth\": 0, \"ticks\": \"\"}}, \"marker\": {\"colorbar\": {\"outlinewidth\": 0, \"ticks\": \"\"}}, \"type\": \"scatter3d\"}], \"scattercarpet\": [{\"marker\": {\"colorbar\": {\"outlinewidth\": 0, \"ticks\": \"\"}}, \"type\": \"scattercarpet\"}], \"scattergeo\": [{\"marker\": {\"colorbar\": {\"outlinewidth\": 0, \"ticks\": \"\"}}, \"type\": \"scattergeo\"}], \"scattergl\": [{\"marker\": {\"colorbar\": {\"outlinewidth\": 0, \"ticks\": \"\"}}, \"type\": \"scattergl\"}], \"scattermapbox\": [{\"marker\": {\"colorbar\": {\"outlinewidth\": 0, \"ticks\": \"\"}}, \"type\": \"scattermapbox\"}], \"scatterpolar\": [{\"marker\": {\"colorbar\": {\"outlinewidth\": 0, \"ticks\": \"\"}}, \"type\": \"scatterpolar\"}], \"scatterpolargl\": [{\"marker\": {\"colorbar\": {\"outlinewidth\": 0, \"ticks\": \"\"}}, \"type\": \"scatterpolargl\"}], \"scatterternary\": [{\"marker\": {\"colorbar\": {\"outlinewidth\": 0, \"ticks\": \"\"}}, \"type\": \"scatterternary\"}], \"surface\": [{\"colorbar\": {\"outlinewidth\": 0, \"ticks\": \"\"}, \"colorscale\": [[0.0, \"#0d0887\"], [0.1111111111111111, \"#46039f\"], [0.2222222222222222, \"#7201a8\"], [0.3333333333333333, \"#9c179e\"], [0.4444444444444444, \"#bd3786\"], [0.5555555555555556, \"#d8576b\"], [0.6666666666666666, \"#ed7953\"], [0.7777777777777778, \"#fb9f3a\"], [0.8888888888888888, \"#fdca26\"], [1.0, \"#f0f921\"]], \"type\": \"surface\"}], \"table\": [{\"cells\": {\"fill\": {\"color\": \"#EBF0F8\"}, \"line\": {\"color\": \"white\"}}, \"header\": {\"fill\": {\"color\": \"#C8D4E3\"}, \"line\": {\"color\": \"white\"}}, \"type\": \"table\"}]}, \"layout\": {\"annotationdefaults\": {\"arrowcolor\": \"#2a3f5f\", \"arrowhead\": 0, \"arrowwidth\": 1}, \"autotypenumbers\": \"strict\", \"coloraxis\": {\"colorbar\": {\"outlinewidth\": 0, \"ticks\": \"\"}}, \"colorscale\": {\"diverging\": [[0, \"#8e0152\"], [0.1, \"#c51b7d\"], [0.2, \"#de77ae\"], [0.3, \"#f1b6da\"], [0.4, \"#fde0ef\"], [0.5, \"#f7f7f7\"], [0.6, \"#e6f5d0\"], [0.7, \"#b8e186\"], [0.8, \"#7fbc41\"], [0.9, \"#4d9221\"], [1, \"#276419\"]], \"sequential\": [[0.0, \"#0d0887\"], [0.1111111111111111, \"#46039f\"], [0.2222222222222222, \"#7201a8\"], [0.3333333333333333, \"#9c179e\"], [0.4444444444444444, \"#bd3786\"], [0.5555555555555556, \"#d8576b\"], [0.6666666666666666, \"#ed7953\"], [0.7777777777777778, \"#fb9f3a\"], [0.8888888888888888, \"#fdca26\"], [1.0, \"#f0f921\"]], \"sequentialminus\": [[0.0, \"#0d0887\"], [0.1111111111111111, \"#46039f\"], [0.2222222222222222, \"#7201a8\"], [0.3333333333333333, \"#9c179e\"], [0.4444444444444444, \"#bd3786\"], [0.5555555555555556, \"#d8576b\"], [0.6666666666666666, \"#ed7953\"], [0.7777777777777778, \"#fb9f3a\"], [0.8888888888888888, \"#fdca26\"], [1.0, \"#f0f921\"]]}, \"colorway\": [\"#636efa\", \"#EF553B\", \"#00cc96\", \"#ab63fa\", \"#FFA15A\", \"#19d3f3\", \"#FF6692\", \"#B6E880\", \"#FF97FF\", \"#FECB52\"], \"font\": {\"color\": \"#2a3f5f\"}, \"geo\": {\"bgcolor\": \"white\", \"lakecolor\": \"white\", \"landcolor\": \"#E5ECF6\", \"showlakes\": true, \"showland\": true, \"subunitcolor\": \"white\"}, \"hoverlabel\": {\"align\": \"left\"}, \"hovermode\": \"closest\", \"mapbox\": {\"style\": \"light\"}, \"paper_bgcolor\": \"white\", \"plot_bgcolor\": \"#E5ECF6\", \"polar\": {\"angularaxis\": {\"gridcolor\": \"white\", \"linecolor\": \"white\", \"ticks\": \"\"}, \"bgcolor\": \"#E5ECF6\", \"radialaxis\": {\"gridcolor\": \"white\", \"linecolor\": \"white\", \"ticks\": \"\"}}, \"scene\": {\"xaxis\": {\"backgroundcolor\": \"#E5ECF6\", \"gridcolor\": \"white\", \"gridwidth\": 2, \"linecolor\": \"white\", \"showbackground\": true, \"ticks\": \"\", \"zerolinecolor\": \"white\"}, \"yaxis\": {\"backgroundcolor\": \"#E5ECF6\", \"gridcolor\": \"white\", \"gridwidth\": 2, \"linecolor\": \"white\", \"showbackground\": true, \"ticks\": \"\", \"zerolinecolor\": \"white\"}, \"zaxis\": {\"backgroundcolor\": \"#E5ECF6\", \"gridcolor\": \"white\", \"gridwidth\": 2, \"linecolor\": \"white\", \"showbackground\": true, \"ticks\": \"\", \"zerolinecolor\": \"white\"}}, \"shapedefaults\": {\"line\": {\"color\": \"#2a3f5f\"}}, \"ternary\": {\"aaxis\": {\"gridcolor\": \"white\", \"linecolor\": \"white\", \"ticks\": \"\"}, \"baxis\": {\"gridcolor\": \"white\", \"linecolor\": \"white\", \"ticks\": \"\"}, \"bgcolor\": \"#E5ECF6\", \"caxis\": {\"gridcolor\": \"white\", \"linecolor\": \"white\", \"ticks\": \"\"}}, \"title\": {\"x\": 0.05}, \"xaxis\": {\"automargin\": true, \"gridcolor\": \"white\", \"linecolor\": \"white\", \"ticks\": \"\", \"title\": {\"standoff\": 15}, \"zerolinecolor\": \"white\", \"zerolinewidth\": 2}, \"yaxis\": {\"automargin\": true, \"gridcolor\": \"white\", \"linecolor\": \"white\", \"ticks\": \"\", \"title\": {\"standoff\": 15}, \"zerolinecolor\": \"white\", \"zerolinewidth\": 2}}}},                        {\"responsive\": true}                    ).then(function(){\n",
       "                            \n",
       "var gd = document.getElementById('50ef93a5-9abc-44d9-97f0-6bf25436881c');\n",
       "var x = new MutationObserver(function (mutations, observer) {{\n",
       "        var display = window.getComputedStyle(gd).display;\n",
       "        if (!display || display === 'none') {{\n",
       "            console.log([gd, 'removed!']);\n",
       "            Plotly.purge(gd);\n",
       "            observer.disconnect();\n",
       "        }}\n",
       "}});\n",
       "\n",
       "// Listen for the removal of the full notebook cells\n",
       "var notebookContainer = gd.closest('#notebook-container');\n",
       "if (notebookContainer) {{\n",
       "    x.observe(notebookContainer, {childList: true});\n",
       "}}\n",
       "\n",
       "// Listen for the clearing of the current output cell\n",
       "var outputEl = gd.closest('.output');\n",
       "if (outputEl) {{\n",
       "    x.observe(outputEl, {childList: true});\n",
       "}}\n",
       "\n",
       "                        })                };                });            </script>        </div>"
      ]
     },
     "metadata": {},
     "output_type": "display_data"
    }
   ],
   "source": [
    "fig = go.Figure()\n",
    "fig.add_trace(go.Bar(x=list(ordered_reasons_M), y=list((AOD_stopped_M.values())),\n",
    "                base=0, error_y= dict(type='data',symmetric=False, array=up_M,arrayminus=down_M,color=\"crimson\"),\n",
    "                #marker_color='crimson',\n",
    "                name='Men officers'))\n",
    "\n",
    "fig.add_trace(go.Bar(x=list(ordered_reasons_W), y=list((AOD_stopped_W.values())),\n",
    "                base=0,error_y= dict(type='data',symmetric=False, array=up_W,arrayminus=down_W,color=\"crimson\"),\n",
    "                \n",
    "                #marker_color='crimson',\n",
    "                name='Women officers'))\n",
    "fig.show()\n",
    "pio.write_html(fig, file='MW_off.html', auto_open=True)"
   ]
  },
  {
   "cell_type": "markdown",
   "metadata": {},
   "source": [
    "Short analysis on the number of cases, not for the final notebook : "
   ]
  },
  {
   "cell_type": "code",
   "execution_count": 43,
   "metadata": {},
   "outputs": [],
   "source": [
    "n_for_reason_W = list(dict(sorted(Counter(new_group_Woff['reason_for_stop']).items(), key=lambda x:x[1], reverse=True)[:11]).values())\n",
    "n_for_reason_M = list(dict(sorted(Counter(new_group_Moff['reason_for_stop']).items(), key=lambda x:x[1], reverse=True)[:11]).values())\n",
    "\n",
    "n_for_reason_W = pd.DataFrame(n_for_reason_W, index = reason_stops, columns=['Number of cases'])\n",
    "n_for_reason_M = pd.DataFrame(n_for_reason_M, index = reason_stops, columns=['Number of cases'])\n"
   ]
  },
  {
   "cell_type": "code",
   "execution_count": 47,
   "metadata": {},
   "outputs": [
    {
     "data": {
      "text/plain": [
       "SPEED                                   3.924511\n",
       "SEATBELT (DRIVER)                       1.329038\n",
       "FAULTY EQUIPMENT                        0.896657\n",
       "VIOLATIONS OF TRAFFIC CONTROL DEVICE    0.772998\n",
       "CMV INSPECTION                          0.738996\n",
       "OTHER MOVING VIOLATIONS                 0.648494\n",
       "EXPIRED TAG (- MONTHS OR LESS)          0.645787\n",
       "MOVE OVER LAW                           0.550041\n",
       "WINDOW TINT                             0.517054\n",
       "OTHER TAG / REGISTRATION VIOLATIONS     0.493540\n",
       "OTHER NON MOVING VIOLATIONS             0.482883\n",
       "Name: Number of cases, dtype: float64"
      ]
     },
     "execution_count": 47,
     "metadata": {},
     "output_type": "execute_result"
    }
   ],
   "source": [
    "(n_for_reason_W['Number of cases']-n_for_reason_W['Number of cases'].mean())/n_for_reason_W['Number of cases'].std()+1"
   ]
  },
  {
   "cell_type": "code",
   "execution_count": 48,
   "metadata": {},
   "outputs": [
    {
     "data": {
      "text/plain": [
       "SPEED                                   3.956533\n",
       "SEATBELT (DRIVER)                       1.199908\n",
       "FAULTY EQUIPMENT                        0.921090\n",
       "VIOLATIONS OF TRAFFIC CONTROL DEVICE    0.717867\n",
       "CMV INSPECTION                          0.687993\n",
       "OTHER MOVING VIOLATIONS                 0.653632\n",
       "EXPIRED TAG (- MONTHS OR LESS)          0.605666\n",
       "MOVE OVER LAW                           0.583507\n",
       "WINDOW TINT                             0.577476\n",
       "OTHER TAG / REGISTRATION VIOLATIONS     0.548584\n",
       "OTHER NON MOVING VIOLATIONS             0.547743\n",
       "Name: Number of cases, dtype: float64"
      ]
     },
     "execution_count": 48,
     "metadata": {},
     "output_type": "execute_result"
    }
   ],
   "source": [
    "(n_for_reason_M['Number of cases']-n_for_reason_M['Number of cases'].mean())/n_for_reason_M['Number of cases'].std()+1"
   ]
  },
  {
   "cell_type": "code",
   "execution_count": 52,
   "metadata": {},
   "outputs": [
    {
     "data": {
      "application/vnd.plotly.v1+json": {
       "config": {
        "plotlyServerURL": "https://plot.ly"
       },
       "data": [
        {
         "base": 0,
         "name": "Florida",
         "type": "bar",
         "x": [
          "SPEED",
          "SEATBELT (DRIVER)",
          "FAULTY EQUIPMENT",
          "VIOLATIONS OF TRAFFIC CONTROL DEVICE",
          "CMV INSPECTION",
          "OTHER MOVING VIOLATIONS",
          "EXPIRED TAG (- MONTHS OR LESS)",
          "MOVE OVER LAW",
          "WINDOW TINT",
          "OTHER TAG / REGISTRATION VIOLATIONS",
          "OTHER NON MOVING VIOLATIONS"
         ],
         "y": [
          24542,
          4887,
          2899,
          1450,
          1237,
          992,
          650,
          492,
          449,
          243,
          237
         ]
        },
        {
         "base": 0,
         "name": "Florida",
         "type": "bar",
         "x": [
          "SPEED",
          "SEATBELT (DRIVER)",
          "FAULTY EQUIPMENT",
          "VIOLATIONS OF TRAFFIC CONTROL DEVICE",
          "CMV INSPECTION",
          "OTHER MOVING VIOLATIONS",
          "EXPIRED TAG (- MONTHS OR LESS)",
          "MOVE OVER LAW",
          "WINDOW TINT",
          "OTHER TAG / REGISTRATION VIOLATIONS",
          "OTHER NON MOVING VIOLATIONS"
         ],
         "y": [
          20708,
          5365,
          2809,
          2078,
          1877,
          1342,
          1326,
          760,
          565,
          426,
          363
         ]
        }
       ],
       "layout": {
        "template": {
         "data": {
          "bar": [
           {
            "error_x": {
             "color": "#2a3f5f"
            },
            "error_y": {
             "color": "#2a3f5f"
            },
            "marker": {
             "line": {
              "color": "#E5ECF6",
              "width": 0.5
             }
            },
            "type": "bar"
           }
          ],
          "barpolar": [
           {
            "marker": {
             "line": {
              "color": "#E5ECF6",
              "width": 0.5
             }
            },
            "type": "barpolar"
           }
          ],
          "carpet": [
           {
            "aaxis": {
             "endlinecolor": "#2a3f5f",
             "gridcolor": "white",
             "linecolor": "white",
             "minorgridcolor": "white",
             "startlinecolor": "#2a3f5f"
            },
            "baxis": {
             "endlinecolor": "#2a3f5f",
             "gridcolor": "white",
             "linecolor": "white",
             "minorgridcolor": "white",
             "startlinecolor": "#2a3f5f"
            },
            "type": "carpet"
           }
          ],
          "choropleth": [
           {
            "colorbar": {
             "outlinewidth": 0,
             "ticks": ""
            },
            "type": "choropleth"
           }
          ],
          "contour": [
           {
            "colorbar": {
             "outlinewidth": 0,
             "ticks": ""
            },
            "colorscale": [
             [
              0,
              "#0d0887"
             ],
             [
              0.1111111111111111,
              "#46039f"
             ],
             [
              0.2222222222222222,
              "#7201a8"
             ],
             [
              0.3333333333333333,
              "#9c179e"
             ],
             [
              0.4444444444444444,
              "#bd3786"
             ],
             [
              0.5555555555555556,
              "#d8576b"
             ],
             [
              0.6666666666666666,
              "#ed7953"
             ],
             [
              0.7777777777777778,
              "#fb9f3a"
             ],
             [
              0.8888888888888888,
              "#fdca26"
             ],
             [
              1,
              "#f0f921"
             ]
            ],
            "type": "contour"
           }
          ],
          "contourcarpet": [
           {
            "colorbar": {
             "outlinewidth": 0,
             "ticks": ""
            },
            "type": "contourcarpet"
           }
          ],
          "heatmap": [
           {
            "colorbar": {
             "outlinewidth": 0,
             "ticks": ""
            },
            "colorscale": [
             [
              0,
              "#0d0887"
             ],
             [
              0.1111111111111111,
              "#46039f"
             ],
             [
              0.2222222222222222,
              "#7201a8"
             ],
             [
              0.3333333333333333,
              "#9c179e"
             ],
             [
              0.4444444444444444,
              "#bd3786"
             ],
             [
              0.5555555555555556,
              "#d8576b"
             ],
             [
              0.6666666666666666,
              "#ed7953"
             ],
             [
              0.7777777777777778,
              "#fb9f3a"
             ],
             [
              0.8888888888888888,
              "#fdca26"
             ],
             [
              1,
              "#f0f921"
             ]
            ],
            "type": "heatmap"
           }
          ],
          "heatmapgl": [
           {
            "colorbar": {
             "outlinewidth": 0,
             "ticks": ""
            },
            "colorscale": [
             [
              0,
              "#0d0887"
             ],
             [
              0.1111111111111111,
              "#46039f"
             ],
             [
              0.2222222222222222,
              "#7201a8"
             ],
             [
              0.3333333333333333,
              "#9c179e"
             ],
             [
              0.4444444444444444,
              "#bd3786"
             ],
             [
              0.5555555555555556,
              "#d8576b"
             ],
             [
              0.6666666666666666,
              "#ed7953"
             ],
             [
              0.7777777777777778,
              "#fb9f3a"
             ],
             [
              0.8888888888888888,
              "#fdca26"
             ],
             [
              1,
              "#f0f921"
             ]
            ],
            "type": "heatmapgl"
           }
          ],
          "histogram": [
           {
            "marker": {
             "colorbar": {
              "outlinewidth": 0,
              "ticks": ""
             }
            },
            "type": "histogram"
           }
          ],
          "histogram2d": [
           {
            "colorbar": {
             "outlinewidth": 0,
             "ticks": ""
            },
            "colorscale": [
             [
              0,
              "#0d0887"
             ],
             [
              0.1111111111111111,
              "#46039f"
             ],
             [
              0.2222222222222222,
              "#7201a8"
             ],
             [
              0.3333333333333333,
              "#9c179e"
             ],
             [
              0.4444444444444444,
              "#bd3786"
             ],
             [
              0.5555555555555556,
              "#d8576b"
             ],
             [
              0.6666666666666666,
              "#ed7953"
             ],
             [
              0.7777777777777778,
              "#fb9f3a"
             ],
             [
              0.8888888888888888,
              "#fdca26"
             ],
             [
              1,
              "#f0f921"
             ]
            ],
            "type": "histogram2d"
           }
          ],
          "histogram2dcontour": [
           {
            "colorbar": {
             "outlinewidth": 0,
             "ticks": ""
            },
            "colorscale": [
             [
              0,
              "#0d0887"
             ],
             [
              0.1111111111111111,
              "#46039f"
             ],
             [
              0.2222222222222222,
              "#7201a8"
             ],
             [
              0.3333333333333333,
              "#9c179e"
             ],
             [
              0.4444444444444444,
              "#bd3786"
             ],
             [
              0.5555555555555556,
              "#d8576b"
             ],
             [
              0.6666666666666666,
              "#ed7953"
             ],
             [
              0.7777777777777778,
              "#fb9f3a"
             ],
             [
              0.8888888888888888,
              "#fdca26"
             ],
             [
              1,
              "#f0f921"
             ]
            ],
            "type": "histogram2dcontour"
           }
          ],
          "mesh3d": [
           {
            "colorbar": {
             "outlinewidth": 0,
             "ticks": ""
            },
            "type": "mesh3d"
           }
          ],
          "parcoords": [
           {
            "line": {
             "colorbar": {
              "outlinewidth": 0,
              "ticks": ""
             }
            },
            "type": "parcoords"
           }
          ],
          "pie": [
           {
            "automargin": true,
            "type": "pie"
           }
          ],
          "scatter": [
           {
            "marker": {
             "colorbar": {
              "outlinewidth": 0,
              "ticks": ""
             }
            },
            "type": "scatter"
           }
          ],
          "scatter3d": [
           {
            "line": {
             "colorbar": {
              "outlinewidth": 0,
              "ticks": ""
             }
            },
            "marker": {
             "colorbar": {
              "outlinewidth": 0,
              "ticks": ""
             }
            },
            "type": "scatter3d"
           }
          ],
          "scattercarpet": [
           {
            "marker": {
             "colorbar": {
              "outlinewidth": 0,
              "ticks": ""
             }
            },
            "type": "scattercarpet"
           }
          ],
          "scattergeo": [
           {
            "marker": {
             "colorbar": {
              "outlinewidth": 0,
              "ticks": ""
             }
            },
            "type": "scattergeo"
           }
          ],
          "scattergl": [
           {
            "marker": {
             "colorbar": {
              "outlinewidth": 0,
              "ticks": ""
             }
            },
            "type": "scattergl"
           }
          ],
          "scattermapbox": [
           {
            "marker": {
             "colorbar": {
              "outlinewidth": 0,
              "ticks": ""
             }
            },
            "type": "scattermapbox"
           }
          ],
          "scatterpolar": [
           {
            "marker": {
             "colorbar": {
              "outlinewidth": 0,
              "ticks": ""
             }
            },
            "type": "scatterpolar"
           }
          ],
          "scatterpolargl": [
           {
            "marker": {
             "colorbar": {
              "outlinewidth": 0,
              "ticks": ""
             }
            },
            "type": "scatterpolargl"
           }
          ],
          "scatterternary": [
           {
            "marker": {
             "colorbar": {
              "outlinewidth": 0,
              "ticks": ""
             }
            },
            "type": "scatterternary"
           }
          ],
          "surface": [
           {
            "colorbar": {
             "outlinewidth": 0,
             "ticks": ""
            },
            "colorscale": [
             [
              0,
              "#0d0887"
             ],
             [
              0.1111111111111111,
              "#46039f"
             ],
             [
              0.2222222222222222,
              "#7201a8"
             ],
             [
              0.3333333333333333,
              "#9c179e"
             ],
             [
              0.4444444444444444,
              "#bd3786"
             ],
             [
              0.5555555555555556,
              "#d8576b"
             ],
             [
              0.6666666666666666,
              "#ed7953"
             ],
             [
              0.7777777777777778,
              "#fb9f3a"
             ],
             [
              0.8888888888888888,
              "#fdca26"
             ],
             [
              1,
              "#f0f921"
             ]
            ],
            "type": "surface"
           }
          ],
          "table": [
           {
            "cells": {
             "fill": {
              "color": "#EBF0F8"
             },
             "line": {
              "color": "white"
             }
            },
            "header": {
             "fill": {
              "color": "#C8D4E3"
             },
             "line": {
              "color": "white"
             }
            },
            "type": "table"
           }
          ]
         },
         "layout": {
          "annotationdefaults": {
           "arrowcolor": "#2a3f5f",
           "arrowhead": 0,
           "arrowwidth": 1
          },
          "autotypenumbers": "strict",
          "coloraxis": {
           "colorbar": {
            "outlinewidth": 0,
            "ticks": ""
           }
          },
          "colorscale": {
           "diverging": [
            [
             0,
             "#8e0152"
            ],
            [
             0.1,
             "#c51b7d"
            ],
            [
             0.2,
             "#de77ae"
            ],
            [
             0.3,
             "#f1b6da"
            ],
            [
             0.4,
             "#fde0ef"
            ],
            [
             0.5,
             "#f7f7f7"
            ],
            [
             0.6,
             "#e6f5d0"
            ],
            [
             0.7,
             "#b8e186"
            ],
            [
             0.8,
             "#7fbc41"
            ],
            [
             0.9,
             "#4d9221"
            ],
            [
             1,
             "#276419"
            ]
           ],
           "sequential": [
            [
             0,
             "#0d0887"
            ],
            [
             0.1111111111111111,
             "#46039f"
            ],
            [
             0.2222222222222222,
             "#7201a8"
            ],
            [
             0.3333333333333333,
             "#9c179e"
            ],
            [
             0.4444444444444444,
             "#bd3786"
            ],
            [
             0.5555555555555556,
             "#d8576b"
            ],
            [
             0.6666666666666666,
             "#ed7953"
            ],
            [
             0.7777777777777778,
             "#fb9f3a"
            ],
            [
             0.8888888888888888,
             "#fdca26"
            ],
            [
             1,
             "#f0f921"
            ]
           ],
           "sequentialminus": [
            [
             0,
             "#0d0887"
            ],
            [
             0.1111111111111111,
             "#46039f"
            ],
            [
             0.2222222222222222,
             "#7201a8"
            ],
            [
             0.3333333333333333,
             "#9c179e"
            ],
            [
             0.4444444444444444,
             "#bd3786"
            ],
            [
             0.5555555555555556,
             "#d8576b"
            ],
            [
             0.6666666666666666,
             "#ed7953"
            ],
            [
             0.7777777777777778,
             "#fb9f3a"
            ],
            [
             0.8888888888888888,
             "#fdca26"
            ],
            [
             1,
             "#f0f921"
            ]
           ]
          },
          "colorway": [
           "#636efa",
           "#EF553B",
           "#00cc96",
           "#ab63fa",
           "#FFA15A",
           "#19d3f3",
           "#FF6692",
           "#B6E880",
           "#FF97FF",
           "#FECB52"
          ],
          "font": {
           "color": "#2a3f5f"
          },
          "geo": {
           "bgcolor": "white",
           "lakecolor": "white",
           "landcolor": "#E5ECF6",
           "showlakes": true,
           "showland": true,
           "subunitcolor": "white"
          },
          "hoverlabel": {
           "align": "left"
          },
          "hovermode": "closest",
          "mapbox": {
           "style": "light"
          },
          "paper_bgcolor": "white",
          "plot_bgcolor": "#E5ECF6",
          "polar": {
           "angularaxis": {
            "gridcolor": "white",
            "linecolor": "white",
            "ticks": ""
           },
           "bgcolor": "#E5ECF6",
           "radialaxis": {
            "gridcolor": "white",
            "linecolor": "white",
            "ticks": ""
           }
          },
          "scene": {
           "xaxis": {
            "backgroundcolor": "#E5ECF6",
            "gridcolor": "white",
            "gridwidth": 2,
            "linecolor": "white",
            "showbackground": true,
            "ticks": "",
            "zerolinecolor": "white"
           },
           "yaxis": {
            "backgroundcolor": "#E5ECF6",
            "gridcolor": "white",
            "gridwidth": 2,
            "linecolor": "white",
            "showbackground": true,
            "ticks": "",
            "zerolinecolor": "white"
           },
           "zaxis": {
            "backgroundcolor": "#E5ECF6",
            "gridcolor": "white",
            "gridwidth": 2,
            "linecolor": "white",
            "showbackground": true,
            "ticks": "",
            "zerolinecolor": "white"
           }
          },
          "shapedefaults": {
           "line": {
            "color": "#2a3f5f"
           }
          },
          "ternary": {
           "aaxis": {
            "gridcolor": "white",
            "linecolor": "white",
            "ticks": ""
           },
           "baxis": {
            "gridcolor": "white",
            "linecolor": "white",
            "ticks": ""
           },
           "bgcolor": "#E5ECF6",
           "caxis": {
            "gridcolor": "white",
            "linecolor": "white",
            "ticks": ""
           }
          },
          "title": {
           "x": 0.05
          },
          "xaxis": {
           "automargin": true,
           "gridcolor": "white",
           "linecolor": "white",
           "ticks": "",
           "title": {
            "standoff": 15
           },
           "zerolinecolor": "white",
           "zerolinewidth": 2
          },
          "yaxis": {
           "automargin": true,
           "gridcolor": "white",
           "linecolor": "white",
           "ticks": "",
           "title": {
            "standoff": 15
           },
           "zerolinecolor": "white",
           "zerolinewidth": 2
          }
         }
        }
       }
      },
      "text/html": [
       "<div>                            <div id=\"36ca908c-50fc-4790-92a1-cbee89238ccf\" class=\"plotly-graph-div\" style=\"height:525px; width:100%;\"></div>            <script type=\"text/javascript\">                require([\"plotly\"], function(Plotly) {                    window.PLOTLYENV=window.PLOTLYENV || {};                                    if (document.getElementById(\"36ca908c-50fc-4790-92a1-cbee89238ccf\")) {                    Plotly.newPlot(                        \"36ca908c-50fc-4790-92a1-cbee89238ccf\",                        [{\"base\": 0, \"name\": \"Florida\", \"type\": \"bar\", \"x\": [\"SPEED\", \"SEATBELT (DRIVER)\", \"FAULTY EQUIPMENT\", \"VIOLATIONS OF TRAFFIC CONTROL DEVICE\", \"CMV INSPECTION\", \"OTHER MOVING VIOLATIONS\", \"EXPIRED TAG (- MONTHS OR LESS)\", \"MOVE OVER LAW\", \"WINDOW TINT\", \"OTHER TAG / REGISTRATION VIOLATIONS\", \"OTHER NON MOVING VIOLATIONS\"], \"y\": [24542, 4887, 2899, 1450, 1237, 992, 650, 492, 449, 243, 237]}, {\"base\": 0, \"name\": \"Florida\", \"type\": \"bar\", \"x\": [\"SPEED\", \"SEATBELT (DRIVER)\", \"FAULTY EQUIPMENT\", \"VIOLATIONS OF TRAFFIC CONTROL DEVICE\", \"CMV INSPECTION\", \"OTHER MOVING VIOLATIONS\", \"EXPIRED TAG (- MONTHS OR LESS)\", \"MOVE OVER LAW\", \"WINDOW TINT\", \"OTHER TAG / REGISTRATION VIOLATIONS\", \"OTHER NON MOVING VIOLATIONS\"], \"y\": [20708, 5365, 2809, 2078, 1877, 1342, 1326, 760, 565, 426, 363]}],                        {\"template\": {\"data\": {\"bar\": [{\"error_x\": {\"color\": \"#2a3f5f\"}, \"error_y\": {\"color\": \"#2a3f5f\"}, \"marker\": {\"line\": {\"color\": \"#E5ECF6\", \"width\": 0.5}}, \"type\": \"bar\"}], \"barpolar\": [{\"marker\": {\"line\": {\"color\": \"#E5ECF6\", \"width\": 0.5}}, \"type\": \"barpolar\"}], \"carpet\": [{\"aaxis\": {\"endlinecolor\": \"#2a3f5f\", \"gridcolor\": \"white\", \"linecolor\": \"white\", \"minorgridcolor\": \"white\", \"startlinecolor\": \"#2a3f5f\"}, \"baxis\": {\"endlinecolor\": \"#2a3f5f\", \"gridcolor\": \"white\", \"linecolor\": \"white\", \"minorgridcolor\": \"white\", \"startlinecolor\": \"#2a3f5f\"}, \"type\": \"carpet\"}], \"choropleth\": [{\"colorbar\": {\"outlinewidth\": 0, \"ticks\": \"\"}, \"type\": \"choropleth\"}], \"contour\": [{\"colorbar\": {\"outlinewidth\": 0, \"ticks\": \"\"}, \"colorscale\": [[0.0, \"#0d0887\"], [0.1111111111111111, \"#46039f\"], [0.2222222222222222, \"#7201a8\"], [0.3333333333333333, \"#9c179e\"], [0.4444444444444444, \"#bd3786\"], [0.5555555555555556, \"#d8576b\"], [0.6666666666666666, \"#ed7953\"], [0.7777777777777778, \"#fb9f3a\"], [0.8888888888888888, \"#fdca26\"], [1.0, \"#f0f921\"]], \"type\": \"contour\"}], \"contourcarpet\": [{\"colorbar\": {\"outlinewidth\": 0, \"ticks\": \"\"}, \"type\": \"contourcarpet\"}], \"heatmap\": [{\"colorbar\": {\"outlinewidth\": 0, \"ticks\": \"\"}, \"colorscale\": [[0.0, \"#0d0887\"], [0.1111111111111111, \"#46039f\"], [0.2222222222222222, \"#7201a8\"], [0.3333333333333333, \"#9c179e\"], [0.4444444444444444, \"#bd3786\"], [0.5555555555555556, \"#d8576b\"], [0.6666666666666666, \"#ed7953\"], [0.7777777777777778, \"#fb9f3a\"], [0.8888888888888888, \"#fdca26\"], [1.0, \"#f0f921\"]], \"type\": \"heatmap\"}], \"heatmapgl\": [{\"colorbar\": {\"outlinewidth\": 0, \"ticks\": \"\"}, \"colorscale\": [[0.0, \"#0d0887\"], [0.1111111111111111, \"#46039f\"], [0.2222222222222222, \"#7201a8\"], [0.3333333333333333, \"#9c179e\"], [0.4444444444444444, \"#bd3786\"], [0.5555555555555556, \"#d8576b\"], [0.6666666666666666, \"#ed7953\"], [0.7777777777777778, \"#fb9f3a\"], [0.8888888888888888, \"#fdca26\"], [1.0, \"#f0f921\"]], \"type\": \"heatmapgl\"}], \"histogram\": [{\"marker\": {\"colorbar\": {\"outlinewidth\": 0, \"ticks\": \"\"}}, \"type\": \"histogram\"}], \"histogram2d\": [{\"colorbar\": {\"outlinewidth\": 0, \"ticks\": \"\"}, \"colorscale\": [[0.0, \"#0d0887\"], [0.1111111111111111, \"#46039f\"], [0.2222222222222222, \"#7201a8\"], [0.3333333333333333, \"#9c179e\"], [0.4444444444444444, \"#bd3786\"], [0.5555555555555556, \"#d8576b\"], [0.6666666666666666, \"#ed7953\"], [0.7777777777777778, \"#fb9f3a\"], [0.8888888888888888, \"#fdca26\"], [1.0, \"#f0f921\"]], \"type\": \"histogram2d\"}], \"histogram2dcontour\": [{\"colorbar\": {\"outlinewidth\": 0, \"ticks\": \"\"}, \"colorscale\": [[0.0, \"#0d0887\"], [0.1111111111111111, \"#46039f\"], [0.2222222222222222, \"#7201a8\"], [0.3333333333333333, \"#9c179e\"], [0.4444444444444444, \"#bd3786\"], [0.5555555555555556, \"#d8576b\"], [0.6666666666666666, \"#ed7953\"], [0.7777777777777778, \"#fb9f3a\"], [0.8888888888888888, \"#fdca26\"], [1.0, \"#f0f921\"]], \"type\": \"histogram2dcontour\"}], \"mesh3d\": [{\"colorbar\": {\"outlinewidth\": 0, \"ticks\": \"\"}, \"type\": \"mesh3d\"}], \"parcoords\": [{\"line\": {\"colorbar\": {\"outlinewidth\": 0, \"ticks\": \"\"}}, \"type\": \"parcoords\"}], \"pie\": [{\"automargin\": true, \"type\": \"pie\"}], \"scatter\": [{\"marker\": {\"colorbar\": {\"outlinewidth\": 0, \"ticks\": \"\"}}, \"type\": \"scatter\"}], \"scatter3d\": [{\"line\": {\"colorbar\": {\"outlinewidth\": 0, \"ticks\": \"\"}}, \"marker\": {\"colorbar\": {\"outlinewidth\": 0, \"ticks\": \"\"}}, \"type\": \"scatter3d\"}], \"scattercarpet\": [{\"marker\": {\"colorbar\": {\"outlinewidth\": 0, \"ticks\": \"\"}}, \"type\": \"scattercarpet\"}], \"scattergeo\": [{\"marker\": {\"colorbar\": {\"outlinewidth\": 0, \"ticks\": \"\"}}, \"type\": \"scattergeo\"}], \"scattergl\": [{\"marker\": {\"colorbar\": {\"outlinewidth\": 0, \"ticks\": \"\"}}, \"type\": \"scattergl\"}], \"scattermapbox\": [{\"marker\": {\"colorbar\": {\"outlinewidth\": 0, \"ticks\": \"\"}}, \"type\": \"scattermapbox\"}], \"scatterpolar\": [{\"marker\": {\"colorbar\": {\"outlinewidth\": 0, \"ticks\": \"\"}}, \"type\": \"scatterpolar\"}], \"scatterpolargl\": [{\"marker\": {\"colorbar\": {\"outlinewidth\": 0, \"ticks\": \"\"}}, \"type\": \"scatterpolargl\"}], \"scatterternary\": [{\"marker\": {\"colorbar\": {\"outlinewidth\": 0, \"ticks\": \"\"}}, \"type\": \"scatterternary\"}], \"surface\": [{\"colorbar\": {\"outlinewidth\": 0, \"ticks\": \"\"}, \"colorscale\": [[0.0, \"#0d0887\"], [0.1111111111111111, \"#46039f\"], [0.2222222222222222, \"#7201a8\"], [0.3333333333333333, \"#9c179e\"], [0.4444444444444444, \"#bd3786\"], [0.5555555555555556, \"#d8576b\"], [0.6666666666666666, \"#ed7953\"], [0.7777777777777778, \"#fb9f3a\"], [0.8888888888888888, \"#fdca26\"], [1.0, \"#f0f921\"]], \"type\": \"surface\"}], \"table\": [{\"cells\": {\"fill\": {\"color\": \"#EBF0F8\"}, \"line\": {\"color\": \"white\"}}, \"header\": {\"fill\": {\"color\": \"#C8D4E3\"}, \"line\": {\"color\": \"white\"}}, \"type\": \"table\"}]}, \"layout\": {\"annotationdefaults\": {\"arrowcolor\": \"#2a3f5f\", \"arrowhead\": 0, \"arrowwidth\": 1}, \"autotypenumbers\": \"strict\", \"coloraxis\": {\"colorbar\": {\"outlinewidth\": 0, \"ticks\": \"\"}}, \"colorscale\": {\"diverging\": [[0, \"#8e0152\"], [0.1, \"#c51b7d\"], [0.2, \"#de77ae\"], [0.3, \"#f1b6da\"], [0.4, \"#fde0ef\"], [0.5, \"#f7f7f7\"], [0.6, \"#e6f5d0\"], [0.7, \"#b8e186\"], [0.8, \"#7fbc41\"], [0.9, \"#4d9221\"], [1, \"#276419\"]], \"sequential\": [[0.0, \"#0d0887\"], [0.1111111111111111, \"#46039f\"], [0.2222222222222222, \"#7201a8\"], [0.3333333333333333, \"#9c179e\"], [0.4444444444444444, \"#bd3786\"], [0.5555555555555556, \"#d8576b\"], [0.6666666666666666, \"#ed7953\"], [0.7777777777777778, \"#fb9f3a\"], [0.8888888888888888, \"#fdca26\"], [1.0, \"#f0f921\"]], \"sequentialminus\": [[0.0, \"#0d0887\"], [0.1111111111111111, \"#46039f\"], [0.2222222222222222, \"#7201a8\"], [0.3333333333333333, \"#9c179e\"], [0.4444444444444444, \"#bd3786\"], [0.5555555555555556, \"#d8576b\"], [0.6666666666666666, \"#ed7953\"], [0.7777777777777778, \"#fb9f3a\"], [0.8888888888888888, \"#fdca26\"], [1.0, \"#f0f921\"]]}, \"colorway\": [\"#636efa\", \"#EF553B\", \"#00cc96\", \"#ab63fa\", \"#FFA15A\", \"#19d3f3\", \"#FF6692\", \"#B6E880\", \"#FF97FF\", \"#FECB52\"], \"font\": {\"color\": \"#2a3f5f\"}, \"geo\": {\"bgcolor\": \"white\", \"lakecolor\": \"white\", \"landcolor\": \"#E5ECF6\", \"showlakes\": true, \"showland\": true, \"subunitcolor\": \"white\"}, \"hoverlabel\": {\"align\": \"left\"}, \"hovermode\": \"closest\", \"mapbox\": {\"style\": \"light\"}, \"paper_bgcolor\": \"white\", \"plot_bgcolor\": \"#E5ECF6\", \"polar\": {\"angularaxis\": {\"gridcolor\": \"white\", \"linecolor\": \"white\", \"ticks\": \"\"}, \"bgcolor\": \"#E5ECF6\", \"radialaxis\": {\"gridcolor\": \"white\", \"linecolor\": \"white\", \"ticks\": \"\"}}, \"scene\": {\"xaxis\": {\"backgroundcolor\": \"#E5ECF6\", \"gridcolor\": \"white\", \"gridwidth\": 2, \"linecolor\": \"white\", \"showbackground\": true, \"ticks\": \"\", \"zerolinecolor\": \"white\"}, \"yaxis\": {\"backgroundcolor\": \"#E5ECF6\", \"gridcolor\": \"white\", \"gridwidth\": 2, \"linecolor\": \"white\", \"showbackground\": true, \"ticks\": \"\", \"zerolinecolor\": \"white\"}, \"zaxis\": {\"backgroundcolor\": \"#E5ECF6\", \"gridcolor\": \"white\", \"gridwidth\": 2, \"linecolor\": \"white\", \"showbackground\": true, \"ticks\": \"\", \"zerolinecolor\": \"white\"}}, \"shapedefaults\": {\"line\": {\"color\": \"#2a3f5f\"}}, \"ternary\": {\"aaxis\": {\"gridcolor\": \"white\", \"linecolor\": \"white\", \"ticks\": \"\"}, \"baxis\": {\"gridcolor\": \"white\", \"linecolor\": \"white\", \"ticks\": \"\"}, \"bgcolor\": \"#E5ECF6\", \"caxis\": {\"gridcolor\": \"white\", \"linecolor\": \"white\", \"ticks\": \"\"}}, \"title\": {\"x\": 0.05}, \"xaxis\": {\"automargin\": true, \"gridcolor\": \"white\", \"linecolor\": \"white\", \"ticks\": \"\", \"title\": {\"standoff\": 15}, \"zerolinecolor\": \"white\", \"zerolinewidth\": 2}, \"yaxis\": {\"automargin\": true, \"gridcolor\": \"white\", \"linecolor\": \"white\", \"ticks\": \"\", \"title\": {\"standoff\": 15}, \"zerolinecolor\": \"white\", \"zerolinewidth\": 2}}}},                        {\"responsive\": true}                    ).then(function(){\n",
       "                            \n",
       "var gd = document.getElementById('36ca908c-50fc-4790-92a1-cbee89238ccf');\n",
       "var x = new MutationObserver(function (mutations, observer) {{\n",
       "        var display = window.getComputedStyle(gd).display;\n",
       "        if (!display || display === 'none') {{\n",
       "            console.log([gd, 'removed!']);\n",
       "            Plotly.purge(gd);\n",
       "            observer.disconnect();\n",
       "        }}\n",
       "}});\n",
       "\n",
       "// Listen for the removal of the full notebook cells\n",
       "var notebookContainer = gd.closest('#notebook-container');\n",
       "if (notebookContainer) {{\n",
       "    x.observe(notebookContainer, {childList: true});\n",
       "}}\n",
       "\n",
       "// Listen for the clearing of the current output cell\n",
       "var outputEl = gd.closest('.output');\n",
       "if (outputEl) {{\n",
       "    x.observe(outputEl, {childList: true});\n",
       "}}\n",
       "\n",
       "                        })                };                });            </script>        </div>"
      ]
     },
     "metadata": {},
     "output_type": "display_data"
    }
   ],
   "source": [
    "fig = go.Figure()\n",
    "fig.add_trace(go.Bar(x=n_for_reason_M.index, y=n_for_reason_M['Number of cases'],\n",
    "                base=0,\n",
    "                #marker_color='crimson',\n",
    "                name='Men'))\n",
    "\n",
    "fig.add_trace(go.Bar(x=n_for_reason_W.index, y=n_for_reason_W['Number of cases'],\n",
    "                base=0,\n",
    "                #marker_color='crimson',\n",
    "                name='Women'))"
   ]
  },
  {
   "cell_type": "code",
   "execution_count": null,
   "metadata": {},
   "outputs": [],
   "source": []
  }
 ],
 "metadata": {
  "kernelspec": {
   "display_name": "Python [conda env:ada]",
   "language": "python",
   "name": "conda-env-ada-py"
  },
  "language_info": {
   "codemirror_mode": {
    "name": "ipython",
    "version": 3
   },
   "file_extension": ".py",
   "mimetype": "text/x-python",
   "name": "python",
   "nbconvert_exporter": "python",
   "pygments_lexer": "ipython3",
   "version": "3.8.5"
  }
 },
 "nbformat": 4,
 "nbformat_minor": 4
}
