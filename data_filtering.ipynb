{
 "cells": [
  {
   "cell_type": "code",
   "execution_count": 5,
   "metadata": {},
   "outputs": [],
   "source": [
    "import pandas as pd\n",
    "import pandas as pd\n",
    "import numpy as np\n",
    "import matplotlib.pyplot as plt\n",
    "%matplotlib inline\n",
    "import seaborn as sns\n",
    "import math\n",
    "from pathlib import Path"
   ]
  },
  {
   "cell_type": "markdown",
   "metadata": {},
   "source": [
    "This notebook loads and filters the chosen datasets. They are : \n",
    "- Set 1 : NC (Charlotte, Greensboro, Raleigh), Austin (TX), CA (San Diego), Maryland state (MD)\n",
    "- Set 2 : NC (Charlotte, Greensboro, Raleigh), CA (San Diego and San Francisco), Nashville (TN), New Orleans (Louisiana), Washington state (WA), Maryland state (MD)\n",
    "\n",
    "The datasets are commented by an indication on whether the state is a priori sexist or not, following https://www.chicagotribune.com/nation-world/ct-america-most-sexist-places-20180821-story.html. There are also mandatory features listed, that must appear in each dataset in order to be able to fulfill our analysis. Remaining interesting features are let in the filtered datasets, for potential data description. "
   ]
  },
  {
   "cell_type": "markdown",
   "metadata": {},
   "source": [
    "## For set 1 : \n",
    "    - age, gender, race\n",
    "    - reason for search + search_person and search_vehicle\n",
    "    - contraband_found\n",
    "    \n",
    "    \n",
    "North Carolina : Charlotte, Greensboro and Raleigh - very sexist"
   ]
  },
  {
   "cell_type": "code",
   "execution_count": 6,
   "metadata": {},
   "outputs": [
    {
     "name": "stdout",
     "output_type": "stream",
     "text": [
      "\n",
      " For : Charlotte\n",
      "{'subject_sex', 'location', 'reason_for_frisk', 'contraband_found', 'contraband_weapons', 'raw_Race', 'raw_Ethnicity', 'outcome', 'raw_action_description', 'warning_issued', 'search_person', 'department_name', 'county_name', 'subject_age', 'date', 'contraband_drugs', 'type', 'officer_id_hash', 'frisk_performed', 'raw_row_number', 'citation_issued', 'time', 'reason_for_stop', 'subject_race', 'arrest_made', 'search_conducted', 'search_vehicle', 'search_basis', 'reason_for_search'}\n",
      "Dimensions of dataframe before filtering :(1598453, 29)\n",
      "Dimensions of dataframe after :(92878, 29)\n",
      "    subject_age subject_race subject_sex  arrest_made  citation_issued  \\\n",
      "81         21.0        black        male         True            False   \n",
      "82         21.0        black        male         True            False   \n",
      "90         25.0        black        male         True            False   \n",
      "91         25.0        black        male         True            False   \n",
      "92         25.0        black        male         True            False   \n",
      "\n",
      "    warning_issued contraband_found  frisk_performed  search_person  \\\n",
      "81           False             True            False           True   \n",
      "82           False            False            False           True   \n",
      "90           False            False            False           True   \n",
      "91           False            False            False           True   \n",
      "92           False            False            False           True   \n",
      "\n",
      "    search_vehicle reason_for_frisk                    reason_for_search  \\\n",
      "81            True              NaN           Other Official Information   \n",
      "82            True              NaN           Other Official Information   \n",
      "90            True              NaN  Observation of Suspected Contraband   \n",
      "91            True              NaN  Observation of Suspected Contraband   \n",
      "92            True              NaN  Observation of Suspected Contraband   \n",
      "\n",
      "                reason_for_stop  \n",
      "81  Vehicle Equipment Violation  \n",
      "82                Investigation  \n",
      "90                Investigation  \n",
      "91                Investigation  \n",
      "92                Investigation  \n",
      "\n",
      " For : Raleigh\n",
      "{'subject_sex', 'location', 'reason_for_frisk', 'contraband_found', 'contraband_weapons', 'raw_Race', 'raw_Ethnicity', 'outcome', 'raw_action_description', 'warning_issued', 'search_person', 'department_name', 'county_name', 'subject_age', 'date', 'contraband_drugs', 'type', 'officer_id_hash', 'frisk_performed', 'raw_row_number', 'citation_issued', 'time', 'reason_for_stop', 'subject_race', 'arrest_made', 'search_conducted', 'search_vehicle', 'search_basis', 'reason_for_search'}\n",
      "Dimensions of dataframe before filtering :(856400, 29)\n",
      "Dimensions of dataframe after :(33290, 29)\n",
      "    subject_age subject_race subject_sex  arrest_made  citation_issued  \\\n",
      "17           21     hispanic        male         True            False   \n",
      "40           34     hispanic        male         True            False   \n",
      "56           22        white        male         True            False   \n",
      "64           49        other        male        False             True   \n",
      "75           39        black        male        False            False   \n",
      "\n",
      "    warning_issued contraband_found  frisk_performed  search_person  \\\n",
      "17           False            False            False           True   \n",
      "40           False            False            False           True   \n",
      "56           False             True            False           True   \n",
      "64           False            False            False           True   \n",
      "75            True            False             True           True   \n",
      "\n",
      "    search_vehicle             reason_for_frisk  \\\n",
      "17            True                          NaN   \n",
      "40            True                          NaN   \n",
      "56            True                          NaN   \n",
      "64            True                          NaN   \n",
      "75            True  Erratic/Suspicious Behavior   \n",
      "\n",
      "                      reason_for_search            reason_for_stop  \n",
      "17          Erratic/Suspicious Behavior     Driving While Impaired  \n",
      "40  Observation of Suspected Contraband     Driving While Impaired  \n",
      "56          Erratic/Suspicious Behavior  Stop Light/Sign Violation  \n",
      "64          Erratic/Suspicious Behavior    Safe Movement Violation  \n",
      "75          Erratic/Suspicious Behavior              Investigation  \n",
      "\n",
      " For : Greensboro\n",
      "{'subject_sex', 'location', 'reason_for_frisk', 'contraband_found', 'contraband_weapons', 'raw_Race', 'raw_Ethnicity', 'outcome', 'raw_action_description', 'warning_issued', 'search_person', 'department_name', 'county_name', 'subject_age', 'date', 'contraband_drugs', 'type', 'officer_id_hash', 'frisk_performed', 'raw_row_number', 'citation_issued', 'time', 'reason_for_stop', 'subject_race', 'arrest_made', 'search_conducted', 'search_vehicle', 'search_basis', 'reason_for_search'}\n",
      "Dimensions of dataframe before filtering :(600031, 29)\n",
      "Dimensions of dataframe after :(31935, 29)\n",
      "    subject_age subject_race subject_sex  arrest_made  citation_issued  \\\n",
      "21         23.0        white      female        False            False   \n",
      "26         22.0        white      female         True            False   \n",
      "49         19.0        white        male        False            False   \n",
      "51         37.0        white        male         True            False   \n",
      "58         24.0        white        male         True            False   \n",
      "\n",
      "    warning_issued contraband_found  frisk_performed  search_person  \\\n",
      "21           False            False            False           True   \n",
      "26           False            False            False           True   \n",
      "49            True            False            False           True   \n",
      "51           False            False            False           True   \n",
      "58           False            False            False           True   \n",
      "\n",
      "    search_vehicle reason_for_frisk                    reason_for_search  \\\n",
      "21            True              NaN  Observation of Suspected Contraband   \n",
      "26            True              NaN          Erratic/Suspicious Behavior   \n",
      "49            True              NaN  Observation of Suspected Contraband   \n",
      "51            True              NaN          Erratic/Suspicious Behavior   \n",
      "58            True              NaN          Erratic/Suspicious Behavior   \n",
      "\n",
      "           reason_for_stop  \n",
      "21   Speed Limit Violation  \n",
      "26   Speed Limit Violation  \n",
      "49   Speed Limit Violation  \n",
      "51   Speed Limit Violation  \n",
      "58  Driving While Impaired  \n"
     ]
    }
   ],
   "source": [
    "df_charlotte = pd.read_csv('data_P4/yg821jf8611_nc_charlotte_2020_04_01.csv.zip', compression='zip')\n",
    "df_raleigh = pd.read_csv('data_P4/yg821jf8611_nc_raleigh_2020_04_01.csv.zip', compression='zip')\n",
    "df_greensboro = pd.read_csv('data_P4/yg821jf8611_nc_greensboro_2020_04_01.csv.zip', compression='zip')\n",
    "name = ['Charlotte','Raleigh','Greensboro']\n",
    "\n",
    "for idx,df in enumerate([df_charlotte, df_raleigh, df_greensboro]):\n",
    "    print('\\n For : '+str(name[idx]))\n",
    "    print(set(df.columns))\n",
    "    print('Dimensions of dataframe before filtering :'+str(df.shape))\n",
    "    df.dropna(subset=['subject_age', 'subject_race', 'subject_sex', 'contraband_found', 'search_person', 'search_vehicle', 'reason_for_search'], inplace=True)\n",
    "    print('Dimensions of dataframe after :'+str(df.shape))\n",
    "    df.drop(df.columns.difference(['subject_age', 'subject_race', 'subject_sex', 'contraband_found', 'search_person', 'search_vehicle', 'reason_for_search', 'citation_issued','warning_issued','arrest_made', 'frisk_performed', 'reason_for_frisk', 'reason_for_stop']), 1, inplace=True)\n",
    "    print(df.head())"
   ]
  },
  {
   "cell_type": "code",
   "execution_count": 7,
   "metadata": {},
   "outputs": [
    {
     "data": {
      "text/plain": [
       "<BarContainer object of 63 artists>"
      ]
     },
     "execution_count": 7,
     "metadata": {},
     "output_type": "execute_result"
    },
    {
     "data": {
      "image/png": "[encoded data removed]",
      "text/plain": [
       "<Figure size 1296x576 with 1 Axes>"
      ]
     },
     "metadata": {
      "needs_background": "light"
     },
     "output_type": "display_data"
    }
   ],
   "source": [
    "import collections \n",
    "from collections import Counter\n",
    "import matplotlib.pyplot as plt\n",
    "plt.figure(figsize=[18,8])\n",
    "plt.bar(Counter(df_charlotte.dropna(subset=['reason_for_search']).reason_for_search).keys(), Counter(df_charlotte.dropna(subset=['reason_for_search']).reason_for_search).values())"
   ]
  },
  {
   "cell_type": "markdown",
   "metadata": {},
   "source": [
    "San Diego (California) - not so sexist\n",
    "- without frisk information"
   ]
  },
  {
   "cell_type": "code",
   "execution_count": 8,
   "metadata": {},
   "outputs": [
    {
     "name": "stdout",
     "output_type": "stream",
     "text": [
      "\n",
      " For : San Diego\n",
      "{'subject_sex', 'contraband_found', 'outcome', 'search_person', 'warning_issued', 'subject_age', 'date', 'type', 'raw_subject_race_description', 'raw_row_number', 'citation_issued', 'time', 'reason_for_stop', 'subject_race', 'arrest_made', 'raw_action_taken', 'service_area', 'search_conducted', 'search_vehicle', 'search_basis', 'reason_for_search'}\n",
      "Dimensions of dataframe before filtering :(383027, 21)\n",
      "Dimensions of dataframe after :(13446, 21)\n",
      "     subject_age subject_race subject_sex arrest_made citation_issued  \\\n",
      "80          25.0     hispanic        male       False           False   \n",
      "127         28.0     hispanic        male       False            True   \n",
      "171         27.0     hispanic      female       False            True   \n",
      "193         55.0        black        male       False           False   \n",
      "221         36.0        white        male       False            True   \n",
      "\n",
      "    warning_issued contraband_found search_person search_vehicle  \\\n",
      "80            True             True         False           True   \n",
      "127          False            False         False           True   \n",
      "171          False            False          True          False   \n",
      "193          False            False         False           True   \n",
      "221          False             True         False           True   \n",
      "\n",
      "                       reason_for_search      reason_for_stop  \n",
      "80                    Odor of Contraband     Moving Violation  \n",
      "127                     Inventory Search     Moving Violation  \n",
      "171  Inventory Search [Prior to Impound]  Equipment Violation  \n",
      "193                    -th Waiver Search     Moving Violation  \n",
      "221                       Consent Search  Equipment Violation  \n"
     ]
    }
   ],
   "source": [
    "df_sandiego = pd.read_csv('data_P4/without_frisk_performed/yg821jf8611_ca_san_diego_2020_04_01.csv.zip', compression='zip')\n",
    "\n",
    "print('\\n For : San Diego')\n",
    "print(set(df_sandiego.columns))\n",
    "print('Dimensions of dataframe before filtering :'+str(df_sandiego.shape))\n",
    "df_sandiego.dropna(subset=['subject_age', 'subject_race', 'subject_sex', 'contraband_found', 'search_person', 'search_vehicle', 'reason_for_search'], inplace=True)\n",
    "print('Dimensions of dataframe after :'+str(df_sandiego.shape))\n",
    "df_sandiego.drop(df_sandiego.columns.difference(['subject_age', 'subject_race', 'subject_sex', 'contraband_found', 'search_person', 'search_vehicle', 'reason_for_search', 'citation_issued','warning_issued','arrest_made', 'frisk_performed', 'reason_for_frisk', 'reason_for_stop']), 1, inplace=True)\n",
    "print(df_sandiego.head())"
   ]
  },
  {
   "cell_type": "markdown",
   "metadata": {},
   "source": [
    "Austin (TX) - very sexist"
   ]
  },
  {
   "cell_type": "code",
   "execution_count": 16,
   "metadata": {},
   "outputs": [
    {
     "name": "stdout",
     "output_type": "stream",
     "text": [
      "\n",
      " For : San Diego\n",
      "{'subject_sex', 'vehicle_year', 'contraband_found', 'raw_ethnicity', 'raw_vehicle_search_search_discovered', 'contraband_weapons', 'search_person', 'vehicle_registration_state', 'raw_person_search_search_discovered', 'subject_age', 'date', 'contraband_drugs', 'type', 'officer_id_hash', 'frisk_performed', 'raw_person_search_search_based_on', 'vehicle_make', 'raw_row_number', 'reason_for_stop', 'raw_vehicle_searched', 'subject_race', 'raw_race_description', 'raw_person_searched', 'raw_vehicle_search_search_based_on', 'raw_street_check_description', 'search_conducted', 'search_vehicle', 'search_basis', 'vehicle_model'}\n",
      "Dimensions of dataframe before filtering :(483255, 29)\n",
      "Dimensions of dataframe after :(15039, 29)\n",
      "     subject_age subject_race subject_sex contraband_found  frisk_performed  \\\n",
      "406         19.0        black        male             True            False   \n",
      "416         27.0        black        male            False             True   \n",
      "420         56.0     hispanic        male            False             True   \n",
      "449         39.0        white        male            False             True   \n",
      "686         21.0        black        male            False             True   \n",
      "\n",
      "     search_person  search_vehicle                           reason_for_stop  \\\n",
      "406           True            True               SUSPICIOUS PERSON / VEHICLE   \n",
      "416           True            True  VIOLATION OF TRANSPORTATION/VEHICLE LAWS   \n",
      "420           True            True               SUSPICIOUS PERSON / VEHICLE   \n",
      "449           True           False  VIOLATION OF TRANSPORTATION/VEHICLE LAWS   \n",
      "686           True            True  VIOLATION OF TRANSPORTATION/VEHICLE LAWS   \n",
      "\n",
      "    raw_person_search_search_based_on  \n",
      "406                    PROBABLE CAUSE  \n",
      "416                  FRISK FOR SAFETY  \n",
      "420                  FRISK FOR SAFETY  \n",
      "449                  FRISK FOR SAFETY  \n",
      "686                  FRISK FOR SAFETY  \n"
     ]
    }
   ],
   "source": [
    "df_austin = pd.read_csv('data_P4/yg821jf8611_tx_austin_2020_04_01.csv.zip', compression='zip')\n",
    "\n",
    "print('\\n For : San Diego')\n",
    "print(set(df_austin.columns))\n",
    "print('Dimensions of dataframe before filtering :'+str(df_austin.shape))\n",
    "df_austin.dropna(subset=['subject_age', 'subject_race', 'subject_sex', 'contraband_found', 'search_person', 'search_vehicle', 'raw_person_search_search_based_on'], inplace=True)\n",
    "print('Dimensions of dataframe after :'+str(df_austin.shape))\n",
    "df_austin.drop(df_austin.columns.difference(['subject_age', 'subject_race', 'subject_sex', 'contraband_found', 'search_person', 'search_vehicle', 'raw_person_search_search_based_on', 'citation_issued','warning_issued','arrest_made', 'frisk_performed', 'reason_for_frisk', 'reason_for_stop']), 1, inplace=True)\n",
    "df_austin = df_austin.rename(columns={'search_based': 'reason_for_search'})\n",
    "print(df_austin.head())"
   ]
  },
  {
   "cell_type": "markdown",
   "metadata": {},
   "source": [
    "Maryland - least sexist state"
   ]
  },
  {
   "cell_type": "code",
   "execution_count": 10,
   "metadata": {},
   "outputs": [
    {
     "name": "stderr",
     "output_type": "stream",
     "text": [
      "C:\\Users\\julie\\anaconda3\\envs\\ada\\lib\\site-packages\\IPython\\core\\interactiveshell.py:3145: DtypeWarning: Columns (1,2,3,9,10,11,12,13,14,15,16,17,19,20,21,22,23,26,27) have mixed types.Specify dtype option on import or set low_memory=False.\n",
      "  has_raised = await self.run_ast_nodes(code_ast.body, cell_name,\n"
     ]
    },
    {
     "name": "stdout",
     "output_type": "stream",
     "text": [
      "\n",
      " For : Maryland\n",
      "{'subject_sex', 'location', 'contraband_found', 'contraband_weapons', 'raw_Race', 'outcome', 'warning_issued', 'search_person', 'department_name', 'subject_age', 'date', 'violation', 'contraband_drugs', 'type', 'raw_Arrest_Made', 'raw_Outcome', 'raw_row_number', 'citation_issued', 'time', 'disposition', 'reason_for_stop', 'subject_race', 'reason_for_arrest', 'arrest_made', 'search_conducted', 'search_vehicle', 'search_basis', 'reason_for_search'}\n",
      "Dimensions of dataframe before filtering :(3669665, 28)\n",
      "Dimensions of dataframe after :(28363, 28)\n",
      "         subject_age subject_race subject_sex arrest_made citation_issued  \\\n",
      "2312659         59.0        black        male        True           False   \n",
      "2312729         43.0        white      female        True           False   \n",
      "2312735         47.0        white        male       False           False   \n",
      "2312736         33.0        white        male        True           False   \n",
      "2312782         24.0        white      female       False           False   \n",
      "\n",
      "        warning_issued contraband_found search_person search_vehicle  \\\n",
      "2312659          False            False          True           True   \n",
      "2312729          False            False          True           True   \n",
      "2312735           True            False          True           True   \n",
      "2312736          False            False          True           True   \n",
      "2312782           True            False         False           True   \n",
      "\n",
      "        reason_for_search reason_for_stop  \n",
      "2312659         incarrest      -------(j)  \n",
      "2312729         incarrest      ------(a-)  \n",
      "2312735              cons      ------(a-)  \n",
      "2312736             other        ------.-  \n",
      "2312782              cons             --*  \n"
     ]
    }
   ],
   "source": [
    "df_MD = pd.read_csv('data_P4/without_frisk_performed/yg821jf8611_md_statewide_2020_04_01.csv.zip', compression='zip')\n",
    "\n",
    "print('\\n For : Maryland')\n",
    "print(set(df_MD.columns))\n",
    "print('Dimensions of dataframe before filtering :'+str(df_MD.shape))\n",
    "df_MD.dropna(subset=['subject_age', 'subject_race', 'subject_sex', 'contraband_found', 'search_person', 'search_vehicle', 'reason_for_search'], inplace=True)\n",
    "print('Dimensions of dataframe after :'+str(df_MD.shape))\n",
    "df_MD.drop(df_MD.columns.difference(['subject_age', 'subject_race', 'subject_sex', 'contraband_found', 'search_person', 'search_vehicle', 'reason_for_search', 'citation_issued','warning_issued','arrest_made', 'frisk_performed', 'reason_for_frisk', 'reason_for_stop']), 1, inplace=True)\n",
    "print(df_MD.head())"
   ]
  },
  {
   "cell_type": "code",
   "execution_count": null,
   "metadata": {},
   "outputs": [],
   "source": []
  },
  {
   "cell_type": "markdown",
   "metadata": {},
   "source": [
    "## For set 2 :\n",
    "    - age, gender, race\n",
    "    - reason for stop + contraband found\n",
    "    - citation OR warning OR arrest"
   ]
  },
  {
   "cell_type": "markdown",
   "metadata": {},
   "source": [
    "San Francisco (California) - not so sexist\n",
    "\n",
    "- without frisk information"
   ]
  },
  {
   "cell_type": "code",
   "execution_count": 18,
   "metadata": {},
   "outputs": [
    {
     "name": "stderr",
     "output_type": "stream",
     "text": [
      "C:\\Users\\julie\\anaconda3\\envs\\ada\\lib\\site-packages\\IPython\\core\\interactiveshell.py:3145: DtypeWarning: Columns (6) have mixed types.Specify dtype option on import or set low_memory=False.\n",
      "  has_raised = await self.run_ast_nodes(code_ast.body, cell_name,\n"
     ]
    },
    {
     "name": "stdout",
     "output_type": "stream",
     "text": [
      "\n",
      " For San Francisco\n",
      "{'subject_sex', 'location', 'contraband_found', 'outcome', 'warning_issued', 'subject_age', 'date', 'type', 'raw_search_vehicle_description', 'lng', 'raw_row_number', 'citation_issued', 'time', 'reason_for_stop', 'raw_result_of_contact_description', 'subject_race', 'arrest_made', 'search_conducted', 'district', 'search_vehicle', 'search_basis', 'lat'}\n",
      "Dimensions of dataframe before filtering :(905070, 22)\n",
      "Dimensions of dataframe after :(49599, 22)\n",
      "       subject_age subject_race subject_sex  arrest_made  citation_issued  \\\n",
      "33182         39.0     hispanic        male         True            False   \n",
      "33185         24.0     hispanic      female         True            False   \n",
      "33192         24.0        white        male        False            False   \n",
      "33210         27.0        white        male        False            False   \n",
      "33211         48.0        black        male        False             True   \n",
      "\n",
      "       warning_issued contraband_found  search_vehicle  \\\n",
      "33182           False            False            True   \n",
      "33185           False             True            True   \n",
      "33192            True            False            True   \n",
      "33210            True            False            True   \n",
      "33211           False            False            True   \n",
      "\n",
      "                                 reason_for_stop  \n",
      "33182                           Moving Violation  \n",
      "33185  Mechanical or Non-Moving Violation (V.C.)  \n",
      "33192  Mechanical or Non-Moving Violation (V.C.)  \n",
      "33210  Mechanical or Non-Moving Violation (V.C.)  \n",
      "33211  Mechanical or Non-Moving Violation (V.C.)  \n"
     ]
    }
   ],
   "source": [
    "df_sanfrancisco = pd.read_csv('data_P4/without_frisk_performed/yg821jf8611_ca_san_francisco_2020_04_01.csv.zip', compression='zip')\n",
    "\n",
    "print('\\n For San Francisco')\n",
    "print(set(df_sanfrancisco.columns))\n",
    "print('Dimensions of dataframe before filtering :'+str(df_sanfrancisco.shape))\n",
    "df_sanfrancisco.dropna(subset=['subject_age', 'subject_race', 'subject_sex', 'contraband_found', 'reason_for_stop'], inplace=True)\n",
    "print('Dimensions of dataframe after :'+str(df_sanfrancisco.shape))\n",
    "df_sanfrancisco.drop(df_sanfrancisco.columns.difference(['subject_age', 'subject_race', 'subject_sex', 'contraband_found', 'search_person', 'search_vehicle', 'reason_for_search', 'citation_issued','warning_issued','arrest_made', 'frisk_performed', 'reason_for_frisk', 'reason_for_stop']), 1, inplace=True)\n",
    "print(df_sanfrancisco.head())                            "
   ]
  },
  {
   "cell_type": "markdown",
   "metadata": {},
   "source": [
    "Nashville (Tennessee) - ultra sexist"
   ]
  },
  {
   "cell_type": "code",
   "execution_count": 19,
   "metadata": {},
   "outputs": [
    {
     "name": "stderr",
     "output_type": "stream",
     "text": [
      "C:\\Users\\julie\\anaconda3\\envs\\ada\\lib\\site-packages\\IPython\\core\\interactiveshell.py:3145: DtypeWarning: Columns (6,8,15,16,17,22,23,24,25,29,30,31,32,33,35,36,37,38,40,41) have mixed types.Specify dtype option on import or set low_memory=False.\n",
      "  has_raised = await self.run_ast_nodes(code_ast.body, cell_name,\n"
     ]
    },
    {
     "name": "stdout",
     "output_type": "stream",
     "text": [
      "\n",
      " For Nashville (TN)\n",
      "{'subject_sex', 'location', 'raw_traffic_citation_issued', 'raw_written_warning_issued', 'contraband_found', 'contraband_weapons', 'outcome', 'warning_issued', 'search_person', 'precinct', 'vehicle_registration_state', 'reporting_area', 'raw_search_plain_view', 'subject_age', 'date', 'violation', 'raw_driver_searched', 'contraband_drugs', 'raw_search_consent', 'type', 'officer_id_hash', 'notes', 'frisk_performed', 'lng', 'raw_row_number', 'citation_issued', 'raw_search_inventory', 'time', 'reason_for_stop', 'zone', 'subject_race', 'arrest_made', 'search_conducted', 'raw_verbal_warning_issued', 'raw_suspect_ethnicity', 'raw_search_warrant', 'raw_passenger_searched', 'search_vehicle', 'search_basis', 'lat', 'raw_misd_state_citation_issued', 'raw_search_arrest'}\n",
      "Dimensions of dataframe before filtering :(3092351, 42)\n",
      "Dimensions of dataframe after :(126411, 42)\n",
      "    subject_age subject_race subject_sex arrest_made citation_issued  \\\n",
      "4          21.0        black        male       False           False   \n",
      "26         49.0        black        male        True            True   \n",
      "38         30.0        white      female       False           False   \n",
      "85         19.0        black      female        True           False   \n",
      "86         36.0        white        male        True           False   \n",
      "\n",
      "   warning_issued contraband_found frisk_performed search_person  \\\n",
      "4            True            False           False          True   \n",
      "26          False             True            True          True   \n",
      "38           True            False           False         False   \n",
      "85          False            False            True          True   \n",
      "86           True            False           False          True   \n",
      "\n",
      "   search_vehicle              reason_for_stop  \n",
      "4            True  vehicle equipment violation  \n",
      "26           True  vehicle equipment violation  \n",
      "38           True  vehicle equipment violation  \n",
      "85          False           investigative stop  \n",
      "86          False     moving traffic violation  \n"
     ]
    }
   ],
   "source": [
    "df_nashville = pd.read_csv('data_P4/yg821jf8611_tn_nashville_2020_04_01.csv.zip', compression='zip')\n",
    "\n",
    "print('\\n For Nashville (TN)')\n",
    "print(set(df_nashville.columns))\n",
    "print('Dimensions of dataframe before filtering :'+str(df_nashville.shape))\n",
    "df_nashville.dropna(subset=['subject_age', 'subject_race', 'subject_sex', 'contraband_found', 'reason_for_stop'], inplace=True)\n",
    "print('Dimensions of dataframe after :'+str(df_nashville.shape))\n",
    "df_nashville.drop(df_nashville.columns.difference(['subject_age', 'subject_race', 'subject_sex', 'contraband_found', 'search_person', 'search_vehicle', 'reason_for_search', 'citation_issued','warning_issued','arrest_made', 'frisk_performed', 'reason_for_frisk', 'reason_for_stop']), 1, inplace=True)\n",
    "print(df_nashville.head())"
   ]
  },
  {
   "cell_type": "markdown",
   "metadata": {},
   "source": [
    "New Orleans (Lousiana) - sexist"
   ]
  },
  {
   "cell_type": "code",
   "execution_count": 20,
   "metadata": {},
   "outputs": [
    {
     "name": "stderr",
     "output_type": "stream",
     "text": [
      "C:\\Users\\julie\\anaconda3\\envs\\ada\\lib\\site-packages\\IPython\\core\\interactiveshell.py:3145: DtypeWarning: Columns (6) have mixed types.Specify dtype option on import or set low_memory=False.\n",
      "  has_raised = await self.run_ast_nodes(code_ast.body, cell_name,\n"
     ]
    },
    {
     "name": "stdout",
     "output_type": "stream",
     "text": [
      "\n",
      " For New Orleans (Louisiana)\n",
      "{'subject_sex', 'location', 'vehicle_year', 'contraband_found', 'contraband_weapons', 'outcome', 'warning_issued', 'search_person', 'officer_assignment', 'subject_age', 'date', 'contraband_drugs', 'type', 'frisk_performed', 'vehicle_make', 'lng', 'raw_row_number', 'citation_issued', 'time', 'reason_for_stop', 'vehicle_color', 'zone', 'subject_race', 'arrest_made', 'raw_subject_race', 'search_conducted', 'district', 'raw_actions_taken', 'search_vehicle', 'search_basis', 'lat', 'vehicle_model'}\n",
      "Dimensions of dataframe before filtering :(512092, 32)\n",
      "Dimensions of dataframe after :(75126, 32)\n",
      "     subject_age subject_race subject_sex  arrest_made  citation_issued  \\\n",
      "380         27.0        black        male        False            False   \n",
      "414         18.0        black        male         True            False   \n",
      "417         24.0        black      female        False             True   \n",
      "433         52.0        black        male         True             True   \n",
      "434         55.0        black        male         True             True   \n",
      "\n",
      "     warning_issued contraband_found  frisk_performed  search_person  \\\n",
      "380            True            False             True           True   \n",
      "414           False             True            False          False   \n",
      "417           False            False            False           True   \n",
      "433           False             True             True           True   \n",
      "434           False             True             True           True   \n",
      "\n",
      "     search_vehicle     reason_for_stop  \n",
      "380            True   TRAFFIC VIOLATION  \n",
      "414           False  CRIMINAL VIOLATION  \n",
      "417           False    CALL FOR SERVICE  \n",
      "433            True   TRAFFIC VIOLATION  \n",
      "434            True   TRAFFIC VIOLATION  \n"
     ]
    }
   ],
   "source": [
    "df_neworleans = pd.read_csv('data_P4/yg821jf8611_la_new_orleans_2020_04_01.csv.zip', compression='zip')\n",
    "\n",
    "print('\\n For New Orleans (Louisiana)')\n",
    "print(set(df_neworleans.columns))\n",
    "print('Dimensions of dataframe before filtering :'+str(df_neworleans.shape))\n",
    "df_neworleans.dropna(subset=['subject_age', 'subject_race', 'subject_sex', 'contraband_found', 'reason_for_stop'], inplace=True)\n",
    "print('Dimensions of dataframe after :'+str(df_neworleans.shape))\n",
    "df_neworleans.drop(df_neworleans.columns.difference(['subject_age', 'subject_race', 'subject_sex', 'contraband_found', 'search_person', 'search_vehicle', 'reason_for_search', 'citation_issued','warning_issued','arrest_made', 'frisk_performed', 'reason_for_frisk', 'reason_for_stop']), 1, inplace=True)\n",
    "print(df_neworleans.head())"
   ]
  },
  {
   "cell_type": "markdown",
   "metadata": {},
   "source": [
    "Washington state - middle sexist\n",
    " - contains officer's gender "
   ]
  },
  {
   "cell_type": "code",
   "execution_count": 21,
   "metadata": {},
   "outputs": [
    {
     "name": "stderr",
     "output_type": "stream",
     "text": [
      "C:\\Users\\julie\\anaconda3\\envs\\ada\\lib\\site-packages\\IPython\\core\\interactiveshell.py:3145: DtypeWarning: Columns (10,23) have mixed types.Specify dtype option on import or set low_memory=False.\n",
      "  has_raised = await self.run_ast_nodes(code_ast.body, cell_name,\n"
     ]
    },
    {
     "name": "stdout",
     "output_type": "stream",
     "text": [
      "{'subject_sex', 'location', 'contraband_found', 'officer_sex', 'raw_enforcements', 'raw_search_type', 'outcome', 'warning_issued', 'department_name', 'county_name', 'subject_age', 'date', 'raw_driver_race', 'violation', 'type', 'raw_contact_type', 'raw_officer_race', 'frisk_performed', 'officer_race', 'lng', 'raw_row_number', 'citation_issued', 'raw_officer_gender', 'time', 'subject_race', 'arrest_made', 'raw_driver_gender', 'search_conducted', 'search_basis', 'lat'}\n",
      "Dimensions of dataframe :(11333425, 30)\n",
      "Male officers :225840\n",
      "Female officers :13757\n",
      "Dimensions of dataframe :(239597, 9)\n"
     ]
    },
    {
     "data": {
      "text/html": [
       "<div>\n",
       "<style scoped>\n",
       "    .dataframe tbody tr th:only-of-type {\n",
       "        vertical-align: middle;\n",
       "    }\n",
       "\n",
       "    .dataframe tbody tr th {\n",
       "        vertical-align: top;\n",
       "    }\n",
       "\n",
       "    .dataframe thead th {\n",
       "        text-align: right;\n",
       "    }\n",
       "</style>\n",
       "<table border=\"1\" class=\"dataframe\">\n",
       "  <thead>\n",
       "    <tr style=\"text-align: right;\">\n",
       "      <th></th>\n",
       "      <th>subject_age</th>\n",
       "      <th>subject_race</th>\n",
       "      <th>subject_sex</th>\n",
       "      <th>officer_sex</th>\n",
       "      <th>arrest_made</th>\n",
       "      <th>citation_issued</th>\n",
       "      <th>warning_issued</th>\n",
       "      <th>contraband_found</th>\n",
       "      <th>frisk_performed</th>\n",
       "    </tr>\n",
       "  </thead>\n",
       "  <tbody>\n",
       "    <tr>\n",
       "      <th>7</th>\n",
       "      <td>18.0</td>\n",
       "      <td>white</td>\n",
       "      <td>male</td>\n",
       "      <td>male</td>\n",
       "      <td>NaN</td>\n",
       "      <td>True</td>\n",
       "      <td>True</td>\n",
       "      <td>False</td>\n",
       "      <td>False</td>\n",
       "    </tr>\n",
       "    <tr>\n",
       "      <th>61</th>\n",
       "      <td>47.0</td>\n",
       "      <td>white</td>\n",
       "      <td>male</td>\n",
       "      <td>male</td>\n",
       "      <td>NaN</td>\n",
       "      <td>True</td>\n",
       "      <td>True</td>\n",
       "      <td>False</td>\n",
       "      <td>False</td>\n",
       "    </tr>\n",
       "    <tr>\n",
       "      <th>62</th>\n",
       "      <td>23.0</td>\n",
       "      <td>white</td>\n",
       "      <td>male</td>\n",
       "      <td>male</td>\n",
       "      <td>NaN</td>\n",
       "      <td>True</td>\n",
       "      <td>True</td>\n",
       "      <td>False</td>\n",
       "      <td>False</td>\n",
       "    </tr>\n",
       "    <tr>\n",
       "      <th>82</th>\n",
       "      <td>44.0</td>\n",
       "      <td>white</td>\n",
       "      <td>male</td>\n",
       "      <td>male</td>\n",
       "      <td>NaN</td>\n",
       "      <td>True</td>\n",
       "      <td>True</td>\n",
       "      <td>True</td>\n",
       "      <td>False</td>\n",
       "    </tr>\n",
       "    <tr>\n",
       "      <th>87</th>\n",
       "      <td>35.0</td>\n",
       "      <td>other</td>\n",
       "      <td>female</td>\n",
       "      <td>male</td>\n",
       "      <td>NaN</td>\n",
       "      <td>True</td>\n",
       "      <td>True</td>\n",
       "      <td>False</td>\n",
       "      <td>False</td>\n",
       "    </tr>\n",
       "  </tbody>\n",
       "</table>\n",
       "</div>"
      ],
      "text/plain": [
       "    subject_age subject_race subject_sex officer_sex arrest_made  \\\n",
       "7          18.0        white        male        male         NaN   \n",
       "61         47.0        white        male        male         NaN   \n",
       "62         23.0        white        male        male         NaN   \n",
       "82         44.0        white        male        male         NaN   \n",
       "87         35.0        other      female        male         NaN   \n",
       "\n",
       "    citation_issued  warning_issued contraband_found  frisk_performed  \n",
       "7              True            True            False            False  \n",
       "61             True            True            False            False  \n",
       "62             True            True            False            False  \n",
       "82             True            True             True            False  \n",
       "87             True            True            False            False  "
      ]
     },
     "execution_count": 21,
     "metadata": {},
     "output_type": "execute_result"
    }
   ],
   "source": [
    "# Washington state - middle\n",
    "df_WA = pd.read_csv('data_P4/yg821jf8611_wa_statewide_2020_04_01.csv.zip', compression='zip')\n",
    "# contains officers' gender\n",
    "\n",
    "print(set(df_WA.columns))\n",
    "print('Dimensions of dataframe :'+str(df_WA.shape))\n",
    "df_WA.dropna(subset=['subject_age', 'subject_race', 'subject_sex', 'contraband_found', 'search_conducted'], inplace=True)\n",
    "df_WA.drop(df_WA.columns.difference(['subject_age', 'subject_race', 'subject_sex', 'contraband_found', 'search_person', 'search_vehicle', 'reason_for_search', 'citation_issued','warning_issued','arrest_made', 'frisk_performed', 'reason_for_frisk', 'reason_for_stop', 'officer_sex' ]), 1, inplace = True)\n",
    "                                     \n",
    "print('Male officers :'+format(len(df_WA[df_WA['officer_sex']=='male'])))\n",
    "print('Female officers :'+format(len(df_WA[df_WA['officer_sex']=='female'])))\n",
    "print('Dimensions of dataframe :'+str(df_WA.shape))\n",
    "df_WA.head()"
   ]
  },
  {
   "cell_type": "code",
   "execution_count": null,
   "metadata": {},
   "outputs": [],
   "source": []
  },
  {
   "cell_type": "markdown",
   "metadata": {},
   "source": [
    "**Saving the filtered datasets :**"
   ]
  },
  {
   "cell_type": "code",
   "execution_count": 22,
   "metadata": {},
   "outputs": [],
   "source": [
    "DF = [df_charlotte, df_raleigh, df_greensboro, df_austin, df_neworleans, df_sandiego, df_sanfrancisco, df_nashville, df_WA, df_MD]\n",
    "name = ['df_charlotte', 'df_raleigh', 'df_greensboro', 'df_austin', 'df_neworleans', 'df_sandiego', 'df_sanfrancisco', 'df_nashville', 'df_WA', 'df_MD']\n",
    "\n",
    "for idx,df in enumerate(DF):\n",
    "    df.to_csv('data_P4/'+name[idx]+'.csv', sep=',', encoding='utf-8')"
   ]
  },
  {
   "cell_type": "code",
   "execution_count": null,
   "metadata": {},
   "outputs": [],
   "source": []
  },
  {
   "cell_type": "code",
   "execution_count": 44,
   "metadata": {},
   "outputs": [
    {
     "name": "stderr",
     "output_type": "stream",
     "text": [
      "C:\\Users\\julie\\anaconda3\\envs\\ada\\lib\\site-packages\\IPython\\core\\interactiveshell.py:3145: DtypeWarning: Columns (7) have mixed types.Specify dtype option on import or set low_memory=False.\n",
      "  has_raised = await self.run_ast_nodes(code_ast.body, cell_name,\n"
     ]
    },
    {
     "name": "stdout",
     "output_type": "stream",
     "text": [
      "{'contraband_found', 'raw_individual_contraband', 'district', 'location', 'time', 'lat', 'arrest_made', 'frisk_performed', 'lng', 'search_person', 'raw_vehicle_contraband', 'search_vehicle', 'service_area', 'raw_row_number', 'outcome', 'subject_age', 'raw_race', 'subject_race', 'date', 'search_conducted', 'type', 'subject_sex'}\n",
      "Dimensions of dataframe :(1865096, 22)\n"
     ]
    }
   ],
   "source": [
    "# Philadelphia : middle \n",
    "df_PA = pd.read_csv('data_P4/yg821jf8611_pa_philadelphia_2020_04_01.csv.zip', compression='zip')\n",
    "print(set(df_PA.columns))\n",
    "print('Dimensions of dataframe :'+str(df_PA.shape))\n",
    "#others tested too, but oftentimes (very very often) not all information needed, e.g. CT, Louisville(KY), SC, Florida, etc. "
   ]
  },
  {
   "cell_type": "code",
   "execution_count": 49,
   "metadata": {},
   "outputs": [
    {
     "name": "stdout",
     "output_type": "stream",
     "text": [
      "{'raw_division', 'officer_sex', 'raw_driver_age_range', 'raw_persons_race', 'raw_was_vehcile_searched', 'violation', 'location', 'raw_beat', 'raw_persons_ethnicity', 'time', 'raw_citation_location', 'reason_for_search', 'lat', 'beat', 'frisk_performed', 'division', 'officer_race', 'warning_issued', 'lng', 'citation_issued', 'raw_driver_race', 'raw_row_number', 'outcome', 'subject_age', 'search_basis', 'subject_race', 'date', 'search_conducted', 'raw_activity_division', 'type', 'raw_activity_beat', 'subject_sex'}\n"
     ]
    }
   ],
   "source": [
    "print(set(df_louisville.columns))"
   ]
  },
  {
   "cell_type": "code",
   "execution_count": 72,
   "metadata": {},
   "outputs": [
    {
     "data": {
      "text/plain": [
       "{'- SMALL BAGGIES OF M',\n",
       " '-----',\n",
       " 'ABOVE REMOVED A HAND',\n",
       " 'ACCIDENT INVESTIGATI',\n",
       " 'ADD INTOX.',\n",
       " 'ADDITIONAL INTOXICAN',\n",
       " 'ADDITIONAL NARCOTICS',\n",
       " 'ADMISSION MARIJUANA',\n",
       " 'ADMISSION/PERMISSIVE',\n",
       " 'ADMITANCE',\n",
       " 'ADMITTED THERE MAY B',\n",
       " 'ADMITTED TO HAVING N',\n",
       " 'ARREST',\n",
       " 'ARREST (-ST DIVISION',\n",
       " 'ARREST DRUGS',\n",
       " 'ARREST FOR WARRANTS',\n",
       " 'ARREST, ADMISSION OF',\n",
       " 'ARREST, PERMISSION G',\n",
       " 'ARREST.',\n",
       " 'ARREST/PC',\n",
       " 'ARREST; PROBABLE CAU',\n",
       " 'BY OFFICER BYERLY IN',\n",
       " 'CHECKED SUB`S BACKPA',\n",
       " 'COMPLAINT OF NARCOTI',\n",
       " 'CONSENT',\n",
       " 'CONSENT -SMELL',\n",
       " 'CONSENT = MARI',\n",
       " 'CONSENT AND IN PLAIN',\n",
       " 'CONSENT AND PC',\n",
       " 'CONSENT AND PC FOR O',\n",
       " 'CONSENT AND SIA',\n",
       " 'CONSENT AND UNDER AR',\n",
       " 'CONSENT FOR VEHICLE',\n",
       " 'CONSENT FROM OWNER',\n",
       " 'CONSENT GIVEN BY OWN',\n",
       " 'CONSENT METH',\n",
       " 'CONSENT METH & STOLE',\n",
       " 'CONSENT POM',\n",
       " 'CONSENT SEARCH',\n",
       " 'CONSENT SEARCH AND S',\n",
       " 'CONSENT SEARCH OF VE',\n",
       " 'CONSENT SEARCH, SEAR',\n",
       " 'CONSENT SEARCH, SUBJ',\n",
       " 'CONSENT SUBOXONE',\n",
       " 'CONSENT TO PC -HEROI',\n",
       " 'CONSENT TO SEARCH',\n",
       " 'CONSENT TO SEARCH OF',\n",
       " 'CONSENT TO SEARCH...',\n",
       " 'CONSENT, MARIJUANA L',\n",
       " 'CONSENT, PC',\n",
       " 'CONSENT, POSS GUN BY',\n",
       " 'CONSENT, RECORDED ON',\n",
       " 'CONSENT, STOLEN GUN',\n",
       " 'CONSENT--MARIJUANA A',\n",
       " 'CONSENT-HEROIN',\n",
       " 'CONSENT-PILLS',\n",
       " 'CONSENT.',\n",
       " 'CONSENT. TWO WEAPONS',\n",
       " 'CONSENT/ PC',\n",
       " 'CONSENT/PC',\n",
       " 'CONSENT/PC MARIJUANA',\n",
       " 'CONSENT/PC ON WVS',\n",
       " 'CONSENT/SIA',\n",
       " 'CONSENT>',\n",
       " 'CONSESNT/ ODOR',\n",
       " 'CONSETN',\n",
       " 'COULD SMELL ODOR OF',\n",
       " 'CRACK PIPE, .-- LOAD',\n",
       " 'DOG ALERT',\n",
       " 'DOG ALERT.',\n",
       " 'DRIVER CONSENTED. AI',\n",
       " 'DRIVER SEARCHED INCI',\n",
       " 'DRIVERS COMPARTMENT',\n",
       " 'DRUG PARAPHERNALIA',\n",
       " 'DRUGS IN PLAIN VIEW/',\n",
       " 'DRUGS-MARIJUANA',\n",
       " 'EVIDENCE OF VIN TAMP',\n",
       " 'FELONY STOP, TRUCK S',\n",
       " 'FOR MARIJUANA',\n",
       " 'FRESH MARIJUANA SMAL',\n",
       " 'FRUIT OF THE CRIME-M',\n",
       " 'GIVEN CONSENT.  LOCA',\n",
       " 'GROUND UP LEAFY SUBS',\n",
       " 'GUN',\n",
       " 'GUN & MARIJUANA',\n",
       " 'GUN AND MAR.',\n",
       " 'GUN AND MARIJUANA.',\n",
       " 'HEROIN & PDP',\n",
       " 'HIGH NARCOTICS AREA.',\n",
       " 'HIGH NARCOTICS AREA/',\n",
       " 'HIGH NARCOTICS AREA;',\n",
       " 'HIGH NARCOTICS REA.',\n",
       " 'ILLEGAL NARCOTICS AC',\n",
       " 'IN PLAIN VIEW, SMALL',\n",
       " 'IN POSSESSION OF STO',\n",
       " 'INCIDENT TO ARREST',\n",
       " 'INCIDENT TO ARREST (',\n",
       " 'INCIDENT TO ARREST -',\n",
       " 'INCIDENT TO ARREST O',\n",
       " 'INCIDENT TO ARREST,',\n",
       " 'INCIDENT TO ARREST.',\n",
       " 'INCIDENT TO ARREST/P',\n",
       " 'INCIDENT TO CITATION',\n",
       " 'INCIDENTTO ARREST.',\n",
       " 'INVENTORY SEARCH PRI',\n",
       " 'K- ALERT',\n",
       " 'K- ALERT AND PC',\n",
       " 'K- EXTERIOR SNIFF AL',\n",
       " 'K- INDICATION',\n",
       " 'K-- ALERT (PC)',\n",
       " 'K-- ALERT.',\n",
       " 'KNOWN NARCOTICS USER',\n",
       " 'LOADED NEEDLE AND BU',\n",
       " 'LOOKED FOR EVIDENCE',\n",
       " 'MAR.',\n",
       " 'MARIJUANA',\n",
       " 'MARIJUANA & PIPE',\n",
       " 'MARIJUANA AND - ADER',\n",
       " 'MARIJUANA AND LOADED',\n",
       " 'MARIJUANA AND TWO (-',\n",
       " 'MARIJUANA GIVEN TO O',\n",
       " 'MARIJUANA IN PLAIN V',\n",
       " 'MARIJUANA ODOR',\n",
       " 'MARIJUANA ODOR EMITT',\n",
       " 'MARIJUANA SMELL COMI',\n",
       " 'METH/NEEDLES/PILLS/H',\n",
       " 'NARCOTICS',\n",
       " 'NARCOTICS AND PDP',\n",
       " 'NEEDLE',\n",
       " 'NEEDLES IN PLAIN VIE',\n",
       " 'ODOR',\n",
       " 'ODOR AND CONSENT',\n",
       " 'ODOR AND PC',\n",
       " 'ODOR OF BURNT MARIJU',\n",
       " 'ODOR OF DRUGS',\n",
       " 'ODOR OF MARIJUANA',\n",
       " 'ODOR OF MARIJUANA EM',\n",
       " 'ODOR OF MARIJUANA, S',\n",
       " 'ODOR OF MARIJUANA.',\n",
       " 'ODOR OF MARIJUANA/DR',\n",
       " 'ODOR PC',\n",
       " 'ODOR,CONSENT',\n",
       " 'OPEN BEER AND WHISKE',\n",
       " 'OTHER',\n",
       " 'P C',\n",
       " 'P.C.',\n",
       " 'P/C BASED ON STRONG',\n",
       " 'PARA IN PLAINVIEW',\n",
       " 'PASSENGER SEARCHED I',\n",
       " 'PASSENGER THREW - SY',\n",
       " 'PC',\n",
       " 'PC  = DRUGS',\n",
       " 'PC & CONSENT',\n",
       " 'PC & CONSENT & MARIJ',\n",
       " 'PC - HEROIN & PDP.',\n",
       " 'PC - ON HIS PERSON M',\n",
       " 'PC - SMELL OF MARIJU',\n",
       " 'PC AND CONSENT',\n",
       " 'PC AND CONSENT-POM A',\n",
       " 'PC AND K- ALERT',\n",
       " 'PC AND K- INDICATION',\n",
       " 'PC AND MARIJUANA',\n",
       " 'PC AND PLAIN VIEW',\n",
       " 'PC AND SIA',\n",
       " 'PC CONSENT',\n",
       " 'PC DOG ALERT.',\n",
       " 'PC FOR STRONG ODOR O',\n",
       " 'PC MARIJUANA',\n",
       " 'PC OBSERVATION',\n",
       " 'PC ODOR',\n",
       " 'PC ODOR AND PLAIN VI',\n",
       " 'PC ODOR OF MARIJUANA',\n",
       " 'PC ODOR.',\n",
       " 'PC ON ODOR.',\n",
       " 'PC PDP',\n",
       " 'PC PILLS & MAR',\n",
       " 'PC SEARCH BASED ON S',\n",
       " 'PC TICS & TIMS',\n",
       " 'PC WEED IN CAR AND W',\n",
       " 'PC, CONSENT',\n",
       " 'PC, CONSENT, SEARCH',\n",
       " 'PC, PLAIN VIEW.',\n",
       " 'PC, SIA',\n",
       " 'PC-DOG',\n",
       " 'PC-MAR',\n",
       " 'PC-ODOR',\n",
       " 'PC-POM/PDP',\n",
       " 'PC-WEED',\n",
       " 'PC/ CONSENT',\n",
       " 'PC/CONSENT',\n",
       " 'PC/HEROIN & NEEDLES',\n",
       " 'PC/PILLS',\n",
       " 'PC/PLAIN VIEW',\n",
       " 'PDP',\n",
       " 'PDP AND POM',\n",
       " 'PDP AND STOLEN ITEMS',\n",
       " 'PDP IN PLAIN VIEW.',\n",
       " 'PDP POM',\n",
       " 'PDP/POM-PC',\n",
       " 'PERMISSIVE',\n",
       " 'PERMISSIVE HIGH NARC',\n",
       " 'PERMISSIVE.',\n",
       " 'PERMISSIVE/PLAIN VIE',\n",
       " 'PILLS',\n",
       " 'PLAIN VIEW',\n",
       " 'PLAIN VIEW AND CONSE',\n",
       " 'PLAIN VIEW AND PC',\n",
       " 'PLAIN VIEW CONTRABAN',\n",
       " 'PLAIN VIEW, OPERATOR',\n",
       " 'PLAIN VIEW, PC, AND',\n",
       " 'PLAIN VIEW/INCIDENT',\n",
       " 'POBABLE CAUSE',\n",
       " 'POM',\n",
       " 'POM IN ASH TRAY.',\n",
       " 'PROB CAUSE',\n",
       " 'PROB CAUSE AND CONSE',\n",
       " 'PROBABLE CAUSE',\n",
       " 'PROBABLE CAUSE (STOL',\n",
       " 'PROBABLE CAUSE (STRO',\n",
       " 'PROBABLE CAUSE AFTER',\n",
       " 'PROBABLE CAUSE AND V',\n",
       " 'PROBABLE CAUSE BASED',\n",
       " 'PROBABLE CAUSE ODOR',\n",
       " 'PROBABLE CAUSE SEARC',\n",
       " 'PROBABLE CAUSE STOLE',\n",
       " 'PROBABLE CAUSE STRON',\n",
       " 'PROBABLE CAUSE TO SU',\n",
       " 'PROBABLE CAUSE, POSS',\n",
       " 'PROBABLE CAUSE, SUBJ',\n",
       " 'PROBABLE CAUSE.',\n",
       " 'PROBABLE CAUSE. OFFI',\n",
       " 'PROBABLE CAUSE/ADMIT',\n",
       " 'PROBABLE CAUSE/CONSE',\n",
       " 'PROBABLE CAUSE/PLAIN',\n",
       " 'PROBABLE CAUSE/SEARC',\n",
       " 'PROBABLE CAUSE: ODOR',\n",
       " 'PROBABLE CAUSE|MARIJUANA ODOR EMITT|MARIJUANA ODOR EMITT',\n",
       " 'PROBABLE CAUSE|PROBABLE CAUSE|PROBABLE CAUSE (SEE',\n",
       " 'PROBABLE CUSE',\n",
       " 'PROBABLY CAUSE',\n",
       " 'PROBALE CAUSE    CRA',\n",
       " 'PURSE ONLY.',\n",
       " 'PURSE WAS SEARCHED,',\n",
       " 'REACHED UNDER SEAT R',\n",
       " 'SAFETY AND ARREST FO',\n",
       " 'SEARCH INCIDENT TO A',\n",
       " 'SEARCH WARRANT',\n",
       " 'SEARCHED FOR EVIDENC',\n",
       " 'SEARCHED WITH BACK O',\n",
       " 'SIA',\n",
       " 'SIA AND CONSENT',\n",
       " 'SIA AND PC',\n",
       " 'SIGNED CONSENT',\n",
       " 'SIGNED CONSENT TO SE',\n",
       " 'SIGNED WRITTEN CONSE',\n",
       " 'SMELL OF MARIJUANA',\n",
       " 'SMELL OF MARIJUANA.',\n",
       " 'SMELLED ODOR OF MARI',\n",
       " 'STATED NEEDLES IN TH',\n",
       " 'STEERING COLUMN WAS',\n",
       " 'STOLEN AUTO',\n",
       " 'STOLEN PROPERTY',\n",
       " 'STOLEN PROPERTY IN P',\n",
       " 'STOLEN VEHICLE',\n",
       " 'STOLEN VEHICLE AND O',\n",
       " 'STORE MERCHANDICE IN',\n",
       " 'STRONG MARIJUANA ODO',\n",
       " 'STRONG ODOR OF MARIJ',\n",
       " 'STRONG SMELL OF MARI',\n",
       " 'SUBJ/OPERATOR GAVE O',\n",
       " 'SUBJECT ADMITTED TO',\n",
       " 'SUBJECT ADVISED OFFI',\n",
       " 'SUBJECT GAVE CONSENT',\n",
       " 'SUBJECT IS DRUG COUR',\n",
       " 'SUBJECT THREW OUT -',\n",
       " 'SUBJECT TO ARREST ON',\n",
       " 'SUSPECTED DUI.',\n",
       " 'TERRY STOP / PAT DOW',\n",
       " 'TO LOCATE EVIDANCE F',\n",
       " 'VEHICLE ONLY, INCIDE',\n",
       " 'VEHICLE REPORTED STO',\n",
       " 'VEHICLE SEARCH ONLY',\n",
       " 'VEHICLE SEARCH ONLY,',\n",
       " 'VERBAL ADMITANCE TO',\n",
       " 'VERBAL CONSENT',\n",
       " 'VERBAL CONSENT & PC.',\n",
       " 'VERBAL CONSENT WAS G',\n",
       " 'VERBAL CONSENT.',\n",
       " 'VERY STRONG ODOR OF',\n",
       " 'VIDEOTAPED CONSENT S',\n",
       " 'WEED SMELL',\n",
       " 'WRITTEN CONSENT TO S',\n",
       " 'WRITTEN SIGNED CONSE',\n",
       " 'XANAX AND VALIUM IN',\n",
       " nan}"
      ]
     },
     "execution_count": 72,
     "metadata": {},
     "output_type": "execute_result"
    }
   ],
   "source": [
    "set(df_louisville.reason_for_search)"
   ]
  },
  {
   "cell_type": "code",
   "execution_count": null,
   "metadata": {},
   "outputs": [],
   "source": []
  }
 ],
 "metadata": {
  "kernelspec": {
   "display_name": "Python [conda env:ada]",
   "language": "python",
   "name": "conda-env-ada-py"
  },
  "language_info": {
   "codemirror_mode": {
    "name": "ipython",
    "version": 3
   },
   "file_extension": ".py",
   "mimetype": "text/x-python",
   "name": "python",
   "nbconvert_exporter": "python",
   "pygments_lexer": "ipython3",
   "version": "3.8.5"
  }
 },
 "nbformat": 4,
 "nbformat_minor": 4
}
